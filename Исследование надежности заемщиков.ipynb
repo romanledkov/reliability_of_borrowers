{
 "cells": [
  {
   "cell_type": "markdown",
   "id": "a0cd90e9",
   "metadata": {},
   "source": [
    "# Исследование надежности заемщиков."
   ]
  },
  {
   "cell_type": "markdown",
   "id": "1ce48aa3",
   "metadata": {},
   "source": [
    "# Описание проекта\n",
    "**Заказчик — кредитный отдел банка.** \n",
    "Нужно разобраться, влияет ли семейное положение и количество детей клиента на факт погашения кредита в срок. Входные данные от банка — статистика о платёжеспособности клиентов.\n",
    "Результаты исследования будут учтены при построении модели кредитного скоринга — специальной системы, которая оценивает способность потенциального заёмщика вернуть кредит банку.\n",
    "\n",
    "**Ход исследования**\n",
    "\n",
    "Данные о поведении пользователей беру из файла `/datasets/data.csv`. О качестве данных ничего не известно. Поэтому перед проверкой гипотез понадобится обзор данных. \n",
    "\n",
    "Таким образом, исследование пройдёт в четыре этапа:\n",
    "\n",
    "* Обзор данных.\n",
    "* Предобработка данных.\n",
    "* Ответы на вопросы.\n",
    "* Выводы исследования"
   ]
  },
  {
   "cell_type": "markdown",
   "id": "fa053af5",
   "metadata": {},
   "source": [
    "### Шаг 1. Обзор данных\n",
    "Первым делом импортируем библиотеку, смотрим данные, названия столбцов, кол-во пропусков, кол-во дубликатов, какие типы данных находятся в столбцах датасета, затем методом .describe() смотрим основную информацию по датасету."
   ]
  },
  {
   "cell_type": "code",
   "execution_count": 1,
   "id": "3db4f215",
   "metadata": {
    "scrolled": true
   },
   "outputs": [
    {
     "name": "stdout",
     "output_type": "stream",
     "text": [
      "<class 'pandas.core.frame.DataFrame'>\n",
      "RangeIndex: 21525 entries, 0 to 21524\n",
      "Data columns (total 12 columns):\n",
      " #   Column            Non-Null Count  Dtype  \n",
      "---  ------            --------------  -----  \n",
      " 0   children          21525 non-null  int64  \n",
      " 1   days_employed     19351 non-null  float64\n",
      " 2   dob_years         21525 non-null  int64  \n",
      " 3   education         21525 non-null  object \n",
      " 4   education_id      21525 non-null  int64  \n",
      " 5   family_status     21525 non-null  object \n",
      " 6   family_status_id  21525 non-null  int64  \n",
      " 7   gender            21525 non-null  object \n",
      " 8   income_type       21525 non-null  object \n",
      " 9   debt              21525 non-null  int64  \n",
      " 10  total_income      19351 non-null  float64\n",
      " 11  purpose           21525 non-null  object \n",
      "dtypes: float64(2), int64(5), object(5)\n",
      "memory usage: 2.0+ MB\n"
     ]
    }
   ],
   "source": [
    "import pandas as pd #импорт библиотеки\n",
    "main_dataset = pd.read_csv('/datasets/data.csv') #чтение файла\n",
    "main_dataset.info() #получаем предварительную информацию"
   ]
  },
  {
   "cell_type": "markdown",
   "id": "40857f56",
   "metadata": {},
   "source": [
    "Видны пропуски в колонке \"days_employed\" и в \"total_income\".\n",
    "\n",
    "Обозначения строчек:\n",
    "\n",
    "* children — количество детей в семье,\n",
    "* days_employed — общий трудовой стаж в днях,\n",
    "* dob_years — возраст клиента в годах,\n",
    "* education — уровень образования клиента,\n",
    "* education_id — идентификатор уровня образования,\n",
    "* family_status — семейное положение,\n",
    "* family_status_id — идентификатор семейного положения,\n",
    "* gender — пол клиента,\n",
    "* income_type — тип занятости,\n",
    "* debt — имел ли задолженность по возврату кредитов,\n",
    "* total_income — ежемесячный доход,\n",
    "* purpose — цель получения кредита.\n",
    "\n",
    "Посмотрим первые десять и последние десять строчек датасета."
   ]
  },
  {
   "cell_type": "code",
   "execution_count": 2,
   "id": "a628f9ac",
   "metadata": {},
   "outputs": [
    {
     "data": {
      "text/html": [
       "<div>\n",
       "<style scoped>\n",
       "    .dataframe tbody tr th:only-of-type {\n",
       "        vertical-align: middle;\n",
       "    }\n",
       "\n",
       "    .dataframe tbody tr th {\n",
       "        vertical-align: top;\n",
       "    }\n",
       "\n",
       "    .dataframe thead th {\n",
       "        text-align: right;\n",
       "    }\n",
       "</style>\n",
       "<table border=\"1\" class=\"dataframe\">\n",
       "  <thead>\n",
       "    <tr style=\"text-align: right;\">\n",
       "      <th></th>\n",
       "      <th>children</th>\n",
       "      <th>days_employed</th>\n",
       "      <th>dob_years</th>\n",
       "      <th>education</th>\n",
       "      <th>education_id</th>\n",
       "      <th>family_status</th>\n",
       "      <th>family_status_id</th>\n",
       "      <th>gender</th>\n",
       "      <th>income_type</th>\n",
       "      <th>debt</th>\n",
       "      <th>total_income</th>\n",
       "      <th>purpose</th>\n",
       "    </tr>\n",
       "  </thead>\n",
       "  <tbody>\n",
       "    <tr>\n",
       "      <th>0</th>\n",
       "      <td>1</td>\n",
       "      <td>-8437.673028</td>\n",
       "      <td>42</td>\n",
       "      <td>высшее</td>\n",
       "      <td>0</td>\n",
       "      <td>женат / замужем</td>\n",
       "      <td>0</td>\n",
       "      <td>F</td>\n",
       "      <td>сотрудник</td>\n",
       "      <td>0</td>\n",
       "      <td>253875.639453</td>\n",
       "      <td>покупка жилья</td>\n",
       "    </tr>\n",
       "    <tr>\n",
       "      <th>1</th>\n",
       "      <td>1</td>\n",
       "      <td>-4024.803754</td>\n",
       "      <td>36</td>\n",
       "      <td>среднее</td>\n",
       "      <td>1</td>\n",
       "      <td>женат / замужем</td>\n",
       "      <td>0</td>\n",
       "      <td>F</td>\n",
       "      <td>сотрудник</td>\n",
       "      <td>0</td>\n",
       "      <td>112080.014102</td>\n",
       "      <td>приобретение автомобиля</td>\n",
       "    </tr>\n",
       "    <tr>\n",
       "      <th>2</th>\n",
       "      <td>0</td>\n",
       "      <td>-5623.422610</td>\n",
       "      <td>33</td>\n",
       "      <td>Среднее</td>\n",
       "      <td>1</td>\n",
       "      <td>женат / замужем</td>\n",
       "      <td>0</td>\n",
       "      <td>M</td>\n",
       "      <td>сотрудник</td>\n",
       "      <td>0</td>\n",
       "      <td>145885.952297</td>\n",
       "      <td>покупка жилья</td>\n",
       "    </tr>\n",
       "    <tr>\n",
       "      <th>3</th>\n",
       "      <td>3</td>\n",
       "      <td>-4124.747207</td>\n",
       "      <td>32</td>\n",
       "      <td>среднее</td>\n",
       "      <td>1</td>\n",
       "      <td>женат / замужем</td>\n",
       "      <td>0</td>\n",
       "      <td>M</td>\n",
       "      <td>сотрудник</td>\n",
       "      <td>0</td>\n",
       "      <td>267628.550329</td>\n",
       "      <td>дополнительное образование</td>\n",
       "    </tr>\n",
       "    <tr>\n",
       "      <th>4</th>\n",
       "      <td>0</td>\n",
       "      <td>340266.072047</td>\n",
       "      <td>53</td>\n",
       "      <td>среднее</td>\n",
       "      <td>1</td>\n",
       "      <td>гражданский брак</td>\n",
       "      <td>1</td>\n",
       "      <td>F</td>\n",
       "      <td>пенсионер</td>\n",
       "      <td>0</td>\n",
       "      <td>158616.077870</td>\n",
       "      <td>сыграть свадьбу</td>\n",
       "    </tr>\n",
       "    <tr>\n",
       "      <th>5</th>\n",
       "      <td>0</td>\n",
       "      <td>-926.185831</td>\n",
       "      <td>27</td>\n",
       "      <td>высшее</td>\n",
       "      <td>0</td>\n",
       "      <td>гражданский брак</td>\n",
       "      <td>1</td>\n",
       "      <td>M</td>\n",
       "      <td>компаньон</td>\n",
       "      <td>0</td>\n",
       "      <td>255763.565419</td>\n",
       "      <td>покупка жилья</td>\n",
       "    </tr>\n",
       "    <tr>\n",
       "      <th>6</th>\n",
       "      <td>0</td>\n",
       "      <td>-2879.202052</td>\n",
       "      <td>43</td>\n",
       "      <td>высшее</td>\n",
       "      <td>0</td>\n",
       "      <td>женат / замужем</td>\n",
       "      <td>0</td>\n",
       "      <td>F</td>\n",
       "      <td>компаньон</td>\n",
       "      <td>0</td>\n",
       "      <td>240525.971920</td>\n",
       "      <td>операции с жильем</td>\n",
       "    </tr>\n",
       "    <tr>\n",
       "      <th>7</th>\n",
       "      <td>0</td>\n",
       "      <td>-152.779569</td>\n",
       "      <td>50</td>\n",
       "      <td>СРЕДНЕЕ</td>\n",
       "      <td>1</td>\n",
       "      <td>женат / замужем</td>\n",
       "      <td>0</td>\n",
       "      <td>M</td>\n",
       "      <td>сотрудник</td>\n",
       "      <td>0</td>\n",
       "      <td>135823.934197</td>\n",
       "      <td>образование</td>\n",
       "    </tr>\n",
       "    <tr>\n",
       "      <th>8</th>\n",
       "      <td>2</td>\n",
       "      <td>-6929.865299</td>\n",
       "      <td>35</td>\n",
       "      <td>ВЫСШЕЕ</td>\n",
       "      <td>0</td>\n",
       "      <td>гражданский брак</td>\n",
       "      <td>1</td>\n",
       "      <td>F</td>\n",
       "      <td>сотрудник</td>\n",
       "      <td>0</td>\n",
       "      <td>95856.832424</td>\n",
       "      <td>на проведение свадьбы</td>\n",
       "    </tr>\n",
       "    <tr>\n",
       "      <th>9</th>\n",
       "      <td>0</td>\n",
       "      <td>-2188.756445</td>\n",
       "      <td>41</td>\n",
       "      <td>среднее</td>\n",
       "      <td>1</td>\n",
       "      <td>женат / замужем</td>\n",
       "      <td>0</td>\n",
       "      <td>M</td>\n",
       "      <td>сотрудник</td>\n",
       "      <td>0</td>\n",
       "      <td>144425.938277</td>\n",
       "      <td>покупка жилья для семьи</td>\n",
       "    </tr>\n",
       "  </tbody>\n",
       "</table>\n",
       "</div>"
      ],
      "text/plain": [
       "   children  days_employed  dob_years education  education_id  \\\n",
       "0         1   -8437.673028         42    высшее             0   \n",
       "1         1   -4024.803754         36   среднее             1   \n",
       "2         0   -5623.422610         33   Среднее             1   \n",
       "3         3   -4124.747207         32   среднее             1   \n",
       "4         0  340266.072047         53   среднее             1   \n",
       "5         0    -926.185831         27    высшее             0   \n",
       "6         0   -2879.202052         43    высшее             0   \n",
       "7         0    -152.779569         50   СРЕДНЕЕ             1   \n",
       "8         2   -6929.865299         35    ВЫСШЕЕ             0   \n",
       "9         0   -2188.756445         41   среднее             1   \n",
       "\n",
       "      family_status  family_status_id gender income_type  debt   total_income  \\\n",
       "0   женат / замужем                 0      F   сотрудник     0  253875.639453   \n",
       "1   женат / замужем                 0      F   сотрудник     0  112080.014102   \n",
       "2   женат / замужем                 0      M   сотрудник     0  145885.952297   \n",
       "3   женат / замужем                 0      M   сотрудник     0  267628.550329   \n",
       "4  гражданский брак                 1      F   пенсионер     0  158616.077870   \n",
       "5  гражданский брак                 1      M   компаньон     0  255763.565419   \n",
       "6   женат / замужем                 0      F   компаньон     0  240525.971920   \n",
       "7   женат / замужем                 0      M   сотрудник     0  135823.934197   \n",
       "8  гражданский брак                 1      F   сотрудник     0   95856.832424   \n",
       "9   женат / замужем                 0      M   сотрудник     0  144425.938277   \n",
       "\n",
       "                      purpose  \n",
       "0               покупка жилья  \n",
       "1     приобретение автомобиля  \n",
       "2               покупка жилья  \n",
       "3  дополнительное образование  \n",
       "4             сыграть свадьбу  \n",
       "5               покупка жилья  \n",
       "6           операции с жильем  \n",
       "7                 образование  \n",
       "8       на проведение свадьбы  \n",
       "9     покупка жилья для семьи  "
      ]
     },
     "execution_count": 2,
     "metadata": {},
     "output_type": "execute_result"
    }
   ],
   "source": [
    "main_dataset.head(10) #первые 10 строчек"
   ]
  },
  {
   "cell_type": "code",
   "execution_count": 3,
   "id": "f7d024c9",
   "metadata": {
    "scrolled": false
   },
   "outputs": [
    {
     "data": {
      "text/html": [
       "<div>\n",
       "<style scoped>\n",
       "    .dataframe tbody tr th:only-of-type {\n",
       "        vertical-align: middle;\n",
       "    }\n",
       "\n",
       "    .dataframe tbody tr th {\n",
       "        vertical-align: top;\n",
       "    }\n",
       "\n",
       "    .dataframe thead th {\n",
       "        text-align: right;\n",
       "    }\n",
       "</style>\n",
       "<table border=\"1\" class=\"dataframe\">\n",
       "  <thead>\n",
       "    <tr style=\"text-align: right;\">\n",
       "      <th></th>\n",
       "      <th>children</th>\n",
       "      <th>days_employed</th>\n",
       "      <th>dob_years</th>\n",
       "      <th>education</th>\n",
       "      <th>education_id</th>\n",
       "      <th>family_status</th>\n",
       "      <th>family_status_id</th>\n",
       "      <th>gender</th>\n",
       "      <th>income_type</th>\n",
       "      <th>debt</th>\n",
       "      <th>total_income</th>\n",
       "      <th>purpose</th>\n",
       "    </tr>\n",
       "  </thead>\n",
       "  <tbody>\n",
       "    <tr>\n",
       "      <th>21515</th>\n",
       "      <td>1</td>\n",
       "      <td>-467.685130</td>\n",
       "      <td>28</td>\n",
       "      <td>среднее</td>\n",
       "      <td>1</td>\n",
       "      <td>женат / замужем</td>\n",
       "      <td>0</td>\n",
       "      <td>F</td>\n",
       "      <td>сотрудник</td>\n",
       "      <td>1</td>\n",
       "      <td>109486.327999</td>\n",
       "      <td>заняться образованием</td>\n",
       "    </tr>\n",
       "    <tr>\n",
       "      <th>21516</th>\n",
       "      <td>0</td>\n",
       "      <td>-914.391429</td>\n",
       "      <td>42</td>\n",
       "      <td>высшее</td>\n",
       "      <td>0</td>\n",
       "      <td>женат / замужем</td>\n",
       "      <td>0</td>\n",
       "      <td>F</td>\n",
       "      <td>компаньон</td>\n",
       "      <td>0</td>\n",
       "      <td>322807.776603</td>\n",
       "      <td>покупка своего жилья</td>\n",
       "    </tr>\n",
       "    <tr>\n",
       "      <th>21517</th>\n",
       "      <td>0</td>\n",
       "      <td>-404.679034</td>\n",
       "      <td>42</td>\n",
       "      <td>высшее</td>\n",
       "      <td>0</td>\n",
       "      <td>гражданский брак</td>\n",
       "      <td>1</td>\n",
       "      <td>F</td>\n",
       "      <td>компаньон</td>\n",
       "      <td>0</td>\n",
       "      <td>178059.553491</td>\n",
       "      <td>на покупку своего автомобиля</td>\n",
       "    </tr>\n",
       "    <tr>\n",
       "      <th>21518</th>\n",
       "      <td>0</td>\n",
       "      <td>373995.710838</td>\n",
       "      <td>59</td>\n",
       "      <td>СРЕДНЕЕ</td>\n",
       "      <td>1</td>\n",
       "      <td>женат / замужем</td>\n",
       "      <td>0</td>\n",
       "      <td>F</td>\n",
       "      <td>пенсионер</td>\n",
       "      <td>0</td>\n",
       "      <td>153864.650328</td>\n",
       "      <td>сделка с автомобилем</td>\n",
       "    </tr>\n",
       "    <tr>\n",
       "      <th>21519</th>\n",
       "      <td>1</td>\n",
       "      <td>-2351.431934</td>\n",
       "      <td>37</td>\n",
       "      <td>ученая степень</td>\n",
       "      <td>4</td>\n",
       "      <td>в разводе</td>\n",
       "      <td>3</td>\n",
       "      <td>M</td>\n",
       "      <td>сотрудник</td>\n",
       "      <td>0</td>\n",
       "      <td>115949.039788</td>\n",
       "      <td>покупка коммерческой недвижимости</td>\n",
       "    </tr>\n",
       "    <tr>\n",
       "      <th>21520</th>\n",
       "      <td>1</td>\n",
       "      <td>-4529.316663</td>\n",
       "      <td>43</td>\n",
       "      <td>среднее</td>\n",
       "      <td>1</td>\n",
       "      <td>гражданский брак</td>\n",
       "      <td>1</td>\n",
       "      <td>F</td>\n",
       "      <td>компаньон</td>\n",
       "      <td>0</td>\n",
       "      <td>224791.862382</td>\n",
       "      <td>операции с жильем</td>\n",
       "    </tr>\n",
       "    <tr>\n",
       "      <th>21521</th>\n",
       "      <td>0</td>\n",
       "      <td>343937.404131</td>\n",
       "      <td>67</td>\n",
       "      <td>среднее</td>\n",
       "      <td>1</td>\n",
       "      <td>женат / замужем</td>\n",
       "      <td>0</td>\n",
       "      <td>F</td>\n",
       "      <td>пенсионер</td>\n",
       "      <td>0</td>\n",
       "      <td>155999.806512</td>\n",
       "      <td>сделка с автомобилем</td>\n",
       "    </tr>\n",
       "    <tr>\n",
       "      <th>21522</th>\n",
       "      <td>1</td>\n",
       "      <td>-2113.346888</td>\n",
       "      <td>38</td>\n",
       "      <td>среднее</td>\n",
       "      <td>1</td>\n",
       "      <td>гражданский брак</td>\n",
       "      <td>1</td>\n",
       "      <td>M</td>\n",
       "      <td>сотрудник</td>\n",
       "      <td>1</td>\n",
       "      <td>89672.561153</td>\n",
       "      <td>недвижимость</td>\n",
       "    </tr>\n",
       "    <tr>\n",
       "      <th>21523</th>\n",
       "      <td>3</td>\n",
       "      <td>-3112.481705</td>\n",
       "      <td>38</td>\n",
       "      <td>среднее</td>\n",
       "      <td>1</td>\n",
       "      <td>женат / замужем</td>\n",
       "      <td>0</td>\n",
       "      <td>M</td>\n",
       "      <td>сотрудник</td>\n",
       "      <td>1</td>\n",
       "      <td>244093.050500</td>\n",
       "      <td>на покупку своего автомобиля</td>\n",
       "    </tr>\n",
       "    <tr>\n",
       "      <th>21524</th>\n",
       "      <td>2</td>\n",
       "      <td>-1984.507589</td>\n",
       "      <td>40</td>\n",
       "      <td>среднее</td>\n",
       "      <td>1</td>\n",
       "      <td>женат / замужем</td>\n",
       "      <td>0</td>\n",
       "      <td>F</td>\n",
       "      <td>сотрудник</td>\n",
       "      <td>0</td>\n",
       "      <td>82047.418899</td>\n",
       "      <td>на покупку автомобиля</td>\n",
       "    </tr>\n",
       "  </tbody>\n",
       "</table>\n",
       "</div>"
      ],
      "text/plain": [
       "       children  days_employed  dob_years       education  education_id  \\\n",
       "21515         1    -467.685130         28         среднее             1   \n",
       "21516         0    -914.391429         42          высшее             0   \n",
       "21517         0    -404.679034         42          высшее             0   \n",
       "21518         0  373995.710838         59         СРЕДНЕЕ             1   \n",
       "21519         1   -2351.431934         37  ученая степень             4   \n",
       "21520         1   -4529.316663         43         среднее             1   \n",
       "21521         0  343937.404131         67         среднее             1   \n",
       "21522         1   -2113.346888         38         среднее             1   \n",
       "21523         3   -3112.481705         38         среднее             1   \n",
       "21524         2   -1984.507589         40         среднее             1   \n",
       "\n",
       "          family_status  family_status_id gender income_type  debt  \\\n",
       "21515   женат / замужем                 0      F   сотрудник     1   \n",
       "21516   женат / замужем                 0      F   компаньон     0   \n",
       "21517  гражданский брак                 1      F   компаньон     0   \n",
       "21518   женат / замужем                 0      F   пенсионер     0   \n",
       "21519         в разводе                 3      M   сотрудник     0   \n",
       "21520  гражданский брак                 1      F   компаньон     0   \n",
       "21521   женат / замужем                 0      F   пенсионер     0   \n",
       "21522  гражданский брак                 1      M   сотрудник     1   \n",
       "21523   женат / замужем                 0      M   сотрудник     1   \n",
       "21524   женат / замужем                 0      F   сотрудник     0   \n",
       "\n",
       "        total_income                            purpose  \n",
       "21515  109486.327999              заняться образованием  \n",
       "21516  322807.776603               покупка своего жилья  \n",
       "21517  178059.553491       на покупку своего автомобиля  \n",
       "21518  153864.650328               сделка с автомобилем  \n",
       "21519  115949.039788  покупка коммерческой недвижимости  \n",
       "21520  224791.862382                  операции с жильем  \n",
       "21521  155999.806512               сделка с автомобилем  \n",
       "21522   89672.561153                       недвижимость  \n",
       "21523  244093.050500       на покупку своего автомобиля  \n",
       "21524   82047.418899              на покупку автомобиля  "
      ]
     },
     "execution_count": 3,
     "metadata": {},
     "output_type": "execute_result"
    }
   ],
   "source": [
    "main_dataset.tail(10) #последние 10 строчек"
   ]
  },
  {
   "cell_type": "code",
   "execution_count": 4,
   "id": "41d2efc8",
   "metadata": {
    "scrolled": true
   },
   "outputs": [
    {
     "data": {
      "text/html": [
       "<div>\n",
       "<style scoped>\n",
       "    .dataframe tbody tr th:only-of-type {\n",
       "        vertical-align: middle;\n",
       "    }\n",
       "\n",
       "    .dataframe tbody tr th {\n",
       "        vertical-align: top;\n",
       "    }\n",
       "\n",
       "    .dataframe thead th {\n",
       "        text-align: right;\n",
       "    }\n",
       "</style>\n",
       "<table border=\"1\" class=\"dataframe\">\n",
       "  <thead>\n",
       "    <tr style=\"text-align: right;\">\n",
       "      <th></th>\n",
       "      <th>children</th>\n",
       "      <th>days_employed</th>\n",
       "      <th>dob_years</th>\n",
       "      <th>education_id</th>\n",
       "      <th>family_status_id</th>\n",
       "      <th>debt</th>\n",
       "      <th>total_income</th>\n",
       "    </tr>\n",
       "  </thead>\n",
       "  <tbody>\n",
       "    <tr>\n",
       "      <th>count</th>\n",
       "      <td>21525.000000</td>\n",
       "      <td>19351.000000</td>\n",
       "      <td>21525.000000</td>\n",
       "      <td>21525.000000</td>\n",
       "      <td>21525.000000</td>\n",
       "      <td>21525.000000</td>\n",
       "      <td>1.935100e+04</td>\n",
       "    </tr>\n",
       "    <tr>\n",
       "      <th>mean</th>\n",
       "      <td>0.538908</td>\n",
       "      <td>63046.497661</td>\n",
       "      <td>43.293380</td>\n",
       "      <td>0.817236</td>\n",
       "      <td>0.972544</td>\n",
       "      <td>0.080883</td>\n",
       "      <td>1.674223e+05</td>\n",
       "    </tr>\n",
       "    <tr>\n",
       "      <th>std</th>\n",
       "      <td>1.381587</td>\n",
       "      <td>140827.311974</td>\n",
       "      <td>12.574584</td>\n",
       "      <td>0.548138</td>\n",
       "      <td>1.420324</td>\n",
       "      <td>0.272661</td>\n",
       "      <td>1.029716e+05</td>\n",
       "    </tr>\n",
       "    <tr>\n",
       "      <th>min</th>\n",
       "      <td>-1.000000</td>\n",
       "      <td>-18388.949901</td>\n",
       "      <td>0.000000</td>\n",
       "      <td>0.000000</td>\n",
       "      <td>0.000000</td>\n",
       "      <td>0.000000</td>\n",
       "      <td>2.066726e+04</td>\n",
       "    </tr>\n",
       "    <tr>\n",
       "      <th>25%</th>\n",
       "      <td>0.000000</td>\n",
       "      <td>-2747.423625</td>\n",
       "      <td>33.000000</td>\n",
       "      <td>1.000000</td>\n",
       "      <td>0.000000</td>\n",
       "      <td>0.000000</td>\n",
       "      <td>1.030532e+05</td>\n",
       "    </tr>\n",
       "    <tr>\n",
       "      <th>50%</th>\n",
       "      <td>0.000000</td>\n",
       "      <td>-1203.369529</td>\n",
       "      <td>42.000000</td>\n",
       "      <td>1.000000</td>\n",
       "      <td>0.000000</td>\n",
       "      <td>0.000000</td>\n",
       "      <td>1.450179e+05</td>\n",
       "    </tr>\n",
       "    <tr>\n",
       "      <th>75%</th>\n",
       "      <td>1.000000</td>\n",
       "      <td>-291.095954</td>\n",
       "      <td>53.000000</td>\n",
       "      <td>1.000000</td>\n",
       "      <td>1.000000</td>\n",
       "      <td>0.000000</td>\n",
       "      <td>2.034351e+05</td>\n",
       "    </tr>\n",
       "    <tr>\n",
       "      <th>max</th>\n",
       "      <td>20.000000</td>\n",
       "      <td>401755.400475</td>\n",
       "      <td>75.000000</td>\n",
       "      <td>4.000000</td>\n",
       "      <td>4.000000</td>\n",
       "      <td>1.000000</td>\n",
       "      <td>2.265604e+06</td>\n",
       "    </tr>\n",
       "  </tbody>\n",
       "</table>\n",
       "</div>"
      ],
      "text/plain": [
       "           children  days_employed     dob_years  education_id  \\\n",
       "count  21525.000000   19351.000000  21525.000000  21525.000000   \n",
       "mean       0.538908   63046.497661     43.293380      0.817236   \n",
       "std        1.381587  140827.311974     12.574584      0.548138   \n",
       "min       -1.000000  -18388.949901      0.000000      0.000000   \n",
       "25%        0.000000   -2747.423625     33.000000      1.000000   \n",
       "50%        0.000000   -1203.369529     42.000000      1.000000   \n",
       "75%        1.000000    -291.095954     53.000000      1.000000   \n",
       "max       20.000000  401755.400475     75.000000      4.000000   \n",
       "\n",
       "       family_status_id          debt  total_income  \n",
       "count      21525.000000  21525.000000  1.935100e+04  \n",
       "mean           0.972544      0.080883  1.674223e+05  \n",
       "std            1.420324      0.272661  1.029716e+05  \n",
       "min            0.000000      0.000000  2.066726e+04  \n",
       "25%            0.000000      0.000000  1.030532e+05  \n",
       "50%            0.000000      0.000000  1.450179e+05  \n",
       "75%            1.000000      0.000000  2.034351e+05  \n",
       "max            4.000000      1.000000  2.265604e+06  "
      ]
     },
     "execution_count": 4,
     "metadata": {},
     "output_type": "execute_result"
    }
   ],
   "source": [
    "main_dataset.describe() #числовое описание данных"
   ]
  },
  {
   "cell_type": "code",
   "execution_count": 5,
   "id": "b474cc38",
   "metadata": {},
   "outputs": [
    {
     "data": {
      "text/plain": [
       "54"
      ]
     },
     "execution_count": 5,
     "metadata": {},
     "output_type": "execute_result"
    }
   ],
   "source": [
    "main_dataset.duplicated().sum() #кол-во явных дубликатов в датасете"
   ]
  },
  {
   "cell_type": "markdown",
   "id": "dab53d1d",
   "metadata": {},
   "source": [
    "Возможно дубликаты появились потому, что некоторые люди оставляли заявки на кредит несколько раз. "
   ]
  },
  {
   "cell_type": "markdown",
   "id": "f6e0a91b",
   "metadata": {},
   "source": [
    "**Проверим колонки типа object**"
   ]
  },
  {
   "cell_type": "code",
   "execution_count": 6,
   "id": "cae59c8a",
   "metadata": {},
   "outputs": [
    {
     "data": {
      "text/plain": [
       "'уникальные значения в семейном полжении'"
      ]
     },
     "metadata": {},
     "output_type": "display_data"
    },
    {
     "data": {
      "text/plain": [
       "array(['женат / замужем', 'гражданский брак', 'вдовец / вдова',\n",
       "       'в разводе', 'Не женат / не замужем'], dtype=object)"
      ]
     },
     "metadata": {},
     "output_type": "display_data"
    },
    {
     "data": {
      "text/plain": [
       "'кол-во уникальных значений в количество детей'"
      ]
     },
     "metadata": {},
     "output_type": "display_data"
    },
    {
     "data": {
      "text/plain": [
       " 0     14149\n",
       " 1      4818\n",
       " 2      2055\n",
       " 3       330\n",
       " 20       76\n",
       "-1        47\n",
       " 4        41\n",
       " 5         9\n",
       "Name: children, dtype: int64"
      ]
     },
     "metadata": {},
     "output_type": "display_data"
    },
    {
     "data": {
      "text/plain": [
       "'уникальные значения в образовании'"
      ]
     },
     "metadata": {},
     "output_type": "display_data"
    },
    {
     "data": {
      "text/plain": [
       "array(['высшее', 'среднее', 'Среднее', 'СРЕДНЕЕ', 'ВЫСШЕЕ',\n",
       "       'неоконченное высшее', 'начальное', 'Высшее',\n",
       "       'НЕОКОНЧЕННОЕ ВЫСШЕЕ', 'Неоконченное высшее', 'НАЧАЛЬНОЕ',\n",
       "       'Начальное', 'Ученая степень', 'УЧЕНАЯ СТЕПЕНЬ', 'ученая степень'],\n",
       "      dtype=object)"
      ]
     },
     "metadata": {},
     "output_type": "display_data"
    },
    {
     "data": {
      "text/plain": [
       "'уникальные значения в типе занятости'"
      ]
     },
     "metadata": {},
     "output_type": "display_data"
    },
    {
     "data": {
      "text/plain": [
       "array(['сотрудник', 'пенсионер', 'компаньон', 'госслужащий',\n",
       "       'безработный', 'предприниматель', 'студент', 'в декрете'],\n",
       "      dtype=object)"
      ]
     },
     "metadata": {},
     "output_type": "display_data"
    },
    {
     "data": {
      "text/plain": [
       "'уникальные значения в целях получения кредита'"
      ]
     },
     "metadata": {},
     "output_type": "display_data"
    },
    {
     "data": {
      "text/plain": [
       "array(['покупка жилья', 'приобретение автомобиля',\n",
       "       'дополнительное образование', 'сыграть свадьбу',\n",
       "       'операции с жильем', 'образование', 'на проведение свадьбы',\n",
       "       'покупка жилья для семьи', 'покупка недвижимости',\n",
       "       'покупка коммерческой недвижимости', 'покупка жилой недвижимости',\n",
       "       'строительство собственной недвижимости', 'недвижимость',\n",
       "       'строительство недвижимости', 'на покупку подержанного автомобиля',\n",
       "       'на покупку своего автомобиля',\n",
       "       'операции с коммерческой недвижимостью',\n",
       "       'строительство жилой недвижимости', 'жилье',\n",
       "       'операции со своей недвижимостью', 'автомобили',\n",
       "       'заняться образованием', 'сделка с подержанным автомобилем',\n",
       "       'получение образования', 'автомобиль', 'свадьба',\n",
       "       'получение дополнительного образования', 'покупка своего жилья',\n",
       "       'операции с недвижимостью', 'получение высшего образования',\n",
       "       'свой автомобиль', 'сделка с автомобилем',\n",
       "       'профильное образование', 'высшее образование',\n",
       "       'покупка жилья для сдачи', 'на покупку автомобиля', 'ремонт жилью',\n",
       "       'заняться высшим образованием'], dtype=object)"
      ]
     },
     "metadata": {},
     "output_type": "display_data"
    }
   ],
   "source": [
    "display('уникальные значения в семейном полжении')\n",
    "display(main_dataset['family_status'].unique()) #уникальные значения в 'семейном полжении'\n",
    "display('кол-во уникальных значений в количество детей')\n",
    "display(main_dataset['children'].value_counts()) #кол-во уникальных значений в 'количество детей'\n",
    "display('уникальные значения в образовании')\n",
    "display(main_dataset['education'].unique()) #уникальные значения в 'образовании'\n",
    "display('уникальные значения в типе занятости')\n",
    "display(main_dataset['income_type'].unique()) #уникальные значения в 'типе занятости'\n",
    "display('уникальные значения в целях получения кредита')\n",
    "display(main_dataset['purpose'].unique()) #уникальные значения в 'целях получения кредита'\n"
   ]
  },
  {
   "cell_type": "markdown",
   "id": "b904eede",
   "metadata": {},
   "source": [
    "Из полученных данных мы видим следующие проблемы:\n",
    "\n",
    "* названия столбцов не везде качественно отражают суть содержания. \n",
    "* в датасете находится 54 явных дубликата\n",
    "* в датасете присутствуют неявные дубликаты в колонках \"education\", \"purpose\" (по типу \"автомобили\", \"на покупку автомобиля\" и \"сделка с автомобилем\")\n",
    "* в колонке \"education\" значения записаны по-разному (не snake_case)\n",
    "* колонка \"children\" имеет отрицательные показатели, а также значение 20 (похоже на аномалию, возможно при записи человек допустил ошибку: написал лишний ноль или поставил \"-\" перед значением).\n",
    "* минимальный возраст клиента равен 0\n",
    "* не понятно в чем измеряется заработная плата\n",
    "* в колонке \"days_employed\" находятся отрицательные значения и таких значений очень много, также велико стандартное отклонение.\n",
    "* колонка \"days_employed\" записана не в целых числах, хотя речь идет о целых днях.  \n",
    "* в колонке \"total_income\" находятся значения, которые лучше перевести в целые числа. "
   ]
  },
  {
   "cell_type": "markdown",
   "id": "841f700f",
   "metadata": {},
   "source": [
    "**Исправление названий колонок**"
   ]
  },
  {
   "cell_type": "code",
   "execution_count": 7,
   "id": "aaf1dcf1",
   "metadata": {},
   "outputs": [
    {
     "data": {
      "text/plain": [
       "Index(['children', 'days_employed', 'dob_years', 'education', 'education_id',\n",
       "       'family_status', 'family_status_id', 'gender', 'income_type', 'debt',\n",
       "       'total_income', 'purpose'],\n",
       "      dtype='object')"
      ]
     },
     "metadata": {},
     "output_type": "display_data"
    },
    {
     "data": {
      "text/plain": [
       "'новые названия колонок'"
      ]
     },
     "metadata": {},
     "output_type": "display_data"
    },
    {
     "data": {
      "text/plain": [
       "Index(['number_of_children', 'days_employed', 'client_age',\n",
       "       'level_of_education', 'level_of_education_id', 'family_status',\n",
       "       'family_status_id', 'gender', 'type_of_employment', 'debt',\n",
       "       'monthly_income', 'credit_purpose'],\n",
       "      dtype='object')"
      ]
     },
     "metadata": {},
     "output_type": "display_data"
    }
   ],
   "source": [
    "display(main_dataset.columns)\n",
    "main_dataset = main_dataset.rename(\n",
    "    columns={\n",
    "        'children': 'number_of_children',\n",
    "        'dob_years': 'client_age',\n",
    "        'education': 'level_of_education',\n",
    "        'education_id': 'level_of_education_id',\n",
    "        'total_income': 'monthly_income', \n",
    "        'purpose': 'credit_purpose', 'income_type': 'type_of_employment'}\n",
    ")\n",
    "display('новые названия колонок',main_dataset.columns)"
   ]
  },
  {
   "cell_type": "markdown",
   "id": "4c2ed43a",
   "metadata": {},
   "source": [
    "### Шаг 2.1 Заполнение пропусков"
   ]
  },
  {
   "cell_type": "code",
   "execution_count": 8,
   "id": "f7ec7cce",
   "metadata": {},
   "outputs": [
    {
     "data": {
      "text/plain": [
       "number_of_children          0\n",
       "days_employed            2174\n",
       "client_age                  0\n",
       "level_of_education          0\n",
       "level_of_education_id       0\n",
       "family_status               0\n",
       "family_status_id            0\n",
       "gender                      0\n",
       "type_of_employment          0\n",
       "debt                        0\n",
       "monthly_income           2174\n",
       "credit_purpose              0\n",
       "dtype: int64"
      ]
     },
     "execution_count": 8,
     "metadata": {},
     "output_type": "execute_result"
    }
   ],
   "source": [
    "main_dataset.isnull().sum() #суммарное количество пропусков"
   ]
  },
  {
   "cell_type": "code",
   "execution_count": 9,
   "id": "bb446aa9",
   "metadata": {},
   "outputs": [
    {
     "data": {
      "text/html": [
       "<div>\n",
       "<style scoped>\n",
       "    .dataframe tbody tr th:only-of-type {\n",
       "        vertical-align: middle;\n",
       "    }\n",
       "\n",
       "    .dataframe tbody tr th {\n",
       "        vertical-align: top;\n",
       "    }\n",
       "\n",
       "    .dataframe thead th {\n",
       "        text-align: right;\n",
       "    }\n",
       "</style>\n",
       "<table border=\"1\" class=\"dataframe\">\n",
       "  <thead>\n",
       "    <tr style=\"text-align: right;\">\n",
       "      <th></th>\n",
       "      <th>number_of_children</th>\n",
       "      <th>days_employed</th>\n",
       "      <th>client_age</th>\n",
       "      <th>level_of_education</th>\n",
       "      <th>level_of_education_id</th>\n",
       "      <th>family_status</th>\n",
       "      <th>family_status_id</th>\n",
       "      <th>gender</th>\n",
       "      <th>type_of_employment</th>\n",
       "      <th>debt</th>\n",
       "      <th>monthly_income</th>\n",
       "      <th>credit_purpose</th>\n",
       "    </tr>\n",
       "  </thead>\n",
       "  <tbody>\n",
       "  </tbody>\n",
       "</table>\n",
       "</div>"
      ],
      "text/plain": [
       "Empty DataFrame\n",
       "Columns: [number_of_children, days_employed, client_age, level_of_education, level_of_education_id, family_status, family_status_id, gender, type_of_employment, debt, monthly_income, credit_purpose]\n",
       "Index: []"
      ]
     },
     "execution_count": 9,
     "metadata": {},
     "output_type": "execute_result"
    }
   ],
   "source": [
    "main_dataset.query('monthly_income == 0 and days_employed == 0')"
   ]
  },
  {
   "cell_type": "markdown",
   "id": "91f975f9",
   "metadata": {},
   "source": [
    "В колонках \"days_employed\" и \"monthly_income\" одинаковое количество пропусков. Было предположение, что скорее всего это молодые люди без опыта работы, а значит и без ежемесячной зарплаты (намеренные пропуски), однако видно, что данные пропущены у людей разных возрастов. Либо произошла ошибка при выгрузке данных либо на входе. "
   ]
  },
  {
   "cell_type": "code",
   "execution_count": 10,
   "id": "286f59a2",
   "metadata": {
    "scrolled": false
   },
   "outputs": [
    {
     "data": {
      "text/html": [
       "<div>\n",
       "<style scoped>\n",
       "    .dataframe tbody tr th:only-of-type {\n",
       "        vertical-align: middle;\n",
       "    }\n",
       "\n",
       "    .dataframe tbody tr th {\n",
       "        vertical-align: top;\n",
       "    }\n",
       "\n",
       "    .dataframe thead th {\n",
       "        text-align: right;\n",
       "    }\n",
       "</style>\n",
       "<table border=\"1\" class=\"dataframe\">\n",
       "  <thead>\n",
       "    <tr style=\"text-align: right;\">\n",
       "      <th></th>\n",
       "      <th>number_of_children</th>\n",
       "      <th>days_employed</th>\n",
       "      <th>client_age</th>\n",
       "      <th>level_of_education</th>\n",
       "      <th>level_of_education_id</th>\n",
       "      <th>family_status</th>\n",
       "      <th>family_status_id</th>\n",
       "      <th>gender</th>\n",
       "      <th>type_of_employment</th>\n",
       "      <th>debt</th>\n",
       "      <th>monthly_income</th>\n",
       "      <th>credit_purpose</th>\n",
       "    </tr>\n",
       "  </thead>\n",
       "  <tbody>\n",
       "    <tr>\n",
       "      <th>12</th>\n",
       "      <td>True</td>\n",
       "      <td>False</td>\n",
       "      <td>True</td>\n",
       "      <td>True</td>\n",
       "      <td>True</td>\n",
       "      <td>True</td>\n",
       "      <td>True</td>\n",
       "      <td>True</td>\n",
       "      <td>True</td>\n",
       "      <td>True</td>\n",
       "      <td>False</td>\n",
       "      <td>True</td>\n",
       "    </tr>\n",
       "    <tr>\n",
       "      <th>26</th>\n",
       "      <td>True</td>\n",
       "      <td>False</td>\n",
       "      <td>True</td>\n",
       "      <td>True</td>\n",
       "      <td>True</td>\n",
       "      <td>True</td>\n",
       "      <td>True</td>\n",
       "      <td>True</td>\n",
       "      <td>True</td>\n",
       "      <td>True</td>\n",
       "      <td>False</td>\n",
       "      <td>True</td>\n",
       "    </tr>\n",
       "    <tr>\n",
       "      <th>29</th>\n",
       "      <td>True</td>\n",
       "      <td>False</td>\n",
       "      <td>True</td>\n",
       "      <td>True</td>\n",
       "      <td>True</td>\n",
       "      <td>True</td>\n",
       "      <td>True</td>\n",
       "      <td>True</td>\n",
       "      <td>True</td>\n",
       "      <td>True</td>\n",
       "      <td>False</td>\n",
       "      <td>True</td>\n",
       "    </tr>\n",
       "    <tr>\n",
       "      <th>41</th>\n",
       "      <td>True</td>\n",
       "      <td>False</td>\n",
       "      <td>True</td>\n",
       "      <td>True</td>\n",
       "      <td>True</td>\n",
       "      <td>True</td>\n",
       "      <td>True</td>\n",
       "      <td>True</td>\n",
       "      <td>True</td>\n",
       "      <td>True</td>\n",
       "      <td>False</td>\n",
       "      <td>True</td>\n",
       "    </tr>\n",
       "    <tr>\n",
       "      <th>55</th>\n",
       "      <td>True</td>\n",
       "      <td>False</td>\n",
       "      <td>True</td>\n",
       "      <td>True</td>\n",
       "      <td>True</td>\n",
       "      <td>True</td>\n",
       "      <td>True</td>\n",
       "      <td>True</td>\n",
       "      <td>True</td>\n",
       "      <td>True</td>\n",
       "      <td>False</td>\n",
       "      <td>True</td>\n",
       "    </tr>\n",
       "    <tr>\n",
       "      <th>...</th>\n",
       "      <td>...</td>\n",
       "      <td>...</td>\n",
       "      <td>...</td>\n",
       "      <td>...</td>\n",
       "      <td>...</td>\n",
       "      <td>...</td>\n",
       "      <td>...</td>\n",
       "      <td>...</td>\n",
       "      <td>...</td>\n",
       "      <td>...</td>\n",
       "      <td>...</td>\n",
       "      <td>...</td>\n",
       "    </tr>\n",
       "    <tr>\n",
       "      <th>21489</th>\n",
       "      <td>True</td>\n",
       "      <td>False</td>\n",
       "      <td>True</td>\n",
       "      <td>True</td>\n",
       "      <td>True</td>\n",
       "      <td>True</td>\n",
       "      <td>True</td>\n",
       "      <td>True</td>\n",
       "      <td>True</td>\n",
       "      <td>True</td>\n",
       "      <td>False</td>\n",
       "      <td>True</td>\n",
       "    </tr>\n",
       "    <tr>\n",
       "      <th>21495</th>\n",
       "      <td>True</td>\n",
       "      <td>False</td>\n",
       "      <td>True</td>\n",
       "      <td>True</td>\n",
       "      <td>True</td>\n",
       "      <td>True</td>\n",
       "      <td>True</td>\n",
       "      <td>True</td>\n",
       "      <td>True</td>\n",
       "      <td>True</td>\n",
       "      <td>False</td>\n",
       "      <td>True</td>\n",
       "    </tr>\n",
       "    <tr>\n",
       "      <th>21497</th>\n",
       "      <td>True</td>\n",
       "      <td>False</td>\n",
       "      <td>True</td>\n",
       "      <td>True</td>\n",
       "      <td>True</td>\n",
       "      <td>True</td>\n",
       "      <td>True</td>\n",
       "      <td>True</td>\n",
       "      <td>True</td>\n",
       "      <td>True</td>\n",
       "      <td>False</td>\n",
       "      <td>True</td>\n",
       "    </tr>\n",
       "    <tr>\n",
       "      <th>21502</th>\n",
       "      <td>True</td>\n",
       "      <td>False</td>\n",
       "      <td>True</td>\n",
       "      <td>True</td>\n",
       "      <td>True</td>\n",
       "      <td>True</td>\n",
       "      <td>True</td>\n",
       "      <td>True</td>\n",
       "      <td>True</td>\n",
       "      <td>True</td>\n",
       "      <td>False</td>\n",
       "      <td>True</td>\n",
       "    </tr>\n",
       "    <tr>\n",
       "      <th>21510</th>\n",
       "      <td>True</td>\n",
       "      <td>False</td>\n",
       "      <td>True</td>\n",
       "      <td>True</td>\n",
       "      <td>True</td>\n",
       "      <td>True</td>\n",
       "      <td>True</td>\n",
       "      <td>True</td>\n",
       "      <td>True</td>\n",
       "      <td>True</td>\n",
       "      <td>False</td>\n",
       "      <td>True</td>\n",
       "    </tr>\n",
       "  </tbody>\n",
       "</table>\n",
       "<p>2174 rows × 12 columns</p>\n",
       "</div>"
      ],
      "text/plain": [
       "       number_of_children  days_employed  client_age  level_of_education  \\\n",
       "12                   True          False        True                True   \n",
       "26                   True          False        True                True   \n",
       "29                   True          False        True                True   \n",
       "41                   True          False        True                True   \n",
       "55                   True          False        True                True   \n",
       "...                   ...            ...         ...                 ...   \n",
       "21489                True          False        True                True   \n",
       "21495                True          False        True                True   \n",
       "21497                True          False        True                True   \n",
       "21502                True          False        True                True   \n",
       "21510                True          False        True                True   \n",
       "\n",
       "       level_of_education_id  family_status  family_status_id  gender  \\\n",
       "12                      True           True              True    True   \n",
       "26                      True           True              True    True   \n",
       "29                      True           True              True    True   \n",
       "41                      True           True              True    True   \n",
       "55                      True           True              True    True   \n",
       "...                      ...            ...               ...     ...   \n",
       "21489                   True           True              True    True   \n",
       "21495                   True           True              True    True   \n",
       "21497                   True           True              True    True   \n",
       "21502                   True           True              True    True   \n",
       "21510                   True           True              True    True   \n",
       "\n",
       "       type_of_employment  debt  monthly_income  credit_purpose  \n",
       "12                   True  True           False            True  \n",
       "26                   True  True           False            True  \n",
       "29                   True  True           False            True  \n",
       "41                   True  True           False            True  \n",
       "55                   True  True           False            True  \n",
       "...                   ...   ...             ...             ...  \n",
       "21489                True  True           False            True  \n",
       "21495                True  True           False            True  \n",
       "21497                True  True           False            True  \n",
       "21502                True  True           False            True  \n",
       "21510                True  True           False            True  \n",
       "\n",
       "[2174 rows x 12 columns]"
      ]
     },
     "metadata": {},
     "output_type": "display_data"
    }
   ],
   "source": [
    "display(\n",
    "    main_dataset.loc[\n",
    "        main_dataset['days_employed'].isnull()] == main_dataset.loc[\n",
    "        main_dataset['monthly_income'].isnull()])\n",
    "\n"
   ]
  },
  {
   "cell_type": "code",
   "execution_count": 11,
   "id": "bd328d97",
   "metadata": {},
   "outputs": [
    {
     "data": {
      "text/plain": [
       "'days_employed'"
      ]
     },
     "metadata": {},
     "output_type": "display_data"
    },
    {
     "data": {
      "text/plain": [
       "count    19,351.0\n",
       "mean     63,046.5\n",
       "std     140,827.3\n",
       "min     -18,388.9\n",
       "25%      -2,747.4\n",
       "50%      -1,203.4\n",
       "75%        -291.1\n",
       "max     401,755.4\n",
       "Name: days_employed, dtype: float64"
      ]
     },
     "metadata": {},
     "output_type": "display_data"
    },
    {
     "data": {
      "text/plain": [
       "'monthly_income'"
      ]
     },
     "metadata": {},
     "output_type": "display_data"
    },
    {
     "data": {
      "text/plain": [
       "count      19,351.0\n",
       "mean      167,422.3\n",
       "std       102,971.6\n",
       "min        20,667.3\n",
       "25%       103,053.2\n",
       "50%       145,017.9\n",
       "75%       203,435.1\n",
       "max     2,265,604.0\n",
       "Name: monthly_income, dtype: float64"
      ]
     },
     "metadata": {},
     "output_type": "display_data"
    }
   ],
   "source": [
    "pd.options.display.float_format = '{:,.1f}'.format\n",
    "display('days_employed',main_dataset['days_employed'].describe())\n",
    "display('monthly_income',main_dataset['monthly_income'].describe())"
   ]
  },
  {
   "cell_type": "code",
   "execution_count": 12,
   "id": "5d233298",
   "metadata": {},
   "outputs": [
    {
     "data": {
      "text/plain": [
       "'доля пропущенных значений в \"days_employed\" от общего числа равна 10.10%'"
      ]
     },
     "metadata": {},
     "output_type": "display_data"
    },
    {
     "data": {
      "text/plain": [
       "'доля пропущенных значений в \"monthly_income\" от общего числа равна 10.10%'"
      ]
     },
     "metadata": {},
     "output_type": "display_data"
    }
   ],
   "source": [
    "ratio_days_employed = 2174/len(main_dataset) #доля пропущенных значений в \"days_employed\" от общего числа\n",
    "ratio_monthly_income = 2174/len(main_dataset) #доля пропущенных значений в \"monthly_income\" от общего числа\n",
    "display(f'доля пропущенных значений в \"days_employed\" от общего числа равна {ratio_days_employed:.2%}',\n",
    "        f'доля пропущенных значений в \"monthly_income\" от общего числа равна {ratio_monthly_income:.2%}')"
   ]
  },
  {
   "cell_type": "code",
   "execution_count": 13,
   "id": "5a0daa5e",
   "metadata": {},
   "outputs": [
    {
     "data": {
      "text/plain": [
       "'доля пропущенных значений в \"days_employed\" от общего числа равна 10.10%'"
      ]
     },
     "metadata": {},
     "output_type": "display_data"
    },
    {
     "data": {
      "text/plain": [
       "'доля пропущенных значений в \"monthly_income\" от общего числа равна 10.10%'"
      ]
     },
     "metadata": {},
     "output_type": "display_data"
    }
   ],
   "source": [
    "omission = len(\n",
    "    main_dataset.loc[\n",
    "        main_dataset['days_employed'].isnull()] == main_dataset.loc[\n",
    "        main_dataset['monthly_income'].isnull()])\n",
    "ratio_days_employed = omission/len(main_dataset) #доля пропущенных значений в \"days_employed\" от общего числа\n",
    "ratio_monthly_income = omission/len(main_dataset) #доля пропущенных значений в \"monthly_income\" от общего числа\n",
    "display(f'доля пропущенных значений в \"days_employed\" от общего числа равна {ratio_days_employed:.2%}',\n",
    "        f'доля пропущенных значений в \"monthly_income\" от общего числа равна {ratio_monthly_income:.2%}')"
   ]
  },
  {
   "cell_type": "code",
   "execution_count": 14,
   "id": "e053a6cc",
   "metadata": {},
   "outputs": [
    {
     "data": {
      "text/plain": [
       "number_of_children          0\n",
       "days_employed            2174\n",
       "client_age                  0\n",
       "level_of_education          0\n",
       "level_of_education_id       0\n",
       "family_status               0\n",
       "family_status_id            0\n",
       "gender                      0\n",
       "type_of_employment          0\n",
       "debt                        0\n",
       "monthly_income              0\n",
       "credit_purpose              0\n",
       "dtype: int64"
      ]
     },
     "execution_count": 14,
     "metadata": {},
     "output_type": "execute_result"
    }
   ],
   "source": [
    "median_monthly_income = main_dataset['monthly_income'].median() #медианное значение в столбце 'monthly_income'\n",
    "main_dataset['monthly_income'] = main_dataset.groupby(\n",
    "    \"type_of_employment\")[\"monthly_income\"].transform(\n",
    "    lambda x: x.fillna(x.median())) #заполняем пропуски медианными значениями согласну типу занятоси\n",
    "main_dataset.isnull().sum() #проверяем пропуски"
   ]
  },
  {
   "cell_type": "markdown",
   "id": "92dbf420",
   "metadata": {},
   "source": [
    "В данных могут находиться аномалии, поэтому пропуски лучше всего заполнить медианным значением, так будет надежнее. "
   ]
  },
  {
   "cell_type": "markdown",
   "id": "aa85e7b6",
   "metadata": {},
   "source": [
    "### Шаг 2.2 Проверка данных на аномалии и исправления."
   ]
  },
  {
   "cell_type": "code",
   "execution_count": 15,
   "id": "2bf9863f",
   "metadata": {
    "scrolled": true
   },
   "outputs": [
    {
     "data": {
      "text/plain": [
       "'пенсионеры'"
      ]
     },
     "metadata": {},
     "output_type": "display_data"
    },
    {
     "data": {
      "text/plain": [
       "3856"
      ]
     },
     "metadata": {},
     "output_type": "display_data"
    },
    {
     "data": {
      "text/plain": [
       "'кол-во строк у кого стаж больше 100000 дней'"
      ]
     },
     "metadata": {},
     "output_type": "display_data"
    },
    {
     "data": {
      "text/plain": [
       "3445"
      ]
     },
     "metadata": {},
     "output_type": "display_data"
    },
    {
     "data": {
      "text/plain": [
       "'кол-во НЕ пенсионеров'"
      ]
     },
     "metadata": {},
     "output_type": "display_data"
    },
    {
     "data": {
      "text/plain": [
       "17669"
      ]
     },
     "metadata": {},
     "output_type": "display_data"
    }
   ],
   "source": [
    "display('пенсионеры',len(main_dataset.query('type_of_employment == \"пенсионер\"')))\n",
    "display('кол-во строк у кого стаж больше 100000 дней',len(main_dataset.query('days_employed > 100000')))\n",
    "display('кол-во НЕ пенсионеров',len(main_dataset)-len(main_dataset.query('type_of_employment == \"пенсионер\"')))"
   ]
  },
  {
   "cell_type": "code",
   "execution_count": 16,
   "id": "e80f3999",
   "metadata": {
    "scrolled": false
   },
   "outputs": [
    {
     "data": {
      "image/png": "[encoded data removed]",
      "text/plain": [
       "<Figure size 432x288 with 1 Axes>"
      ]
     },
     "metadata": {
      "needs_background": "light"
     },
     "output_type": "display_data"
    },
    {
     "data": {
      "image/png": "[encoded data removed]",
      "text/plain": [
       "<Figure size 432x288 with 1 Axes>"
      ]
     },
     "metadata": {
      "needs_background": "light"
     },
     "output_type": "display_data"
    }
   ],
   "source": [
    "import matplotlib.pyplot as plt\n",
    "main_dataset.boxplot(column='days_employed')\n",
    "plt.show()\n",
    "main_dataset['days_employed'].hist(bins=100, range=(-18388.949901, 401755.400475))\n",
    "plt.show()\n"
   ]
  },
  {
   "cell_type": "code",
   "execution_count": 17,
   "id": "378cea8f",
   "metadata": {
    "scrolled": true
   },
   "outputs": [
    {
     "data": {
      "text/plain": [
       "-1203.369528770489"
      ]
     },
     "metadata": {},
     "output_type": "display_data"
    },
    {
     "data": {
      "text/plain": [
       "2194.220566878695"
      ]
     },
     "metadata": {},
     "output_type": "display_data"
    }
   ],
   "source": [
    "display(main_dataset['days_employed'].median())\n",
    "main_dataset['days_employed'] = main_dataset['days_employed'].abs()\n",
    "display(main_dataset['days_employed'].median())"
   ]
  },
  {
   "cell_type": "code",
   "execution_count": 18,
   "id": "3eb13a1b",
   "metadata": {},
   "outputs": [
    {
     "data": {
      "text/plain": [
       "'days_employed'"
      ]
     },
     "metadata": {},
     "output_type": "display_data"
    },
    {
     "data": {
      "text/plain": [
       "count    19,351.0\n",
       "mean     66,914.7\n",
       "std     139,030.9\n",
       "min          24.1\n",
       "25%         927.0\n",
       "50%       2,194.2\n",
       "75%       5,537.9\n",
       "max     401,755.4\n",
       "Name: days_employed, dtype: float64"
      ]
     },
     "metadata": {},
     "output_type": "display_data"
    }
   ],
   "source": [
    "display('days_employed',main_dataset['days_employed'].describe())"
   ]
  },
  {
   "cell_type": "code",
   "execution_count": 19,
   "id": "36428909",
   "metadata": {},
   "outputs": [
    {
     "data": {
      "text/plain": [
       "2194.220566878695"
      ]
     },
     "metadata": {},
     "output_type": "display_data"
    },
    {
     "data": {
      "text/plain": [
       "number_of_children       0\n",
       "days_employed            0\n",
       "client_age               0\n",
       "level_of_education       0\n",
       "level_of_education_id    0\n",
       "family_status            0\n",
       "family_status_id         0\n",
       "gender                   0\n",
       "type_of_employment       0\n",
       "debt                     0\n",
       "monthly_income           0\n",
       "credit_purpose           0\n",
       "dtype: int64"
      ]
     },
     "execution_count": 19,
     "metadata": {},
     "output_type": "execute_result"
    }
   ],
   "source": [
    "median_days_employed = main_dataset['days_employed'].median() #медианное значение\n",
    "display(median_days_employed)\n",
    "main_dataset['days_employed'] = main_dataset['days_employed'].fillna(median_days_employed) \n",
    "#замена пропусков медианными значениями \n",
    "main_dataset.isnull().sum() #проверка на пропущенные значения"
   ]
  },
  {
   "cell_type": "code",
   "execution_count": 20,
   "id": "682a3fef",
   "metadata": {},
   "outputs": [],
   "source": [
    "try:\n",
    "    def replacement(value):\n",
    "        if value > 100000:\n",
    "            value = median_days_employed\n",
    "            return value\n",
    "        else:\n",
    "            return value\n",
    "    main_dataset['days_employed'] = main_dataset['days_employed'].apply(replacement)\n",
    "except:\n",
    "    print(\"не получается заменить аномальные значения на медиану\")\n",
    "        \n",
    "\n",
    "  \n",
    "   "
   ]
  },
  {
   "cell_type": "code",
   "execution_count": 21,
   "id": "dfdda6a8",
   "metadata": {},
   "outputs": [
    {
     "data": {
      "text/html": [
       "<div>\n",
       "<style scoped>\n",
       "    .dataframe tbody tr th:only-of-type {\n",
       "        vertical-align: middle;\n",
       "    }\n",
       "\n",
       "    .dataframe tbody tr th {\n",
       "        vertical-align: top;\n",
       "    }\n",
       "\n",
       "    .dataframe thead th {\n",
       "        text-align: right;\n",
       "    }\n",
       "</style>\n",
       "<table border=\"1\" class=\"dataframe\">\n",
       "  <thead>\n",
       "    <tr style=\"text-align: right;\">\n",
       "      <th></th>\n",
       "      <th>number_of_children</th>\n",
       "      <th>days_employed</th>\n",
       "      <th>client_age</th>\n",
       "      <th>level_of_education</th>\n",
       "      <th>level_of_education_id</th>\n",
       "      <th>family_status</th>\n",
       "      <th>family_status_id</th>\n",
       "      <th>gender</th>\n",
       "      <th>type_of_employment</th>\n",
       "      <th>debt</th>\n",
       "      <th>monthly_income</th>\n",
       "      <th>credit_purpose</th>\n",
       "    </tr>\n",
       "  </thead>\n",
       "  <tbody>\n",
       "    <tr>\n",
       "      <th>4</th>\n",
       "      <td>0</td>\n",
       "      <td>2,194.2</td>\n",
       "      <td>53</td>\n",
       "      <td>среднее</td>\n",
       "      <td>1</td>\n",
       "      <td>гражданский брак</td>\n",
       "      <td>1</td>\n",
       "      <td>F</td>\n",
       "      <td>пенсионер</td>\n",
       "      <td>0</td>\n",
       "      <td>158,616.1</td>\n",
       "      <td>сыграть свадьбу</td>\n",
       "    </tr>\n",
       "    <tr>\n",
       "      <th>12</th>\n",
       "      <td>0</td>\n",
       "      <td>2,194.2</td>\n",
       "      <td>65</td>\n",
       "      <td>среднее</td>\n",
       "      <td>1</td>\n",
       "      <td>гражданский брак</td>\n",
       "      <td>1</td>\n",
       "      <td>M</td>\n",
       "      <td>пенсионер</td>\n",
       "      <td>0</td>\n",
       "      <td>118,514.5</td>\n",
       "      <td>сыграть свадьбу</td>\n",
       "    </tr>\n",
       "    <tr>\n",
       "      <th>18</th>\n",
       "      <td>0</td>\n",
       "      <td>2,194.2</td>\n",
       "      <td>53</td>\n",
       "      <td>среднее</td>\n",
       "      <td>1</td>\n",
       "      <td>вдовец / вдова</td>\n",
       "      <td>2</td>\n",
       "      <td>F</td>\n",
       "      <td>пенсионер</td>\n",
       "      <td>0</td>\n",
       "      <td>56,823.8</td>\n",
       "      <td>на покупку подержанного автомобиля</td>\n",
       "    </tr>\n",
       "    <tr>\n",
       "      <th>24</th>\n",
       "      <td>1</td>\n",
       "      <td>2,194.2</td>\n",
       "      <td>57</td>\n",
       "      <td>среднее</td>\n",
       "      <td>1</td>\n",
       "      <td>Не женат / не замужем</td>\n",
       "      <td>4</td>\n",
       "      <td>F</td>\n",
       "      <td>пенсионер</td>\n",
       "      <td>0</td>\n",
       "      <td>290,547.2</td>\n",
       "      <td>операции с коммерческой недвижимостью</td>\n",
       "    </tr>\n",
       "    <tr>\n",
       "      <th>25</th>\n",
       "      <td>0</td>\n",
       "      <td>2,194.2</td>\n",
       "      <td>67</td>\n",
       "      <td>среднее</td>\n",
       "      <td>1</td>\n",
       "      <td>женат / замужем</td>\n",
       "      <td>0</td>\n",
       "      <td>M</td>\n",
       "      <td>пенсионер</td>\n",
       "      <td>0</td>\n",
       "      <td>55,112.8</td>\n",
       "      <td>покупка недвижимости</td>\n",
       "    </tr>\n",
       "  </tbody>\n",
       "</table>\n",
       "</div>"
      ],
      "text/plain": [
       "    number_of_children  days_employed  client_age level_of_education  \\\n",
       "4                    0        2,194.2          53            среднее   \n",
       "12                   0        2,194.2          65            среднее   \n",
       "18                   0        2,194.2          53            среднее   \n",
       "24                   1        2,194.2          57            среднее   \n",
       "25                   0        2,194.2          67            среднее   \n",
       "\n",
       "    level_of_education_id          family_status  family_status_id gender  \\\n",
       "4                       1       гражданский брак                 1      F   \n",
       "12                      1       гражданский брак                 1      M   \n",
       "18                      1         вдовец / вдова                 2      F   \n",
       "24                      1  Не женат / не замужем                 4      F   \n",
       "25                      1        женат / замужем                 0      M   \n",
       "\n",
       "   type_of_employment  debt  monthly_income  \\\n",
       "4           пенсионер     0       158,616.1   \n",
       "12          пенсионер     0       118,514.5   \n",
       "18          пенсионер     0        56,823.8   \n",
       "24          пенсионер     0       290,547.2   \n",
       "25          пенсионер     0        55,112.8   \n",
       "\n",
       "                           credit_purpose  \n",
       "4                         сыграть свадьбу  \n",
       "12                        сыграть свадьбу  \n",
       "18     на покупку подержанного автомобиля  \n",
       "24  операции с коммерческой недвижимостью  \n",
       "25                   покупка недвижимости  "
      ]
     },
     "metadata": {},
     "output_type": "display_data"
    }
   ],
   "source": [
    "display(main_dataset.query('days_employed == 2194.220566878695').head())\n",
    "#проверка функции на работоспособность"
   ]
  },
  {
   "cell_type": "code",
   "execution_count": 22,
   "id": "963d41f2",
   "metadata": {
    "scrolled": true
   },
   "outputs": [
    {
     "data": {
      "text/html": [
       "<div>\n",
       "<style scoped>\n",
       "    .dataframe tbody tr th:only-of-type {\n",
       "        vertical-align: middle;\n",
       "    }\n",
       "\n",
       "    .dataframe tbody tr th {\n",
       "        vertical-align: top;\n",
       "    }\n",
       "\n",
       "    .dataframe thead th {\n",
       "        text-align: right;\n",
       "    }\n",
       "</style>\n",
       "<table border=\"1\" class=\"dataframe\">\n",
       "  <thead>\n",
       "    <tr style=\"text-align: right;\">\n",
       "      <th></th>\n",
       "      <th>number_of_children</th>\n",
       "      <th>days_employed</th>\n",
       "      <th>client_age</th>\n",
       "      <th>level_of_education</th>\n",
       "      <th>level_of_education_id</th>\n",
       "      <th>family_status</th>\n",
       "      <th>family_status_id</th>\n",
       "      <th>gender</th>\n",
       "      <th>type_of_employment</th>\n",
       "      <th>debt</th>\n",
       "      <th>monthly_income</th>\n",
       "      <th>credit_purpose</th>\n",
       "    </tr>\n",
       "  </thead>\n",
       "  <tbody>\n",
       "    <tr>\n",
       "      <th>0</th>\n",
       "      <td>1</td>\n",
       "      <td>8,437.7</td>\n",
       "      <td>42</td>\n",
       "      <td>высшее</td>\n",
       "      <td>0</td>\n",
       "      <td>женат / замужем</td>\n",
       "      <td>0</td>\n",
       "      <td>F</td>\n",
       "      <td>сотрудник</td>\n",
       "      <td>0</td>\n",
       "      <td>253,875.6</td>\n",
       "      <td>покупка жилья</td>\n",
       "    </tr>\n",
       "    <tr>\n",
       "      <th>1</th>\n",
       "      <td>1</td>\n",
       "      <td>4,024.8</td>\n",
       "      <td>36</td>\n",
       "      <td>среднее</td>\n",
       "      <td>1</td>\n",
       "      <td>женат / замужем</td>\n",
       "      <td>0</td>\n",
       "      <td>F</td>\n",
       "      <td>сотрудник</td>\n",
       "      <td>0</td>\n",
       "      <td>112,080.0</td>\n",
       "      <td>приобретение автомобиля</td>\n",
       "    </tr>\n",
       "    <tr>\n",
       "      <th>2</th>\n",
       "      <td>0</td>\n",
       "      <td>5,623.4</td>\n",
       "      <td>33</td>\n",
       "      <td>Среднее</td>\n",
       "      <td>1</td>\n",
       "      <td>женат / замужем</td>\n",
       "      <td>0</td>\n",
       "      <td>M</td>\n",
       "      <td>сотрудник</td>\n",
       "      <td>0</td>\n",
       "      <td>145,886.0</td>\n",
       "      <td>покупка жилья</td>\n",
       "    </tr>\n",
       "    <tr>\n",
       "      <th>3</th>\n",
       "      <td>3</td>\n",
       "      <td>4,124.7</td>\n",
       "      <td>32</td>\n",
       "      <td>среднее</td>\n",
       "      <td>1</td>\n",
       "      <td>женат / замужем</td>\n",
       "      <td>0</td>\n",
       "      <td>M</td>\n",
       "      <td>сотрудник</td>\n",
       "      <td>0</td>\n",
       "      <td>267,628.6</td>\n",
       "      <td>дополнительное образование</td>\n",
       "    </tr>\n",
       "    <tr>\n",
       "      <th>4</th>\n",
       "      <td>0</td>\n",
       "      <td>2,194.2</td>\n",
       "      <td>53</td>\n",
       "      <td>среднее</td>\n",
       "      <td>1</td>\n",
       "      <td>гражданский брак</td>\n",
       "      <td>1</td>\n",
       "      <td>F</td>\n",
       "      <td>пенсионер</td>\n",
       "      <td>0</td>\n",
       "      <td>158,616.1</td>\n",
       "      <td>сыграть свадьбу</td>\n",
       "    </tr>\n",
       "    <tr>\n",
       "      <th>...</th>\n",
       "      <td>...</td>\n",
       "      <td>...</td>\n",
       "      <td>...</td>\n",
       "      <td>...</td>\n",
       "      <td>...</td>\n",
       "      <td>...</td>\n",
       "      <td>...</td>\n",
       "      <td>...</td>\n",
       "      <td>...</td>\n",
       "      <td>...</td>\n",
       "      <td>...</td>\n",
       "      <td>...</td>\n",
       "    </tr>\n",
       "    <tr>\n",
       "      <th>21520</th>\n",
       "      <td>1</td>\n",
       "      <td>4,529.3</td>\n",
       "      <td>43</td>\n",
       "      <td>среднее</td>\n",
       "      <td>1</td>\n",
       "      <td>гражданский брак</td>\n",
       "      <td>1</td>\n",
       "      <td>F</td>\n",
       "      <td>компаньон</td>\n",
       "      <td>0</td>\n",
       "      <td>224,791.9</td>\n",
       "      <td>операции с жильем</td>\n",
       "    </tr>\n",
       "    <tr>\n",
       "      <th>21521</th>\n",
       "      <td>0</td>\n",
       "      <td>2,194.2</td>\n",
       "      <td>67</td>\n",
       "      <td>среднее</td>\n",
       "      <td>1</td>\n",
       "      <td>женат / замужем</td>\n",
       "      <td>0</td>\n",
       "      <td>F</td>\n",
       "      <td>пенсионер</td>\n",
       "      <td>0</td>\n",
       "      <td>155,999.8</td>\n",
       "      <td>сделка с автомобилем</td>\n",
       "    </tr>\n",
       "    <tr>\n",
       "      <th>21522</th>\n",
       "      <td>1</td>\n",
       "      <td>2,113.3</td>\n",
       "      <td>38</td>\n",
       "      <td>среднее</td>\n",
       "      <td>1</td>\n",
       "      <td>гражданский брак</td>\n",
       "      <td>1</td>\n",
       "      <td>M</td>\n",
       "      <td>сотрудник</td>\n",
       "      <td>1</td>\n",
       "      <td>89,672.6</td>\n",
       "      <td>недвижимость</td>\n",
       "    </tr>\n",
       "    <tr>\n",
       "      <th>21523</th>\n",
       "      <td>3</td>\n",
       "      <td>3,112.5</td>\n",
       "      <td>38</td>\n",
       "      <td>среднее</td>\n",
       "      <td>1</td>\n",
       "      <td>женат / замужем</td>\n",
       "      <td>0</td>\n",
       "      <td>M</td>\n",
       "      <td>сотрудник</td>\n",
       "      <td>1</td>\n",
       "      <td>244,093.1</td>\n",
       "      <td>на покупку своего автомобиля</td>\n",
       "    </tr>\n",
       "    <tr>\n",
       "      <th>21524</th>\n",
       "      <td>2</td>\n",
       "      <td>1,984.5</td>\n",
       "      <td>40</td>\n",
       "      <td>среднее</td>\n",
       "      <td>1</td>\n",
       "      <td>женат / замужем</td>\n",
       "      <td>0</td>\n",
       "      <td>F</td>\n",
       "      <td>сотрудник</td>\n",
       "      <td>0</td>\n",
       "      <td>82,047.4</td>\n",
       "      <td>на покупку автомобиля</td>\n",
       "    </tr>\n",
       "  </tbody>\n",
       "</table>\n",
       "<p>21525 rows × 12 columns</p>\n",
       "</div>"
      ],
      "text/plain": [
       "       number_of_children  days_employed  client_age level_of_education  \\\n",
       "0                       1        8,437.7          42             высшее   \n",
       "1                       1        4,024.8          36            среднее   \n",
       "2                       0        5,623.4          33            Среднее   \n",
       "3                       3        4,124.7          32            среднее   \n",
       "4                       0        2,194.2          53            среднее   \n",
       "...                   ...            ...         ...                ...   \n",
       "21520                   1        4,529.3          43            среднее   \n",
       "21521                   0        2,194.2          67            среднее   \n",
       "21522                   1        2,113.3          38            среднее   \n",
       "21523                   3        3,112.5          38            среднее   \n",
       "21524                   2        1,984.5          40            среднее   \n",
       "\n",
       "       level_of_education_id     family_status  family_status_id gender  \\\n",
       "0                          0   женат / замужем                 0      F   \n",
       "1                          1   женат / замужем                 0      F   \n",
       "2                          1   женат / замужем                 0      M   \n",
       "3                          1   женат / замужем                 0      M   \n",
       "4                          1  гражданский брак                 1      F   \n",
       "...                      ...               ...               ...    ...   \n",
       "21520                      1  гражданский брак                 1      F   \n",
       "21521                      1   женат / замужем                 0      F   \n",
       "21522                      1  гражданский брак                 1      M   \n",
       "21523                      1   женат / замужем                 0      M   \n",
       "21524                      1   женат / замужем                 0      F   \n",
       "\n",
       "      type_of_employment  debt  monthly_income                credit_purpose  \n",
       "0              сотрудник     0       253,875.6                 покупка жилья  \n",
       "1              сотрудник     0       112,080.0       приобретение автомобиля  \n",
       "2              сотрудник     0       145,886.0                 покупка жилья  \n",
       "3              сотрудник     0       267,628.6    дополнительное образование  \n",
       "4              пенсионер     0       158,616.1               сыграть свадьбу  \n",
       "...                  ...   ...             ...                           ...  \n",
       "21520          компаньон     0       224,791.9             операции с жильем  \n",
       "21521          пенсионер     0       155,999.8          сделка с автомобилем  \n",
       "21522          сотрудник     1        89,672.6                  недвижимость  \n",
       "21523          сотрудник     1       244,093.1  на покупку своего автомобиля  \n",
       "21524          сотрудник     0        82,047.4         на покупку автомобиля  \n",
       "\n",
       "[21525 rows x 12 columns]"
      ]
     },
     "execution_count": 22,
     "metadata": {},
     "output_type": "execute_result"
    }
   ],
   "source": [
    "main_dataset"
   ]
  },
  {
   "cell_type": "code",
   "execution_count": 23,
   "id": "11ebff8a",
   "metadata": {},
   "outputs": [
    {
     "data": {
      "image/png": "[encoded data removed]",
      "text/plain": [
       "<Figure size 432x288 with 1 Axes>"
      ]
     },
     "metadata": {
      "needs_background": "light"
     },
     "output_type": "display_data"
    },
    {
     "data": {
      "image/png": "[encoded data removed]",
      "text/plain": [
       "<Figure size 432x288 with 1 Axes>"
      ]
     },
     "metadata": {
      "needs_background": "light"
     },
     "output_type": "display_data"
    }
   ],
   "source": [
    "main_dataset.boxplot(column='days_employed')\n",
    "plt.show()\n",
    "main_dataset['days_employed'].hist(bins=100, range=(-18388.949901, 401755.400475))\n",
    "plt.show()\n"
   ]
  },
  {
   "cell_type": "markdown",
   "id": "c58d9789",
   "metadata": {},
   "source": [
    "### Шаг 2.3. Изменение типов данных."
   ]
  },
  {
   "cell_type": "code",
   "execution_count": 24,
   "id": "533e726e",
   "metadata": {},
   "outputs": [],
   "source": [
    "main_dataset['monthly_income'] = main_dataset['monthly_income'].astype(int) \n",
    "#Замена вещественного типа данных в столбце monthly_income на целочисленный"
   ]
  },
  {
   "cell_type": "markdown",
   "id": "f05f6853",
   "metadata": {},
   "source": [
    "### Шаг 2.4. Удаление дубликатов."
   ]
  },
  {
   "cell_type": "markdown",
   "id": "a50895d6",
   "metadata": {},
   "source": [
    "Ранее было проверено, что датасет содержит 54 явных дубля, следует их убрать из датасета. "
   ]
  },
  {
   "cell_type": "code",
   "execution_count": 25,
   "id": "e5688415",
   "metadata": {},
   "outputs": [],
   "source": [
    "main_dataset = main_dataset.drop_duplicates().reset_index(drop=True) \n",
    "#удаление дублей и обновление индексов"
   ]
  },
  {
   "cell_type": "code",
   "execution_count": 26,
   "id": "a5da7b85",
   "metadata": {},
   "outputs": [
    {
     "data": {
      "text/plain": [
       "0"
      ]
     },
     "execution_count": 26,
     "metadata": {},
     "output_type": "execute_result"
    }
   ],
   "source": [
    "main_dataset.duplicated().sum() #кол-во явных дубликатов в датасете"
   ]
  },
  {
   "cell_type": "markdown",
   "id": "1fc0fc25",
   "metadata": {},
   "source": [
    "**Удаление неявных дубликатов**"
   ]
  },
  {
   "cell_type": "markdown",
   "id": "6b9afe91",
   "metadata": {},
   "source": [
    "Удаление неявных дубликатов в столбце \"education\""
   ]
  },
  {
   "cell_type": "code",
   "execution_count": 27,
   "id": "282c2bad",
   "metadata": {},
   "outputs": [
    {
     "data": {
      "text/plain": [
       "array(['высшее', 'среднее', 'Среднее', 'СРЕДНЕЕ', 'ВЫСШЕЕ',\n",
       "       'неоконченное высшее', 'начальное', 'Высшее',\n",
       "       'НЕОКОНЧЕННОЕ ВЫСШЕЕ', 'Неоконченное высшее', 'НАЧАЛЬНОЕ',\n",
       "       'Начальное', 'Ученая степень', 'УЧЕНАЯ СТЕПЕНЬ', 'ученая степень'],\n",
       "      dtype=object)"
      ]
     },
     "execution_count": 27,
     "metadata": {},
     "output_type": "execute_result"
    }
   ],
   "source": [
    "main_dataset['level_of_education'].unique()"
   ]
  },
  {
   "cell_type": "code",
   "execution_count": 28,
   "id": "df09f148",
   "metadata": {
    "scrolled": true
   },
   "outputs": [
    {
     "data": {
      "text/plain": [
       "array(['высшее', 'среднее', 'неоконченное высшее', 'начальное',\n",
       "       'ученая степень'], dtype=object)"
      ]
     },
     "execution_count": 28,
     "metadata": {},
     "output_type": "execute_result"
    }
   ],
   "source": [
    "main_dataset['level_of_education'] = main_dataset['level_of_education'].str.lower()\n",
    "main_dataset['level_of_education'].unique()"
   ]
  },
  {
   "cell_type": "code",
   "execution_count": 29,
   "id": "329e8a35",
   "metadata": {
    "scrolled": true
   },
   "outputs": [
    {
     "data": {
      "text/plain": [
       "array(['женат / замужем', 'гражданский брак', 'вдовец / вдова',\n",
       "       'в разводе', 'не женат / не замужем'], dtype=object)"
      ]
     },
     "execution_count": 29,
     "metadata": {},
     "output_type": "execute_result"
    }
   ],
   "source": [
    "main_dataset['family_status'] = main_dataset['family_status'].str.lower()\n",
    "main_dataset['family_status'].unique()"
   ]
  },
  {
   "cell_type": "code",
   "execution_count": 30,
   "id": "2995220f",
   "metadata": {},
   "outputs": [],
   "source": [
    "main_dataset['days_employed'] = main_dataset['days_employed'].astype(int) \n",
    "#Замена вещественного типа данных в столбце days_employed на целочисленный"
   ]
  },
  {
   "cell_type": "code",
   "execution_count": 31,
   "id": "daa77d1f",
   "metadata": {
    "scrolled": true
   },
   "outputs": [
    {
     "data": {
      "text/html": [
       "<div>\n",
       "<style scoped>\n",
       "    .dataframe tbody tr th:only-of-type {\n",
       "        vertical-align: middle;\n",
       "    }\n",
       "\n",
       "    .dataframe tbody tr th {\n",
       "        vertical-align: top;\n",
       "    }\n",
       "\n",
       "    .dataframe thead th {\n",
       "        text-align: right;\n",
       "    }\n",
       "</style>\n",
       "<table border=\"1\" class=\"dataframe\">\n",
       "  <thead>\n",
       "    <tr style=\"text-align: right;\">\n",
       "      <th></th>\n",
       "      <th>number_of_children</th>\n",
       "      <th>days_employed</th>\n",
       "      <th>client_age</th>\n",
       "      <th>level_of_education</th>\n",
       "      <th>level_of_education_id</th>\n",
       "      <th>family_status</th>\n",
       "      <th>family_status_id</th>\n",
       "      <th>gender</th>\n",
       "      <th>type_of_employment</th>\n",
       "      <th>debt</th>\n",
       "      <th>monthly_income</th>\n",
       "      <th>credit_purpose</th>\n",
       "    </tr>\n",
       "  </thead>\n",
       "  <tbody>\n",
       "    <tr>\n",
       "      <th>0</th>\n",
       "      <td>1</td>\n",
       "      <td>8437</td>\n",
       "      <td>42</td>\n",
       "      <td>высшее</td>\n",
       "      <td>0</td>\n",
       "      <td>женат / замужем</td>\n",
       "      <td>0</td>\n",
       "      <td>F</td>\n",
       "      <td>сотрудник</td>\n",
       "      <td>0</td>\n",
       "      <td>253875</td>\n",
       "      <td>покупка жилья</td>\n",
       "    </tr>\n",
       "    <tr>\n",
       "      <th>1</th>\n",
       "      <td>1</td>\n",
       "      <td>4024</td>\n",
       "      <td>36</td>\n",
       "      <td>среднее</td>\n",
       "      <td>1</td>\n",
       "      <td>женат / замужем</td>\n",
       "      <td>0</td>\n",
       "      <td>F</td>\n",
       "      <td>сотрудник</td>\n",
       "      <td>0</td>\n",
       "      <td>112080</td>\n",
       "      <td>приобретение автомобиля</td>\n",
       "    </tr>\n",
       "    <tr>\n",
       "      <th>2</th>\n",
       "      <td>0</td>\n",
       "      <td>5623</td>\n",
       "      <td>33</td>\n",
       "      <td>среднее</td>\n",
       "      <td>1</td>\n",
       "      <td>женат / замужем</td>\n",
       "      <td>0</td>\n",
       "      <td>M</td>\n",
       "      <td>сотрудник</td>\n",
       "      <td>0</td>\n",
       "      <td>145885</td>\n",
       "      <td>покупка жилья</td>\n",
       "    </tr>\n",
       "    <tr>\n",
       "      <th>3</th>\n",
       "      <td>3</td>\n",
       "      <td>4124</td>\n",
       "      <td>32</td>\n",
       "      <td>среднее</td>\n",
       "      <td>1</td>\n",
       "      <td>женат / замужем</td>\n",
       "      <td>0</td>\n",
       "      <td>M</td>\n",
       "      <td>сотрудник</td>\n",
       "      <td>0</td>\n",
       "      <td>267628</td>\n",
       "      <td>дополнительное образование</td>\n",
       "    </tr>\n",
       "    <tr>\n",
       "      <th>4</th>\n",
       "      <td>0</td>\n",
       "      <td>2194</td>\n",
       "      <td>53</td>\n",
       "      <td>среднее</td>\n",
       "      <td>1</td>\n",
       "      <td>гражданский брак</td>\n",
       "      <td>1</td>\n",
       "      <td>F</td>\n",
       "      <td>пенсионер</td>\n",
       "      <td>0</td>\n",
       "      <td>158616</td>\n",
       "      <td>сыграть свадьбу</td>\n",
       "    </tr>\n",
       "  </tbody>\n",
       "</table>\n",
       "</div>"
      ],
      "text/plain": [
       "   number_of_children  days_employed  client_age level_of_education  \\\n",
       "0                   1           8437          42             высшее   \n",
       "1                   1           4024          36            среднее   \n",
       "2                   0           5623          33            среднее   \n",
       "3                   3           4124          32            среднее   \n",
       "4                   0           2194          53            среднее   \n",
       "\n",
       "   level_of_education_id     family_status  family_status_id gender  \\\n",
       "0                      0   женат / замужем                 0      F   \n",
       "1                      1   женат / замужем                 0      F   \n",
       "2                      1   женат / замужем                 0      M   \n",
       "3                      1   женат / замужем                 0      M   \n",
       "4                      1  гражданский брак                 1      F   \n",
       "\n",
       "  type_of_employment  debt  monthly_income              credit_purpose  \n",
       "0          сотрудник     0          253875               покупка жилья  \n",
       "1          сотрудник     0          112080     приобретение автомобиля  \n",
       "2          сотрудник     0          145885               покупка жилья  \n",
       "3          сотрудник     0          267628  дополнительное образование  \n",
       "4          пенсионер     0          158616             сыграть свадьбу  "
      ]
     },
     "execution_count": 31,
     "metadata": {},
     "output_type": "execute_result"
    }
   ],
   "source": [
    "main_dataset.head()"
   ]
  },
  {
   "cell_type": "code",
   "execution_count": 32,
   "id": "ac020146",
   "metadata": {
    "scrolled": false
   },
   "outputs": [
    {
     "data": {
      "text/plain": [
       "array(['покупка жилья', 'приобретение автомобиля',\n",
       "       'дополнительное образование', 'сыграть свадьбу',\n",
       "       'операции с жильем', 'образование', 'на проведение свадьбы',\n",
       "       'покупка жилья для семьи', 'покупка недвижимости',\n",
       "       'покупка коммерческой недвижимости', 'покупка жилой недвижимости',\n",
       "       'строительство собственной недвижимости', 'недвижимость',\n",
       "       'строительство недвижимости', 'на покупку подержанного автомобиля',\n",
       "       'на покупку своего автомобиля',\n",
       "       'операции с коммерческой недвижимостью',\n",
       "       'строительство жилой недвижимости', 'жилье',\n",
       "       'операции со своей недвижимостью', 'автомобили',\n",
       "       'заняться образованием', 'сделка с подержанным автомобилем',\n",
       "       'получение образования', 'автомобиль', 'свадьба',\n",
       "       'получение дополнительного образования', 'покупка своего жилья',\n",
       "       'операции с недвижимостью', 'получение высшего образования',\n",
       "       'свой автомобиль', 'сделка с автомобилем',\n",
       "       'профильное образование', 'высшее образование',\n",
       "       'покупка жилья для сдачи', 'на покупку автомобиля', 'ремонт жилью',\n",
       "       'заняться высшим образованием'], dtype=object)"
      ]
     },
     "execution_count": 32,
     "metadata": {},
     "output_type": "execute_result"
    }
   ],
   "source": [
    "main_dataset['credit_purpose'].unique()"
   ]
  },
  {
   "cell_type": "markdown",
   "id": "5135a65f",
   "metadata": {},
   "source": [
    "Из данного списка видно, что люди, планирующие брать кредит преследуют 4 цели: \n",
    "* недвижимость, \n",
    "* автомобиль, \n",
    "* образование, \n",
    "* свадьба. "
   ]
  },
  {
   "cell_type": "markdown",
   "id": "3f452511",
   "metadata": {},
   "source": [
    "Возможно, данные записывались разными людьми, именно по этой причине данные записаны по-разному, хотя суть у них одна и та же. "
   ]
  },
  {
   "cell_type": "code",
   "execution_count": 33,
   "id": "02fea456",
   "metadata": {},
   "outputs": [
    {
     "data": {
      "text/plain": [
       "array([ 1,  0,  3,  2, -1,  4, 20,  5])"
      ]
     },
     "execution_count": 33,
     "metadata": {},
     "output_type": "execute_result"
    }
   ],
   "source": [
    "main_dataset['number_of_children'].unique()"
   ]
  },
  {
   "cell_type": "code",
   "execution_count": 34,
   "id": "87d4d8c5",
   "metadata": {},
   "outputs": [
    {
     "data": {
      "text/plain": [
       "array([ 1,  0,  3,  2,  4, 20,  5])"
      ]
     },
     "execution_count": 34,
     "metadata": {},
     "output_type": "execute_result"
    }
   ],
   "source": [
    "main_dataset['number_of_children'] = main_dataset['number_of_children'].abs()\n",
    "main_dataset['number_of_children'].unique()"
   ]
  },
  {
   "cell_type": "code",
   "execution_count": 35,
   "id": "062c55df",
   "metadata": {},
   "outputs": [
    {
     "data": {
      "text/plain": [
       "array([1, 0, 3, 2, 4, 5])"
      ]
     },
     "execution_count": 35,
     "metadata": {},
     "output_type": "execute_result"
    }
   ],
   "source": [
    "main_dataset['number_of_children'] = main_dataset['number_of_children'].replace(20, 2) \n",
    "#возможно произошла ошибка при записи кол-ва детей\n",
    "#так как не наблюдается кол-во детей от 6 до 19, и человек записал лишний \"0\".\n",
    "main_dataset['number_of_children'].unique()"
   ]
  },
  {
   "cell_type": "code",
   "execution_count": 36,
   "id": "fbd4eb7a",
   "metadata": {},
   "outputs": [
    {
     "data": {
      "text/plain": [
       "array(['F', 'M', 'XNA'], dtype=object)"
      ]
     },
     "execution_count": 36,
     "metadata": {},
     "output_type": "execute_result"
    }
   ],
   "source": [
    "main_dataset['gender'].unique()"
   ]
  },
  {
   "cell_type": "code",
   "execution_count": 37,
   "id": "e2e94731",
   "metadata": {},
   "outputs": [
    {
     "data": {
      "text/html": [
       "<div>\n",
       "<style scoped>\n",
       "    .dataframe tbody tr th:only-of-type {\n",
       "        vertical-align: middle;\n",
       "    }\n",
       "\n",
       "    .dataframe tbody tr th {\n",
       "        vertical-align: top;\n",
       "    }\n",
       "\n",
       "    .dataframe thead th {\n",
       "        text-align: right;\n",
       "    }\n",
       "</style>\n",
       "<table border=\"1\" class=\"dataframe\">\n",
       "  <thead>\n",
       "    <tr style=\"text-align: right;\">\n",
       "      <th></th>\n",
       "      <th>number_of_children</th>\n",
       "      <th>days_employed</th>\n",
       "      <th>client_age</th>\n",
       "      <th>level_of_education</th>\n",
       "      <th>level_of_education_id</th>\n",
       "      <th>family_status</th>\n",
       "      <th>family_status_id</th>\n",
       "      <th>gender</th>\n",
       "      <th>type_of_employment</th>\n",
       "      <th>debt</th>\n",
       "      <th>monthly_income</th>\n",
       "      <th>credit_purpose</th>\n",
       "    </tr>\n",
       "  </thead>\n",
       "  <tbody>\n",
       "    <tr>\n",
       "      <th>10690</th>\n",
       "      <td>0</td>\n",
       "      <td>2358</td>\n",
       "      <td>24</td>\n",
       "      <td>неоконченное высшее</td>\n",
       "      <td>2</td>\n",
       "      <td>гражданский брак</td>\n",
       "      <td>1</td>\n",
       "      <td>XNA</td>\n",
       "      <td>компаньон</td>\n",
       "      <td>0</td>\n",
       "      <td>203905</td>\n",
       "      <td>покупка недвижимости</td>\n",
       "    </tr>\n",
       "  </tbody>\n",
       "</table>\n",
       "</div>"
      ],
      "text/plain": [
       "       number_of_children  days_employed  client_age   level_of_education  \\\n",
       "10690                   0           2358          24  неоконченное высшее   \n",
       "\n",
       "       level_of_education_id     family_status  family_status_id gender  \\\n",
       "10690                      2  гражданский брак                 1    XNA   \n",
       "\n",
       "      type_of_employment  debt  monthly_income        credit_purpose  \n",
       "10690          компаньон     0          203905  покупка недвижимости  "
      ]
     },
     "metadata": {},
     "output_type": "display_data"
    }
   ],
   "source": [
    "display(main_dataset[main_dataset['gender']=='XNA'])"
   ]
  },
  {
   "cell_type": "code",
   "execution_count": 38,
   "id": "12c8d971",
   "metadata": {},
   "outputs": [
    {
     "data": {
      "text/plain": [
       "14189"
      ]
     },
     "metadata": {},
     "output_type": "display_data"
    },
    {
     "data": {
      "text/plain": [
       "7281"
      ]
     },
     "metadata": {},
     "output_type": "display_data"
    },
    {
     "data": {
      "text/plain": [
       "1"
      ]
     },
     "metadata": {},
     "output_type": "display_data"
    },
    {
     "data": {
      "text/plain": [
       "0"
      ]
     },
     "metadata": {},
     "output_type": "display_data"
    }
   ],
   "source": [
    "display(len(main_dataset.loc[main_dataset['gender']=='F'])) #количество\n",
    "#женщин в датасете\n",
    "display(len(main_dataset.loc[main_dataset['gender']=='M'])) #количество\n",
    "#мужчин в датасете\n",
    "display(len(main_dataset.loc[main_dataset['gender']=='XNA'])) #количество\n",
    "#аномальных значений в датасете\n",
    "def replacement_gender(value):\n",
    "    if value == 'XNA':\n",
    "        value = 'F'\n",
    "        return value\n",
    "    else:\n",
    "        return value\n",
    "main_dataset['gender'] = main_dataset['gender'].apply(replacement_gender)\n",
    "\n",
    "display(len(main_dataset.loc[main_dataset['gender']=='XNA'])) #проверка \n",
    "#работоспособности функции"
   ]
  },
  {
   "cell_type": "markdown",
   "id": "c00f83e1",
   "metadata": {},
   "source": [
    "Возможно это трансгендер, или заявка была принята по телефону и человек не смогу определить пол, поэтому потсавил значение XNA\n",
    "Заменил аномальное значение на \"женщину\", так как количество женщин в датасете в два раза больше. "
   ]
  },
  {
   "cell_type": "markdown",
   "id": "c05e7e59",
   "metadata": {},
   "source": [
    "### Шаг 2.5. Формирование дополнительных датафреймов словарей, декомпозиция исходного датафрейма."
   ]
  },
  {
   "cell_type": "code",
   "execution_count": 39,
   "id": "09ead19d",
   "metadata": {
    "scrolled": false
   },
   "outputs": [
    {
     "data": {
      "text/plain": [
       "5"
      ]
     },
     "metadata": {},
     "output_type": "display_data"
    },
    {
     "data": {
      "text/plain": [
       "5"
      ]
     },
     "metadata": {},
     "output_type": "display_data"
    },
    {
     "data": {
      "text/html": [
       "<div>\n",
       "<style scoped>\n",
       "    .dataframe tbody tr th:only-of-type {\n",
       "        vertical-align: middle;\n",
       "    }\n",
       "\n",
       "    .dataframe tbody tr th {\n",
       "        vertical-align: top;\n",
       "    }\n",
       "\n",
       "    .dataframe thead th {\n",
       "        text-align: right;\n",
       "    }\n",
       "</style>\n",
       "<table border=\"1\" class=\"dataframe\">\n",
       "  <thead>\n",
       "    <tr style=\"text-align: right;\">\n",
       "      <th></th>\n",
       "      <th>number_of_children</th>\n",
       "      <th>days_employed</th>\n",
       "      <th>client_age</th>\n",
       "      <th>level_of_education</th>\n",
       "      <th>level_of_education_id</th>\n",
       "      <th>family_status</th>\n",
       "      <th>family_status_id</th>\n",
       "      <th>gender</th>\n",
       "      <th>type_of_employment</th>\n",
       "      <th>debt</th>\n",
       "      <th>monthly_income</th>\n",
       "      <th>credit_purpose</th>\n",
       "    </tr>\n",
       "  </thead>\n",
       "  <tbody>\n",
       "    <tr>\n",
       "      <th>0</th>\n",
       "      <td>1</td>\n",
       "      <td>8437</td>\n",
       "      <td>42</td>\n",
       "      <td>высшее</td>\n",
       "      <td>0</td>\n",
       "      <td>женат / замужем</td>\n",
       "      <td>0</td>\n",
       "      <td>F</td>\n",
       "      <td>сотрудник</td>\n",
       "      <td>0</td>\n",
       "      <td>253875</td>\n",
       "      <td>покупка жилья</td>\n",
       "    </tr>\n",
       "    <tr>\n",
       "      <th>5</th>\n",
       "      <td>0</td>\n",
       "      <td>926</td>\n",
       "      <td>27</td>\n",
       "      <td>высшее</td>\n",
       "      <td>0</td>\n",
       "      <td>гражданский брак</td>\n",
       "      <td>1</td>\n",
       "      <td>M</td>\n",
       "      <td>компаньон</td>\n",
       "      <td>0</td>\n",
       "      <td>255763</td>\n",
       "      <td>покупка жилья</td>\n",
       "    </tr>\n",
       "  </tbody>\n",
       "</table>\n",
       "</div>"
      ],
      "text/plain": [
       "   number_of_children  days_employed  client_age level_of_education  \\\n",
       "0                   1           8437          42             высшее   \n",
       "5                   0            926          27             высшее   \n",
       "\n",
       "   level_of_education_id     family_status  family_status_id gender  \\\n",
       "0                      0   женат / замужем                 0      F   \n",
       "5                      0  гражданский брак                 1      M   \n",
       "\n",
       "  type_of_employment  debt  monthly_income credit_purpose  \n",
       "0          сотрудник     0          253875  покупка жилья  \n",
       "5          компаньон     0          255763  покупка жилья  "
      ]
     },
     "metadata": {},
     "output_type": "display_data"
    },
    {
     "data": {
      "text/html": [
       "<div>\n",
       "<style scoped>\n",
       "    .dataframe tbody tr th:only-of-type {\n",
       "        vertical-align: middle;\n",
       "    }\n",
       "\n",
       "    .dataframe tbody tr th {\n",
       "        vertical-align: top;\n",
       "    }\n",
       "\n",
       "    .dataframe thead th {\n",
       "        text-align: right;\n",
       "    }\n",
       "</style>\n",
       "<table border=\"1\" class=\"dataframe\">\n",
       "  <thead>\n",
       "    <tr style=\"text-align: right;\">\n",
       "      <th></th>\n",
       "      <th>number_of_children</th>\n",
       "      <th>days_employed</th>\n",
       "      <th>client_age</th>\n",
       "      <th>level_of_education</th>\n",
       "      <th>level_of_education_id</th>\n",
       "      <th>family_status</th>\n",
       "      <th>family_status_id</th>\n",
       "      <th>gender</th>\n",
       "      <th>type_of_employment</th>\n",
       "      <th>debt</th>\n",
       "      <th>monthly_income</th>\n",
       "      <th>credit_purpose</th>\n",
       "    </tr>\n",
       "  </thead>\n",
       "  <tbody>\n",
       "    <tr>\n",
       "      <th>1</th>\n",
       "      <td>1</td>\n",
       "      <td>4024</td>\n",
       "      <td>36</td>\n",
       "      <td>среднее</td>\n",
       "      <td>1</td>\n",
       "      <td>женат / замужем</td>\n",
       "      <td>0</td>\n",
       "      <td>F</td>\n",
       "      <td>сотрудник</td>\n",
       "      <td>0</td>\n",
       "      <td>112080</td>\n",
       "      <td>приобретение автомобиля</td>\n",
       "    </tr>\n",
       "    <tr>\n",
       "      <th>2</th>\n",
       "      <td>0</td>\n",
       "      <td>5623</td>\n",
       "      <td>33</td>\n",
       "      <td>среднее</td>\n",
       "      <td>1</td>\n",
       "      <td>женат / замужем</td>\n",
       "      <td>0</td>\n",
       "      <td>M</td>\n",
       "      <td>сотрудник</td>\n",
       "      <td>0</td>\n",
       "      <td>145885</td>\n",
       "      <td>покупка жилья</td>\n",
       "    </tr>\n",
       "  </tbody>\n",
       "</table>\n",
       "</div>"
      ],
      "text/plain": [
       "   number_of_children  days_employed  client_age level_of_education  \\\n",
       "1                   1           4024          36            среднее   \n",
       "2                   0           5623          33            среднее   \n",
       "\n",
       "   level_of_education_id    family_status  family_status_id gender  \\\n",
       "1                      1  женат / замужем                 0      F   \n",
       "2                      1  женат / замужем                 0      M   \n",
       "\n",
       "  type_of_employment  debt  monthly_income           credit_purpose  \n",
       "1          сотрудник     0          112080  приобретение автомобиля  \n",
       "2          сотрудник     0          145885            покупка жилья  "
      ]
     },
     "metadata": {},
     "output_type": "display_data"
    },
    {
     "data": {
      "text/html": [
       "<div>\n",
       "<style scoped>\n",
       "    .dataframe tbody tr th:only-of-type {\n",
       "        vertical-align: middle;\n",
       "    }\n",
       "\n",
       "    .dataframe tbody tr th {\n",
       "        vertical-align: top;\n",
       "    }\n",
       "\n",
       "    .dataframe thead th {\n",
       "        text-align: right;\n",
       "    }\n",
       "</style>\n",
       "<table border=\"1\" class=\"dataframe\">\n",
       "  <thead>\n",
       "    <tr style=\"text-align: right;\">\n",
       "      <th></th>\n",
       "      <th>number_of_children</th>\n",
       "      <th>days_employed</th>\n",
       "      <th>client_age</th>\n",
       "      <th>level_of_education</th>\n",
       "      <th>level_of_education_id</th>\n",
       "      <th>family_status</th>\n",
       "      <th>family_status_id</th>\n",
       "      <th>gender</th>\n",
       "      <th>type_of_employment</th>\n",
       "      <th>debt</th>\n",
       "      <th>monthly_income</th>\n",
       "      <th>credit_purpose</th>\n",
       "    </tr>\n",
       "  </thead>\n",
       "  <tbody>\n",
       "    <tr>\n",
       "      <th>13</th>\n",
       "      <td>0</td>\n",
       "      <td>1846</td>\n",
       "      <td>54</td>\n",
       "      <td>неоконченное высшее</td>\n",
       "      <td>2</td>\n",
       "      <td>женат / замужем</td>\n",
       "      <td>0</td>\n",
       "      <td>F</td>\n",
       "      <td>сотрудник</td>\n",
       "      <td>0</td>\n",
       "      <td>130458</td>\n",
       "      <td>приобретение автомобиля</td>\n",
       "    </tr>\n",
       "    <tr>\n",
       "      <th>42</th>\n",
       "      <td>0</td>\n",
       "      <td>1257</td>\n",
       "      <td>20</td>\n",
       "      <td>неоконченное высшее</td>\n",
       "      <td>2</td>\n",
       "      <td>не женат / не замужем</td>\n",
       "      <td>4</td>\n",
       "      <td>F</td>\n",
       "      <td>сотрудник</td>\n",
       "      <td>0</td>\n",
       "      <td>82065</td>\n",
       "      <td>получение образования</td>\n",
       "    </tr>\n",
       "  </tbody>\n",
       "</table>\n",
       "</div>"
      ],
      "text/plain": [
       "    number_of_children  days_employed  client_age   level_of_education  \\\n",
       "13                   0           1846          54  неоконченное высшее   \n",
       "42                   0           1257          20  неоконченное высшее   \n",
       "\n",
       "    level_of_education_id          family_status  family_status_id gender  \\\n",
       "13                      2        женат / замужем                 0      F   \n",
       "42                      2  не женат / не замужем                 4      F   \n",
       "\n",
       "   type_of_employment  debt  monthly_income           credit_purpose  \n",
       "13          сотрудник     0          130458  приобретение автомобиля  \n",
       "42          сотрудник     0           82065    получение образования  "
      ]
     },
     "metadata": {},
     "output_type": "display_data"
    },
    {
     "data": {
      "text/html": [
       "<div>\n",
       "<style scoped>\n",
       "    .dataframe tbody tr th:only-of-type {\n",
       "        vertical-align: middle;\n",
       "    }\n",
       "\n",
       "    .dataframe tbody tr th {\n",
       "        vertical-align: top;\n",
       "    }\n",
       "\n",
       "    .dataframe thead th {\n",
       "        text-align: right;\n",
       "    }\n",
       "</style>\n",
       "<table border=\"1\" class=\"dataframe\">\n",
       "  <thead>\n",
       "    <tr style=\"text-align: right;\">\n",
       "      <th></th>\n",
       "      <th>number_of_children</th>\n",
       "      <th>days_employed</th>\n",
       "      <th>client_age</th>\n",
       "      <th>level_of_education</th>\n",
       "      <th>level_of_education_id</th>\n",
       "      <th>family_status</th>\n",
       "      <th>family_status_id</th>\n",
       "      <th>gender</th>\n",
       "      <th>type_of_employment</th>\n",
       "      <th>debt</th>\n",
       "      <th>monthly_income</th>\n",
       "      <th>credit_purpose</th>\n",
       "    </tr>\n",
       "  </thead>\n",
       "  <tbody>\n",
       "    <tr>\n",
       "      <th>31</th>\n",
       "      <td>0</td>\n",
       "      <td>1682</td>\n",
       "      <td>47</td>\n",
       "      <td>начальное</td>\n",
       "      <td>3</td>\n",
       "      <td>женат / замужем</td>\n",
       "      <td>0</td>\n",
       "      <td>F</td>\n",
       "      <td>сотрудник</td>\n",
       "      <td>0</td>\n",
       "      <td>275485</td>\n",
       "      <td>жилье</td>\n",
       "    </tr>\n",
       "    <tr>\n",
       "      <th>136</th>\n",
       "      <td>0</td>\n",
       "      <td>2194</td>\n",
       "      <td>60</td>\n",
       "      <td>начальное</td>\n",
       "      <td>3</td>\n",
       "      <td>женат / замужем</td>\n",
       "      <td>0</td>\n",
       "      <td>M</td>\n",
       "      <td>пенсионер</td>\n",
       "      <td>0</td>\n",
       "      <td>113124</td>\n",
       "      <td>операции со своей недвижимостью</td>\n",
       "    </tr>\n",
       "  </tbody>\n",
       "</table>\n",
       "</div>"
      ],
      "text/plain": [
       "     number_of_children  days_employed  client_age level_of_education  \\\n",
       "31                    0           1682          47          начальное   \n",
       "136                   0           2194          60          начальное   \n",
       "\n",
       "     level_of_education_id    family_status  family_status_id gender  \\\n",
       "31                       3  женат / замужем                 0      F   \n",
       "136                      3  женат / замужем                 0      M   \n",
       "\n",
       "    type_of_employment  debt  monthly_income                   credit_purpose  \n",
       "31           сотрудник     0          275485                            жилье  \n",
       "136          пенсионер     0          113124  операции со своей недвижимостью  "
      ]
     },
     "metadata": {},
     "output_type": "display_data"
    },
    {
     "data": {
      "text/html": [
       "<div>\n",
       "<style scoped>\n",
       "    .dataframe tbody tr th:only-of-type {\n",
       "        vertical-align: middle;\n",
       "    }\n",
       "\n",
       "    .dataframe tbody tr th {\n",
       "        vertical-align: top;\n",
       "    }\n",
       "\n",
       "    .dataframe thead th {\n",
       "        text-align: right;\n",
       "    }\n",
       "</style>\n",
       "<table border=\"1\" class=\"dataframe\">\n",
       "  <thead>\n",
       "    <tr style=\"text-align: right;\">\n",
       "      <th></th>\n",
       "      <th>number_of_children</th>\n",
       "      <th>days_employed</th>\n",
       "      <th>client_age</th>\n",
       "      <th>level_of_education</th>\n",
       "      <th>level_of_education_id</th>\n",
       "      <th>family_status</th>\n",
       "      <th>family_status_id</th>\n",
       "      <th>gender</th>\n",
       "      <th>type_of_employment</th>\n",
       "      <th>debt</th>\n",
       "      <th>monthly_income</th>\n",
       "      <th>credit_purpose</th>\n",
       "    </tr>\n",
       "  </thead>\n",
       "  <tbody>\n",
       "    <tr>\n",
       "      <th>2962</th>\n",
       "      <td>0</td>\n",
       "      <td>2194</td>\n",
       "      <td>69</td>\n",
       "      <td>ученая степень</td>\n",
       "      <td>4</td>\n",
       "      <td>женат / замужем</td>\n",
       "      <td>0</td>\n",
       "      <td>M</td>\n",
       "      <td>пенсионер</td>\n",
       "      <td>0</td>\n",
       "      <td>98752</td>\n",
       "      <td>покупка жилой недвижимости</td>\n",
       "    </tr>\n",
       "    <tr>\n",
       "      <th>4169</th>\n",
       "      <td>0</td>\n",
       "      <td>409</td>\n",
       "      <td>45</td>\n",
       "      <td>ученая степень</td>\n",
       "      <td>4</td>\n",
       "      <td>не женат / не замужем</td>\n",
       "      <td>4</td>\n",
       "      <td>M</td>\n",
       "      <td>сотрудник</td>\n",
       "      <td>0</td>\n",
       "      <td>198570</td>\n",
       "      <td>операции с коммерческой недвижимостью</td>\n",
       "    </tr>\n",
       "  </tbody>\n",
       "</table>\n",
       "</div>"
      ],
      "text/plain": [
       "      number_of_children  days_employed  client_age level_of_education  \\\n",
       "2962                   0           2194          69     ученая степень   \n",
       "4169                   0            409          45     ученая степень   \n",
       "\n",
       "      level_of_education_id          family_status  family_status_id gender  \\\n",
       "2962                      4        женат / замужем                 0      M   \n",
       "4169                      4  не женат / не замужем                 4      M   \n",
       "\n",
       "     type_of_employment  debt  monthly_income  \\\n",
       "2962          пенсионер     0           98752   \n",
       "4169          сотрудник     0          198570   \n",
       "\n",
       "                             credit_purpose  \n",
       "2962             покупка жилой недвижимости  \n",
       "4169  операции с коммерческой недвижимостью  "
      ]
     },
     "metadata": {},
     "output_type": "display_data"
    }
   ],
   "source": [
    "display(len(main_dataset['level_of_education'].unique())) #кол-во уникальных значений для образования\n",
    "display(len(main_dataset['level_of_education_id'].unique())) #кол-во уникальных значений для id в образовании\n",
    "display(main_dataset.loc[main_dataset['level_of_education_id'] == 0].head(2))\n",
    "display(main_dataset.loc[main_dataset['level_of_education_id'] == 1].head(2))\n",
    "display(main_dataset.loc[main_dataset['level_of_education_id'] == 2].head(2))\n",
    "display(main_dataset.loc[main_dataset['level_of_education_id'] == 3].head(2))\n",
    "display(main_dataset.loc[main_dataset['level_of_education_id'] == 4].head(2))"
   ]
  },
  {
   "cell_type": "markdown",
   "id": "05f3647e",
   "metadata": {},
   "source": [
    "Создание словаря для образования"
   ]
  },
  {
   "cell_type": "code",
   "execution_count": 40,
   "id": "97c62c32",
   "metadata": {},
   "outputs": [
    {
     "data": {
      "text/plain": [
       "{'высшее': 0,\n",
       " 'среднее': 1,\n",
       " 'неоконченное высшее': 2,\n",
       " 'начальное': 3,\n",
       " 'ученая степень': 4}"
      ]
     },
     "metadata": {},
     "output_type": "display_data"
    }
   ],
   "source": [
    "vocabulary_education = { \n",
    "    'высшее': 0,\n",
    "    'среднее': 1, \n",
    "    'неоконченное высшее': 2,\n",
    "    'начальное': 3,\n",
    "    'ученая степень': 4\n",
    "}\n",
    "display(vocabulary_education)"
   ]
  },
  {
   "cell_type": "code",
   "execution_count": 41,
   "id": "ea812919",
   "metadata": {
    "scrolled": false
   },
   "outputs": [
    {
     "data": {
      "text/plain": [
       "5"
      ]
     },
     "metadata": {},
     "output_type": "display_data"
    },
    {
     "data": {
      "text/plain": [
       "5"
      ]
     },
     "metadata": {},
     "output_type": "display_data"
    },
    {
     "data": {
      "text/html": [
       "<div>\n",
       "<style scoped>\n",
       "    .dataframe tbody tr th:only-of-type {\n",
       "        vertical-align: middle;\n",
       "    }\n",
       "\n",
       "    .dataframe tbody tr th {\n",
       "        vertical-align: top;\n",
       "    }\n",
       "\n",
       "    .dataframe thead th {\n",
       "        text-align: right;\n",
       "    }\n",
       "</style>\n",
       "<table border=\"1\" class=\"dataframe\">\n",
       "  <thead>\n",
       "    <tr style=\"text-align: right;\">\n",
       "      <th></th>\n",
       "      <th>number_of_children</th>\n",
       "      <th>days_employed</th>\n",
       "      <th>client_age</th>\n",
       "      <th>level_of_education</th>\n",
       "      <th>level_of_education_id</th>\n",
       "      <th>family_status</th>\n",
       "      <th>family_status_id</th>\n",
       "      <th>gender</th>\n",
       "      <th>type_of_employment</th>\n",
       "      <th>debt</th>\n",
       "      <th>monthly_income</th>\n",
       "      <th>credit_purpose</th>\n",
       "    </tr>\n",
       "  </thead>\n",
       "  <tbody>\n",
       "    <tr>\n",
       "      <th>0</th>\n",
       "      <td>1</td>\n",
       "      <td>8437</td>\n",
       "      <td>42</td>\n",
       "      <td>высшее</td>\n",
       "      <td>0</td>\n",
       "      <td>женат / замужем</td>\n",
       "      <td>0</td>\n",
       "      <td>F</td>\n",
       "      <td>сотрудник</td>\n",
       "      <td>0</td>\n",
       "      <td>253875</td>\n",
       "      <td>покупка жилья</td>\n",
       "    </tr>\n",
       "    <tr>\n",
       "      <th>1</th>\n",
       "      <td>1</td>\n",
       "      <td>4024</td>\n",
       "      <td>36</td>\n",
       "      <td>среднее</td>\n",
       "      <td>1</td>\n",
       "      <td>женат / замужем</td>\n",
       "      <td>0</td>\n",
       "      <td>F</td>\n",
       "      <td>сотрудник</td>\n",
       "      <td>0</td>\n",
       "      <td>112080</td>\n",
       "      <td>приобретение автомобиля</td>\n",
       "    </tr>\n",
       "  </tbody>\n",
       "</table>\n",
       "</div>"
      ],
      "text/plain": [
       "   number_of_children  days_employed  client_age level_of_education  \\\n",
       "0                   1           8437          42             высшее   \n",
       "1                   1           4024          36            среднее   \n",
       "\n",
       "   level_of_education_id    family_status  family_status_id gender  \\\n",
       "0                      0  женат / замужем                 0      F   \n",
       "1                      1  женат / замужем                 0      F   \n",
       "\n",
       "  type_of_employment  debt  monthly_income           credit_purpose  \n",
       "0          сотрудник     0          253875            покупка жилья  \n",
       "1          сотрудник     0          112080  приобретение автомобиля  "
      ]
     },
     "metadata": {},
     "output_type": "display_data"
    },
    {
     "data": {
      "text/html": [
       "<div>\n",
       "<style scoped>\n",
       "    .dataframe tbody tr th:only-of-type {\n",
       "        vertical-align: middle;\n",
       "    }\n",
       "\n",
       "    .dataframe tbody tr th {\n",
       "        vertical-align: top;\n",
       "    }\n",
       "\n",
       "    .dataframe thead th {\n",
       "        text-align: right;\n",
       "    }\n",
       "</style>\n",
       "<table border=\"1\" class=\"dataframe\">\n",
       "  <thead>\n",
       "    <tr style=\"text-align: right;\">\n",
       "      <th></th>\n",
       "      <th>number_of_children</th>\n",
       "      <th>days_employed</th>\n",
       "      <th>client_age</th>\n",
       "      <th>level_of_education</th>\n",
       "      <th>level_of_education_id</th>\n",
       "      <th>family_status</th>\n",
       "      <th>family_status_id</th>\n",
       "      <th>gender</th>\n",
       "      <th>type_of_employment</th>\n",
       "      <th>debt</th>\n",
       "      <th>monthly_income</th>\n",
       "      <th>credit_purpose</th>\n",
       "    </tr>\n",
       "  </thead>\n",
       "  <tbody>\n",
       "    <tr>\n",
       "      <th>4</th>\n",
       "      <td>0</td>\n",
       "      <td>2194</td>\n",
       "      <td>53</td>\n",
       "      <td>среднее</td>\n",
       "      <td>1</td>\n",
       "      <td>гражданский брак</td>\n",
       "      <td>1</td>\n",
       "      <td>F</td>\n",
       "      <td>пенсионер</td>\n",
       "      <td>0</td>\n",
       "      <td>158616</td>\n",
       "      <td>сыграть свадьбу</td>\n",
       "    </tr>\n",
       "    <tr>\n",
       "      <th>5</th>\n",
       "      <td>0</td>\n",
       "      <td>926</td>\n",
       "      <td>27</td>\n",
       "      <td>высшее</td>\n",
       "      <td>0</td>\n",
       "      <td>гражданский брак</td>\n",
       "      <td>1</td>\n",
       "      <td>M</td>\n",
       "      <td>компаньон</td>\n",
       "      <td>0</td>\n",
       "      <td>255763</td>\n",
       "      <td>покупка жилья</td>\n",
       "    </tr>\n",
       "  </tbody>\n",
       "</table>\n",
       "</div>"
      ],
      "text/plain": [
       "   number_of_children  days_employed  client_age level_of_education  \\\n",
       "4                   0           2194          53            среднее   \n",
       "5                   0            926          27             высшее   \n",
       "\n",
       "   level_of_education_id     family_status  family_status_id gender  \\\n",
       "4                      1  гражданский брак                 1      F   \n",
       "5                      0  гражданский брак                 1      M   \n",
       "\n",
       "  type_of_employment  debt  monthly_income   credit_purpose  \n",
       "4          пенсионер     0          158616  сыграть свадьбу  \n",
       "5          компаньон     0          255763    покупка жилья  "
      ]
     },
     "metadata": {},
     "output_type": "display_data"
    },
    {
     "data": {
      "text/html": [
       "<div>\n",
       "<style scoped>\n",
       "    .dataframe tbody tr th:only-of-type {\n",
       "        vertical-align: middle;\n",
       "    }\n",
       "\n",
       "    .dataframe tbody tr th {\n",
       "        vertical-align: top;\n",
       "    }\n",
       "\n",
       "    .dataframe thead th {\n",
       "        text-align: right;\n",
       "    }\n",
       "</style>\n",
       "<table border=\"1\" class=\"dataframe\">\n",
       "  <thead>\n",
       "    <tr style=\"text-align: right;\">\n",
       "      <th></th>\n",
       "      <th>number_of_children</th>\n",
       "      <th>days_employed</th>\n",
       "      <th>client_age</th>\n",
       "      <th>level_of_education</th>\n",
       "      <th>level_of_education_id</th>\n",
       "      <th>family_status</th>\n",
       "      <th>family_status_id</th>\n",
       "      <th>gender</th>\n",
       "      <th>type_of_employment</th>\n",
       "      <th>debt</th>\n",
       "      <th>monthly_income</th>\n",
       "      <th>credit_purpose</th>\n",
       "    </tr>\n",
       "  </thead>\n",
       "  <tbody>\n",
       "    <tr>\n",
       "      <th>18</th>\n",
       "      <td>0</td>\n",
       "      <td>2194</td>\n",
       "      <td>53</td>\n",
       "      <td>среднее</td>\n",
       "      <td>1</td>\n",
       "      <td>вдовец / вдова</td>\n",
       "      <td>2</td>\n",
       "      <td>F</td>\n",
       "      <td>пенсионер</td>\n",
       "      <td>0</td>\n",
       "      <td>56823</td>\n",
       "      <td>на покупку подержанного автомобиля</td>\n",
       "    </tr>\n",
       "    <tr>\n",
       "      <th>56</th>\n",
       "      <td>0</td>\n",
       "      <td>2194</td>\n",
       "      <td>64</td>\n",
       "      <td>среднее</td>\n",
       "      <td>1</td>\n",
       "      <td>вдовец / вдова</td>\n",
       "      <td>2</td>\n",
       "      <td>F</td>\n",
       "      <td>пенсионер</td>\n",
       "      <td>0</td>\n",
       "      <td>149141</td>\n",
       "      <td>образование</td>\n",
       "    </tr>\n",
       "  </tbody>\n",
       "</table>\n",
       "</div>"
      ],
      "text/plain": [
       "    number_of_children  days_employed  client_age level_of_education  \\\n",
       "18                   0           2194          53            среднее   \n",
       "56                   0           2194          64            среднее   \n",
       "\n",
       "    level_of_education_id   family_status  family_status_id gender  \\\n",
       "18                      1  вдовец / вдова                 2      F   \n",
       "56                      1  вдовец / вдова                 2      F   \n",
       "\n",
       "   type_of_employment  debt  monthly_income  \\\n",
       "18          пенсионер     0           56823   \n",
       "56          пенсионер     0          149141   \n",
       "\n",
       "                        credit_purpose  \n",
       "18  на покупку подержанного автомобиля  \n",
       "56                         образование  "
      ]
     },
     "metadata": {},
     "output_type": "display_data"
    },
    {
     "data": {
      "text/html": [
       "<div>\n",
       "<style scoped>\n",
       "    .dataframe tbody tr th:only-of-type {\n",
       "        vertical-align: middle;\n",
       "    }\n",
       "\n",
       "    .dataframe tbody tr th {\n",
       "        vertical-align: top;\n",
       "    }\n",
       "\n",
       "    .dataframe thead th {\n",
       "        text-align: right;\n",
       "    }\n",
       "</style>\n",
       "<table border=\"1\" class=\"dataframe\">\n",
       "  <thead>\n",
       "    <tr style=\"text-align: right;\">\n",
       "      <th></th>\n",
       "      <th>number_of_children</th>\n",
       "      <th>days_employed</th>\n",
       "      <th>client_age</th>\n",
       "      <th>level_of_education</th>\n",
       "      <th>level_of_education_id</th>\n",
       "      <th>family_status</th>\n",
       "      <th>family_status_id</th>\n",
       "      <th>gender</th>\n",
       "      <th>type_of_employment</th>\n",
       "      <th>debt</th>\n",
       "      <th>monthly_income</th>\n",
       "      <th>credit_purpose</th>\n",
       "    </tr>\n",
       "  </thead>\n",
       "  <tbody>\n",
       "    <tr>\n",
       "      <th>19</th>\n",
       "      <td>0</td>\n",
       "      <td>10038</td>\n",
       "      <td>48</td>\n",
       "      <td>среднее</td>\n",
       "      <td>1</td>\n",
       "      <td>в разводе</td>\n",
       "      <td>3</td>\n",
       "      <td>F</td>\n",
       "      <td>сотрудник</td>\n",
       "      <td>0</td>\n",
       "      <td>242831</td>\n",
       "      <td>на покупку своего автомобиля</td>\n",
       "    </tr>\n",
       "    <tr>\n",
       "      <th>43</th>\n",
       "      <td>0</td>\n",
       "      <td>4375</td>\n",
       "      <td>43</td>\n",
       "      <td>неоконченное высшее</td>\n",
       "      <td>2</td>\n",
       "      <td>в разводе</td>\n",
       "      <td>3</td>\n",
       "      <td>F</td>\n",
       "      <td>компаньон</td>\n",
       "      <td>0</td>\n",
       "      <td>272957</td>\n",
       "      <td>приобретение автомобиля</td>\n",
       "    </tr>\n",
       "  </tbody>\n",
       "</table>\n",
       "</div>"
      ],
      "text/plain": [
       "    number_of_children  days_employed  client_age   level_of_education  \\\n",
       "19                   0          10038          48              среднее   \n",
       "43                   0           4375          43  неоконченное высшее   \n",
       "\n",
       "    level_of_education_id family_status  family_status_id gender  \\\n",
       "19                      1     в разводе                 3      F   \n",
       "43                      2     в разводе                 3      F   \n",
       "\n",
       "   type_of_employment  debt  monthly_income                credit_purpose  \n",
       "19          сотрудник     0          242831  на покупку своего автомобиля  \n",
       "43          компаньон     0          272957       приобретение автомобиля  "
      ]
     },
     "metadata": {},
     "output_type": "display_data"
    },
    {
     "data": {
      "text/html": [
       "<div>\n",
       "<style scoped>\n",
       "    .dataframe tbody tr th:only-of-type {\n",
       "        vertical-align: middle;\n",
       "    }\n",
       "\n",
       "    .dataframe tbody tr th {\n",
       "        vertical-align: top;\n",
       "    }\n",
       "\n",
       "    .dataframe thead th {\n",
       "        text-align: right;\n",
       "    }\n",
       "</style>\n",
       "<table border=\"1\" class=\"dataframe\">\n",
       "  <thead>\n",
       "    <tr style=\"text-align: right;\">\n",
       "      <th></th>\n",
       "      <th>number_of_children</th>\n",
       "      <th>days_employed</th>\n",
       "      <th>client_age</th>\n",
       "      <th>level_of_education</th>\n",
       "      <th>level_of_education_id</th>\n",
       "      <th>family_status</th>\n",
       "      <th>family_status_id</th>\n",
       "      <th>gender</th>\n",
       "      <th>type_of_employment</th>\n",
       "      <th>debt</th>\n",
       "      <th>monthly_income</th>\n",
       "      <th>credit_purpose</th>\n",
       "    </tr>\n",
       "  </thead>\n",
       "  <tbody>\n",
       "    <tr>\n",
       "      <th>24</th>\n",
       "      <td>1</td>\n",
       "      <td>2194</td>\n",
       "      <td>57</td>\n",
       "      <td>среднее</td>\n",
       "      <td>1</td>\n",
       "      <td>не женат / не замужем</td>\n",
       "      <td>4</td>\n",
       "      <td>F</td>\n",
       "      <td>пенсионер</td>\n",
       "      <td>0</td>\n",
       "      <td>290547</td>\n",
       "      <td>операции с коммерческой недвижимостью</td>\n",
       "    </tr>\n",
       "    <tr>\n",
       "      <th>29</th>\n",
       "      <td>0</td>\n",
       "      <td>2194</td>\n",
       "      <td>63</td>\n",
       "      <td>среднее</td>\n",
       "      <td>1</td>\n",
       "      <td>не женат / не замужем</td>\n",
       "      <td>4</td>\n",
       "      <td>F</td>\n",
       "      <td>пенсионер</td>\n",
       "      <td>0</td>\n",
       "      <td>118514</td>\n",
       "      <td>строительство жилой недвижимости</td>\n",
       "    </tr>\n",
       "  </tbody>\n",
       "</table>\n",
       "</div>"
      ],
      "text/plain": [
       "    number_of_children  days_employed  client_age level_of_education  \\\n",
       "24                   1           2194          57            среднее   \n",
       "29                   0           2194          63            среднее   \n",
       "\n",
       "    level_of_education_id          family_status  family_status_id gender  \\\n",
       "24                      1  не женат / не замужем                 4      F   \n",
       "29                      1  не женат / не замужем                 4      F   \n",
       "\n",
       "   type_of_employment  debt  monthly_income  \\\n",
       "24          пенсионер     0          290547   \n",
       "29          пенсионер     0          118514   \n",
       "\n",
       "                           credit_purpose  \n",
       "24  операции с коммерческой недвижимостью  \n",
       "29       строительство жилой недвижимости  "
      ]
     },
     "metadata": {},
     "output_type": "display_data"
    }
   ],
   "source": [
    "display(len(main_dataset['family_status'].unique())) #кол-во уникальных значений для семьи\n",
    "display(len(main_dataset['family_status_id'].unique())) #кол-во уникальных значений для id в семье\n",
    "display(main_dataset.loc[main_dataset['family_status_id'] == 0].head(2))\n",
    "display(main_dataset.loc[main_dataset['family_status_id'] == 1].head(2))\n",
    "display(main_dataset.loc[main_dataset['family_status_id'] == 2].head(2))\n",
    "display(main_dataset.loc[main_dataset['family_status_id'] == 3].head(2))\n",
    "display(main_dataset.loc[main_dataset['family_status_id'] == 4].head(2))"
   ]
  },
  {
   "cell_type": "code",
   "execution_count": 42,
   "id": "0a4b8e3e",
   "metadata": {},
   "outputs": [
    {
     "data": {
      "text/plain": [
       "{'женат / замужем': 0,\n",
       " 'гражданский брак': 1,\n",
       " 'вдовец / вдова': 2,\n",
       " 'в разводе': 3,\n",
       " 'не женат / не замужем': 4}"
      ]
     },
     "metadata": {},
     "output_type": "display_data"
    }
   ],
   "source": [
    "vocabulary_family = { \n",
    "    'женат / замужем': 0,\n",
    "    'гражданский брак': 1, \n",
    "    'вдовец / вдова': 2,\n",
    "    'в разводе': 3,\n",
    "    'не женат / не замужем': 4\n",
    "}\n",
    "display(vocabulary_family)"
   ]
  },
  {
   "cell_type": "markdown",
   "id": "2762e421",
   "metadata": {},
   "source": [
    "### Шаг 2.6. Категоризация дохода."
   ]
  },
  {
   "cell_type": "code",
   "execution_count": 43,
   "id": "d70fad1a",
   "metadata": {},
   "outputs": [
    {
     "data": {
      "text/plain": [
       "C    16032\n",
       "B     5042\n",
       "D      350\n",
       "A       25\n",
       "E       22\n",
       "Name: total_income_category, dtype: int64"
      ]
     },
     "metadata": {},
     "output_type": "display_data"
    },
    {
     "data": {
      "text/plain": [
       "0"
      ]
     },
     "metadata": {},
     "output_type": "display_data"
    },
    {
     "data": {
      "text/html": [
       "<div>\n",
       "<style scoped>\n",
       "    .dataframe tbody tr th:only-of-type {\n",
       "        vertical-align: middle;\n",
       "    }\n",
       "\n",
       "    .dataframe tbody tr th {\n",
       "        vertical-align: top;\n",
       "    }\n",
       "\n",
       "    .dataframe thead th {\n",
       "        text-align: right;\n",
       "    }\n",
       "</style>\n",
       "<table border=\"1\" class=\"dataframe\">\n",
       "  <thead>\n",
       "    <tr style=\"text-align: right;\">\n",
       "      <th></th>\n",
       "      <th>number_of_children</th>\n",
       "      <th>days_employed</th>\n",
       "      <th>client_age</th>\n",
       "      <th>level_of_education</th>\n",
       "      <th>level_of_education_id</th>\n",
       "      <th>family_status</th>\n",
       "      <th>family_status_id</th>\n",
       "      <th>gender</th>\n",
       "      <th>type_of_employment</th>\n",
       "      <th>debt</th>\n",
       "      <th>monthly_income</th>\n",
       "      <th>credit_purpose</th>\n",
       "      <th>total_income_category</th>\n",
       "    </tr>\n",
       "  </thead>\n",
       "  <tbody>\n",
       "    <tr>\n",
       "      <th>0</th>\n",
       "      <td>1</td>\n",
       "      <td>8437</td>\n",
       "      <td>42</td>\n",
       "      <td>высшее</td>\n",
       "      <td>0</td>\n",
       "      <td>женат / замужем</td>\n",
       "      <td>0</td>\n",
       "      <td>F</td>\n",
       "      <td>сотрудник</td>\n",
       "      <td>0</td>\n",
       "      <td>253875</td>\n",
       "      <td>покупка жилья</td>\n",
       "      <td>B</td>\n",
       "    </tr>\n",
       "    <tr>\n",
       "      <th>1</th>\n",
       "      <td>1</td>\n",
       "      <td>4024</td>\n",
       "      <td>36</td>\n",
       "      <td>среднее</td>\n",
       "      <td>1</td>\n",
       "      <td>женат / замужем</td>\n",
       "      <td>0</td>\n",
       "      <td>F</td>\n",
       "      <td>сотрудник</td>\n",
       "      <td>0</td>\n",
       "      <td>112080</td>\n",
       "      <td>приобретение автомобиля</td>\n",
       "      <td>C</td>\n",
       "    </tr>\n",
       "    <tr>\n",
       "      <th>2</th>\n",
       "      <td>0</td>\n",
       "      <td>5623</td>\n",
       "      <td>33</td>\n",
       "      <td>среднее</td>\n",
       "      <td>1</td>\n",
       "      <td>женат / замужем</td>\n",
       "      <td>0</td>\n",
       "      <td>M</td>\n",
       "      <td>сотрудник</td>\n",
       "      <td>0</td>\n",
       "      <td>145885</td>\n",
       "      <td>покупка жилья</td>\n",
       "      <td>C</td>\n",
       "    </tr>\n",
       "    <tr>\n",
       "      <th>3</th>\n",
       "      <td>3</td>\n",
       "      <td>4124</td>\n",
       "      <td>32</td>\n",
       "      <td>среднее</td>\n",
       "      <td>1</td>\n",
       "      <td>женат / замужем</td>\n",
       "      <td>0</td>\n",
       "      <td>M</td>\n",
       "      <td>сотрудник</td>\n",
       "      <td>0</td>\n",
       "      <td>267628</td>\n",
       "      <td>дополнительное образование</td>\n",
       "      <td>B</td>\n",
       "    </tr>\n",
       "    <tr>\n",
       "      <th>4</th>\n",
       "      <td>0</td>\n",
       "      <td>2194</td>\n",
       "      <td>53</td>\n",
       "      <td>среднее</td>\n",
       "      <td>1</td>\n",
       "      <td>гражданский брак</td>\n",
       "      <td>1</td>\n",
       "      <td>F</td>\n",
       "      <td>пенсионер</td>\n",
       "      <td>0</td>\n",
       "      <td>158616</td>\n",
       "      <td>сыграть свадьбу</td>\n",
       "      <td>C</td>\n",
       "    </tr>\n",
       "  </tbody>\n",
       "</table>\n",
       "</div>"
      ],
      "text/plain": [
       "   number_of_children  days_employed  client_age level_of_education  \\\n",
       "0                   1           8437          42             высшее   \n",
       "1                   1           4024          36            среднее   \n",
       "2                   0           5623          33            среднее   \n",
       "3                   3           4124          32            среднее   \n",
       "4                   0           2194          53            среднее   \n",
       "\n",
       "   level_of_education_id     family_status  family_status_id gender  \\\n",
       "0                      0   женат / замужем                 0      F   \n",
       "1                      1   женат / замужем                 0      F   \n",
       "2                      1   женат / замужем                 0      M   \n",
       "3                      1   женат / замужем                 0      M   \n",
       "4                      1  гражданский брак                 1      F   \n",
       "\n",
       "  type_of_employment  debt  monthly_income              credit_purpose  \\\n",
       "0          сотрудник     0          253875               покупка жилья   \n",
       "1          сотрудник     0          112080     приобретение автомобиля   \n",
       "2          сотрудник     0          145885               покупка жилья   \n",
       "3          сотрудник     0          267628  дополнительное образование   \n",
       "4          пенсионер     0          158616             сыграть свадьбу   \n",
       "\n",
       "  total_income_category  \n",
       "0                     B  \n",
       "1                     C  \n",
       "2                     C  \n",
       "3                     B  \n",
       "4                     C  "
      ]
     },
     "execution_count": 43,
     "metadata": {},
     "output_type": "execute_result"
    }
   ],
   "source": [
    "def category_income(monthly_income): #функция для категоризации доходов\n",
    "    if monthly_income >= 0 and monthly_income <= 30000:\n",
    "        return 'E'\n",
    "    if monthly_income >= 30001 and monthly_income <= 50000:\n",
    "        return 'D'\n",
    "    if monthly_income >= 50001 and monthly_income <= 200000:\n",
    "        return 'C'\n",
    "    if monthly_income >= 200001 and monthly_income <= 1000000:\n",
    "        return 'B'\n",
    "    if monthly_income >= 1000001:\n",
    "        return 'A'\n",
    "    \n",
    "    \n",
    "main_dataset['total_income_category'] = main_dataset['monthly_income'].apply(category_income)\n",
    "display(main_dataset['total_income_category'].value_counts()) #кол-во различных целей на кредит\n",
    "display(main_dataset['total_income_category'].isna().sum()) #кол-во пропусков в новом столбце\n",
    "main_dataset.head()"
   ]
  },
  {
   "cell_type": "markdown",
   "id": "49a7025f",
   "metadata": {},
   "source": [
    "### Шаг 2.7. Категоризация целей кредита."
   ]
  },
  {
   "cell_type": "code",
   "execution_count": 44,
   "id": "585691bb",
   "metadata": {
    "scrolled": false
   },
   "outputs": [
    {
     "data": {
      "text/plain": [
       "операции с недвижимостью    10814\n",
       "операции с автомобилем       4308\n",
       "получение образования        4014\n",
       "проведение свадьбы           2335\n",
       "Name: purpose_category, dtype: int64"
      ]
     },
     "metadata": {},
     "output_type": "display_data"
    },
    {
     "data": {
      "text/plain": [
       "0"
      ]
     },
     "metadata": {},
     "output_type": "display_data"
    },
    {
     "data": {
      "text/html": [
       "<div>\n",
       "<style scoped>\n",
       "    .dataframe tbody tr th:only-of-type {\n",
       "        vertical-align: middle;\n",
       "    }\n",
       "\n",
       "    .dataframe tbody tr th {\n",
       "        vertical-align: top;\n",
       "    }\n",
       "\n",
       "    .dataframe thead th {\n",
       "        text-align: right;\n",
       "    }\n",
       "</style>\n",
       "<table border=\"1\" class=\"dataframe\">\n",
       "  <thead>\n",
       "    <tr style=\"text-align: right;\">\n",
       "      <th></th>\n",
       "      <th>number_of_children</th>\n",
       "      <th>days_employed</th>\n",
       "      <th>client_age</th>\n",
       "      <th>level_of_education</th>\n",
       "      <th>level_of_education_id</th>\n",
       "      <th>family_status</th>\n",
       "      <th>family_status_id</th>\n",
       "      <th>gender</th>\n",
       "      <th>type_of_employment</th>\n",
       "      <th>debt</th>\n",
       "      <th>monthly_income</th>\n",
       "      <th>credit_purpose</th>\n",
       "      <th>total_income_category</th>\n",
       "      <th>purpose_category</th>\n",
       "    </tr>\n",
       "  </thead>\n",
       "  <tbody>\n",
       "    <tr>\n",
       "      <th>0</th>\n",
       "      <td>1</td>\n",
       "      <td>8437</td>\n",
       "      <td>42</td>\n",
       "      <td>высшее</td>\n",
       "      <td>0</td>\n",
       "      <td>женат / замужем</td>\n",
       "      <td>0</td>\n",
       "      <td>F</td>\n",
       "      <td>сотрудник</td>\n",
       "      <td>0</td>\n",
       "      <td>253875</td>\n",
       "      <td>покупка жилья</td>\n",
       "      <td>B</td>\n",
       "      <td>операции с недвижимостью</td>\n",
       "    </tr>\n",
       "    <tr>\n",
       "      <th>1</th>\n",
       "      <td>1</td>\n",
       "      <td>4024</td>\n",
       "      <td>36</td>\n",
       "      <td>среднее</td>\n",
       "      <td>1</td>\n",
       "      <td>женат / замужем</td>\n",
       "      <td>0</td>\n",
       "      <td>F</td>\n",
       "      <td>сотрудник</td>\n",
       "      <td>0</td>\n",
       "      <td>112080</td>\n",
       "      <td>приобретение автомобиля</td>\n",
       "      <td>C</td>\n",
       "      <td>операции с автомобилем</td>\n",
       "    </tr>\n",
       "    <tr>\n",
       "      <th>2</th>\n",
       "      <td>0</td>\n",
       "      <td>5623</td>\n",
       "      <td>33</td>\n",
       "      <td>среднее</td>\n",
       "      <td>1</td>\n",
       "      <td>женат / замужем</td>\n",
       "      <td>0</td>\n",
       "      <td>M</td>\n",
       "      <td>сотрудник</td>\n",
       "      <td>0</td>\n",
       "      <td>145885</td>\n",
       "      <td>покупка жилья</td>\n",
       "      <td>C</td>\n",
       "      <td>операции с недвижимостью</td>\n",
       "    </tr>\n",
       "    <tr>\n",
       "      <th>3</th>\n",
       "      <td>3</td>\n",
       "      <td>4124</td>\n",
       "      <td>32</td>\n",
       "      <td>среднее</td>\n",
       "      <td>1</td>\n",
       "      <td>женат / замужем</td>\n",
       "      <td>0</td>\n",
       "      <td>M</td>\n",
       "      <td>сотрудник</td>\n",
       "      <td>0</td>\n",
       "      <td>267628</td>\n",
       "      <td>дополнительное образование</td>\n",
       "      <td>B</td>\n",
       "      <td>получение образования</td>\n",
       "    </tr>\n",
       "    <tr>\n",
       "      <th>4</th>\n",
       "      <td>0</td>\n",
       "      <td>2194</td>\n",
       "      <td>53</td>\n",
       "      <td>среднее</td>\n",
       "      <td>1</td>\n",
       "      <td>гражданский брак</td>\n",
       "      <td>1</td>\n",
       "      <td>F</td>\n",
       "      <td>пенсионер</td>\n",
       "      <td>0</td>\n",
       "      <td>158616</td>\n",
       "      <td>сыграть свадьбу</td>\n",
       "      <td>C</td>\n",
       "      <td>проведение свадьбы</td>\n",
       "    </tr>\n",
       "  </tbody>\n",
       "</table>\n",
       "</div>"
      ],
      "text/plain": [
       "   number_of_children  days_employed  client_age level_of_education  \\\n",
       "0                   1           8437          42             высшее   \n",
       "1                   1           4024          36            среднее   \n",
       "2                   0           5623          33            среднее   \n",
       "3                   3           4124          32            среднее   \n",
       "4                   0           2194          53            среднее   \n",
       "\n",
       "   level_of_education_id     family_status  family_status_id gender  \\\n",
       "0                      0   женат / замужем                 0      F   \n",
       "1                      1   женат / замужем                 0      F   \n",
       "2                      1   женат / замужем                 0      M   \n",
       "3                      1   женат / замужем                 0      M   \n",
       "4                      1  гражданский брак                 1      F   \n",
       "\n",
       "  type_of_employment  debt  monthly_income              credit_purpose  \\\n",
       "0          сотрудник     0          253875               покупка жилья   \n",
       "1          сотрудник     0          112080     приобретение автомобиля   \n",
       "2          сотрудник     0          145885               покупка жилья   \n",
       "3          сотрудник     0          267628  дополнительное образование   \n",
       "4          пенсионер     0          158616             сыграть свадьбу   \n",
       "\n",
       "  total_income_category          purpose_category  \n",
       "0                     B  операции с недвижимостью  \n",
       "1                     C    операции с автомобилем  \n",
       "2                     C  операции с недвижимостью  \n",
       "3                     B     получение образования  \n",
       "4                     C        проведение свадьбы  "
      ]
     },
     "metadata": {},
     "output_type": "display_data"
    }
   ],
   "source": [
    "def category_purpose(i): #функция для категоризации целей\n",
    "    if 'авто' in i:\n",
    "        return 'операции с автомобилем'\n",
    "    elif 'недвиж' in i or 'жиль' in i:\n",
    "        return 'операции с недвижимостью'\n",
    "    elif 'свад' in i:\n",
    "        return 'проведение свадьбы'\n",
    "    elif 'образ' in i:\n",
    "        return 'получение образования'\n",
    "    else:\n",
    "        return 5\n",
    "    \n",
    "main_dataset['purpose_category'] = main_dataset['credit_purpose'].apply(category_purpose)\n",
    "\n",
    "display(main_dataset['purpose_category'].value_counts()) #кол-во различных целей на кредит\n",
    "display(main_dataset['purpose_category'].isna().sum()) #кол-во пропусков в новом столбце \n",
    "display(main_dataset.head())\n"
   ]
  },
  {
   "cell_type": "code",
   "execution_count": 45,
   "id": "ec226cf6",
   "metadata": {},
   "outputs": [
    {
     "data": {
      "text/plain": [
       "0    19730\n",
       "1     1741\n",
       "Name: debt, dtype: int64"
      ]
     },
     "execution_count": 45,
     "metadata": {},
     "output_type": "execute_result"
    }
   ],
   "source": [
    "main_dataset['debt'].value_counts() #кол-во долгов (1)"
   ]
  },
  {
   "cell_type": "code",
   "execution_count": 46,
   "id": "d284b51f",
   "metadata": {},
   "outputs": [
    {
     "data": {
      "text/html": [
       "<div>\n",
       "<style scoped>\n",
       "    .dataframe tbody tr th:only-of-type {\n",
       "        vertical-align: middle;\n",
       "    }\n",
       "\n",
       "    .dataframe tbody tr th {\n",
       "        vertical-align: top;\n",
       "    }\n",
       "\n",
       "    .dataframe thead th {\n",
       "        text-align: right;\n",
       "    }\n",
       "</style>\n",
       "<table border=\"1\" class=\"dataframe\">\n",
       "  <thead>\n",
       "    <tr style=\"text-align: right;\">\n",
       "      <th></th>\n",
       "      <th>number_of_children</th>\n",
       "      <th>days_employed</th>\n",
       "      <th>client_age</th>\n",
       "      <th>level_of_education</th>\n",
       "      <th>level_of_education_id</th>\n",
       "      <th>family_status</th>\n",
       "      <th>family_status_id</th>\n",
       "      <th>gender</th>\n",
       "      <th>type_of_employment</th>\n",
       "      <th>debt</th>\n",
       "      <th>monthly_income</th>\n",
       "      <th>credit_purpose</th>\n",
       "      <th>total_income_category</th>\n",
       "      <th>purpose_category</th>\n",
       "    </tr>\n",
       "  </thead>\n",
       "  <tbody>\n",
       "    <tr>\n",
       "      <th>14</th>\n",
       "      <td>0</td>\n",
       "      <td>1844</td>\n",
       "      <td>56</td>\n",
       "      <td>высшее</td>\n",
       "      <td>0</td>\n",
       "      <td>гражданский брак</td>\n",
       "      <td>1</td>\n",
       "      <td>F</td>\n",
       "      <td>компаньон</td>\n",
       "      <td>1</td>\n",
       "      <td>165127</td>\n",
       "      <td>покупка жилой недвижимости</td>\n",
       "      <td>C</td>\n",
       "      <td>операции с недвижимостью</td>\n",
       "    </tr>\n",
       "    <tr>\n",
       "      <th>32</th>\n",
       "      <td>0</td>\n",
       "      <td>4649</td>\n",
       "      <td>34</td>\n",
       "      <td>среднее</td>\n",
       "      <td>1</td>\n",
       "      <td>гражданский брак</td>\n",
       "      <td>1</td>\n",
       "      <td>F</td>\n",
       "      <td>сотрудник</td>\n",
       "      <td>1</td>\n",
       "      <td>139057</td>\n",
       "      <td>на проведение свадьбы</td>\n",
       "      <td>C</td>\n",
       "      <td>проведение свадьбы</td>\n",
       "    </tr>\n",
       "    <tr>\n",
       "      <th>38</th>\n",
       "      <td>0</td>\n",
       "      <td>597</td>\n",
       "      <td>25</td>\n",
       "      <td>высшее</td>\n",
       "      <td>0</td>\n",
       "      <td>не женат / не замужем</td>\n",
       "      <td>4</td>\n",
       "      <td>M</td>\n",
       "      <td>сотрудник</td>\n",
       "      <td>1</td>\n",
       "      <td>192247</td>\n",
       "      <td>образование</td>\n",
       "      <td>C</td>\n",
       "      <td>получение образования</td>\n",
       "    </tr>\n",
       "    <tr>\n",
       "      <th>55</th>\n",
       "      <td>0</td>\n",
       "      <td>2194</td>\n",
       "      <td>54</td>\n",
       "      <td>среднее</td>\n",
       "      <td>1</td>\n",
       "      <td>гражданский брак</td>\n",
       "      <td>1</td>\n",
       "      <td>F</td>\n",
       "      <td>пенсионер</td>\n",
       "      <td>1</td>\n",
       "      <td>118514</td>\n",
       "      <td>сыграть свадьбу</td>\n",
       "      <td>C</td>\n",
       "      <td>проведение свадьбы</td>\n",
       "    </tr>\n",
       "    <tr>\n",
       "      <th>75</th>\n",
       "      <td>1</td>\n",
       "      <td>2953</td>\n",
       "      <td>38</td>\n",
       "      <td>среднее</td>\n",
       "      <td>1</td>\n",
       "      <td>женат / замужем</td>\n",
       "      <td>0</td>\n",
       "      <td>M</td>\n",
       "      <td>сотрудник</td>\n",
       "      <td>1</td>\n",
       "      <td>81935</td>\n",
       "      <td>операции с недвижимостью</td>\n",
       "      <td>C</td>\n",
       "      <td>операции с недвижимостью</td>\n",
       "    </tr>\n",
       "    <tr>\n",
       "      <th>...</th>\n",
       "      <td>...</td>\n",
       "      <td>...</td>\n",
       "      <td>...</td>\n",
       "      <td>...</td>\n",
       "      <td>...</td>\n",
       "      <td>...</td>\n",
       "      <td>...</td>\n",
       "      <td>...</td>\n",
       "      <td>...</td>\n",
       "      <td>...</td>\n",
       "      <td>...</td>\n",
       "      <td>...</td>\n",
       "      <td>...</td>\n",
       "      <td>...</td>\n",
       "    </tr>\n",
       "    <tr>\n",
       "      <th>21440</th>\n",
       "      <td>0</td>\n",
       "      <td>960</td>\n",
       "      <td>39</td>\n",
       "      <td>среднее</td>\n",
       "      <td>1</td>\n",
       "      <td>гражданский брак</td>\n",
       "      <td>1</td>\n",
       "      <td>M</td>\n",
       "      <td>компаньон</td>\n",
       "      <td>1</td>\n",
       "      <td>176369</td>\n",
       "      <td>дополнительное образование</td>\n",
       "      <td>C</td>\n",
       "      <td>получение образования</td>\n",
       "    </tr>\n",
       "    <tr>\n",
       "      <th>21457</th>\n",
       "      <td>0</td>\n",
       "      <td>612</td>\n",
       "      <td>29</td>\n",
       "      <td>высшее</td>\n",
       "      <td>0</td>\n",
       "      <td>гражданский брак</td>\n",
       "      <td>1</td>\n",
       "      <td>F</td>\n",
       "      <td>сотрудник</td>\n",
       "      <td>1</td>\n",
       "      <td>140068</td>\n",
       "      <td>покупка жилья для сдачи</td>\n",
       "      <td>C</td>\n",
       "      <td>операции с недвижимостью</td>\n",
       "    </tr>\n",
       "    <tr>\n",
       "      <th>21461</th>\n",
       "      <td>1</td>\n",
       "      <td>467</td>\n",
       "      <td>28</td>\n",
       "      <td>среднее</td>\n",
       "      <td>1</td>\n",
       "      <td>женат / замужем</td>\n",
       "      <td>0</td>\n",
       "      <td>F</td>\n",
       "      <td>сотрудник</td>\n",
       "      <td>1</td>\n",
       "      <td>109486</td>\n",
       "      <td>заняться образованием</td>\n",
       "      <td>C</td>\n",
       "      <td>получение образования</td>\n",
       "    </tr>\n",
       "    <tr>\n",
       "      <th>21468</th>\n",
       "      <td>1</td>\n",
       "      <td>2113</td>\n",
       "      <td>38</td>\n",
       "      <td>среднее</td>\n",
       "      <td>1</td>\n",
       "      <td>гражданский брак</td>\n",
       "      <td>1</td>\n",
       "      <td>M</td>\n",
       "      <td>сотрудник</td>\n",
       "      <td>1</td>\n",
       "      <td>89672</td>\n",
       "      <td>недвижимость</td>\n",
       "      <td>C</td>\n",
       "      <td>операции с недвижимостью</td>\n",
       "    </tr>\n",
       "    <tr>\n",
       "      <th>21469</th>\n",
       "      <td>3</td>\n",
       "      <td>3112</td>\n",
       "      <td>38</td>\n",
       "      <td>среднее</td>\n",
       "      <td>1</td>\n",
       "      <td>женат / замужем</td>\n",
       "      <td>0</td>\n",
       "      <td>M</td>\n",
       "      <td>сотрудник</td>\n",
       "      <td>1</td>\n",
       "      <td>244093</td>\n",
       "      <td>на покупку своего автомобиля</td>\n",
       "      <td>B</td>\n",
       "      <td>операции с автомобилем</td>\n",
       "    </tr>\n",
       "  </tbody>\n",
       "</table>\n",
       "<p>1741 rows × 14 columns</p>\n",
       "</div>"
      ],
      "text/plain": [
       "       number_of_children  days_employed  client_age level_of_education  \\\n",
       "14                      0           1844          56             высшее   \n",
       "32                      0           4649          34            среднее   \n",
       "38                      0            597          25             высшее   \n",
       "55                      0           2194          54            среднее   \n",
       "75                      1           2953          38            среднее   \n",
       "...                   ...            ...         ...                ...   \n",
       "21440                   0            960          39            среднее   \n",
       "21457                   0            612          29             высшее   \n",
       "21461                   1            467          28            среднее   \n",
       "21468                   1           2113          38            среднее   \n",
       "21469                   3           3112          38            среднее   \n",
       "\n",
       "       level_of_education_id          family_status  family_status_id gender  \\\n",
       "14                         0       гражданский брак                 1      F   \n",
       "32                         1       гражданский брак                 1      F   \n",
       "38                         0  не женат / не замужем                 4      M   \n",
       "55                         1       гражданский брак                 1      F   \n",
       "75                         1        женат / замужем                 0      M   \n",
       "...                      ...                    ...               ...    ...   \n",
       "21440                      1       гражданский брак                 1      M   \n",
       "21457                      0       гражданский брак                 1      F   \n",
       "21461                      1        женат / замужем                 0      F   \n",
       "21468                      1       гражданский брак                 1      M   \n",
       "21469                      1        женат / замужем                 0      M   \n",
       "\n",
       "      type_of_employment  debt  monthly_income                credit_purpose  \\\n",
       "14             компаньон     1          165127    покупка жилой недвижимости   \n",
       "32             сотрудник     1          139057         на проведение свадьбы   \n",
       "38             сотрудник     1          192247                   образование   \n",
       "55             пенсионер     1          118514               сыграть свадьбу   \n",
       "75             сотрудник     1           81935      операции с недвижимостью   \n",
       "...                  ...   ...             ...                           ...   \n",
       "21440          компаньон     1          176369    дополнительное образование   \n",
       "21457          сотрудник     1          140068       покупка жилья для сдачи   \n",
       "21461          сотрудник     1          109486         заняться образованием   \n",
       "21468          сотрудник     1           89672                  недвижимость   \n",
       "21469          сотрудник     1          244093  на покупку своего автомобиля   \n",
       "\n",
       "      total_income_category          purpose_category  \n",
       "14                        C  операции с недвижимостью  \n",
       "32                        C        проведение свадьбы  \n",
       "38                        C     получение образования  \n",
       "55                        C        проведение свадьбы  \n",
       "75                        C  операции с недвижимостью  \n",
       "...                     ...                       ...  \n",
       "21440                     C     получение образования  \n",
       "21457                     C  операции с недвижимостью  \n",
       "21461                     C     получение образования  \n",
       "21468                     C  операции с недвижимостью  \n",
       "21469                     B    операции с автомобилем  \n",
       "\n",
       "[1741 rows x 14 columns]"
      ]
     },
     "execution_count": 46,
     "metadata": {},
     "output_type": "execute_result"
    }
   ],
   "source": [
    "main_dataset.query('debt == 1')"
   ]
  },
  {
   "cell_type": "markdown",
   "id": "5e430f13",
   "metadata": {},
   "source": [
    "### Ответы на вопросы."
   ]
  },
  {
   "cell_type": "markdown",
   "id": "7bcc9f5f",
   "metadata": {},
   "source": [
    "##### Вопрос 1:"
   ]
  },
  {
   "cell_type": "markdown",
   "id": "04461600",
   "metadata": {},
   "source": [
    "**Есть ли зависимость между количеством детей и возвратом кредита в срок?**"
   ]
  },
  {
   "cell_type": "code",
   "execution_count": 47,
   "id": "db09bb75",
   "metadata": {},
   "outputs": [
    {
     "data": {
      "text/html": [
       "<div>\n",
       "<style scoped>\n",
       "    .dataframe tbody tr th:only-of-type {\n",
       "        vertical-align: middle;\n",
       "    }\n",
       "\n",
       "    .dataframe tbody tr th {\n",
       "        vertical-align: top;\n",
       "    }\n",
       "\n",
       "    .dataframe thead th {\n",
       "        text-align: right;\n",
       "    }\n",
       "</style>\n",
       "<table border=\"1\" class=\"dataframe\">\n",
       "  <thead>\n",
       "    <tr style=\"text-align: right;\">\n",
       "      <th></th>\n",
       "      <th>debt</th>\n",
       "      <th>count_family</th>\n",
       "      <th>ratio_debt</th>\n",
       "    </tr>\n",
       "    <tr>\n",
       "      <th>number_of_children</th>\n",
       "      <th></th>\n",
       "      <th></th>\n",
       "      <th></th>\n",
       "    </tr>\n",
       "  </thead>\n",
       "  <tbody>\n",
       "    <tr>\n",
       "      <th>5</th>\n",
       "      <td>0</td>\n",
       "      <td>9</td>\n",
       "      <td>0.0</td>\n",
       "    </tr>\n",
       "    <tr>\n",
       "      <th>0</th>\n",
       "      <td>1063</td>\n",
       "      <td>14107</td>\n",
       "      <td>7.5</td>\n",
       "    </tr>\n",
       "    <tr>\n",
       "      <th>3</th>\n",
       "      <td>27</td>\n",
       "      <td>330</td>\n",
       "      <td>8.2</td>\n",
       "    </tr>\n",
       "    <tr>\n",
       "      <th>1</th>\n",
       "      <td>445</td>\n",
       "      <td>4856</td>\n",
       "      <td>9.2</td>\n",
       "    </tr>\n",
       "    <tr>\n",
       "      <th>2</th>\n",
       "      <td>202</td>\n",
       "      <td>2128</td>\n",
       "      <td>9.5</td>\n",
       "    </tr>\n",
       "    <tr>\n",
       "      <th>4</th>\n",
       "      <td>4</td>\n",
       "      <td>41</td>\n",
       "      <td>9.8</td>\n",
       "    </tr>\n",
       "  </tbody>\n",
       "</table>\n",
       "</div>"
      ],
      "text/plain": [
       "                    debt  count_family  ratio_debt\n",
       "number_of_children                                \n",
       "5                      0             9         0.0\n",
       "0                   1063         14107         7.5\n",
       "3                     27           330         8.2\n",
       "1                    445          4856         9.2\n",
       "2                    202          2128         9.5\n",
       "4                      4            41         9.8"
      ]
     },
     "metadata": {},
     "output_type": "display_data"
    }
   ],
   "source": [
    "ratio_debt = main_dataset.pivot_table(index = ['number_of_children'], values='debt', aggfunc = ('sum'))\n",
    "ratio_debt['count_family'] = main_dataset.groupby('number_of_children')['debt'].count()\n",
    "ratio_debt['ratio_debt'] = ratio_debt['debt'] / ratio_debt['count_family'] *100\n",
    "\n",
    "display(ratio_debt.sort_values('ratio_debt', ascending = True))\n"
   ]
  },
  {
   "cell_type": "markdown",
   "id": "b5b45665",
   "metadata": {},
   "source": [
    "##### Вывод 1:"
   ]
  },
  {
   "cell_type": "markdown",
   "id": "650905d9",
   "metadata": {},
   "source": [
    "На данной таблице видно, что наличие детей влияет на количество возвращенных вовремя долгов. Семьи, имеющие 1,2,3,4 ребенка и не имеющие в принципе имеют разный процент просроченных платежей (варьируется от 7,5 до 9,8 процентов), это может показаться небольшой разниицей, но в данной ситуации это огромная разница, так как уровень долговой нагрузи населения России перед банками составляют аж 23'900'000'000'000 рублей, это значит, что малый процент может составлять большие суммы. Исключение составляют семьи с 5 детьми, но по ним имеется слишком мало информации, поэтому по ним следует иметь большее кол-во данных, чтобы говорить о серьезных выводах. "
   ]
  },
  {
   "cell_type": "markdown",
   "id": "720e08a7",
   "metadata": {},
   "source": [
    "##### Вопрос 2:"
   ]
  },
  {
   "cell_type": "markdown",
   "id": "a4b86866",
   "metadata": {},
   "source": [
    "**Есть ли зависимость между семейным положением и возвратом кредита в срок?**"
   ]
  },
  {
   "cell_type": "code",
   "execution_count": 48,
   "id": "c8a044de",
   "metadata": {},
   "outputs": [
    {
     "data": {
      "text/html": [
       "<div>\n",
       "<style scoped>\n",
       "    .dataframe tbody tr th:only-of-type {\n",
       "        vertical-align: middle;\n",
       "    }\n",
       "\n",
       "    .dataframe tbody tr th {\n",
       "        vertical-align: top;\n",
       "    }\n",
       "\n",
       "    .dataframe thead th {\n",
       "        text-align: right;\n",
       "    }\n",
       "</style>\n",
       "<table border=\"1\" class=\"dataframe\">\n",
       "  <thead>\n",
       "    <tr style=\"text-align: right;\">\n",
       "      <th></th>\n",
       "      <th>debt</th>\n",
       "      <th>count_family</th>\n",
       "      <th>ratio_debt</th>\n",
       "    </tr>\n",
       "    <tr>\n",
       "      <th>family_status</th>\n",
       "      <th></th>\n",
       "      <th></th>\n",
       "      <th></th>\n",
       "    </tr>\n",
       "  </thead>\n",
       "  <tbody>\n",
       "    <tr>\n",
       "      <th>вдовец / вдова</th>\n",
       "      <td>63</td>\n",
       "      <td>959</td>\n",
       "      <td>6.6</td>\n",
       "    </tr>\n",
       "    <tr>\n",
       "      <th>в разводе</th>\n",
       "      <td>85</td>\n",
       "      <td>1195</td>\n",
       "      <td>7.1</td>\n",
       "    </tr>\n",
       "    <tr>\n",
       "      <th>женат / замужем</th>\n",
       "      <td>931</td>\n",
       "      <td>12344</td>\n",
       "      <td>7.5</td>\n",
       "    </tr>\n",
       "    <tr>\n",
       "      <th>гражданский брак</th>\n",
       "      <td>388</td>\n",
       "      <td>4163</td>\n",
       "      <td>9.3</td>\n",
       "    </tr>\n",
       "    <tr>\n",
       "      <th>не женат / не замужем</th>\n",
       "      <td>274</td>\n",
       "      <td>2810</td>\n",
       "      <td>9.8</td>\n",
       "    </tr>\n",
       "  </tbody>\n",
       "</table>\n",
       "</div>"
      ],
      "text/plain": [
       "                       debt  count_family  ratio_debt\n",
       "family_status                                        \n",
       "вдовец / вдова           63           959         6.6\n",
       "в разводе                85          1195         7.1\n",
       "женат / замужем         931         12344         7.5\n",
       "гражданский брак        388          4163         9.3\n",
       "не женат / не замужем   274          2810         9.8"
      ]
     },
     "metadata": {},
     "output_type": "display_data"
    }
   ],
   "source": [
    "ratio_family = main_dataset.pivot_table(index = ['family_status'], values='debt', aggfunc = ('sum'))\n",
    "ratio_family['count_family'] = main_dataset.groupby('family_status')['debt'].count()\n",
    "ratio_family['ratio_debt'] = ratio_family['debt'] / ratio_family['count_family'] *100\n",
    "\n",
    "display(ratio_family.sort_values('ratio_debt', ascending = True))\n"
   ]
  },
  {
   "cell_type": "markdown",
   "id": "df321d4c",
   "metadata": {},
   "source": [
    "##### Вывод 2:"
   ]
  },
  {
   "cell_type": "markdown",
   "id": "ba4cf884",
   "metadata": {},
   "source": [
    "С помощью данной таблицы можно сделать выводы, что семейное положение сильно влияет на возврат кредита в срок. Процент просроченных кредитов варьируются от 6,6% до 9,8%. \n",
    "Люди потерявшие мужа/жену имеют самый низкий процент долгов из всех респондентов, что составляет 6,6%. Можно выдвинуть гипотезу о том, что люди потерявшие жену/мужа имеют наследство от второй половинки, поэтому они чаще других возвращают кредит вовремя. \n",
    "Люди живущие в разводе не отдают кредит вовремя в 7,1% случаях. \n",
    "Большое количество просроченных долгов имеют люди в браке, или те, кто живет гражданским браком. Возможно, это обусловлено тем, что в данном случае люди имеют общий бюджет, поэтому одному из представителей брака сложнее отдать долг вовремя.\n",
    "Самый большой процент просроченных оплат (9,8%) имеют неженатые люди. Возможно это люди, которые еще не готовы к семейной и ответсвенной жизни, именно поэтому они так халатно относятся к возврату кредитов вовремя.     "
   ]
  },
  {
   "cell_type": "markdown",
   "id": "fd2fcb92",
   "metadata": {},
   "source": [
    "##### Вопрос 3:"
   ]
  },
  {
   "cell_type": "markdown",
   "id": "0c815428",
   "metadata": {},
   "source": [
    "**Есть ли зависимость между уровнем дохода и возвратом кредита в срок?**"
   ]
  },
  {
   "cell_type": "code",
   "execution_count": 49,
   "id": "9d94cb48",
   "metadata": {},
   "outputs": [
    {
     "data": {
      "text/html": [
       "<div>\n",
       "<style scoped>\n",
       "    .dataframe tbody tr th:only-of-type {\n",
       "        vertical-align: middle;\n",
       "    }\n",
       "\n",
       "    .dataframe tbody tr th {\n",
       "        vertical-align: top;\n",
       "    }\n",
       "\n",
       "    .dataframe thead th {\n",
       "        text-align: right;\n",
       "    }\n",
       "</style>\n",
       "<table border=\"1\" class=\"dataframe\">\n",
       "  <thead>\n",
       "    <tr style=\"text-align: right;\">\n",
       "      <th></th>\n",
       "      <th>debt</th>\n",
       "      <th>count_people</th>\n",
       "      <th>ratio_debt</th>\n",
       "    </tr>\n",
       "    <tr>\n",
       "      <th>total_income_category</th>\n",
       "      <th></th>\n",
       "      <th></th>\n",
       "      <th></th>\n",
       "    </tr>\n",
       "  </thead>\n",
       "  <tbody>\n",
       "    <tr>\n",
       "      <th>D</th>\n",
       "      <td>21</td>\n",
       "      <td>350</td>\n",
       "      <td>6.0</td>\n",
       "    </tr>\n",
       "    <tr>\n",
       "      <th>B</th>\n",
       "      <td>356</td>\n",
       "      <td>5042</td>\n",
       "      <td>7.1</td>\n",
       "    </tr>\n",
       "    <tr>\n",
       "      <th>A</th>\n",
       "      <td>2</td>\n",
       "      <td>25</td>\n",
       "      <td>8.0</td>\n",
       "    </tr>\n",
       "    <tr>\n",
       "      <th>C</th>\n",
       "      <td>1360</td>\n",
       "      <td>16032</td>\n",
       "      <td>8.5</td>\n",
       "    </tr>\n",
       "    <tr>\n",
       "      <th>E</th>\n",
       "      <td>2</td>\n",
       "      <td>22</td>\n",
       "      <td>9.1</td>\n",
       "    </tr>\n",
       "  </tbody>\n",
       "</table>\n",
       "</div>"
      ],
      "text/plain": [
       "                       debt  count_people  ratio_debt\n",
       "total_income_category                                \n",
       "D                        21           350         6.0\n",
       "B                       356          5042         7.1\n",
       "A                         2            25         8.0\n",
       "C                      1360         16032         8.5\n",
       "E                         2            22         9.1"
      ]
     },
     "metadata": {},
     "output_type": "display_data"
    },
    {
     "data": {
      "text/plain": [
       "\"Доход 0–30000 — 'E'\""
      ]
     },
     "metadata": {},
     "output_type": "display_data"
    },
    {
     "data": {
      "text/plain": [
       "\"Доход 30001–50000 — 'D'\""
      ]
     },
     "metadata": {},
     "output_type": "display_data"
    },
    {
     "data": {
      "text/plain": [
       "\"Доход 50001–200000 — 'C'\""
      ]
     },
     "metadata": {},
     "output_type": "display_data"
    },
    {
     "data": {
      "text/plain": [
       "\"Доход 200001–1000000 — 'B'\""
      ]
     },
     "metadata": {},
     "output_type": "display_data"
    },
    {
     "data": {
      "text/plain": [
       "\"Доход 1000001 и выше — 'A'\""
      ]
     },
     "metadata": {},
     "output_type": "display_data"
    }
   ],
   "source": [
    "ratio_income = main_dataset.pivot_table(index = 'total_income_category', values='debt', aggfunc = ('sum'))\n",
    "ratio_income['count_people'] = main_dataset.groupby('total_income_category')['debt'].count()\n",
    "ratio_income['ratio_debt'] = ratio_income['debt'] / ratio_income['count_people'] *100\n",
    "\n",
    "display(ratio_income.sort_values('ratio_debt', ascending = True))\n",
    "display(\"Доход 0–30000 — 'E'\",\n",
    "        \"Доход 30001–50000 — 'D'\",\n",
    "        \"Доход 50001–200000 — 'C'\",\n",
    "        \"Доход 200001–1000000 — 'B'\",\n",
    "        \"Доход 1000001 и выше — 'A'\")"
   ]
  },
  {
   "cell_type": "markdown",
   "id": "ba32d510",
   "metadata": {},
   "source": [
    "##### Вывод 3:"
   ]
  },
  {
   "cell_type": "markdown",
   "id": "785df323",
   "metadata": {},
   "source": [
    "Данная таблица говорит о том, что уровень дохода влияет на количество неуплаченных кредитов в срок. Однако не стоит серьезно воспринимать людей, имеющих доход меньше 30'000 и больше 1'000'000, так как такое кол-во респондентов слишком малое для серьезных выводов. Чаще отдают кредит в срок люди, имеющие доход категории D (всего 6% просроченных кредитов). \n",
    "Чаще всего люди имеют долги, если их доход составляет от 50 тыс. до 200 тыс. рублей (8,5% просроченных кредитов)."
   ]
  },
  {
   "cell_type": "markdown",
   "id": "c56c882f",
   "metadata": {},
   "source": [
    "##### Вопрос 4:"
   ]
  },
  {
   "cell_type": "markdown",
   "id": "7a214631",
   "metadata": {},
   "source": [
    "**Как разные цели кредита влияют на его возврат в срок?**"
   ]
  },
  {
   "cell_type": "code",
   "execution_count": 50,
   "id": "37aec0e8",
   "metadata": {},
   "outputs": [
    {
     "data": {
      "text/html": [
       "<div>\n",
       "<style scoped>\n",
       "    .dataframe tbody tr th:only-of-type {\n",
       "        vertical-align: middle;\n",
       "    }\n",
       "\n",
       "    .dataframe tbody tr th {\n",
       "        vertical-align: top;\n",
       "    }\n",
       "\n",
       "    .dataframe thead th {\n",
       "        text-align: right;\n",
       "    }\n",
       "</style>\n",
       "<table border=\"1\" class=\"dataframe\">\n",
       "  <thead>\n",
       "    <tr style=\"text-align: right;\">\n",
       "      <th></th>\n",
       "      <th>debt</th>\n",
       "      <th>count_people</th>\n",
       "      <th>ratio_debt</th>\n",
       "    </tr>\n",
       "    <tr>\n",
       "      <th>purpose_category</th>\n",
       "      <th></th>\n",
       "      <th></th>\n",
       "      <th></th>\n",
       "    </tr>\n",
       "  </thead>\n",
       "  <tbody>\n",
       "    <tr>\n",
       "      <th>операции с недвижимостью</th>\n",
       "      <td>782</td>\n",
       "      <td>10814</td>\n",
       "      <td>7.2</td>\n",
       "    </tr>\n",
       "    <tr>\n",
       "      <th>проведение свадьбы</th>\n",
       "      <td>186</td>\n",
       "      <td>2335</td>\n",
       "      <td>8.0</td>\n",
       "    </tr>\n",
       "    <tr>\n",
       "      <th>получение образования</th>\n",
       "      <td>370</td>\n",
       "      <td>4014</td>\n",
       "      <td>9.2</td>\n",
       "    </tr>\n",
       "    <tr>\n",
       "      <th>операции с автомобилем</th>\n",
       "      <td>403</td>\n",
       "      <td>4308</td>\n",
       "      <td>9.4</td>\n",
       "    </tr>\n",
       "  </tbody>\n",
       "</table>\n",
       "</div>"
      ],
      "text/plain": [
       "                          debt  count_people  ratio_debt\n",
       "purpose_category                                        \n",
       "операции с недвижимостью   782         10814         7.2\n",
       "проведение свадьбы         186          2335         8.0\n",
       "получение образования      370          4014         9.2\n",
       "операции с автомобилем     403          4308         9.4"
      ]
     },
     "metadata": {},
     "output_type": "display_data"
    }
   ],
   "source": [
    "ratio_purpose = main_dataset.pivot_table(index = 'purpose_category', values='debt', aggfunc = ('sum'))\n",
    "ratio_purpose['count_people'] = main_dataset.groupby('purpose_category')['debt'].count()\n",
    "ratio_purpose['ratio_debt'] = ratio_purpose['debt'] / ratio_purpose['count_people'] *100\n",
    "\n",
    "display(ratio_purpose.sort_values('ratio_debt', ascending = True))"
   ]
  },
  {
   "cell_type": "markdown",
   "id": "b334d90e",
   "metadata": {},
   "source": [
    "##### Вывод 4:"
   ]
  },
  {
   "cell_type": "markdown",
   "id": "bca6f270",
   "metadata": {},
   "source": [
    "На данной таблице видно, что цель кредита влияет на возврат кредита в срок. Меньше всего задолженностей (7,2%) имеют люди, берущие кредит на операции с недвижимостью. Самый большой процент (9,4%) просроченных кредитов составляют люди, приобретающие кредит на операции с автомобилем. "
   ]
  },
  {
   "cell_type": "markdown",
   "id": "c31229fa",
   "metadata": {},
   "source": [
    "# Общий вывод:"
   ]
  },
  {
   "cell_type": "markdown",
   "id": "9f6058a2",
   "metadata": {},
   "source": [
    "**Ход исследования:**\n",
    "\n",
    "После получения данных от кредитного отдела банка была проведена предобработка данных, включающая в себе переименоание строк, а также исправление значений внутри датасета, к примеру все значения колонки \"уровня образования\" приведену к общему нижнему регистру, в колонке \"цели получения кредита\" значения стали ограничены до 4 типов и т.д. \n",
    "\n",
    "Далее была проведена работа по исправлению и удалению дубликатов. \n",
    "\n",
    "Данные были проверены на аномалии и были исправлены. \n",
    "\n",
    "Создано формирование дополнительных датафреймов словарей и произведена декомпозиция исходного датафрейма.\n",
    "\n",
    "Добвлена категоризация доходов и целей по получению кредита для удобства. "
   ]
  },
  {
   "cell_type": "markdown",
   "id": "17b38756",
   "metadata": {},
   "source": [
    "Написаны ответы на поставленные вопросы:\n",
    "* Есть ли зависимость между количеством детей и возвратом кредита в срок?\n",
    "* Есть ли зависимость между семейным положением и возвратом кредита в срок?\n",
    "* Есть ли зависимость между уровнем дохода и возвратом кредита в срок?\n",
    "* Как разные цели кредита влияют на его возврат в срок?\n"
   ]
  },
  {
   "cell_type": "markdown",
   "id": "8b4ce5f2",
   "metadata": {},
   "source": [
    "**Общий итог**\n",
    "\n",
    "Проведя исследование, можно сделать вывод, что цели кредита, доход людей, количество детей и семейное положение влияют на уровень задолженности по платежам. \n",
    "\n",
    "**Самый большой процент просроченных кредитов имеют:**\n",
    "* люди, у которых 4 ребенка в семье (9,8%)\n",
    "* люди не вышедшие замуж и холостые (9,8%) \n",
    "* люди со средним достатком 50 тыс. - 200 тыс. рублей (8,5%)\n",
    "* люди, берущие кредит на операции с автомобилем (9,4%)\n",
    "\n",
    "**Самый маленький процент просроченных кредитов имеют:**\n",
    "* люди, у которых 0 детей в семье (7,5%)\n",
    "* люди потерявшие жену/мужа (6,6%) \n",
    "* люди со средним достатком 30 тыс. - 50 тыс. рублей (6,0%)\n",
    "* люди, берущие кредит на операции с недвижимостью (7,2%)\n"
   ]
  }
 ],
 "metadata": {
  "ExecuteTimeLog": [
   {
    "duration": 801,
    "start_time": "2022-04-20T14:08:17.694Z"
   },
   {
    "duration": 245,
    "start_time": "2022-04-20T14:11:05.406Z"
   },
   {
    "duration": 140,
    "start_time": "2022-04-20T15:02:26.938Z"
   },
   {
    "duration": 149,
    "start_time": "2022-04-20T15:02:30.778Z"
   },
   {
    "duration": 120,
    "start_time": "2022-04-20T15:03:17.082Z"
   },
   {
    "duration": 124,
    "start_time": "2022-04-20T15:11:29.571Z"
   },
   {
    "duration": 764,
    "start_time": "2022-04-20T15:19:29.674Z"
   },
   {
    "duration": 53,
    "start_time": "2022-04-20T15:21:06.744Z"
   },
   {
    "duration": 703,
    "start_time": "2022-04-20T15:21:13.532Z"
   },
   {
    "duration": 81,
    "start_time": "2022-04-20T15:21:14.238Z"
   },
   {
    "duration": 24,
    "start_time": "2022-04-20T15:21:14.321Z"
   },
   {
    "duration": 26,
    "start_time": "2022-04-20T15:21:37.973Z"
   },
   {
    "duration": 19,
    "start_time": "2022-04-20T15:21:50.818Z"
   },
   {
    "duration": 59,
    "start_time": "2022-04-20T15:37:21.482Z"
   },
   {
    "duration": 117,
    "start_time": "2022-04-20T15:39:12.207Z"
   },
   {
    "duration": 819,
    "start_time": "2022-04-20T15:45:18.086Z"
   },
   {
    "duration": 5,
    "start_time": "2022-04-20T15:45:20.598Z"
   },
   {
    "duration": 4,
    "start_time": "2022-04-20T15:45:27.124Z"
   },
   {
    "duration": 3,
    "start_time": "2022-04-20T15:45:31.516Z"
   },
   {
    "duration": 4,
    "start_time": "2022-04-20T15:45:38.287Z"
   },
   {
    "duration": 528,
    "start_time": "2022-04-20T15:46:41.717Z"
   },
   {
    "duration": 17,
    "start_time": "2022-04-20T15:47:31.356Z"
   },
   {
    "duration": 707,
    "start_time": "2022-04-20T15:47:47.115Z"
   },
   {
    "duration": 39,
    "start_time": "2022-04-20T15:47:47.824Z"
   },
   {
    "duration": 21,
    "start_time": "2022-04-20T15:47:47.866Z"
   },
   {
    "duration": 71,
    "start_time": "2022-04-20T15:47:47.890Z"
   },
   {
    "duration": 940,
    "start_time": "2022-04-20T15:47:47.964Z"
   },
   {
    "duration": 112,
    "start_time": "2022-04-20T15:48:41.610Z"
   },
   {
    "duration": 179,
    "start_time": "2022-04-20T15:49:26.369Z"
   },
   {
    "duration": 231,
    "start_time": "2022-04-20T15:50:05.048Z"
   },
   {
    "duration": 242,
    "start_time": "2022-04-20T15:50:19.138Z"
   },
   {
    "duration": 230,
    "start_time": "2022-04-20T15:50:23.521Z"
   },
   {
    "duration": 252,
    "start_time": "2022-04-20T15:50:45.344Z"
   },
   {
    "duration": 214,
    "start_time": "2022-04-20T15:51:14.368Z"
   },
   {
    "duration": 194,
    "start_time": "2022-04-20T15:52:15.597Z"
   },
   {
    "duration": 185,
    "start_time": "2022-04-20T15:52:27.518Z"
   },
   {
    "duration": 179,
    "start_time": "2022-04-20T15:52:43.839Z"
   },
   {
    "duration": 183,
    "start_time": "2022-04-20T15:53:25.462Z"
   },
   {
    "duration": 164,
    "start_time": "2022-04-20T15:53:37.477Z"
   },
   {
    "duration": 378,
    "start_time": "2022-04-20T15:54:10.820Z"
   },
   {
    "duration": 615,
    "start_time": "2022-04-20T15:54:23.683Z"
   },
   {
    "duration": 578,
    "start_time": "2022-04-20T16:01:41.295Z"
   },
   {
    "duration": 347,
    "start_time": "2022-04-20T16:01:47.272Z"
   },
   {
    "duration": 513,
    "start_time": "2022-04-20T16:01:54.161Z"
   },
   {
    "duration": 1424,
    "start_time": "2022-04-20T16:01:59.376Z"
   },
   {
    "duration": 30,
    "start_time": "2022-04-20T16:06:58.994Z"
   },
   {
    "duration": 40,
    "start_time": "2022-04-20T16:07:45.632Z"
   },
   {
    "duration": 41,
    "start_time": "2022-04-20T16:07:59.461Z"
   },
   {
    "duration": 55,
    "start_time": "2022-04-20T16:08:05.357Z"
   },
   {
    "duration": 28,
    "start_time": "2022-04-20T16:08:36.552Z"
   },
   {
    "duration": 36,
    "start_time": "2022-04-20T16:09:17.108Z"
   },
   {
    "duration": 1410,
    "start_time": "2022-04-20T16:09:53.027Z"
   },
   {
    "duration": 1498,
    "start_time": "2022-04-20T16:10:17.466Z"
   },
   {
    "duration": 1805,
    "start_time": "2022-04-20T16:10:41.798Z"
   },
   {
    "duration": 12,
    "start_time": "2022-04-20T16:12:28.958Z"
   },
   {
    "duration": 9,
    "start_time": "2022-04-20T16:12:44.261Z"
   },
   {
    "duration": 11,
    "start_time": "2022-04-20T16:15:03.005Z"
   },
   {
    "duration": 12,
    "start_time": "2022-04-20T16:15:21.856Z"
   },
   {
    "duration": 12,
    "start_time": "2022-04-20T16:15:39.392Z"
   },
   {
    "duration": 13,
    "start_time": "2022-04-20T16:15:46.832Z"
   },
   {
    "duration": 14,
    "start_time": "2022-04-20T16:16:16.000Z"
   },
   {
    "duration": 26,
    "start_time": "2022-04-20T16:17:55.484Z"
   },
   {
    "duration": 17,
    "start_time": "2022-04-20T16:18:07.742Z"
   },
   {
    "duration": 19,
    "start_time": "2022-04-20T16:18:29.116Z"
   },
   {
    "duration": 34,
    "start_time": "2022-04-20T16:18:59.118Z"
   },
   {
    "duration": 37,
    "start_time": "2022-04-20T16:27:12.186Z"
   },
   {
    "duration": 662,
    "start_time": "2022-04-20T16:27:19.945Z"
   },
   {
    "duration": 54,
    "start_time": "2022-04-20T16:27:20.611Z"
   },
   {
    "duration": 21,
    "start_time": "2022-04-20T16:27:20.668Z"
   },
   {
    "duration": 84,
    "start_time": "2022-04-20T16:27:20.692Z"
   },
   {
    "duration": 34,
    "start_time": "2022-04-20T16:27:20.780Z"
   },
   {
    "duration": 62,
    "start_time": "2022-04-20T16:27:20.817Z"
   },
   {
    "duration": 26,
    "start_time": "2022-04-20T16:29:43.344Z"
   },
   {
    "duration": 105,
    "start_time": "2022-04-20T16:29:52.393Z"
   },
   {
    "duration": 106,
    "start_time": "2022-04-20T16:29:58.425Z"
   },
   {
    "duration": 102,
    "start_time": "2022-04-20T16:30:02.953Z"
   },
   {
    "duration": 29,
    "start_time": "2022-04-20T16:30:12.229Z"
   },
   {
    "duration": 95,
    "start_time": "2022-04-20T16:30:27.030Z"
   },
   {
    "duration": 86,
    "start_time": "2022-04-20T16:30:31.949Z"
   },
   {
    "duration": 38,
    "start_time": "2022-04-20T16:30:36.750Z"
   },
   {
    "duration": 25,
    "start_time": "2022-04-20T16:30:55.071Z"
   },
   {
    "duration": 712,
    "start_time": "2022-04-20T16:32:28.630Z"
   },
   {
    "duration": 32,
    "start_time": "2022-04-20T16:32:29.345Z"
   },
   {
    "duration": 23,
    "start_time": "2022-04-20T16:32:29.380Z"
   },
   {
    "duration": 90,
    "start_time": "2022-04-20T16:32:29.406Z"
   },
   {
    "duration": 28,
    "start_time": "2022-04-20T16:32:29.498Z"
   },
   {
    "duration": 35,
    "start_time": "2022-04-20T16:32:29.551Z"
   },
   {
    "duration": 93,
    "start_time": "2022-04-20T16:34:40.744Z"
   },
   {
    "duration": 116,
    "start_time": "2022-04-20T16:34:51.686Z"
   },
   {
    "duration": 95,
    "start_time": "2022-04-20T16:35:00.853Z"
   },
   {
    "duration": 105,
    "start_time": "2022-04-20T16:35:07.053Z"
   },
   {
    "duration": 95,
    "start_time": "2022-04-20T16:36:36.907Z"
   },
   {
    "duration": 33,
    "start_time": "2022-04-20T16:36:41.633Z"
   },
   {
    "duration": 30,
    "start_time": "2022-04-20T16:37:03.586Z"
   },
   {
    "duration": 32,
    "start_time": "2022-04-20T16:37:09.450Z"
   },
   {
    "duration": 32,
    "start_time": "2022-04-20T16:37:15.850Z"
   },
   {
    "duration": 44,
    "start_time": "2022-04-20T16:37:22.235Z"
   },
   {
    "duration": 45,
    "start_time": "2022-04-20T16:37:28.010Z"
   },
   {
    "duration": 36,
    "start_time": "2022-04-20T16:37:31.705Z"
   },
   {
    "duration": 118,
    "start_time": "2022-04-20T16:38:00.923Z"
   },
   {
    "duration": 98,
    "start_time": "2022-04-20T16:38:22.707Z"
   },
   {
    "duration": 47,
    "start_time": "2022-04-20T16:38:33.792Z"
   },
   {
    "duration": 445,
    "start_time": "2022-04-21T12:07:21.557Z"
   },
   {
    "duration": 19,
    "start_time": "2022-04-21T12:07:22.004Z"
   },
   {
    "duration": 23,
    "start_time": "2022-04-21T12:07:22.024Z"
   },
   {
    "duration": 27,
    "start_time": "2022-04-21T12:07:22.049Z"
   },
   {
    "duration": 16,
    "start_time": "2022-04-21T12:07:22.077Z"
   },
   {
    "duration": 53,
    "start_time": "2022-04-21T12:07:22.095Z"
   },
   {
    "duration": 64,
    "start_time": "2022-04-21T12:12:18.010Z"
   },
   {
    "duration": 4,
    "start_time": "2022-04-21T12:15:17.936Z"
   },
   {
    "duration": 4,
    "start_time": "2022-04-21T12:23:41.370Z"
   },
   {
    "duration": 9,
    "start_time": "2022-04-21T12:23:55.225Z"
   },
   {
    "duration": 7,
    "start_time": "2022-04-21T12:24:20.113Z"
   },
   {
    "duration": 7,
    "start_time": "2022-04-21T12:24:26.007Z"
   },
   {
    "duration": 9,
    "start_time": "2022-04-21T12:25:30.083Z"
   },
   {
    "duration": 6,
    "start_time": "2022-04-21T12:26:26.166Z"
   },
   {
    "duration": 9,
    "start_time": "2022-04-21T12:26:33.372Z"
   },
   {
    "duration": 4,
    "start_time": "2022-04-21T12:30:08.892Z"
   },
   {
    "duration": 11,
    "start_time": "2022-04-21T12:30:17.464Z"
   },
   {
    "duration": 8,
    "start_time": "2022-04-21T12:42:12.605Z"
   },
   {
    "duration": 10,
    "start_time": "2022-04-21T12:42:32.335Z"
   },
   {
    "duration": 12,
    "start_time": "2022-04-21T12:42:40.109Z"
   },
   {
    "duration": 13,
    "start_time": "2022-04-21T12:42:48.263Z"
   },
   {
    "duration": 14,
    "start_time": "2022-04-21T12:43:10.700Z"
   },
   {
    "duration": 439,
    "start_time": "2022-04-21T12:48:51.598Z"
   },
   {
    "duration": 19,
    "start_time": "2022-04-21T12:48:52.039Z"
   },
   {
    "duration": 14,
    "start_time": "2022-04-21T12:48:52.059Z"
   },
   {
    "duration": 30,
    "start_time": "2022-04-21T12:48:52.075Z"
   },
   {
    "duration": 18,
    "start_time": "2022-04-21T12:48:52.106Z"
   },
   {
    "duration": 46,
    "start_time": "2022-04-21T12:48:52.125Z"
   },
   {
    "duration": 8,
    "start_time": "2022-04-21T12:48:52.173Z"
   },
   {
    "duration": 14,
    "start_time": "2022-04-21T12:48:52.182Z"
   },
   {
    "duration": 63,
    "start_time": "2022-04-21T12:48:52.198Z"
   },
   {
    "duration": 12,
    "start_time": "2022-04-21T12:48:52.264Z"
   },
   {
    "duration": 121,
    "start_time": "2022-04-21T12:57:58.523Z"
   },
   {
    "duration": 22,
    "start_time": "2022-04-21T12:58:55.760Z"
   },
   {
    "duration": 32,
    "start_time": "2022-04-21T12:59:16.310Z"
   },
   {
    "duration": 17,
    "start_time": "2022-04-21T12:59:23.921Z"
   },
   {
    "duration": 17,
    "start_time": "2022-04-21T12:59:29.867Z"
   },
   {
    "duration": 2,
    "start_time": "2022-04-21T13:07:38.198Z"
   },
   {
    "duration": 5,
    "start_time": "2022-04-21T13:07:58.051Z"
   },
   {
    "duration": 4,
    "start_time": "2022-04-21T13:09:31.233Z"
   },
   {
    "duration": 5,
    "start_time": "2022-04-21T13:09:39.532Z"
   },
   {
    "duration": 4,
    "start_time": "2022-04-21T13:09:44.305Z"
   },
   {
    "duration": 5,
    "start_time": "2022-04-21T13:09:53.655Z"
   },
   {
    "duration": 139,
    "start_time": "2022-04-21T13:10:04.320Z"
   },
   {
    "duration": 122,
    "start_time": "2022-04-21T13:10:11.912Z"
   },
   {
    "duration": 114,
    "start_time": "2022-04-21T13:10:18.405Z"
   },
   {
    "duration": 4,
    "start_time": "2022-04-21T13:10:21.262Z"
   },
   {
    "duration": 5,
    "start_time": "2022-04-21T13:12:14.457Z"
   },
   {
    "duration": 5,
    "start_time": "2022-04-21T13:12:21.520Z"
   },
   {
    "duration": 601,
    "start_time": "2022-04-21T13:12:35.916Z"
   },
   {
    "duration": 36,
    "start_time": "2022-04-21T13:12:36.520Z"
   },
   {
    "duration": 18,
    "start_time": "2022-04-21T13:12:36.558Z"
   },
   {
    "duration": 53,
    "start_time": "2022-04-21T13:12:36.579Z"
   },
   {
    "duration": 25,
    "start_time": "2022-04-21T13:12:36.648Z"
   },
   {
    "duration": 31,
    "start_time": "2022-04-21T13:12:36.676Z"
   },
   {
    "duration": 41,
    "start_time": "2022-04-21T13:12:36.710Z"
   },
   {
    "duration": 11,
    "start_time": "2022-04-21T13:12:36.753Z"
   },
   {
    "duration": 18,
    "start_time": "2022-04-21T13:12:36.765Z"
   },
   {
    "duration": 5,
    "start_time": "2022-04-21T13:12:36.785Z"
   },
   {
    "duration": 57,
    "start_time": "2022-04-21T13:12:36.792Z"
   },
   {
    "duration": 22,
    "start_time": "2022-04-21T13:12:36.851Z"
   },
   {
    "duration": 17,
    "start_time": "2022-04-21T13:12:36.874Z"
   },
   {
    "duration": 12,
    "start_time": "2022-04-21T13:15:56.203Z"
   },
   {
    "duration": 11,
    "start_time": "2022-04-21T13:16:03.228Z"
   },
   {
    "duration": 18,
    "start_time": "2022-04-21T13:16:15.587Z"
   },
   {
    "duration": 19,
    "start_time": "2022-04-21T13:16:21.465Z"
   },
   {
    "duration": 13,
    "start_time": "2022-04-21T13:17:49.096Z"
   },
   {
    "duration": 11,
    "start_time": "2022-04-21T13:18:24.242Z"
   },
   {
    "duration": 67,
    "start_time": "2022-04-21T13:22:15.789Z"
   },
   {
    "duration": 22,
    "start_time": "2022-04-21T13:22:38.826Z"
   },
   {
    "duration": 20,
    "start_time": "2022-04-21T13:23:54.278Z"
   },
   {
    "duration": 19,
    "start_time": "2022-04-21T13:24:07.255Z"
   },
   {
    "duration": 20,
    "start_time": "2022-04-21T13:25:00.376Z"
   },
   {
    "duration": 14,
    "start_time": "2022-04-21T13:26:09.518Z"
   },
   {
    "duration": 21,
    "start_time": "2022-04-21T13:26:14.772Z"
   },
   {
    "duration": 471,
    "start_time": "2022-04-21T13:29:26.337Z"
   },
   {
    "duration": 18,
    "start_time": "2022-04-21T13:29:26.810Z"
   },
   {
    "duration": 17,
    "start_time": "2022-04-21T13:29:26.830Z"
   },
   {
    "duration": 28,
    "start_time": "2022-04-21T13:29:26.849Z"
   },
   {
    "duration": 16,
    "start_time": "2022-04-21T13:29:26.880Z"
   },
   {
    "duration": 51,
    "start_time": "2022-04-21T13:29:26.898Z"
   },
   {
    "duration": 9,
    "start_time": "2022-04-21T13:29:26.950Z"
   },
   {
    "duration": 10,
    "start_time": "2022-04-21T13:29:26.960Z"
   },
   {
    "duration": 11,
    "start_time": "2022-04-21T13:29:26.972Z"
   },
   {
    "duration": 14,
    "start_time": "2022-04-21T13:29:26.985Z"
   },
   {
    "duration": 5,
    "start_time": "2022-04-21T13:29:27.000Z"
   },
   {
    "duration": 11,
    "start_time": "2022-04-21T13:29:27.047Z"
   },
   {
    "duration": 19,
    "start_time": "2022-04-21T13:29:27.060Z"
   },
   {
    "duration": 16,
    "start_time": "2022-04-21T13:29:27.082Z"
   },
   {
    "duration": 459,
    "start_time": "2022-04-21T13:38:23.291Z"
   },
   {
    "duration": 115,
    "start_time": "2022-04-21T13:38:31.734Z"
   },
   {
    "duration": 102,
    "start_time": "2022-04-21T13:40:31.792Z"
   },
   {
    "duration": 9,
    "start_time": "2022-04-21T13:40:41.616Z"
   },
   {
    "duration": 250,
    "start_time": "2022-04-21T13:41:04.222Z"
   },
   {
    "duration": 288,
    "start_time": "2022-04-21T13:41:54.688Z"
   },
   {
    "duration": 200,
    "start_time": "2022-04-21T13:42:17.487Z"
   },
   {
    "duration": 5594,
    "start_time": "2022-04-21T13:42:23.626Z"
   },
   {
    "duration": 673,
    "start_time": "2022-04-21T13:42:37.341Z"
   },
   {
    "duration": 1108,
    "start_time": "2022-04-21T13:42:44.287Z"
   },
   {
    "duration": 274,
    "start_time": "2022-04-21T13:42:49.759Z"
   },
   {
    "duration": 23,
    "start_time": "2022-04-21T13:50:47.620Z"
   },
   {
    "duration": 10,
    "start_time": "2022-04-21T13:51:13.945Z"
   },
   {
    "duration": 10,
    "start_time": "2022-04-21T13:51:25.780Z"
   },
   {
    "duration": 10,
    "start_time": "2022-04-21T13:51:27.140Z"
   },
   {
    "duration": 14,
    "start_time": "2022-04-21T13:51:38.846Z"
   },
   {
    "duration": 26,
    "start_time": "2022-04-21T13:52:11.243Z"
   },
   {
    "duration": 33,
    "start_time": "2022-04-21T13:52:22.200Z"
   },
   {
    "duration": 7,
    "start_time": "2022-04-21T13:53:00.637Z"
   },
   {
    "duration": 9,
    "start_time": "2022-04-21T13:53:25.413Z"
   },
   {
    "duration": 15,
    "start_time": "2022-04-21T13:54:16.249Z"
   },
   {
    "duration": 17,
    "start_time": "2022-04-21T13:55:35.425Z"
   },
   {
    "duration": 18,
    "start_time": "2022-04-21T13:56:24.987Z"
   },
   {
    "duration": 19,
    "start_time": "2022-04-21T13:56:52.023Z"
   },
   {
    "duration": 290,
    "start_time": "2022-04-21T13:58:10.132Z"
   },
   {
    "duration": 8,
    "start_time": "2022-04-21T13:58:18.534Z"
   },
   {
    "duration": 5,
    "start_time": "2022-04-21T13:59:14.415Z"
   },
   {
    "duration": 4,
    "start_time": "2022-04-21T14:01:46.443Z"
   },
   {
    "duration": 6,
    "start_time": "2022-04-21T14:01:56.070Z"
   },
   {
    "duration": 8,
    "start_time": "2022-04-21T14:02:22.840Z"
   },
   {
    "duration": 502,
    "start_time": "2022-04-21T14:02:30.063Z"
   },
   {
    "duration": 29,
    "start_time": "2022-04-21T14:02:30.567Z"
   },
   {
    "duration": 18,
    "start_time": "2022-04-21T14:02:30.598Z"
   },
   {
    "duration": 67,
    "start_time": "2022-04-21T14:02:30.619Z"
   },
   {
    "duration": 25,
    "start_time": "2022-04-21T14:02:30.688Z"
   },
   {
    "duration": 47,
    "start_time": "2022-04-21T14:02:30.716Z"
   },
   {
    "duration": 11,
    "start_time": "2022-04-21T14:02:30.764Z"
   },
   {
    "duration": 16,
    "start_time": "2022-04-21T14:02:30.777Z"
   },
   {
    "duration": 11,
    "start_time": "2022-04-21T14:02:30.795Z"
   },
   {
    "duration": 52,
    "start_time": "2022-04-21T14:02:30.808Z"
   },
   {
    "duration": 4,
    "start_time": "2022-04-21T14:02:30.862Z"
   },
   {
    "duration": 21,
    "start_time": "2022-04-21T14:02:30.868Z"
   },
   {
    "duration": 33,
    "start_time": "2022-04-21T14:02:30.890Z"
   },
   {
    "duration": 570,
    "start_time": "2022-04-21T14:02:30.925Z"
   },
   {
    "duration": 8,
    "start_time": "2022-04-21T14:02:31.497Z"
   },
   {
    "duration": 21,
    "start_time": "2022-04-21T14:02:31.506Z"
   },
   {
    "duration": 34,
    "start_time": "2022-04-21T14:02:31.529Z"
   },
   {
    "duration": 346,
    "start_time": "2022-04-21T14:02:48.238Z"
   },
   {
    "duration": 114,
    "start_time": "2022-04-21T14:12:47.943Z"
   },
   {
    "duration": 1006,
    "start_time": "2022-04-21T14:13:02.469Z"
   },
   {
    "duration": 4,
    "start_time": "2022-04-21T14:13:42.759Z"
   },
   {
    "duration": 298,
    "start_time": "2022-04-21T14:13:55.741Z"
   },
   {
    "duration": 578,
    "start_time": "2022-04-21T14:14:11.245Z"
   },
   {
    "duration": 17,
    "start_time": "2022-04-21T14:14:11.825Z"
   },
   {
    "duration": 20,
    "start_time": "2022-04-21T14:14:11.847Z"
   },
   {
    "duration": 39,
    "start_time": "2022-04-21T14:14:11.869Z"
   },
   {
    "duration": 15,
    "start_time": "2022-04-21T14:14:11.910Z"
   },
   {
    "duration": 44,
    "start_time": "2022-04-21T14:14:11.926Z"
   },
   {
    "duration": 8,
    "start_time": "2022-04-21T14:14:11.972Z"
   },
   {
    "duration": 16,
    "start_time": "2022-04-21T14:14:11.982Z"
   },
   {
    "duration": 54,
    "start_time": "2022-04-21T14:14:11.999Z"
   },
   {
    "duration": 17,
    "start_time": "2022-04-21T14:14:12.056Z"
   },
   {
    "duration": 6,
    "start_time": "2022-04-21T14:14:12.074Z"
   },
   {
    "duration": 16,
    "start_time": "2022-04-21T14:14:12.081Z"
   },
   {
    "duration": 52,
    "start_time": "2022-04-21T14:14:12.099Z"
   },
   {
    "duration": 573,
    "start_time": "2022-04-21T14:14:12.153Z"
   },
   {
    "duration": 21,
    "start_time": "2022-04-21T14:14:12.728Z"
   },
   {
    "duration": 375,
    "start_time": "2022-04-21T14:14:12.752Z"
   },
   {
    "duration": 307,
    "start_time": "2022-04-21T14:14:13.129Z"
   },
   {
    "duration": 28,
    "start_time": "2022-04-21T14:14:13.438Z"
   },
   {
    "duration": 16,
    "start_time": "2022-04-21T14:14:13.468Z"
   },
   {
    "duration": 307,
    "start_time": "2022-04-21T14:15:05.370Z"
   },
   {
    "duration": 75,
    "start_time": "2022-04-21T14:15:57.698Z"
   },
   {
    "duration": 314,
    "start_time": "2022-04-21T14:16:17.230Z"
   },
   {
    "duration": 400,
    "start_time": "2022-04-21T14:16:43.334Z"
   },
   {
    "duration": 12,
    "start_time": "2022-04-21T14:18:20.382Z"
   },
   {
    "duration": 12,
    "start_time": "2022-04-21T14:18:30.377Z"
   },
   {
    "duration": 12,
    "start_time": "2022-04-21T14:18:48.679Z"
   },
   {
    "duration": 15,
    "start_time": "2022-04-21T14:20:40.829Z"
   },
   {
    "duration": 117,
    "start_time": "2022-04-21T14:21:55.797Z"
   },
   {
    "duration": 14,
    "start_time": "2022-04-21T14:22:07.779Z"
   },
   {
    "duration": 12,
    "start_time": "2022-04-21T14:22:18.993Z"
   },
   {
    "duration": 11,
    "start_time": "2022-04-21T14:22:43.585Z"
   },
   {
    "duration": 11,
    "start_time": "2022-04-21T14:25:04.914Z"
   },
   {
    "duration": 19,
    "start_time": "2022-04-21T14:26:18.038Z"
   },
   {
    "duration": 18,
    "start_time": "2022-04-21T14:26:37.116Z"
   },
   {
    "duration": 6,
    "start_time": "2022-04-21T14:29:37.696Z"
   },
   {
    "duration": 16,
    "start_time": "2022-04-21T14:29:45.340Z"
   },
   {
    "duration": 6,
    "start_time": "2022-04-21T14:30:53.059Z"
   },
   {
    "duration": 21,
    "start_time": "2022-04-21T14:31:10.971Z"
   },
   {
    "duration": 12,
    "start_time": "2022-04-21T14:32:33.982Z"
   },
   {
    "duration": 44,
    "start_time": "2022-04-21T14:32:42.230Z"
   },
   {
    "duration": 13,
    "start_time": "2022-04-21T14:33:28.218Z"
   },
   {
    "duration": 9,
    "start_time": "2022-04-21T14:34:32.733Z"
   },
   {
    "duration": 10,
    "start_time": "2022-04-21T14:34:45.493Z"
   },
   {
    "duration": 9,
    "start_time": "2022-04-21T14:34:56.414Z"
   },
   {
    "duration": 9,
    "start_time": "2022-04-21T14:35:12.389Z"
   },
   {
    "duration": 11,
    "start_time": "2022-04-21T14:35:53.909Z"
   },
   {
    "duration": 9,
    "start_time": "2022-04-21T14:36:11.005Z"
   },
   {
    "duration": 116,
    "start_time": "2022-04-21T14:38:36.210Z"
   },
   {
    "duration": 112,
    "start_time": "2022-04-21T14:38:44.225Z"
   },
   {
    "duration": 12,
    "start_time": "2022-04-21T14:39:15.385Z"
   },
   {
    "duration": 5,
    "start_time": "2022-04-21T14:39:44.377Z"
   },
   {
    "duration": 125,
    "start_time": "2022-04-21T14:40:02.490Z"
   },
   {
    "duration": 9,
    "start_time": "2022-04-21T14:40:10.077Z"
   },
   {
    "duration": 8,
    "start_time": "2022-04-21T14:40:35.734Z"
   },
   {
    "duration": 9,
    "start_time": "2022-04-21T14:40:48.237Z"
   },
   {
    "duration": 5,
    "start_time": "2022-04-21T14:41:09.190Z"
   },
   {
    "duration": 5,
    "start_time": "2022-04-21T14:42:10.140Z"
   },
   {
    "duration": 75,
    "start_time": "2022-04-21T16:59:30.514Z"
   },
   {
    "duration": 10,
    "start_time": "2022-04-21T16:59:38.496Z"
   },
   {
    "duration": 10,
    "start_time": "2022-04-21T16:59:54.807Z"
   },
   {
    "duration": 10,
    "start_time": "2022-04-21T17:00:20.446Z"
   },
   {
    "duration": 10,
    "start_time": "2022-04-21T17:00:42.781Z"
   },
   {
    "duration": 5,
    "start_time": "2022-04-21T17:01:00.508Z"
   },
   {
    "duration": 11,
    "start_time": "2022-04-21T17:01:08.948Z"
   },
   {
    "duration": 656,
    "start_time": "2022-04-21T17:01:31.980Z"
   },
   {
    "duration": 31,
    "start_time": "2022-04-21T17:01:32.639Z"
   },
   {
    "duration": 20,
    "start_time": "2022-04-21T17:01:32.672Z"
   },
   {
    "duration": 72,
    "start_time": "2022-04-21T17:01:32.695Z"
   },
   {
    "duration": 27,
    "start_time": "2022-04-21T17:01:32.769Z"
   },
   {
    "duration": 56,
    "start_time": "2022-04-21T17:01:32.798Z"
   },
   {
    "duration": 57,
    "start_time": "2022-04-21T17:01:32.857Z"
   },
   {
    "duration": 133,
    "start_time": "2022-04-21T17:01:32.917Z"
   },
   {
    "duration": 153,
    "start_time": "2022-04-21T17:01:33.052Z"
   },
   {
    "duration": 51,
    "start_time": "2022-04-21T17:01:33.209Z"
   },
   {
    "duration": 8,
    "start_time": "2022-04-21T17:01:33.262Z"
   },
   {
    "duration": 23,
    "start_time": "2022-04-21T17:01:33.273Z"
   },
   {
    "duration": 46,
    "start_time": "2022-04-21T17:01:33.299Z"
   },
   {
    "duration": 1202,
    "start_time": "2022-04-21T17:01:33.348Z"
   },
   {
    "duration": 12,
    "start_time": "2022-04-21T17:01:34.552Z"
   },
   {
    "duration": 14,
    "start_time": "2022-04-21T17:01:34.566Z"
   },
   {
    "duration": 53,
    "start_time": "2022-04-21T17:01:34.582Z"
   },
   {
    "duration": 18,
    "start_time": "2022-04-21T17:01:34.637Z"
   },
   {
    "duration": 25,
    "start_time": "2022-04-21T17:01:34.657Z"
   },
   {
    "duration": 47,
    "start_time": "2022-04-21T17:01:34.685Z"
   },
   {
    "duration": 585,
    "start_time": "2022-04-21T17:01:50.885Z"
   },
   {
    "duration": 17,
    "start_time": "2022-04-21T17:02:11.148Z"
   },
   {
    "duration": 547,
    "start_time": "2022-04-21T17:02:14.435Z"
   },
   {
    "duration": 111,
    "start_time": "2022-04-21T17:02:42.259Z"
   },
   {
    "duration": 11,
    "start_time": "2022-04-21T17:02:45.879Z"
   },
   {
    "duration": 6,
    "start_time": "2022-04-21T17:03:11.067Z"
   },
   {
    "duration": 11,
    "start_time": "2022-04-21T17:03:17.106Z"
   },
   {
    "duration": 6,
    "start_time": "2022-04-21T17:03:20.548Z"
   },
   {
    "duration": 85,
    "start_time": "2022-04-21T17:14:33.128Z"
   },
   {
    "duration": 26,
    "start_time": "2022-04-21T17:14:33.216Z"
   },
   {
    "duration": 22,
    "start_time": "2022-04-21T17:14:33.245Z"
   },
   {
    "duration": 75,
    "start_time": "2022-04-21T17:14:33.270Z"
   },
   {
    "duration": 27,
    "start_time": "2022-04-21T17:14:33.347Z"
   },
   {
    "duration": 65,
    "start_time": "2022-04-21T17:14:33.377Z"
   },
   {
    "duration": 15,
    "start_time": "2022-04-21T17:14:33.444Z"
   },
   {
    "duration": 15,
    "start_time": "2022-04-21T17:14:33.461Z"
   },
   {
    "duration": 61,
    "start_time": "2022-04-21T17:14:33.479Z"
   },
   {
    "duration": 31,
    "start_time": "2022-04-21T17:14:33.542Z"
   },
   {
    "duration": 7,
    "start_time": "2022-04-21T17:14:33.575Z"
   },
   {
    "duration": 51,
    "start_time": "2022-04-21T17:14:33.585Z"
   },
   {
    "duration": 33,
    "start_time": "2022-04-21T17:14:33.638Z"
   },
   {
    "duration": 565,
    "start_time": "2022-04-21T17:14:33.673Z"
   },
   {
    "duration": 13,
    "start_time": "2022-04-21T17:14:34.241Z"
   },
   {
    "duration": 21,
    "start_time": "2022-04-21T17:14:34.262Z"
   },
   {
    "duration": 60,
    "start_time": "2022-04-21T17:14:34.285Z"
   },
   {
    "duration": 22,
    "start_time": "2022-04-21T17:14:34.348Z"
   },
   {
    "duration": 33,
    "start_time": "2022-04-21T17:14:34.372Z"
   },
   {
    "duration": 577,
    "start_time": "2022-04-21T17:14:34.407Z"
   },
   {
    "duration": 40,
    "start_time": "2022-04-21T17:14:34.986Z"
   },
   {
    "duration": 20,
    "start_time": "2022-04-21T17:14:35.028Z"
   },
   {
    "duration": 11,
    "start_time": "2022-04-21T17:16:57.867Z"
   },
   {
    "duration": 33,
    "start_time": "2022-04-21T17:17:00.570Z"
   },
   {
    "duration": 8,
    "start_time": "2022-04-21T17:17:45.145Z"
   },
   {
    "duration": 34,
    "start_time": "2022-04-21T17:17:47.449Z"
   },
   {
    "duration": 643,
    "start_time": "2022-04-21T17:18:41.590Z"
   },
   {
    "duration": 30,
    "start_time": "2022-04-21T17:18:42.235Z"
   },
   {
    "duration": 20,
    "start_time": "2022-04-21T17:18:42.268Z"
   },
   {
    "duration": 70,
    "start_time": "2022-04-21T17:18:42.291Z"
   },
   {
    "duration": 26,
    "start_time": "2022-04-21T17:18:42.364Z"
   },
   {
    "duration": 55,
    "start_time": "2022-04-21T17:18:42.392Z"
   },
   {
    "duration": 11,
    "start_time": "2022-04-21T17:18:42.450Z"
   },
   {
    "duration": 14,
    "start_time": "2022-04-21T17:18:42.463Z"
   },
   {
    "duration": 18,
    "start_time": "2022-04-21T17:18:42.525Z"
   },
   {
    "duration": 22,
    "start_time": "2022-04-21T17:18:42.547Z"
   },
   {
    "duration": 8,
    "start_time": "2022-04-21T17:18:42.571Z"
   },
   {
    "duration": 58,
    "start_time": "2022-04-21T17:18:42.581Z"
   },
   {
    "duration": 27,
    "start_time": "2022-04-21T17:18:42.641Z"
   },
   {
    "duration": 925,
    "start_time": "2022-04-21T17:18:42.670Z"
   },
   {
    "duration": 27,
    "start_time": "2022-04-21T17:18:43.597Z"
   },
   {
    "duration": 15,
    "start_time": "2022-04-21T17:18:43.626Z"
   },
   {
    "duration": 17,
    "start_time": "2022-04-21T17:18:43.642Z"
   },
   {
    "duration": 5,
    "start_time": "2022-04-21T17:18:43.661Z"
   },
   {
    "duration": 69,
    "start_time": "2022-04-21T17:18:43.668Z"
   },
   {
    "duration": 639,
    "start_time": "2022-04-21T17:18:43.739Z"
   },
   {
    "duration": 44,
    "start_time": "2022-04-21T17:18:44.380Z"
   },
   {
    "duration": 27,
    "start_time": "2022-04-21T17:18:44.427Z"
   },
   {
    "duration": 20,
    "start_time": "2022-04-21T17:22:33.924Z"
   },
   {
    "duration": 33,
    "start_time": "2022-04-21T17:22:38.152Z"
   },
   {
    "duration": 14,
    "start_time": "2022-04-21T17:23:09.812Z"
   },
   {
    "duration": 119,
    "start_time": "2022-04-21T17:23:59.805Z"
   },
   {
    "duration": 8,
    "start_time": "2022-04-21T17:35:12.656Z"
   },
   {
    "duration": 34,
    "start_time": "2022-04-21T17:35:15.402Z"
   },
   {
    "duration": 34,
    "start_time": "2022-04-21T17:35:20.237Z"
   },
   {
    "duration": 9,
    "start_time": "2022-04-21T17:35:25.411Z"
   },
   {
    "duration": 34,
    "start_time": "2022-04-21T17:35:27.552Z"
   },
   {
    "duration": 671,
    "start_time": "2022-04-21T17:36:04.498Z"
   },
   {
    "duration": 30,
    "start_time": "2022-04-21T17:36:05.172Z"
   },
   {
    "duration": 71,
    "start_time": "2022-04-21T17:36:05.205Z"
   },
   {
    "duration": 80,
    "start_time": "2022-04-21T17:36:05.280Z"
   },
   {
    "duration": 39,
    "start_time": "2022-04-21T17:36:05.362Z"
   },
   {
    "duration": 61,
    "start_time": "2022-04-21T17:36:05.403Z"
   },
   {
    "duration": 18,
    "start_time": "2022-04-21T17:36:05.466Z"
   },
   {
    "duration": 79,
    "start_time": "2022-04-21T17:36:05.486Z"
   },
   {
    "duration": 57,
    "start_time": "2022-04-21T17:36:05.568Z"
   },
   {
    "duration": 31,
    "start_time": "2022-04-21T17:36:05.630Z"
   },
   {
    "duration": 16,
    "start_time": "2022-04-21T17:36:05.664Z"
   },
   {
    "duration": 51,
    "start_time": "2022-04-21T17:36:05.682Z"
   },
   {
    "duration": 37,
    "start_time": "2022-04-21T17:36:05.735Z"
   },
   {
    "duration": 986,
    "start_time": "2022-04-21T17:36:05.774Z"
   },
   {
    "duration": 10,
    "start_time": "2022-04-21T17:36:06.763Z"
   },
   {
    "duration": 25,
    "start_time": "2022-04-21T17:36:06.775Z"
   },
   {
    "duration": 56,
    "start_time": "2022-04-21T17:36:06.803Z"
   },
   {
    "duration": 8,
    "start_time": "2022-04-21T17:36:06.861Z"
   },
   {
    "duration": 63,
    "start_time": "2022-04-21T17:36:06.872Z"
   },
   {
    "duration": 678,
    "start_time": "2022-04-21T17:36:06.938Z"
   },
   {
    "duration": 38,
    "start_time": "2022-04-21T17:36:07.623Z"
   },
   {
    "duration": 27,
    "start_time": "2022-04-21T17:36:07.663Z"
   },
   {
    "duration": 17,
    "start_time": "2022-04-21T17:39:21.390Z"
   },
   {
    "duration": 20,
    "start_time": "2022-04-21T17:39:45.862Z"
   },
   {
    "duration": 6,
    "start_time": "2022-04-21T17:39:53.702Z"
   },
   {
    "duration": 6,
    "start_time": "2022-04-21T17:40:26.318Z"
   },
   {
    "duration": 5,
    "start_time": "2022-04-21T17:40:29.612Z"
   },
   {
    "duration": 626,
    "start_time": "2022-04-21T17:40:35.912Z"
   },
   {
    "duration": 30,
    "start_time": "2022-04-21T17:40:36.541Z"
   },
   {
    "duration": 43,
    "start_time": "2022-04-21T17:40:36.573Z"
   },
   {
    "duration": 70,
    "start_time": "2022-04-21T17:40:36.619Z"
   },
   {
    "duration": 26,
    "start_time": "2022-04-21T17:40:36.691Z"
   },
   {
    "duration": 45,
    "start_time": "2022-04-21T17:40:36.719Z"
   },
   {
    "duration": 32,
    "start_time": "2022-04-21T17:40:36.767Z"
   },
   {
    "duration": 43,
    "start_time": "2022-04-21T17:40:36.802Z"
   },
   {
    "duration": 22,
    "start_time": "2022-04-21T17:40:36.847Z"
   },
   {
    "duration": 22,
    "start_time": "2022-04-21T17:40:36.873Z"
   },
   {
    "duration": 10,
    "start_time": "2022-04-21T17:40:36.926Z"
   },
   {
    "duration": 28,
    "start_time": "2022-04-21T17:40:36.939Z"
   },
   {
    "duration": 26,
    "start_time": "2022-04-21T17:40:36.969Z"
   },
   {
    "duration": 918,
    "start_time": "2022-04-21T17:40:37.025Z"
   },
   {
    "duration": 11,
    "start_time": "2022-04-21T17:40:37.945Z"
   },
   {
    "duration": 14,
    "start_time": "2022-04-21T17:40:37.958Z"
   },
   {
    "duration": 63,
    "start_time": "2022-04-21T17:40:37.974Z"
   },
   {
    "duration": 6,
    "start_time": "2022-04-21T17:40:38.039Z"
   },
   {
    "duration": 38,
    "start_time": "2022-04-21T17:40:38.047Z"
   },
   {
    "duration": 641,
    "start_time": "2022-04-21T17:40:38.087Z"
   },
   {
    "duration": 35,
    "start_time": "2022-04-21T17:40:38.731Z"
   },
   {
    "duration": 29,
    "start_time": "2022-04-21T17:40:38.768Z"
   },
   {
    "duration": 6,
    "start_time": "2022-04-21T17:43:13.425Z"
   },
   {
    "duration": 672,
    "start_time": "2022-04-21T17:43:19.682Z"
   },
   {
    "duration": 32,
    "start_time": "2022-04-21T17:43:20.357Z"
   },
   {
    "duration": 36,
    "start_time": "2022-04-21T17:43:20.391Z"
   },
   {
    "duration": 48,
    "start_time": "2022-04-21T17:43:20.431Z"
   },
   {
    "duration": 56,
    "start_time": "2022-04-21T17:43:20.482Z"
   },
   {
    "duration": 39,
    "start_time": "2022-04-21T17:43:20.541Z"
   },
   {
    "duration": 52,
    "start_time": "2022-04-21T17:43:20.582Z"
   },
   {
    "duration": 22,
    "start_time": "2022-04-21T17:43:20.637Z"
   },
   {
    "duration": 23,
    "start_time": "2022-04-21T17:43:20.662Z"
   },
   {
    "duration": 56,
    "start_time": "2022-04-21T17:43:20.691Z"
   },
   {
    "duration": 8,
    "start_time": "2022-04-21T17:43:20.749Z"
   },
   {
    "duration": 25,
    "start_time": "2022-04-21T17:43:20.759Z"
   },
   {
    "duration": 62,
    "start_time": "2022-04-21T17:43:20.787Z"
   },
   {
    "duration": 899,
    "start_time": "2022-04-21T17:43:20.851Z"
   },
   {
    "duration": 10,
    "start_time": "2022-04-21T17:43:21.752Z"
   },
   {
    "duration": 13,
    "start_time": "2022-04-21T17:43:21.764Z"
   },
   {
    "duration": 54,
    "start_time": "2022-04-21T17:43:21.779Z"
   },
   {
    "duration": 5,
    "start_time": "2022-04-21T17:43:21.835Z"
   },
   {
    "duration": 36,
    "start_time": "2022-04-21T17:43:21.842Z"
   },
   {
    "duration": 636,
    "start_time": "2022-04-21T17:43:21.880Z"
   },
   {
    "duration": 5,
    "start_time": "2022-04-21T17:43:22.524Z"
   },
   {
    "duration": 38,
    "start_time": "2022-04-21T17:43:22.531Z"
   },
   {
    "duration": 28,
    "start_time": "2022-04-21T17:43:22.571Z"
   },
   {
    "duration": 1915,
    "start_time": "2022-04-21T17:49:28.909Z"
   },
   {
    "duration": 8,
    "start_time": "2022-04-21T17:49:46.141Z"
   },
   {
    "duration": 22,
    "start_time": "2022-04-21T18:07:44.765Z"
   },
   {
    "duration": 16,
    "start_time": "2022-04-21T18:08:24.802Z"
   },
   {
    "duration": 12,
    "start_time": "2022-04-21T18:08:45.010Z"
   },
   {
    "duration": 12,
    "start_time": "2022-04-21T18:08:46.975Z"
   },
   {
    "duration": 21,
    "start_time": "2022-04-21T18:08:51.554Z"
   },
   {
    "duration": 4,
    "start_time": "2022-04-21T18:10:19.586Z"
   },
   {
    "duration": 18,
    "start_time": "2022-04-21T18:10:30.114Z"
   },
   {
    "duration": 18,
    "start_time": "2022-04-21T18:10:40.210Z"
   },
   {
    "duration": 666,
    "start_time": "2022-04-21T18:10:47.789Z"
   },
   {
    "duration": 32,
    "start_time": "2022-04-21T18:10:48.458Z"
   },
   {
    "duration": 38,
    "start_time": "2022-04-21T18:10:48.493Z"
   },
   {
    "duration": 52,
    "start_time": "2022-04-21T18:10:48.534Z"
   },
   {
    "duration": 53,
    "start_time": "2022-04-21T18:10:48.589Z"
   },
   {
    "duration": 36,
    "start_time": "2022-04-21T18:10:48.644Z"
   },
   {
    "duration": 49,
    "start_time": "2022-04-21T18:10:48.682Z"
   },
   {
    "duration": 15,
    "start_time": "2022-04-21T18:10:48.733Z"
   },
   {
    "duration": 18,
    "start_time": "2022-04-21T18:10:48.751Z"
   },
   {
    "duration": 66,
    "start_time": "2022-04-21T18:10:48.773Z"
   },
   {
    "duration": 8,
    "start_time": "2022-04-21T18:10:48.841Z"
   },
   {
    "duration": 19,
    "start_time": "2022-04-21T18:10:48.851Z"
   },
   {
    "duration": 67,
    "start_time": "2022-04-21T18:10:48.872Z"
   },
   {
    "duration": 943,
    "start_time": "2022-04-21T18:10:48.941Z"
   },
   {
    "duration": 11,
    "start_time": "2022-04-21T18:10:49.886Z"
   },
   {
    "duration": 34,
    "start_time": "2022-04-21T18:10:49.899Z"
   },
   {
    "duration": 22,
    "start_time": "2022-04-21T18:10:49.936Z"
   },
   {
    "duration": 6,
    "start_time": "2022-04-21T18:10:49.960Z"
   },
   {
    "duration": 78,
    "start_time": "2022-04-21T18:10:49.969Z"
   },
   {
    "duration": 649,
    "start_time": "2022-04-21T18:10:50.049Z"
   },
   {
    "duration": 6,
    "start_time": "2022-04-21T18:10:50.700Z"
   },
   {
    "duration": 37,
    "start_time": "2022-04-21T18:10:50.724Z"
   },
   {
    "duration": 28,
    "start_time": "2022-04-21T18:10:50.763Z"
   },
   {
    "duration": 34,
    "start_time": "2022-04-21T18:10:50.793Z"
   },
   {
    "duration": 28,
    "start_time": "2022-04-21T18:10:50.829Z"
   },
   {
    "duration": 18,
    "start_time": "2022-04-21T18:10:50.859Z"
   },
   {
    "duration": 7,
    "start_time": "2022-04-21T18:11:50.506Z"
   },
   {
    "duration": 25,
    "start_time": "2022-04-21T18:12:04.615Z"
   },
   {
    "duration": 33,
    "start_time": "2022-04-21T18:12:11.854Z"
   },
   {
    "duration": 29,
    "start_time": "2022-04-21T18:12:25.412Z"
   },
   {
    "duration": 5,
    "start_time": "2022-04-21T18:13:32.476Z"
   },
   {
    "duration": 17,
    "start_time": "2022-04-21T18:13:35.292Z"
   },
   {
    "duration": 643,
    "start_time": "2022-04-21T18:13:51.783Z"
   },
   {
    "duration": 33,
    "start_time": "2022-04-21T18:13:52.429Z"
   },
   {
    "duration": 21,
    "start_time": "2022-04-21T18:13:52.464Z"
   },
   {
    "duration": 73,
    "start_time": "2022-04-21T18:13:52.488Z"
   },
   {
    "duration": 27,
    "start_time": "2022-04-21T18:13:52.563Z"
   },
   {
    "duration": 64,
    "start_time": "2022-04-21T18:13:52.592Z"
   },
   {
    "duration": 11,
    "start_time": "2022-04-21T18:13:52.658Z"
   },
   {
    "duration": 62,
    "start_time": "2022-04-21T18:13:52.672Z"
   },
   {
    "duration": 18,
    "start_time": "2022-04-21T18:13:52.736Z"
   },
   {
    "duration": 23,
    "start_time": "2022-04-21T18:13:52.757Z"
   },
   {
    "duration": 50,
    "start_time": "2022-04-21T18:13:52.782Z"
   },
   {
    "duration": 19,
    "start_time": "2022-04-21T18:13:52.835Z"
   },
   {
    "duration": 26,
    "start_time": "2022-04-21T18:13:52.856Z"
   },
   {
    "duration": 1195,
    "start_time": "2022-04-21T18:13:52.884Z"
   },
   {
    "duration": 14,
    "start_time": "2022-04-21T18:13:54.082Z"
   },
   {
    "duration": 51,
    "start_time": "2022-04-21T18:13:54.098Z"
   },
   {
    "duration": 19,
    "start_time": "2022-04-21T18:13:54.151Z"
   },
   {
    "duration": 5,
    "start_time": "2022-04-21T18:13:54.172Z"
   },
   {
    "duration": 61,
    "start_time": "2022-04-21T18:13:54.180Z"
   },
   {
    "duration": 651,
    "start_time": "2022-04-21T18:13:54.245Z"
   },
   {
    "duration": 5,
    "start_time": "2022-04-21T18:13:54.899Z"
   },
   {
    "duration": 51,
    "start_time": "2022-04-21T18:13:54.906Z"
   },
   {
    "duration": 27,
    "start_time": "2022-04-21T18:13:54.959Z"
   },
   {
    "duration": 36,
    "start_time": "2022-04-21T18:13:54.988Z"
   },
   {
    "duration": 24,
    "start_time": "2022-04-21T18:13:55.034Z"
   },
   {
    "duration": 26,
    "start_time": "2022-04-21T18:13:55.060Z"
   },
   {
    "duration": 5,
    "start_time": "2022-04-21T18:13:55.088Z"
   },
   {
    "duration": 43,
    "start_time": "2022-04-21T18:13:55.097Z"
   },
   {
    "duration": 8,
    "start_time": "2022-04-21T18:15:45.248Z"
   },
   {
    "duration": 195,
    "start_time": "2022-04-21T18:16:38.952Z"
   },
   {
    "duration": 9,
    "start_time": "2022-04-21T18:16:50.138Z"
   },
   {
    "duration": 15,
    "start_time": "2022-04-21T18:17:19.523Z"
   },
   {
    "duration": 22,
    "start_time": "2022-04-21T18:17:31.543Z"
   },
   {
    "duration": 214,
    "start_time": "2022-04-21T18:17:38.088Z"
   },
   {
    "duration": 10,
    "start_time": "2022-04-21T18:17:39.960Z"
   },
   {
    "duration": 8,
    "start_time": "2022-04-21T18:21:51.967Z"
   },
   {
    "duration": 8,
    "start_time": "2022-04-21T18:22:07.402Z"
   },
   {
    "duration": 18,
    "start_time": "2022-04-21T18:28:46.387Z"
   },
   {
    "duration": 591,
    "start_time": "2022-04-21T18:29:03.554Z"
   },
   {
    "duration": 30,
    "start_time": "2022-04-21T18:29:04.148Z"
   },
   {
    "duration": 65,
    "start_time": "2022-04-21T18:29:04.180Z"
   },
   {
    "duration": 95,
    "start_time": "2022-04-21T18:29:04.248Z"
   },
   {
    "duration": 29,
    "start_time": "2022-04-21T18:29:04.345Z"
   },
   {
    "duration": 64,
    "start_time": "2022-04-21T18:29:04.377Z"
   },
   {
    "duration": 14,
    "start_time": "2022-04-21T18:29:04.444Z"
   },
   {
    "duration": 30,
    "start_time": "2022-04-21T18:29:04.460Z"
   },
   {
    "duration": 49,
    "start_time": "2022-04-21T18:29:04.492Z"
   },
   {
    "duration": 36,
    "start_time": "2022-04-21T18:29:04.545Z"
   },
   {
    "duration": 7,
    "start_time": "2022-04-21T18:29:04.583Z"
   },
   {
    "duration": 50,
    "start_time": "2022-04-21T18:29:04.592Z"
   },
   {
    "duration": 48,
    "start_time": "2022-04-21T18:29:04.644Z"
   },
   {
    "duration": 967,
    "start_time": "2022-04-21T18:29:04.695Z"
   },
   {
    "duration": 10,
    "start_time": "2022-04-21T18:29:05.664Z"
   },
   {
    "duration": 59,
    "start_time": "2022-04-21T18:29:05.677Z"
   },
   {
    "duration": 33,
    "start_time": "2022-04-21T18:29:05.739Z"
   },
   {
    "duration": 18,
    "start_time": "2022-04-21T18:29:05.775Z"
   },
   {
    "duration": 53,
    "start_time": "2022-04-21T18:29:05.795Z"
   },
   {
    "duration": 689,
    "start_time": "2022-04-21T18:29:05.850Z"
   },
   {
    "duration": 6,
    "start_time": "2022-04-21T18:29:06.541Z"
   },
   {
    "duration": 48,
    "start_time": "2022-04-21T18:29:06.549Z"
   },
   {
    "duration": 42,
    "start_time": "2022-04-21T18:29:06.599Z"
   },
   {
    "duration": 7,
    "start_time": "2022-04-21T18:29:06.643Z"
   },
   {
    "duration": 31,
    "start_time": "2022-04-21T18:29:06.652Z"
   },
   {
    "duration": 52,
    "start_time": "2022-04-21T18:29:06.685Z"
   },
   {
    "duration": 7,
    "start_time": "2022-04-21T18:29:06.740Z"
   },
   {
    "duration": 38,
    "start_time": "2022-04-21T18:29:06.753Z"
   },
   {
    "duration": 25,
    "start_time": "2022-04-21T18:29:06.794Z"
   },
   {
    "duration": 30,
    "start_time": "2022-04-21T18:29:06.822Z"
   },
   {
    "duration": 32,
    "start_time": "2022-04-21T18:29:06.854Z"
   },
   {
    "duration": 8,
    "start_time": "2022-04-21T18:36:19.491Z"
   },
   {
    "duration": 10,
    "start_time": "2022-04-21T18:36:37.106Z"
   },
   {
    "duration": 7,
    "start_time": "2022-04-21T18:36:49.558Z"
   },
   {
    "duration": 8,
    "start_time": "2022-04-21T18:37:13.792Z"
   },
   {
    "duration": 113,
    "start_time": "2022-04-21T18:38:38.484Z"
   },
   {
    "duration": 7,
    "start_time": "2022-04-21T18:38:46.220Z"
   },
   {
    "duration": 8,
    "start_time": "2022-04-21T18:38:53.213Z"
   },
   {
    "duration": 10,
    "start_time": "2022-04-21T18:41:41.652Z"
   },
   {
    "duration": 8,
    "start_time": "2022-04-21T18:42:04.468Z"
   },
   {
    "duration": 11,
    "start_time": "2022-04-21T18:43:27.351Z"
   },
   {
    "duration": 30,
    "start_time": "2022-04-21T18:50:32.701Z"
   },
   {
    "duration": 12,
    "start_time": "2022-04-21T18:50:54.941Z"
   },
   {
    "duration": 10,
    "start_time": "2022-04-21T18:51:03.678Z"
   },
   {
    "duration": 42,
    "start_time": "2022-04-21T18:51:54.997Z"
   },
   {
    "duration": 27,
    "start_time": "2022-04-21T18:52:43.863Z"
   },
   {
    "duration": 106,
    "start_time": "2022-04-21T18:53:01.838Z"
   },
   {
    "duration": 87,
    "start_time": "2022-04-21T18:53:13.606Z"
   },
   {
    "duration": 123,
    "start_time": "2022-04-21T18:54:23.514Z"
   },
   {
    "duration": 7,
    "start_time": "2022-04-21T18:55:13.190Z"
   },
   {
    "duration": 111,
    "start_time": "2022-04-21T18:55:54.414Z"
   },
   {
    "duration": 6,
    "start_time": "2022-04-21T18:57:12.571Z"
   },
   {
    "duration": 611,
    "start_time": "2022-04-21T18:57:21.152Z"
   },
   {
    "duration": 30,
    "start_time": "2022-04-21T18:57:21.766Z"
   },
   {
    "duration": 44,
    "start_time": "2022-04-21T18:57:21.798Z"
   },
   {
    "duration": 57,
    "start_time": "2022-04-21T18:57:21.845Z"
   },
   {
    "duration": 42,
    "start_time": "2022-04-21T18:57:21.905Z"
   },
   {
    "duration": 77,
    "start_time": "2022-04-21T18:57:21.950Z"
   },
   {
    "duration": 14,
    "start_time": "2022-04-21T18:57:22.030Z"
   },
   {
    "duration": 14,
    "start_time": "2022-04-21T18:57:22.046Z"
   },
   {
    "duration": 17,
    "start_time": "2022-04-21T18:57:22.063Z"
   },
   {
    "duration": 29,
    "start_time": "2022-04-21T18:57:22.126Z"
   },
   {
    "duration": 10,
    "start_time": "2022-04-21T18:57:22.157Z"
   },
   {
    "duration": 69,
    "start_time": "2022-04-21T18:57:22.169Z"
   },
   {
    "duration": 46,
    "start_time": "2022-04-21T18:57:22.241Z"
   },
   {
    "duration": 959,
    "start_time": "2022-04-21T18:57:22.289Z"
   },
   {
    "duration": 12,
    "start_time": "2022-04-21T18:57:23.251Z"
   },
   {
    "duration": 21,
    "start_time": "2022-04-21T18:57:23.266Z"
   },
   {
    "duration": 52,
    "start_time": "2022-04-21T18:57:23.289Z"
   },
   {
    "duration": 5,
    "start_time": "2022-04-21T18:57:23.344Z"
   },
   {
    "duration": 42,
    "start_time": "2022-04-21T18:57:23.350Z"
   },
   {
    "duration": 669,
    "start_time": "2022-04-21T18:57:23.394Z"
   },
   {
    "duration": 6,
    "start_time": "2022-04-21T18:57:24.065Z"
   },
   {
    "duration": 67,
    "start_time": "2022-04-21T18:57:24.073Z"
   },
   {
    "duration": 36,
    "start_time": "2022-04-21T18:57:24.142Z"
   },
   {
    "duration": 8,
    "start_time": "2022-04-21T18:57:24.180Z"
   },
   {
    "duration": 44,
    "start_time": "2022-04-21T18:57:24.190Z"
   },
   {
    "duration": 25,
    "start_time": "2022-04-21T18:57:24.241Z"
   },
   {
    "duration": 17,
    "start_time": "2022-04-21T18:57:24.269Z"
   },
   {
    "duration": 49,
    "start_time": "2022-04-21T18:57:24.290Z"
   },
   {
    "duration": 25,
    "start_time": "2022-04-21T18:57:24.341Z"
   },
   {
    "duration": 34,
    "start_time": "2022-04-21T18:57:24.368Z"
   },
   {
    "duration": 42,
    "start_time": "2022-04-21T18:57:24.404Z"
   },
   {
    "duration": 41,
    "start_time": "2022-04-21T18:57:24.449Z"
   },
   {
    "duration": 141,
    "start_time": "2022-04-21T18:57:24.492Z"
   },
   {
    "duration": 7,
    "start_time": "2022-04-21T18:57:24.635Z"
   },
   {
    "duration": 108,
    "start_time": "2022-04-21T18:57:24.644Z"
   },
   {
    "duration": 6,
    "start_time": "2022-04-21T18:57:24.754Z"
   },
   {
    "duration": 11,
    "start_time": "2022-04-21T18:57:44.125Z"
   },
   {
    "duration": 47,
    "start_time": "2022-04-22T12:10:09.052Z"
   },
   {
    "duration": 449,
    "start_time": "2022-04-22T12:10:20.358Z"
   },
   {
    "duration": 22,
    "start_time": "2022-04-22T12:10:20.809Z"
   },
   {
    "duration": 13,
    "start_time": "2022-04-22T12:10:20.832Z"
   },
   {
    "duration": 33,
    "start_time": "2022-04-22T12:10:20.847Z"
   },
   {
    "duration": 38,
    "start_time": "2022-04-22T12:10:20.882Z"
   },
   {
    "duration": 22,
    "start_time": "2022-04-22T12:10:20.922Z"
   },
   {
    "duration": 8,
    "start_time": "2022-04-22T12:10:20.946Z"
   },
   {
    "duration": 10,
    "start_time": "2022-04-22T12:10:20.955Z"
   },
   {
    "duration": 12,
    "start_time": "2022-04-22T12:10:21.008Z"
   },
   {
    "duration": 16,
    "start_time": "2022-04-22T12:10:21.023Z"
   },
   {
    "duration": 5,
    "start_time": "2022-04-22T12:10:21.041Z"
   },
   {
    "duration": 15,
    "start_time": "2022-04-22T12:10:21.048Z"
   },
   {
    "duration": 59,
    "start_time": "2022-04-22T12:10:21.065Z"
   },
   {
    "duration": 730,
    "start_time": "2022-04-22T12:10:21.126Z"
   },
   {
    "duration": 9,
    "start_time": "2022-04-22T12:10:21.858Z"
   },
   {
    "duration": 11,
    "start_time": "2022-04-22T12:10:21.868Z"
   },
   {
    "duration": 35,
    "start_time": "2022-04-22T12:10:21.880Z"
   },
   {
    "duration": 4,
    "start_time": "2022-04-22T12:10:21.916Z"
   },
   {
    "duration": 39,
    "start_time": "2022-04-22T12:10:21.922Z"
   },
   {
    "duration": 395,
    "start_time": "2022-04-22T12:10:21.963Z"
   },
   {
    "duration": 4,
    "start_time": "2022-04-22T12:10:22.359Z"
   },
   {
    "duration": 23,
    "start_time": "2022-04-22T12:10:22.364Z"
   },
   {
    "duration": 29,
    "start_time": "2022-04-22T12:10:22.389Z"
   },
   {
    "duration": 5,
    "start_time": "2022-04-22T12:10:22.420Z"
   },
   {
    "duration": 13,
    "start_time": "2022-04-22T12:10:22.427Z"
   },
   {
    "duration": 15,
    "start_time": "2022-04-22T12:10:22.442Z"
   },
   {
    "duration": 18,
    "start_time": "2022-04-22T12:10:22.459Z"
   },
   {
    "duration": 29,
    "start_time": "2022-04-22T12:10:22.480Z"
   },
   {
    "duration": 26,
    "start_time": "2022-04-22T12:10:22.511Z"
   },
   {
    "duration": 15,
    "start_time": "2022-04-22T12:10:22.539Z"
   },
   {
    "duration": 5,
    "start_time": "2022-04-22T12:10:22.556Z"
   },
   {
    "duration": 6,
    "start_time": "2022-04-22T12:10:22.563Z"
   },
   {
    "duration": 9,
    "start_time": "2022-04-22T12:10:22.571Z"
   },
   {
    "duration": 69,
    "start_time": "2022-04-22T12:10:22.582Z"
   },
   {
    "duration": 5,
    "start_time": "2022-04-22T12:10:22.653Z"
   },
   {
    "duration": 80,
    "start_time": "2022-04-22T12:10:22.659Z"
   },
   {
    "duration": 3,
    "start_time": "2022-04-22T12:10:22.741Z"
   },
   {
    "duration": 5,
    "start_time": "2022-04-22T12:10:49.489Z"
   },
   {
    "duration": 6,
    "start_time": "2022-04-22T12:12:01.543Z"
   },
   {
    "duration": 11,
    "start_time": "2022-04-22T12:12:20.739Z"
   },
   {
    "duration": 61,
    "start_time": "2022-04-22T12:13:36.723Z"
   },
   {
    "duration": 73,
    "start_time": "2022-04-22T16:30:35.119Z"
   },
   {
    "duration": 11,
    "start_time": "2022-04-22T16:31:03.651Z"
   },
   {
    "duration": 516,
    "start_time": "2022-04-22T16:31:10.668Z"
   },
   {
    "duration": 25,
    "start_time": "2022-04-22T16:31:11.186Z"
   },
   {
    "duration": 13,
    "start_time": "2022-04-22T16:31:11.213Z"
   },
   {
    "duration": 34,
    "start_time": "2022-04-22T16:31:11.228Z"
   },
   {
    "duration": 43,
    "start_time": "2022-04-22T16:31:11.264Z"
   },
   {
    "duration": 24,
    "start_time": "2022-04-22T16:31:11.309Z"
   },
   {
    "duration": 8,
    "start_time": "2022-04-22T16:31:11.335Z"
   },
   {
    "duration": 10,
    "start_time": "2022-04-22T16:31:11.344Z"
   },
   {
    "duration": 53,
    "start_time": "2022-04-22T16:31:11.356Z"
   },
   {
    "duration": 18,
    "start_time": "2022-04-22T16:31:11.411Z"
   },
   {
    "duration": 7,
    "start_time": "2022-04-22T16:31:11.431Z"
   },
   {
    "duration": 26,
    "start_time": "2022-04-22T16:31:11.440Z"
   },
   {
    "duration": 46,
    "start_time": "2022-04-22T16:31:11.467Z"
   },
   {
    "duration": 573,
    "start_time": "2022-04-22T16:31:11.515Z"
   },
   {
    "duration": 18,
    "start_time": "2022-04-22T16:31:12.090Z"
   },
   {
    "duration": 11,
    "start_time": "2022-04-22T16:31:12.110Z"
   },
   {
    "duration": 14,
    "start_time": "2022-04-22T16:31:12.123Z"
   },
   {
    "duration": 4,
    "start_time": "2022-04-22T16:31:12.139Z"
   },
   {
    "duration": 21,
    "start_time": "2022-04-22T16:31:12.145Z"
   },
   {
    "duration": 446,
    "start_time": "2022-04-22T16:31:12.169Z"
   },
   {
    "duration": 5,
    "start_time": "2022-04-22T16:31:12.616Z"
   },
   {
    "duration": 23,
    "start_time": "2022-04-22T16:31:12.623Z"
   },
   {
    "duration": 17,
    "start_time": "2022-04-22T16:31:12.647Z"
   },
   {
    "duration": 5,
    "start_time": "2022-04-22T16:31:12.666Z"
   },
   {
    "duration": 44,
    "start_time": "2022-04-22T16:31:12.673Z"
   },
   {
    "duration": 18,
    "start_time": "2022-04-22T16:31:12.718Z"
   },
   {
    "duration": 4,
    "start_time": "2022-04-22T16:31:12.737Z"
   },
   {
    "duration": 11,
    "start_time": "2022-04-22T16:31:12.744Z"
   },
   {
    "duration": 6,
    "start_time": "2022-04-22T16:31:12.757Z"
   },
   {
    "duration": 4,
    "start_time": "2022-04-22T16:31:12.765Z"
   },
   {
    "duration": 38,
    "start_time": "2022-04-22T16:31:12.771Z"
   },
   {
    "duration": 8,
    "start_time": "2022-04-22T16:31:12.811Z"
   },
   {
    "duration": 5,
    "start_time": "2022-04-22T16:31:12.821Z"
   },
   {
    "duration": 13,
    "start_time": "2022-04-22T16:31:12.828Z"
   },
   {
    "duration": 82,
    "start_time": "2022-04-22T16:31:12.842Z"
   },
   {
    "duration": 4,
    "start_time": "2022-04-22T16:31:12.926Z"
   },
   {
    "duration": 80,
    "start_time": "2022-04-22T16:31:12.932Z"
   },
   {
    "duration": 4,
    "start_time": "2022-04-22T16:31:13.014Z"
   },
   {
    "duration": 76,
    "start_time": "2022-04-22T16:31:13.019Z"
   },
   {
    "duration": 12,
    "start_time": "2022-04-22T16:31:26.733Z"
   },
   {
    "duration": 10,
    "start_time": "2022-04-22T16:31:41.247Z"
   },
   {
    "duration": 88,
    "start_time": "2022-04-22T16:36:49.349Z"
   },
   {
    "duration": 67,
    "start_time": "2022-04-22T16:36:57.045Z"
   },
   {
    "duration": 16,
    "start_time": "2022-04-22T16:37:02.910Z"
   },
   {
    "duration": 25,
    "start_time": "2022-04-22T16:37:32.363Z"
   },
   {
    "duration": 24,
    "start_time": "2022-04-22T16:38:01.366Z"
   },
   {
    "duration": 26,
    "start_time": "2022-04-22T16:38:11.234Z"
   },
   {
    "duration": 10,
    "start_time": "2022-04-22T16:39:58.312Z"
   },
   {
    "duration": 462,
    "start_time": "2022-04-22T16:40:04.724Z"
   },
   {
    "duration": 20,
    "start_time": "2022-04-22T16:40:05.188Z"
   },
   {
    "duration": 13,
    "start_time": "2022-04-22T16:40:05.210Z"
   },
   {
    "duration": 35,
    "start_time": "2022-04-22T16:40:05.226Z"
   },
   {
    "duration": 17,
    "start_time": "2022-04-22T16:40:05.263Z"
   },
   {
    "duration": 46,
    "start_time": "2022-04-22T16:40:05.282Z"
   },
   {
    "duration": 8,
    "start_time": "2022-04-22T16:40:05.330Z"
   },
   {
    "duration": 11,
    "start_time": "2022-04-22T16:40:05.340Z"
   },
   {
    "duration": 56,
    "start_time": "2022-04-22T16:40:05.352Z"
   },
   {
    "duration": 17,
    "start_time": "2022-04-22T16:40:05.412Z"
   },
   {
    "duration": 5,
    "start_time": "2022-04-22T16:40:05.431Z"
   },
   {
    "duration": 13,
    "start_time": "2022-04-22T16:40:05.438Z"
   },
   {
    "duration": 58,
    "start_time": "2022-04-22T16:40:05.453Z"
   },
   {
    "duration": 579,
    "start_time": "2022-04-22T16:40:05.513Z"
   },
   {
    "duration": 15,
    "start_time": "2022-04-22T16:40:06.094Z"
   },
   {
    "duration": 10,
    "start_time": "2022-04-22T16:40:06.111Z"
   },
   {
    "duration": 13,
    "start_time": "2022-04-22T16:40:06.122Z"
   },
   {
    "duration": 4,
    "start_time": "2022-04-22T16:40:06.137Z"
   },
   {
    "duration": 21,
    "start_time": "2022-04-22T16:40:06.142Z"
   },
   {
    "duration": 429,
    "start_time": "2022-04-22T16:40:06.165Z"
   },
   {
    "duration": 11,
    "start_time": "2022-04-22T16:40:06.596Z"
   },
   {
    "duration": 23,
    "start_time": "2022-04-22T16:40:06.609Z"
   },
   {
    "duration": 19,
    "start_time": "2022-04-22T16:40:06.634Z"
   },
   {
    "duration": 5,
    "start_time": "2022-04-22T16:40:06.655Z"
   },
   {
    "duration": 15,
    "start_time": "2022-04-22T16:40:06.661Z"
   },
   {
    "duration": 20,
    "start_time": "2022-04-22T16:40:06.706Z"
   },
   {
    "duration": 4,
    "start_time": "2022-04-22T16:40:06.728Z"
   },
   {
    "duration": 12,
    "start_time": "2022-04-22T16:40:06.736Z"
   },
   {
    "duration": 9,
    "start_time": "2022-04-22T16:40:06.749Z"
   },
   {
    "duration": 5,
    "start_time": "2022-04-22T16:40:06.759Z"
   },
   {
    "duration": 42,
    "start_time": "2022-04-22T16:40:06.766Z"
   },
   {
    "duration": 6,
    "start_time": "2022-04-22T16:40:06.810Z"
   },
   {
    "duration": 6,
    "start_time": "2022-04-22T16:40:06.817Z"
   },
   {
    "duration": 15,
    "start_time": "2022-04-22T16:40:06.825Z"
   },
   {
    "duration": 88,
    "start_time": "2022-04-22T16:40:06.841Z"
   },
   {
    "duration": 4,
    "start_time": "2022-04-22T16:40:06.931Z"
   },
   {
    "duration": 77,
    "start_time": "2022-04-22T16:40:06.937Z"
   },
   {
    "duration": 4,
    "start_time": "2022-04-22T16:40:07.016Z"
   },
   {
    "duration": 16,
    "start_time": "2022-04-22T16:40:07.023Z"
   },
   {
    "duration": 16,
    "start_time": "2022-04-22T16:40:07.041Z"
   },
   {
    "duration": 55,
    "start_time": "2022-04-22T16:40:07.058Z"
   },
   {
    "duration": 25,
    "start_time": "2022-04-22T16:40:22.565Z"
   },
   {
    "duration": 17,
    "start_time": "2022-04-22T16:40:42.671Z"
   },
   {
    "duration": 109,
    "start_time": "2022-04-22T16:42:35.210Z"
   },
   {
    "duration": 33,
    "start_time": "2022-04-22T16:43:07.866Z"
   },
   {
    "duration": 24,
    "start_time": "2022-04-22T16:43:49.225Z"
   },
   {
    "duration": 17,
    "start_time": "2022-04-22T16:43:58.468Z"
   },
   {
    "duration": 39,
    "start_time": "2022-04-22T16:44:06.072Z"
   },
   {
    "duration": 16,
    "start_time": "2022-04-22T17:30:25.440Z"
   },
   {
    "duration": 11,
    "start_time": "2022-04-22T17:30:46.030Z"
   },
   {
    "duration": 12,
    "start_time": "2022-04-22T17:31:10.969Z"
   },
   {
    "duration": 13,
    "start_time": "2022-04-22T17:31:38.938Z"
   },
   {
    "duration": 17,
    "start_time": "2022-04-22T17:31:51.562Z"
   },
   {
    "duration": 71,
    "start_time": "2022-04-22T17:32:31.858Z"
   },
   {
    "duration": 23,
    "start_time": "2022-04-22T17:33:09.670Z"
   },
   {
    "duration": 21,
    "start_time": "2022-04-22T17:33:20.302Z"
   },
   {
    "duration": 34,
    "start_time": "2022-04-22T17:33:57.472Z"
   },
   {
    "duration": 29,
    "start_time": "2022-04-22T17:34:04.019Z"
   },
   {
    "duration": 19,
    "start_time": "2022-04-22T17:34:15.359Z"
   },
   {
    "duration": 59,
    "start_time": "2022-04-22T17:34:34.822Z"
   },
   {
    "duration": 31,
    "start_time": "2022-04-22T17:35:51.559Z"
   },
   {
    "duration": 17,
    "start_time": "2022-04-22T17:37:48.112Z"
   },
   {
    "duration": 18,
    "start_time": "2022-04-22T17:37:52.612Z"
   },
   {
    "duration": 23,
    "start_time": "2022-04-22T17:38:27.262Z"
   },
   {
    "duration": 27,
    "start_time": "2022-04-22T17:38:47.771Z"
   },
   {
    "duration": 24,
    "start_time": "2022-04-22T17:39:19.418Z"
   },
   {
    "duration": 17,
    "start_time": "2022-04-22T17:39:25.492Z"
   },
   {
    "duration": 18,
    "start_time": "2022-04-22T17:39:38.081Z"
   },
   {
    "duration": 19,
    "start_time": "2022-04-22T17:39:49.140Z"
   },
   {
    "duration": 31,
    "start_time": "2022-04-22T17:40:12.472Z"
   },
   {
    "duration": 10,
    "start_time": "2022-04-22T17:41:31.877Z"
   },
   {
    "duration": 18,
    "start_time": "2022-04-22T17:41:52.543Z"
   },
   {
    "duration": 15,
    "start_time": "2022-04-22T17:42:07.202Z"
   },
   {
    "duration": 21,
    "start_time": "2022-04-22T17:42:11.039Z"
   },
   {
    "duration": 24,
    "start_time": "2022-04-22T17:42:20.353Z"
   },
   {
    "duration": 22,
    "start_time": "2022-04-22T17:42:30.265Z"
   },
   {
    "duration": 21,
    "start_time": "2022-04-22T17:42:37.128Z"
   },
   {
    "duration": 23,
    "start_time": "2022-04-22T17:43:39.790Z"
   },
   {
    "duration": 25,
    "start_time": "2022-04-22T17:45:00.038Z"
   },
   {
    "duration": 30,
    "start_time": "2022-04-22T17:47:08.233Z"
   },
   {
    "duration": 34,
    "start_time": "2022-04-22T17:47:20.992Z"
   },
   {
    "duration": 21,
    "start_time": "2022-04-22T17:48:14.936Z"
   },
   {
    "duration": 29,
    "start_time": "2022-04-22T17:48:22.158Z"
   },
   {
    "duration": 63,
    "start_time": "2022-04-22T17:48:29.100Z"
   },
   {
    "duration": 80,
    "start_time": "2022-04-22T17:48:39.325Z"
   },
   {
    "duration": 28,
    "start_time": "2022-04-22T17:48:42.880Z"
   },
   {
    "duration": 25,
    "start_time": "2022-04-22T17:50:07.223Z"
   },
   {
    "duration": 5,
    "start_time": "2022-04-22T17:50:33.859Z"
   },
   {
    "duration": 25,
    "start_time": "2022-04-22T17:50:46.633Z"
   },
   {
    "duration": 23,
    "start_time": "2022-04-22T17:51:47.225Z"
   },
   {
    "duration": 12,
    "start_time": "2022-04-22T17:52:08.635Z"
   },
   {
    "duration": 18,
    "start_time": "2022-04-22T17:52:21.313Z"
   },
   {
    "duration": 30,
    "start_time": "2022-04-22T17:53:26.204Z"
   },
   {
    "duration": 32,
    "start_time": "2022-04-22T17:53:30.682Z"
   },
   {
    "duration": 34,
    "start_time": "2022-04-22T17:53:41.347Z"
   },
   {
    "duration": 17,
    "start_time": "2022-04-22T17:54:03.498Z"
   },
   {
    "duration": 20,
    "start_time": "2022-04-22T17:54:06.873Z"
   },
   {
    "duration": 17,
    "start_time": "2022-04-22T17:54:29.239Z"
   },
   {
    "duration": 12,
    "start_time": "2022-04-22T17:54:39.363Z"
   },
   {
    "duration": 25,
    "start_time": "2022-04-22T17:54:43.120Z"
   },
   {
    "duration": 26,
    "start_time": "2022-04-22T17:55:02.606Z"
   },
   {
    "duration": 23,
    "start_time": "2022-04-22T17:55:46.674Z"
   },
   {
    "duration": 15,
    "start_time": "2022-04-22T17:55:57.508Z"
   },
   {
    "duration": 23,
    "start_time": "2022-04-22T17:56:02.783Z"
   },
   {
    "duration": 33,
    "start_time": "2022-04-22T17:57:28.061Z"
   },
   {
    "duration": 30,
    "start_time": "2022-04-22T17:58:09.449Z"
   },
   {
    "duration": 24,
    "start_time": "2022-04-22T17:58:19.924Z"
   },
   {
    "duration": 17,
    "start_time": "2022-04-22T17:58:38.272Z"
   },
   {
    "duration": 11,
    "start_time": "2022-04-22T17:58:47.069Z"
   },
   {
    "duration": 25,
    "start_time": "2022-04-22T17:59:08.151Z"
   },
   {
    "duration": 25,
    "start_time": "2022-04-22T17:59:47.742Z"
   },
   {
    "duration": 24,
    "start_time": "2022-04-22T17:59:51.893Z"
   },
   {
    "duration": 41,
    "start_time": "2022-04-22T18:00:03.368Z"
   },
   {
    "duration": 28,
    "start_time": "2022-04-22T18:00:10.456Z"
   },
   {
    "duration": 25,
    "start_time": "2022-04-22T18:00:13.479Z"
   },
   {
    "duration": 23,
    "start_time": "2022-04-22T18:00:17.780Z"
   },
   {
    "duration": 35,
    "start_time": "2022-04-22T18:00:25.688Z"
   },
   {
    "duration": 22,
    "start_time": "2022-04-22T18:01:03.052Z"
   },
   {
    "duration": 25,
    "start_time": "2022-04-22T18:01:57.917Z"
   },
   {
    "duration": 35,
    "start_time": "2022-04-22T18:02:16.997Z"
   },
   {
    "duration": 27,
    "start_time": "2022-04-22T18:03:26.759Z"
   },
   {
    "duration": 994,
    "start_time": "2022-04-22T18:04:36.769Z"
   },
   {
    "duration": 31,
    "start_time": "2022-04-22T18:04:55.680Z"
   },
   {
    "duration": 20,
    "start_time": "2022-04-22T18:05:21.004Z"
   },
   {
    "duration": 1165,
    "start_time": "2022-04-22T18:07:00.879Z"
   },
   {
    "duration": 21,
    "start_time": "2022-04-22T18:07:08.600Z"
   },
   {
    "duration": 15,
    "start_time": "2022-04-22T18:07:31.989Z"
   },
   {
    "duration": 28,
    "start_time": "2022-04-22T18:14:04.900Z"
   },
   {
    "duration": 23,
    "start_time": "2022-04-22T18:14:15.847Z"
   },
   {
    "duration": 22,
    "start_time": "2022-04-22T18:14:26.749Z"
   },
   {
    "duration": 16,
    "start_time": "2022-04-22T18:14:47.933Z"
   },
   {
    "duration": 477,
    "start_time": "2022-04-22T18:15:38.275Z"
   },
   {
    "duration": 21,
    "start_time": "2022-04-22T18:15:38.754Z"
   },
   {
    "duration": 13,
    "start_time": "2022-04-22T18:15:38.776Z"
   },
   {
    "duration": 43,
    "start_time": "2022-04-22T18:15:38.791Z"
   },
   {
    "duration": 15,
    "start_time": "2022-04-22T18:15:38.836Z"
   },
   {
    "duration": 21,
    "start_time": "2022-04-22T18:15:38.853Z"
   },
   {
    "duration": 37,
    "start_time": "2022-04-22T18:15:38.876Z"
   },
   {
    "duration": 9,
    "start_time": "2022-04-22T18:15:38.915Z"
   },
   {
    "duration": 14,
    "start_time": "2022-04-22T18:15:38.926Z"
   },
   {
    "duration": 18,
    "start_time": "2022-04-22T18:15:38.943Z"
   },
   {
    "duration": 44,
    "start_time": "2022-04-22T18:15:38.963Z"
   },
   {
    "duration": 13,
    "start_time": "2022-04-22T18:15:39.009Z"
   },
   {
    "duration": 17,
    "start_time": "2022-04-22T18:15:39.024Z"
   },
   {
    "duration": 588,
    "start_time": "2022-04-22T18:15:39.042Z"
   },
   {
    "duration": 8,
    "start_time": "2022-04-22T18:15:39.632Z"
   },
   {
    "duration": 9,
    "start_time": "2022-04-22T18:15:39.641Z"
   },
   {
    "duration": 12,
    "start_time": "2022-04-22T18:15:39.651Z"
   },
   {
    "duration": 3,
    "start_time": "2022-04-22T18:15:39.665Z"
   },
   {
    "duration": 53,
    "start_time": "2022-04-22T18:15:39.669Z"
   },
   {
    "duration": 408,
    "start_time": "2022-04-22T18:15:39.724Z"
   },
   {
    "duration": 4,
    "start_time": "2022-04-22T18:15:40.134Z"
   },
   {
    "duration": 23,
    "start_time": "2022-04-22T18:15:40.140Z"
   },
   {
    "duration": 18,
    "start_time": "2022-04-22T18:15:40.164Z"
   },
   {
    "duration": 28,
    "start_time": "2022-04-22T18:15:40.184Z"
   },
   {
    "duration": 16,
    "start_time": "2022-04-22T18:15:40.214Z"
   },
   {
    "duration": 18,
    "start_time": "2022-04-22T18:15:40.232Z"
   },
   {
    "duration": 5,
    "start_time": "2022-04-22T18:15:40.252Z"
   },
   {
    "duration": 46,
    "start_time": "2022-04-22T18:15:40.261Z"
   },
   {
    "duration": 7,
    "start_time": "2022-04-22T18:15:40.309Z"
   },
   {
    "duration": 5,
    "start_time": "2022-04-22T18:15:40.318Z"
   },
   {
    "duration": 6,
    "start_time": "2022-04-22T18:15:40.325Z"
   },
   {
    "duration": 5,
    "start_time": "2022-04-22T18:15:40.333Z"
   },
   {
    "duration": 5,
    "start_time": "2022-04-22T18:15:40.340Z"
   },
   {
    "duration": 15,
    "start_time": "2022-04-22T18:15:40.346Z"
   },
   {
    "duration": 48,
    "start_time": "2022-04-22T18:15:40.408Z"
   },
   {
    "duration": 5,
    "start_time": "2022-04-22T18:15:40.457Z"
   },
   {
    "duration": 80,
    "start_time": "2022-04-22T18:15:40.464Z"
   },
   {
    "duration": 5,
    "start_time": "2022-04-22T18:15:40.546Z"
   },
   {
    "duration": 57,
    "start_time": "2022-04-22T18:15:40.552Z"
   },
   {
    "duration": 25,
    "start_time": "2022-04-22T18:15:40.611Z"
   },
   {
    "duration": 5,
    "start_time": "2022-04-22T18:15:40.638Z"
   },
   {
    "duration": 38,
    "start_time": "2022-04-22T18:15:40.645Z"
   },
   {
    "duration": 22,
    "start_time": "2022-04-22T18:15:40.707Z"
   },
   {
    "duration": 92,
    "start_time": "2022-04-22T18:15:40.731Z"
   },
   {
    "duration": 16,
    "start_time": "2022-04-22T18:16:03.174Z"
   },
   {
    "duration": 18,
    "start_time": "2022-04-22T18:16:19.385Z"
   },
   {
    "duration": 16,
    "start_time": "2022-04-22T18:16:37.770Z"
   },
   {
    "duration": 17,
    "start_time": "2022-04-22T18:16:58.715Z"
   },
   {
    "duration": 16,
    "start_time": "2022-04-22T18:17:10.652Z"
   },
   {
    "duration": 17,
    "start_time": "2022-04-22T18:17:17.627Z"
   },
   {
    "duration": 459,
    "start_time": "2022-04-22T18:17:48.431Z"
   },
   {
    "duration": 20,
    "start_time": "2022-04-22T18:17:48.893Z"
   },
   {
    "duration": 13,
    "start_time": "2022-04-22T18:17:48.916Z"
   },
   {
    "duration": 33,
    "start_time": "2022-04-22T18:17:48.931Z"
   },
   {
    "duration": 42,
    "start_time": "2022-04-22T18:17:48.966Z"
   },
   {
    "duration": 27,
    "start_time": "2022-04-22T18:17:49.010Z"
   },
   {
    "duration": 8,
    "start_time": "2022-04-22T18:17:49.039Z"
   },
   {
    "duration": 10,
    "start_time": "2022-04-22T18:17:49.049Z"
   },
   {
    "duration": 58,
    "start_time": "2022-04-22T18:17:49.061Z"
   },
   {
    "duration": 18,
    "start_time": "2022-04-22T18:17:49.122Z"
   },
   {
    "duration": 5,
    "start_time": "2022-04-22T18:17:49.142Z"
   },
   {
    "duration": 13,
    "start_time": "2022-04-22T18:17:49.149Z"
   },
   {
    "duration": 57,
    "start_time": "2022-04-22T18:17:49.164Z"
   },
   {
    "duration": 549,
    "start_time": "2022-04-22T18:17:49.223Z"
   },
   {
    "duration": 9,
    "start_time": "2022-04-22T18:17:49.774Z"
   },
   {
    "duration": 28,
    "start_time": "2022-04-22T18:17:49.785Z"
   },
   {
    "duration": 15,
    "start_time": "2022-04-22T18:17:49.815Z"
   },
   {
    "duration": 4,
    "start_time": "2022-04-22T18:17:49.831Z"
   },
   {
    "duration": 22,
    "start_time": "2022-04-22T18:17:49.836Z"
   },
   {
    "duration": 430,
    "start_time": "2022-04-22T18:17:49.860Z"
   },
   {
    "duration": 4,
    "start_time": "2022-04-22T18:17:50.292Z"
   },
   {
    "duration": 31,
    "start_time": "2022-04-22T18:17:50.298Z"
   },
   {
    "duration": 17,
    "start_time": "2022-04-22T18:17:50.331Z"
   },
   {
    "duration": 5,
    "start_time": "2022-04-22T18:17:50.350Z"
   },
   {
    "duration": 16,
    "start_time": "2022-04-22T18:17:50.357Z"
   },
   {
    "duration": 48,
    "start_time": "2022-04-22T18:17:50.374Z"
   },
   {
    "duration": 3,
    "start_time": "2022-04-22T18:17:50.424Z"
   },
   {
    "duration": 10,
    "start_time": "2022-04-22T18:17:50.431Z"
   },
   {
    "duration": 7,
    "start_time": "2022-04-22T18:17:50.443Z"
   },
   {
    "duration": 5,
    "start_time": "2022-04-22T18:17:50.451Z"
   },
   {
    "duration": 6,
    "start_time": "2022-04-22T18:17:50.457Z"
   },
   {
    "duration": 44,
    "start_time": "2022-04-22T18:17:50.465Z"
   },
   {
    "duration": 6,
    "start_time": "2022-04-22T18:17:50.511Z"
   },
   {
    "duration": 13,
    "start_time": "2022-04-22T18:17:50.518Z"
   },
   {
    "duration": 87,
    "start_time": "2022-04-22T18:17:50.533Z"
   },
   {
    "duration": 5,
    "start_time": "2022-04-22T18:17:50.622Z"
   },
   {
    "duration": 81,
    "start_time": "2022-04-22T18:17:50.629Z"
   },
   {
    "duration": 5,
    "start_time": "2022-04-22T18:17:50.711Z"
   },
   {
    "duration": 29,
    "start_time": "2022-04-22T18:17:50.717Z"
   },
   {
    "duration": 27,
    "start_time": "2022-04-22T18:17:50.748Z"
   },
   {
    "duration": 34,
    "start_time": "2022-04-22T18:17:50.776Z"
   },
   {
    "duration": 24,
    "start_time": "2022-04-22T18:17:50.812Z"
   },
   {
    "duration": 17,
    "start_time": "2022-04-22T18:17:50.837Z"
   },
   {
    "duration": 15,
    "start_time": "2022-04-22T18:17:50.856Z"
   },
   {
    "duration": 16,
    "start_time": "2022-04-22T18:19:00.969Z"
   },
   {
    "duration": 17,
    "start_time": "2022-04-22T18:19:13.424Z"
   },
   {
    "duration": 501,
    "start_time": "2022-04-22T18:21:15.811Z"
   },
   {
    "duration": 30,
    "start_time": "2022-04-22T18:21:16.314Z"
   },
   {
    "duration": 13,
    "start_time": "2022-04-22T18:21:16.348Z"
   },
   {
    "duration": 52,
    "start_time": "2022-04-22T18:21:16.363Z"
   },
   {
    "duration": 18,
    "start_time": "2022-04-22T18:21:16.416Z"
   },
   {
    "duration": 25,
    "start_time": "2022-04-22T18:21:16.436Z"
   },
   {
    "duration": 50,
    "start_time": "2022-04-22T18:21:16.463Z"
   },
   {
    "duration": 13,
    "start_time": "2022-04-22T18:21:16.515Z"
   },
   {
    "duration": 12,
    "start_time": "2022-04-22T18:21:16.531Z"
   },
   {
    "duration": 64,
    "start_time": "2022-04-22T18:21:16.544Z"
   },
   {
    "duration": 6,
    "start_time": "2022-04-22T18:21:16.610Z"
   },
   {
    "duration": 16,
    "start_time": "2022-04-22T18:21:16.618Z"
   },
   {
    "duration": 72,
    "start_time": "2022-04-22T18:21:16.637Z"
   },
   {
    "duration": 615,
    "start_time": "2022-04-22T18:21:16.711Z"
   },
   {
    "duration": 11,
    "start_time": "2022-04-22T18:21:17.329Z"
   },
   {
    "duration": 12,
    "start_time": "2022-04-22T18:21:17.342Z"
   },
   {
    "duration": 58,
    "start_time": "2022-04-22T18:21:17.356Z"
   },
   {
    "duration": 5,
    "start_time": "2022-04-22T18:21:17.416Z"
   },
   {
    "duration": 25,
    "start_time": "2022-04-22T18:21:17.423Z"
   },
   {
    "duration": 463,
    "start_time": "2022-04-22T18:21:17.450Z"
   },
   {
    "duration": 5,
    "start_time": "2022-04-22T18:21:17.915Z"
   },
   {
    "duration": 28,
    "start_time": "2022-04-22T18:21:17.922Z"
   },
   {
    "duration": 20,
    "start_time": "2022-04-22T18:21:17.952Z"
   },
   {
    "duration": 6,
    "start_time": "2022-04-22T18:21:18.007Z"
   },
   {
    "duration": 17,
    "start_time": "2022-04-22T18:21:18.015Z"
   },
   {
    "duration": 20,
    "start_time": "2022-04-22T18:21:18.034Z"
   },
   {
    "duration": 4,
    "start_time": "2022-04-22T18:21:18.059Z"
   },
   {
    "duration": 48,
    "start_time": "2022-04-22T18:21:18.065Z"
   },
   {
    "duration": 10,
    "start_time": "2022-04-22T18:21:18.115Z"
   },
   {
    "duration": 4,
    "start_time": "2022-04-22T18:21:18.127Z"
   },
   {
    "duration": 6,
    "start_time": "2022-04-22T18:21:18.133Z"
   },
   {
    "duration": 6,
    "start_time": "2022-04-22T18:21:18.141Z"
   },
   {
    "duration": 6,
    "start_time": "2022-04-22T18:21:18.148Z"
   },
   {
    "duration": 13,
    "start_time": "2022-04-22T18:21:18.208Z"
   },
   {
    "duration": 85,
    "start_time": "2022-04-22T18:21:18.223Z"
   },
   {
    "duration": 5,
    "start_time": "2022-04-22T18:21:18.310Z"
   },
   {
    "duration": 92,
    "start_time": "2022-04-22T18:21:18.317Z"
   },
   {
    "duration": 5,
    "start_time": "2022-04-22T18:21:18.411Z"
   },
   {
    "duration": 30,
    "start_time": "2022-04-22T18:21:18.417Z"
   },
   {
    "duration": 64,
    "start_time": "2022-04-22T18:21:18.449Z"
   },
   {
    "duration": 8,
    "start_time": "2022-04-22T18:21:18.515Z"
   },
   {
    "duration": 27,
    "start_time": "2022-04-22T18:21:18.525Z"
   },
   {
    "duration": 61,
    "start_time": "2022-04-22T18:21:18.554Z"
   },
   {
    "duration": 19,
    "start_time": "2022-04-22T18:21:22.924Z"
   },
   {
    "duration": 19,
    "start_time": "2022-04-22T18:21:44.524Z"
   },
   {
    "duration": 17,
    "start_time": "2022-04-22T18:21:53.153Z"
   },
   {
    "duration": 17,
    "start_time": "2022-04-22T18:21:54.256Z"
   },
   {
    "duration": 75,
    "start_time": "2022-04-22T18:21:59.757Z"
   },
   {
    "duration": 17,
    "start_time": "2022-04-22T18:22:22.438Z"
   },
   {
    "duration": 450,
    "start_time": "2022-04-22T18:22:50.818Z"
   },
   {
    "duration": 20,
    "start_time": "2022-04-22T18:22:51.270Z"
   },
   {
    "duration": 21,
    "start_time": "2022-04-22T18:22:51.291Z"
   },
   {
    "duration": 34,
    "start_time": "2022-04-22T18:22:51.314Z"
   },
   {
    "duration": 18,
    "start_time": "2022-04-22T18:22:51.349Z"
   },
   {
    "duration": 55,
    "start_time": "2022-04-22T18:22:51.368Z"
   },
   {
    "duration": 8,
    "start_time": "2022-04-22T18:22:51.425Z"
   },
   {
    "duration": 9,
    "start_time": "2022-04-22T18:22:51.435Z"
   },
   {
    "duration": 11,
    "start_time": "2022-04-22T18:22:51.446Z"
   },
   {
    "duration": 61,
    "start_time": "2022-04-22T18:22:51.460Z"
   },
   {
    "duration": 5,
    "start_time": "2022-04-22T18:22:51.522Z"
   },
   {
    "duration": 14,
    "start_time": "2022-04-22T18:22:51.528Z"
   },
   {
    "duration": 17,
    "start_time": "2022-04-22T18:22:51.543Z"
   },
   {
    "duration": 601,
    "start_time": "2022-04-22T18:22:51.561Z"
   },
   {
    "duration": 8,
    "start_time": "2022-04-22T18:22:52.164Z"
   },
   {
    "duration": 24,
    "start_time": "2022-04-22T18:22:52.173Z"
   },
   {
    "duration": 13,
    "start_time": "2022-04-22T18:22:52.207Z"
   },
   {
    "duration": 3,
    "start_time": "2022-04-22T18:22:52.222Z"
   },
   {
    "duration": 21,
    "start_time": "2022-04-22T18:22:52.226Z"
   },
   {
    "duration": 414,
    "start_time": "2022-04-22T18:22:52.249Z"
   },
   {
    "duration": 4,
    "start_time": "2022-04-22T18:22:52.664Z"
   },
   {
    "duration": 22,
    "start_time": "2022-04-22T18:22:52.670Z"
   },
   {
    "duration": 30,
    "start_time": "2022-04-22T18:22:52.693Z"
   },
   {
    "duration": 4,
    "start_time": "2022-04-22T18:22:52.725Z"
   },
   {
    "duration": 15,
    "start_time": "2022-04-22T18:22:52.730Z"
   },
   {
    "duration": 17,
    "start_time": "2022-04-22T18:22:52.747Z"
   },
   {
    "duration": 3,
    "start_time": "2022-04-22T18:22:52.766Z"
   },
   {
    "duration": 11,
    "start_time": "2022-04-22T18:22:52.807Z"
   },
   {
    "duration": 9,
    "start_time": "2022-04-22T18:22:52.819Z"
   },
   {
    "duration": 5,
    "start_time": "2022-04-22T18:22:52.830Z"
   },
   {
    "duration": 9,
    "start_time": "2022-04-22T18:22:52.836Z"
   },
   {
    "duration": 25,
    "start_time": "2022-04-22T18:22:52.846Z"
   },
   {
    "duration": 6,
    "start_time": "2022-04-22T18:22:52.872Z"
   },
   {
    "duration": 13,
    "start_time": "2022-04-22T18:22:52.908Z"
   },
   {
    "duration": 47,
    "start_time": "2022-04-22T18:22:52.922Z"
   },
   {
    "duration": 39,
    "start_time": "2022-04-22T18:22:52.970Z"
   },
   {
    "duration": 47,
    "start_time": "2022-04-22T18:22:53.011Z"
   },
   {
    "duration": 4,
    "start_time": "2022-04-22T18:22:53.060Z"
   },
   {
    "duration": 63,
    "start_time": "2022-04-22T18:22:53.065Z"
   },
   {
    "duration": 24,
    "start_time": "2022-04-22T18:22:53.129Z"
   },
   {
    "duration": 5,
    "start_time": "2022-04-22T18:22:53.154Z"
   },
   {
    "duration": 64,
    "start_time": "2022-04-22T18:22:53.160Z"
   },
   {
    "duration": 14,
    "start_time": "2022-04-22T18:22:53.226Z"
   },
   {
    "duration": 16,
    "start_time": "2022-04-22T18:22:59.040Z"
   },
   {
    "duration": 17,
    "start_time": "2022-04-22T18:23:39.304Z"
   },
   {
    "duration": 466,
    "start_time": "2022-04-30T06:35:46.256Z"
   },
   {
    "duration": 17,
    "start_time": "2022-04-30T06:35:46.724Z"
   },
   {
    "duration": 11,
    "start_time": "2022-04-30T06:35:46.743Z"
   },
   {
    "duration": 28,
    "start_time": "2022-04-30T06:35:46.757Z"
   },
   {
    "duration": 16,
    "start_time": "2022-04-30T06:35:46.787Z"
   },
   {
    "duration": 49,
    "start_time": "2022-04-30T06:35:46.804Z"
   },
   {
    "duration": 7,
    "start_time": "2022-04-30T06:35:46.855Z"
   },
   {
    "duration": 9,
    "start_time": "2022-04-30T06:35:46.864Z"
   },
   {
    "duration": 11,
    "start_time": "2022-04-30T06:35:46.874Z"
   },
   {
    "duration": 14,
    "start_time": "2022-04-30T06:35:46.887Z"
   },
   {
    "duration": 46,
    "start_time": "2022-04-30T06:35:46.902Z"
   },
   {
    "duration": 12,
    "start_time": "2022-04-30T06:35:46.949Z"
   },
   {
    "duration": 18,
    "start_time": "2022-04-30T06:35:46.963Z"
   },
   {
    "duration": 698,
    "start_time": "2022-04-30T06:35:46.982Z"
   },
   {
    "duration": 8,
    "start_time": "2022-04-30T06:35:47.682Z"
   },
   {
    "duration": 10,
    "start_time": "2022-04-30T06:35:47.691Z"
   },
   {
    "duration": 13,
    "start_time": "2022-04-30T06:35:47.703Z"
   },
   {
    "duration": 32,
    "start_time": "2022-04-30T06:35:47.717Z"
   },
   {
    "duration": 21,
    "start_time": "2022-04-30T06:35:47.750Z"
   },
   {
    "duration": 349,
    "start_time": "2022-04-30T06:35:47.772Z"
   },
   {
    "duration": 3,
    "start_time": "2022-04-30T06:35:48.123Z"
   },
   {
    "duration": 31,
    "start_time": "2022-04-30T06:35:48.128Z"
   },
   {
    "duration": 16,
    "start_time": "2022-04-30T06:35:48.161Z"
   },
   {
    "duration": 5,
    "start_time": "2022-04-30T06:35:48.178Z"
   },
   {
    "duration": 15,
    "start_time": "2022-04-30T06:35:48.184Z"
   },
   {
    "duration": 16,
    "start_time": "2022-04-30T06:35:48.201Z"
   },
   {
    "duration": 4,
    "start_time": "2022-04-30T06:35:48.218Z"
   },
   {
    "duration": 10,
    "start_time": "2022-04-30T06:35:48.247Z"
   },
   {
    "duration": 10,
    "start_time": "2022-04-30T06:35:48.259Z"
   },
   {
    "duration": 5,
    "start_time": "2022-04-30T06:35:48.270Z"
   },
   {
    "duration": 6,
    "start_time": "2022-04-30T06:35:48.276Z"
   },
   {
    "duration": 10,
    "start_time": "2022-04-30T06:35:48.283Z"
   },
   {
    "duration": 4,
    "start_time": "2022-04-30T06:35:48.294Z"
   },
   {
    "duration": 12,
    "start_time": "2022-04-30T06:35:48.300Z"
   },
   {
    "duration": 77,
    "start_time": "2022-04-30T06:35:48.313Z"
   },
   {
    "duration": 4,
    "start_time": "2022-04-30T06:35:48.391Z"
   },
   {
    "duration": 77,
    "start_time": "2022-04-30T06:35:48.397Z"
   },
   {
    "duration": 4,
    "start_time": "2022-04-30T06:35:48.476Z"
   },
   {
    "duration": 25,
    "start_time": "2022-04-30T06:35:48.481Z"
   },
   {
    "duration": 47,
    "start_time": "2022-04-30T06:35:48.508Z"
   },
   {
    "duration": 4,
    "start_time": "2022-04-30T06:35:48.557Z"
   },
   {
    "duration": 24,
    "start_time": "2022-04-30T06:35:48.563Z"
   },
   {
    "duration": 14,
    "start_time": "2022-04-30T06:35:48.589Z"
   },
   {
    "duration": 44,
    "start_time": "2022-04-30T06:35:48.604Z"
   },
   {
    "duration": 128,
    "start_time": "2022-04-30T06:40:40.520Z"
   },
   {
    "duration": 14,
    "start_time": "2022-04-30T06:44:44.765Z"
   },
   {
    "duration": 3,
    "start_time": "2022-04-30T06:45:21.645Z"
   },
   {
    "duration": 13,
    "start_time": "2022-04-30T06:45:23.191Z"
   },
   {
    "duration": 441,
    "start_time": "2022-04-30T06:46:09.971Z"
   },
   {
    "duration": 18,
    "start_time": "2022-04-30T06:46:10.414Z"
   },
   {
    "duration": 15,
    "start_time": "2022-04-30T06:46:10.433Z"
   },
   {
    "duration": 31,
    "start_time": "2022-04-30T06:46:10.449Z"
   },
   {
    "duration": 16,
    "start_time": "2022-04-30T06:46:10.482Z"
   },
   {
    "duration": 48,
    "start_time": "2022-04-30T06:46:10.499Z"
   },
   {
    "duration": 8,
    "start_time": "2022-04-30T06:46:10.549Z"
   },
   {
    "duration": 9,
    "start_time": "2022-04-30T06:46:10.559Z"
   },
   {
    "duration": 12,
    "start_time": "2022-04-30T06:46:10.569Z"
   },
   {
    "duration": 78,
    "start_time": "2022-04-30T06:46:10.584Z"
   },
   {
    "duration": 0,
    "start_time": "2022-04-30T06:46:10.664Z"
   },
   {
    "duration": 0,
    "start_time": "2022-04-30T06:46:10.665Z"
   },
   {
    "duration": 0,
    "start_time": "2022-04-30T06:46:10.666Z"
   },
   {
    "duration": 0,
    "start_time": "2022-04-30T06:46:10.667Z"
   },
   {
    "duration": 0,
    "start_time": "2022-04-30T06:46:10.667Z"
   },
   {
    "duration": 0,
    "start_time": "2022-04-30T06:46:10.668Z"
   },
   {
    "duration": 0,
    "start_time": "2022-04-30T06:46:10.669Z"
   },
   {
    "duration": 0,
    "start_time": "2022-04-30T06:46:10.670Z"
   },
   {
    "duration": 0,
    "start_time": "2022-04-30T06:46:10.671Z"
   },
   {
    "duration": 0,
    "start_time": "2022-04-30T06:46:10.672Z"
   },
   {
    "duration": 0,
    "start_time": "2022-04-30T06:46:10.673Z"
   },
   {
    "duration": 0,
    "start_time": "2022-04-30T06:46:10.673Z"
   },
   {
    "duration": 0,
    "start_time": "2022-04-30T06:46:10.674Z"
   },
   {
    "duration": 0,
    "start_time": "2022-04-30T06:46:10.675Z"
   },
   {
    "duration": 0,
    "start_time": "2022-04-30T06:46:10.676Z"
   },
   {
    "duration": 0,
    "start_time": "2022-04-30T06:46:10.677Z"
   },
   {
    "duration": 0,
    "start_time": "2022-04-30T06:46:10.678Z"
   },
   {
    "duration": 0,
    "start_time": "2022-04-30T06:46:10.678Z"
   },
   {
    "duration": 0,
    "start_time": "2022-04-30T06:46:10.679Z"
   },
   {
    "duration": 0,
    "start_time": "2022-04-30T06:46:10.680Z"
   },
   {
    "duration": 0,
    "start_time": "2022-04-30T06:46:10.681Z"
   },
   {
    "duration": 0,
    "start_time": "2022-04-30T06:46:10.682Z"
   },
   {
    "duration": 0,
    "start_time": "2022-04-30T06:46:10.682Z"
   },
   {
    "duration": 0,
    "start_time": "2022-04-30T06:46:10.684Z"
   },
   {
    "duration": 0,
    "start_time": "2022-04-30T06:46:10.684Z"
   },
   {
    "duration": 0,
    "start_time": "2022-04-30T06:46:10.685Z"
   },
   {
    "duration": 0,
    "start_time": "2022-04-30T06:46:10.686Z"
   },
   {
    "duration": 0,
    "start_time": "2022-04-30T06:46:10.687Z"
   },
   {
    "duration": 0,
    "start_time": "2022-04-30T06:46:10.688Z"
   },
   {
    "duration": 0,
    "start_time": "2022-04-30T06:46:10.689Z"
   },
   {
    "duration": 0,
    "start_time": "2022-04-30T06:46:10.689Z"
   },
   {
    "duration": 0,
    "start_time": "2022-04-30T06:46:10.690Z"
   },
   {
    "duration": 0,
    "start_time": "2022-04-30T06:46:10.691Z"
   },
   {
    "duration": 0,
    "start_time": "2022-04-30T06:46:10.692Z"
   },
   {
    "duration": 0,
    "start_time": "2022-04-30T06:46:10.693Z"
   },
   {
    "duration": 19,
    "start_time": "2022-04-30T06:46:25.103Z"
   },
   {
    "duration": 3,
    "start_time": "2022-04-30T06:46:53.912Z"
   },
   {
    "duration": 4,
    "start_time": "2022-04-30T06:47:11.358Z"
   },
   {
    "duration": 4,
    "start_time": "2022-04-30T06:47:15.520Z"
   },
   {
    "duration": 3,
    "start_time": "2022-04-30T06:47:31.489Z"
   },
   {
    "duration": 5,
    "start_time": "2022-04-30T06:47:37.360Z"
   },
   {
    "duration": 3,
    "start_time": "2022-04-30T06:47:37.584Z"
   },
   {
    "duration": 10,
    "start_time": "2022-04-30T06:47:46.150Z"
   },
   {
    "duration": 6,
    "start_time": "2022-04-30T06:49:42.849Z"
   },
   {
    "duration": 19,
    "start_time": "2022-04-30T06:49:49.849Z"
   },
   {
    "duration": 16,
    "start_time": "2022-04-30T06:50:12.652Z"
   },
   {
    "duration": 12,
    "start_time": "2022-04-30T06:50:25.743Z"
   },
   {
    "duration": 9,
    "start_time": "2022-04-30T06:52:15.850Z"
   },
   {
    "duration": 9,
    "start_time": "2022-04-30T06:52:26.732Z"
   },
   {
    "duration": 411,
    "start_time": "2022-04-30T07:03:53.705Z"
   },
   {
    "duration": 17,
    "start_time": "2022-04-30T07:03:54.118Z"
   },
   {
    "duration": 20,
    "start_time": "2022-04-30T07:03:54.137Z"
   },
   {
    "duration": 29,
    "start_time": "2022-04-30T07:03:54.159Z"
   },
   {
    "duration": 16,
    "start_time": "2022-04-30T07:03:54.189Z"
   },
   {
    "duration": 50,
    "start_time": "2022-04-30T07:03:54.207Z"
   },
   {
    "duration": 7,
    "start_time": "2022-04-30T07:03:54.258Z"
   },
   {
    "duration": 9,
    "start_time": "2022-04-30T07:03:54.267Z"
   },
   {
    "duration": 10,
    "start_time": "2022-04-30T07:03:54.277Z"
   },
   {
    "duration": 14,
    "start_time": "2022-04-30T07:03:54.290Z"
   },
   {
    "duration": 45,
    "start_time": "2022-04-30T07:03:54.305Z"
   },
   {
    "duration": 14,
    "start_time": "2022-04-30T07:03:54.351Z"
   },
   {
    "duration": 16,
    "start_time": "2022-04-30T07:03:54.366Z"
   },
   {
    "duration": 544,
    "start_time": "2022-04-30T07:03:54.383Z"
   },
   {
    "duration": 7,
    "start_time": "2022-04-30T07:03:54.929Z"
   },
   {
    "duration": 10,
    "start_time": "2022-04-30T07:03:54.947Z"
   },
   {
    "duration": 12,
    "start_time": "2022-04-30T07:03:54.958Z"
   },
   {
    "duration": 4,
    "start_time": "2022-04-30T07:03:54.971Z"
   },
   {
    "duration": 18,
    "start_time": "2022-04-30T07:03:54.976Z"
   },
   {
    "duration": 367,
    "start_time": "2022-04-30T07:03:54.996Z"
   },
   {
    "duration": 4,
    "start_time": "2022-04-30T07:03:55.364Z"
   },
   {
    "duration": 21,
    "start_time": "2022-04-30T07:03:55.369Z"
   },
   {
    "duration": 15,
    "start_time": "2022-04-30T07:03:55.392Z"
   },
   {
    "duration": 4,
    "start_time": "2022-04-30T07:03:55.409Z"
   },
   {
    "duration": 42,
    "start_time": "2022-04-30T07:03:55.415Z"
   },
   {
    "duration": 18,
    "start_time": "2022-04-30T07:03:55.459Z"
   },
   {
    "duration": 4,
    "start_time": "2022-04-30T07:03:55.479Z"
   },
   {
    "duration": 11,
    "start_time": "2022-04-30T07:03:55.486Z"
   },
   {
    "duration": 10,
    "start_time": "2022-04-30T07:03:55.499Z"
   },
   {
    "duration": 4,
    "start_time": "2022-04-30T07:03:55.511Z"
   },
   {
    "duration": 34,
    "start_time": "2022-04-30T07:03:55.517Z"
   },
   {
    "duration": 7,
    "start_time": "2022-04-30T07:03:55.553Z"
   },
   {
    "duration": 6,
    "start_time": "2022-04-30T07:03:55.561Z"
   },
   {
    "duration": 13,
    "start_time": "2022-04-30T07:03:55.568Z"
   },
   {
    "duration": 85,
    "start_time": "2022-04-30T07:03:55.583Z"
   },
   {
    "duration": 4,
    "start_time": "2022-04-30T07:03:55.670Z"
   },
   {
    "duration": 84,
    "start_time": "2022-04-30T07:03:55.676Z"
   },
   {
    "duration": 4,
    "start_time": "2022-04-30T07:03:55.762Z"
   },
   {
    "duration": 27,
    "start_time": "2022-04-30T07:03:55.768Z"
   },
   {
    "duration": 58,
    "start_time": "2022-04-30T07:03:55.797Z"
   },
   {
    "duration": 5,
    "start_time": "2022-04-30T07:03:55.857Z"
   },
   {
    "duration": 22,
    "start_time": "2022-04-30T07:03:55.864Z"
   },
   {
    "duration": 16,
    "start_time": "2022-04-30T07:03:55.888Z"
   },
   {
    "duration": 48,
    "start_time": "2022-04-30T07:03:55.906Z"
   },
   {
    "duration": 3,
    "start_time": "2022-04-30T07:08:58.389Z"
   },
   {
    "duration": 432,
    "start_time": "2022-04-30T07:11:32.883Z"
   },
   {
    "duration": 18,
    "start_time": "2022-04-30T07:11:33.318Z"
   },
   {
    "duration": 21,
    "start_time": "2022-04-30T07:11:33.338Z"
   },
   {
    "duration": 29,
    "start_time": "2022-04-30T07:11:33.361Z"
   },
   {
    "duration": 16,
    "start_time": "2022-04-30T07:11:33.391Z"
   },
   {
    "duration": 51,
    "start_time": "2022-04-30T07:11:33.408Z"
   },
   {
    "duration": 7,
    "start_time": "2022-04-30T07:11:33.461Z"
   },
   {
    "duration": 15,
    "start_time": "2022-04-30T07:11:33.469Z"
   },
   {
    "duration": 15,
    "start_time": "2022-04-30T07:11:33.486Z"
   },
   {
    "duration": 51,
    "start_time": "2022-04-30T07:11:33.504Z"
   },
   {
    "duration": 5,
    "start_time": "2022-04-30T07:11:33.557Z"
   },
   {
    "duration": 15,
    "start_time": "2022-04-30T07:11:33.564Z"
   },
   {
    "duration": 17,
    "start_time": "2022-04-30T07:11:33.580Z"
   },
   {
    "duration": 590,
    "start_time": "2022-04-30T07:11:33.599Z"
   },
   {
    "duration": 7,
    "start_time": "2022-04-30T07:11:34.191Z"
   },
   {
    "duration": 8,
    "start_time": "2022-04-30T07:11:34.200Z"
   },
   {
    "duration": 38,
    "start_time": "2022-04-30T07:11:34.210Z"
   },
   {
    "duration": 3,
    "start_time": "2022-04-30T07:11:34.250Z"
   },
   {
    "duration": 20,
    "start_time": "2022-04-30T07:11:34.255Z"
   },
   {
    "duration": 360,
    "start_time": "2022-04-30T07:11:34.277Z"
   },
   {
    "duration": 9,
    "start_time": "2022-04-30T07:11:34.639Z"
   },
   {
    "duration": 24,
    "start_time": "2022-04-30T07:11:34.649Z"
   },
   {
    "duration": 16,
    "start_time": "2022-04-30T07:11:34.675Z"
   },
   {
    "duration": 5,
    "start_time": "2022-04-30T07:11:34.692Z"
   },
   {
    "duration": 15,
    "start_time": "2022-04-30T07:11:34.698Z"
   },
   {
    "duration": 42,
    "start_time": "2022-04-30T07:11:34.714Z"
   },
   {
    "duration": 5,
    "start_time": "2022-04-30T07:11:34.757Z"
   },
   {
    "duration": 13,
    "start_time": "2022-04-30T07:11:34.764Z"
   },
   {
    "duration": 8,
    "start_time": "2022-04-30T07:11:34.779Z"
   },
   {
    "duration": 4,
    "start_time": "2022-04-30T07:11:34.788Z"
   },
   {
    "duration": 8,
    "start_time": "2022-04-30T07:11:34.793Z"
   },
   {
    "duration": 6,
    "start_time": "2022-04-30T07:11:34.802Z"
   },
   {
    "duration": 5,
    "start_time": "2022-04-30T07:11:34.810Z"
   },
   {
    "duration": 36,
    "start_time": "2022-04-30T07:11:34.817Z"
   },
   {
    "duration": 44,
    "start_time": "2022-04-30T07:11:34.855Z"
   },
   {
    "duration": 4,
    "start_time": "2022-04-30T07:11:34.901Z"
   },
   {
    "duration": 82,
    "start_time": "2022-04-30T07:11:34.906Z"
   },
   {
    "duration": 3,
    "start_time": "2022-04-30T07:11:34.990Z"
   },
   {
    "duration": 53,
    "start_time": "2022-04-30T07:11:34.995Z"
   },
   {
    "duration": 24,
    "start_time": "2022-04-30T07:11:35.050Z"
   },
   {
    "duration": 5,
    "start_time": "2022-04-30T07:11:35.075Z"
   },
   {
    "duration": 24,
    "start_time": "2022-04-30T07:11:35.081Z"
   },
   {
    "duration": 44,
    "start_time": "2022-04-30T07:11:35.107Z"
   },
   {
    "duration": 15,
    "start_time": "2022-04-30T07:11:35.152Z"
   },
   {
    "duration": 444,
    "start_time": "2022-04-30T07:24:36.677Z"
   },
   {
    "duration": 18,
    "start_time": "2022-04-30T07:24:37.123Z"
   },
   {
    "duration": 14,
    "start_time": "2022-04-30T07:24:37.142Z"
   },
   {
    "duration": 31,
    "start_time": "2022-04-30T07:24:37.158Z"
   },
   {
    "duration": 17,
    "start_time": "2022-04-30T07:24:37.191Z"
   },
   {
    "duration": 44,
    "start_time": "2022-04-30T07:24:37.210Z"
   },
   {
    "duration": 7,
    "start_time": "2022-04-30T07:24:37.256Z"
   },
   {
    "duration": 10,
    "start_time": "2022-04-30T07:24:37.265Z"
   },
   {
    "duration": 12,
    "start_time": "2022-04-30T07:24:37.276Z"
   },
   {
    "duration": 15,
    "start_time": "2022-04-30T07:24:37.289Z"
   },
   {
    "duration": 46,
    "start_time": "2022-04-30T07:24:37.306Z"
   },
   {
    "duration": 15,
    "start_time": "2022-04-30T07:24:37.354Z"
   },
   {
    "duration": 19,
    "start_time": "2022-04-30T07:24:37.370Z"
   },
   {
    "duration": 596,
    "start_time": "2022-04-30T07:24:37.393Z"
   },
   {
    "duration": 9,
    "start_time": "2022-04-30T07:24:37.991Z"
   },
   {
    "duration": 9,
    "start_time": "2022-04-30T07:24:38.002Z"
   },
   {
    "duration": 42,
    "start_time": "2022-04-30T07:24:38.013Z"
   },
   {
    "duration": 4,
    "start_time": "2022-04-30T07:24:38.057Z"
   },
   {
    "duration": 19,
    "start_time": "2022-04-30T07:24:38.063Z"
   },
   {
    "duration": 375,
    "start_time": "2022-04-30T07:24:38.084Z"
   },
   {
    "duration": 4,
    "start_time": "2022-04-30T07:24:38.461Z"
   },
   {
    "duration": 19,
    "start_time": "2022-04-30T07:24:38.467Z"
   },
   {
    "duration": 17,
    "start_time": "2022-04-30T07:24:38.488Z"
   },
   {
    "duration": 6,
    "start_time": "2022-04-30T07:24:38.507Z"
   },
   {
    "duration": 43,
    "start_time": "2022-04-30T07:24:38.515Z"
   },
   {
    "duration": 17,
    "start_time": "2022-04-30T07:24:38.560Z"
   },
   {
    "duration": 4,
    "start_time": "2022-04-30T07:24:38.579Z"
   },
   {
    "duration": 11,
    "start_time": "2022-04-30T07:24:38.585Z"
   },
   {
    "duration": 7,
    "start_time": "2022-04-30T07:24:38.598Z"
   },
   {
    "duration": 5,
    "start_time": "2022-04-30T07:24:38.606Z"
   },
   {
    "duration": 6,
    "start_time": "2022-04-30T07:24:38.648Z"
   },
   {
    "duration": 7,
    "start_time": "2022-04-30T07:24:38.656Z"
   },
   {
    "duration": 5,
    "start_time": "2022-04-30T07:24:38.665Z"
   },
   {
    "duration": 13,
    "start_time": "2022-04-30T07:24:38.672Z"
   },
   {
    "duration": 85,
    "start_time": "2022-04-30T07:24:38.686Z"
   },
   {
    "duration": 4,
    "start_time": "2022-04-30T07:24:38.773Z"
   },
   {
    "duration": 78,
    "start_time": "2022-04-30T07:24:38.779Z"
   },
   {
    "duration": 4,
    "start_time": "2022-04-30T07:24:38.859Z"
   },
   {
    "duration": 25,
    "start_time": "2022-04-30T07:24:38.865Z"
   },
   {
    "duration": 24,
    "start_time": "2022-04-30T07:24:38.891Z"
   },
   {
    "duration": 6,
    "start_time": "2022-04-30T07:24:38.950Z"
   },
   {
    "duration": 25,
    "start_time": "2022-04-30T07:24:38.958Z"
   },
   {
    "duration": 15,
    "start_time": "2022-04-30T07:24:38.985Z"
   },
   {
    "duration": 14,
    "start_time": "2022-04-30T07:24:39.002Z"
   },
   {
    "duration": 604,
    "start_time": "2022-04-30T20:21:29.581Z"
   },
   {
    "duration": 29,
    "start_time": "2022-04-30T20:21:30.188Z"
   },
   {
    "duration": 20,
    "start_time": "2022-04-30T20:21:30.219Z"
   },
   {
    "duration": 69,
    "start_time": "2022-04-30T20:21:30.242Z"
   },
   {
    "duration": 26,
    "start_time": "2022-04-30T20:21:30.314Z"
   },
   {
    "duration": 66,
    "start_time": "2022-04-30T20:21:30.342Z"
   },
   {
    "duration": 13,
    "start_time": "2022-04-30T20:21:30.410Z"
   },
   {
    "duration": 18,
    "start_time": "2022-04-30T20:21:30.425Z"
   },
   {
    "duration": 57,
    "start_time": "2022-04-30T20:21:30.445Z"
   },
   {
    "duration": 15,
    "start_time": "2022-04-30T20:21:30.506Z"
   },
   {
    "duration": 53,
    "start_time": "2022-04-30T20:21:30.523Z"
   },
   {
    "duration": 20,
    "start_time": "2022-04-30T20:21:30.579Z"
   },
   {
    "duration": 33,
    "start_time": "2022-04-30T20:21:30.602Z"
   },
   {
    "duration": 57,
    "start_time": "2022-04-30T20:21:30.638Z"
   },
   {
    "duration": 1160,
    "start_time": "2022-04-30T20:21:30.698Z"
   },
   {
    "duration": 13,
    "start_time": "2022-04-30T20:21:31.861Z"
   },
   {
    "duration": 16,
    "start_time": "2022-04-30T20:21:31.893Z"
   },
   {
    "duration": 24,
    "start_time": "2022-04-30T20:21:31.912Z"
   },
   {
    "duration": 7,
    "start_time": "2022-04-30T20:21:31.938Z"
   },
   {
    "duration": 72,
    "start_time": "2022-04-30T20:21:31.947Z"
   },
   {
    "duration": 587,
    "start_time": "2022-04-30T20:21:32.021Z"
   },
   {
    "duration": 5,
    "start_time": "2022-04-30T20:21:32.611Z"
   },
   {
    "duration": 36,
    "start_time": "2022-04-30T20:21:32.618Z"
   },
   {
    "duration": 46,
    "start_time": "2022-04-30T20:21:32.656Z"
   },
   {
    "duration": 7,
    "start_time": "2022-04-30T20:21:32.705Z"
   },
   {
    "duration": 25,
    "start_time": "2022-04-30T20:21:32.715Z"
   },
   {
    "duration": 53,
    "start_time": "2022-04-30T20:21:32.742Z"
   },
   {
    "duration": 5,
    "start_time": "2022-04-30T20:21:32.800Z"
   },
   {
    "duration": 22,
    "start_time": "2022-04-30T20:21:32.808Z"
   },
   {
    "duration": 13,
    "start_time": "2022-04-30T20:21:32.833Z"
   },
   {
    "duration": 5,
    "start_time": "2022-04-30T20:21:32.849Z"
   },
   {
    "duration": 38,
    "start_time": "2022-04-30T20:21:32.857Z"
   },
   {
    "duration": 8,
    "start_time": "2022-04-30T20:21:32.897Z"
   },
   {
    "duration": 12,
    "start_time": "2022-04-30T20:21:32.907Z"
   },
   {
    "duration": 33,
    "start_time": "2022-04-30T20:21:32.921Z"
   },
   {
    "duration": 103,
    "start_time": "2022-04-30T20:21:32.957Z"
   },
   {
    "duration": 31,
    "start_time": "2022-04-30T20:21:33.062Z"
   },
   {
    "duration": 98,
    "start_time": "2022-04-30T20:21:33.095Z"
   },
   {
    "duration": 5,
    "start_time": "2022-04-30T20:21:33.195Z"
   },
   {
    "duration": 39,
    "start_time": "2022-04-30T20:21:33.202Z"
   },
   {
    "duration": 68,
    "start_time": "2022-04-30T20:21:33.243Z"
   },
   {
    "duration": 7,
    "start_time": "2022-04-30T20:21:33.313Z"
   },
   {
    "duration": 39,
    "start_time": "2022-04-30T20:21:33.322Z"
   },
   {
    "duration": 51,
    "start_time": "2022-04-30T20:21:33.363Z"
   },
   {
    "duration": 22,
    "start_time": "2022-04-30T20:21:33.416Z"
   },
   {
    "duration": 15,
    "start_time": "2022-04-30T20:21:58.842Z"
   },
   {
    "duration": 15,
    "start_time": "2022-04-30T20:22:04.055Z"
   },
   {
    "duration": 17,
    "start_time": "2022-04-30T20:22:04.982Z"
   },
   {
    "duration": 30,
    "start_time": "2022-04-30T20:22:11.271Z"
   },
   {
    "duration": 15,
    "start_time": "2022-04-30T20:22:34.152Z"
   },
   {
    "duration": 14,
    "start_time": "2022-04-30T20:23:33.344Z"
   },
   {
    "duration": 660,
    "start_time": "2022-04-30T20:23:40.754Z"
   },
   {
    "duration": 31,
    "start_time": "2022-04-30T20:23:41.417Z"
   },
   {
    "duration": 19,
    "start_time": "2022-04-30T20:23:41.450Z"
   },
   {
    "duration": 45,
    "start_time": "2022-04-30T20:23:41.495Z"
   },
   {
    "duration": 53,
    "start_time": "2022-04-30T20:23:41.543Z"
   },
   {
    "duration": 48,
    "start_time": "2022-04-30T20:23:41.599Z"
   },
   {
    "duration": 47,
    "start_time": "2022-04-30T20:23:41.649Z"
   },
   {
    "duration": 13,
    "start_time": "2022-04-30T20:23:41.698Z"
   },
   {
    "duration": 22,
    "start_time": "2022-04-30T20:23:41.713Z"
   },
   {
    "duration": 13,
    "start_time": "2022-04-30T20:23:41.739Z"
   },
   {
    "duration": 67,
    "start_time": "2022-04-30T20:23:41.755Z"
   },
   {
    "duration": 10,
    "start_time": "2022-04-30T20:23:41.825Z"
   },
   {
    "duration": 17,
    "start_time": "2022-04-30T20:23:41.837Z"
   },
   {
    "duration": 26,
    "start_time": "2022-04-30T20:23:41.894Z"
   },
   {
    "duration": 904,
    "start_time": "2022-04-30T20:23:41.923Z"
   },
   {
    "duration": 11,
    "start_time": "2022-04-30T20:23:42.829Z"
   },
   {
    "duration": 16,
    "start_time": "2022-04-30T20:23:42.842Z"
   },
   {
    "duration": 45,
    "start_time": "2022-04-30T20:23:42.860Z"
   },
   {
    "duration": 5,
    "start_time": "2022-04-30T20:23:42.907Z"
   },
   {
    "duration": 33,
    "start_time": "2022-04-30T20:23:42.914Z"
   },
   {
    "duration": 606,
    "start_time": "2022-04-30T20:23:42.950Z"
   },
   {
    "duration": 5,
    "start_time": "2022-04-30T20:23:43.559Z"
   },
   {
    "duration": 47,
    "start_time": "2022-04-30T20:23:43.566Z"
   },
   {
    "duration": 25,
    "start_time": "2022-04-30T20:23:43.615Z"
   },
   {
    "duration": 7,
    "start_time": "2022-04-30T20:23:43.642Z"
   },
   {
    "duration": 44,
    "start_time": "2022-04-30T20:23:43.651Z"
   },
   {
    "duration": 26,
    "start_time": "2022-04-30T20:23:43.697Z"
   },
   {
    "duration": 5,
    "start_time": "2022-04-30T20:23:43.728Z"
   },
   {
    "duration": 20,
    "start_time": "2022-04-30T20:23:43.735Z"
   },
   {
    "duration": 42,
    "start_time": "2022-04-30T20:23:43.757Z"
   },
   {
    "duration": 5,
    "start_time": "2022-04-30T20:23:43.802Z"
   },
   {
    "duration": 8,
    "start_time": "2022-04-30T20:23:43.809Z"
   },
   {
    "duration": 9,
    "start_time": "2022-04-30T20:23:43.819Z"
   },
   {
    "duration": 7,
    "start_time": "2022-04-30T20:23:43.830Z"
   },
   {
    "duration": 60,
    "start_time": "2022-04-30T20:23:43.839Z"
   },
   {
    "duration": 100,
    "start_time": "2022-04-30T20:23:43.902Z"
   },
   {
    "duration": 6,
    "start_time": "2022-04-30T20:23:44.004Z"
   },
   {
    "duration": 110,
    "start_time": "2022-04-30T20:23:44.012Z"
   },
   {
    "duration": 6,
    "start_time": "2022-04-30T20:23:44.124Z"
   },
   {
    "duration": 68,
    "start_time": "2022-04-30T20:23:44.132Z"
   },
   {
    "duration": 37,
    "start_time": "2022-04-30T20:23:44.202Z"
   },
   {
    "duration": 7,
    "start_time": "2022-04-30T20:23:44.242Z"
   },
   {
    "duration": 73,
    "start_time": "2022-04-30T20:23:44.251Z"
   },
   {
    "duration": 26,
    "start_time": "2022-04-30T20:23:44.326Z"
   },
   {
    "duration": 49,
    "start_time": "2022-04-30T20:23:44.355Z"
   },
   {
    "duration": 125,
    "start_time": "2022-04-30T20:24:07.289Z"
   },
   {
    "duration": 15,
    "start_time": "2022-04-30T20:24:11.661Z"
   },
   {
    "duration": 36,
    "start_time": "2022-04-30T20:24:15.080Z"
   },
   {
    "duration": 42,
    "start_time": "2022-04-30T20:24:26.609Z"
   },
   {
    "duration": 42,
    "start_time": "2022-04-30T20:24:31.139Z"
   },
   {
    "duration": 40,
    "start_time": "2022-04-30T20:24:46.563Z"
   },
   {
    "duration": 16,
    "start_time": "2022-04-30T20:24:52.483Z"
   },
   {
    "duration": 16,
    "start_time": "2022-04-30T20:25:20.853Z"
   },
   {
    "duration": 40,
    "start_time": "2022-04-30T20:25:32.013Z"
   },
   {
    "duration": 11,
    "start_time": "2022-04-30T20:29:15.673Z"
   },
   {
    "duration": 25,
    "start_time": "2022-04-30T20:29:31.407Z"
   },
   {
    "duration": 34,
    "start_time": "2022-04-30T20:32:52.216Z"
   },
   {
    "duration": 12,
    "start_time": "2022-04-30T20:34:20.199Z"
   },
   {
    "duration": 633,
    "start_time": "2022-04-30T20:34:39.490Z"
   },
   {
    "duration": 31,
    "start_time": "2022-04-30T20:34:40.126Z"
   },
   {
    "duration": 36,
    "start_time": "2022-04-30T20:34:40.160Z"
   },
   {
    "duration": 50,
    "start_time": "2022-04-30T20:34:40.200Z"
   },
   {
    "duration": 46,
    "start_time": "2022-04-30T20:34:40.252Z"
   },
   {
    "duration": 37,
    "start_time": "2022-04-30T20:34:40.301Z"
   },
   {
    "duration": 55,
    "start_time": "2022-04-30T20:34:40.340Z"
   },
   {
    "duration": 20,
    "start_time": "2022-04-30T20:34:40.398Z"
   },
   {
    "duration": 27,
    "start_time": "2022-04-30T20:34:40.420Z"
   },
   {
    "duration": 43,
    "start_time": "2022-04-30T20:34:40.452Z"
   },
   {
    "duration": 31,
    "start_time": "2022-04-30T20:34:40.498Z"
   },
   {
    "duration": 8,
    "start_time": "2022-04-30T20:34:40.531Z"
   },
   {
    "duration": 58,
    "start_time": "2022-04-30T20:34:40.542Z"
   },
   {
    "duration": 29,
    "start_time": "2022-04-30T20:34:40.602Z"
   },
   {
    "duration": 933,
    "start_time": "2022-04-30T20:34:40.633Z"
   },
   {
    "duration": 28,
    "start_time": "2022-04-30T20:34:41.568Z"
   },
   {
    "duration": 16,
    "start_time": "2022-04-30T20:34:41.598Z"
   },
   {
    "duration": 18,
    "start_time": "2022-04-30T20:34:41.617Z"
   },
   {
    "duration": 5,
    "start_time": "2022-04-30T20:34:41.637Z"
   },
   {
    "duration": 73,
    "start_time": "2022-04-30T20:34:41.644Z"
   },
   {
    "duration": 620,
    "start_time": "2022-04-30T20:34:41.720Z"
   },
   {
    "duration": 6,
    "start_time": "2022-04-30T20:34:42.342Z"
   },
   {
    "duration": 55,
    "start_time": "2022-04-30T20:34:42.350Z"
   },
   {
    "duration": 27,
    "start_time": "2022-04-30T20:34:42.407Z"
   },
   {
    "duration": 8,
    "start_time": "2022-04-30T20:34:42.436Z"
   },
   {
    "duration": 48,
    "start_time": "2022-04-30T20:34:42.446Z"
   },
   {
    "duration": 26,
    "start_time": "2022-04-30T20:34:42.497Z"
   },
   {
    "duration": 5,
    "start_time": "2022-04-30T20:34:42.530Z"
   },
   {
    "duration": 17,
    "start_time": "2022-04-30T20:34:42.538Z"
   },
   {
    "duration": 10,
    "start_time": "2022-04-30T20:34:42.593Z"
   },
   {
    "duration": 6,
    "start_time": "2022-04-30T20:34:42.606Z"
   },
   {
    "duration": 13,
    "start_time": "2022-04-30T20:34:42.615Z"
   },
   {
    "duration": 8,
    "start_time": "2022-04-30T20:34:42.630Z"
   },
   {
    "duration": 9,
    "start_time": "2022-04-30T20:34:42.640Z"
   },
   {
    "duration": 19,
    "start_time": "2022-04-30T20:34:42.694Z"
   },
   {
    "duration": 108,
    "start_time": "2022-04-30T20:34:42.715Z"
   },
   {
    "duration": 6,
    "start_time": "2022-04-30T20:34:42.825Z"
   },
   {
    "duration": 114,
    "start_time": "2022-04-30T20:34:42.834Z"
   },
   {
    "duration": 7,
    "start_time": "2022-04-30T20:34:42.950Z"
   },
   {
    "duration": 73,
    "start_time": "2022-04-30T20:34:42.960Z"
   },
   {
    "duration": 72,
    "start_time": "2022-04-30T20:34:43.035Z"
   },
   {
    "duration": 7,
    "start_time": "2022-04-30T20:34:43.110Z"
   },
   {
    "duration": 40,
    "start_time": "2022-04-30T20:34:43.119Z"
   },
   {
    "duration": 52,
    "start_time": "2022-04-30T20:34:43.161Z"
   },
   {
    "duration": 27,
    "start_time": "2022-04-30T20:34:43.216Z"
   },
   {
    "duration": 16,
    "start_time": "2022-04-30T20:35:41.750Z"
   },
   {
    "duration": 3593,
    "start_time": "2022-04-30T20:35:48.311Z"
   },
   {
    "duration": 15,
    "start_time": "2022-04-30T20:35:55.755Z"
   },
   {
    "duration": 16,
    "start_time": "2022-04-30T20:36:05.113Z"
   },
   {
    "duration": 3387,
    "start_time": "2022-04-30T20:36:10.246Z"
   },
   {
    "duration": 108,
    "start_time": "2022-04-30T20:37:54.565Z"
   },
   {
    "duration": 20,
    "start_time": "2022-04-30T20:38:08.508Z"
   },
   {
    "duration": 21,
    "start_time": "2022-04-30T20:39:00.874Z"
   },
   {
    "duration": 19,
    "start_time": "2022-04-30T20:39:06.371Z"
   },
   {
    "duration": 29,
    "start_time": "2022-04-30T20:39:11.517Z"
   },
   {
    "duration": 20,
    "start_time": "2022-04-30T20:39:18.638Z"
   },
   {
    "duration": 590,
    "start_time": "2022-04-30T20:39:38.875Z"
   },
   {
    "duration": 36,
    "start_time": "2022-04-30T20:39:39.468Z"
   },
   {
    "duration": 19,
    "start_time": "2022-04-30T20:39:39.506Z"
   },
   {
    "duration": 43,
    "start_time": "2022-04-30T20:39:39.527Z"
   },
   {
    "duration": 24,
    "start_time": "2022-04-30T20:39:39.593Z"
   },
   {
    "duration": 31,
    "start_time": "2022-04-30T20:39:39.619Z"
   },
   {
    "duration": 50,
    "start_time": "2022-04-30T20:39:39.652Z"
   },
   {
    "duration": 13,
    "start_time": "2022-04-30T20:39:39.704Z"
   },
   {
    "duration": 17,
    "start_time": "2022-04-30T20:39:39.719Z"
   },
   {
    "duration": 74,
    "start_time": "2022-04-30T20:39:39.740Z"
   },
   {
    "duration": 20,
    "start_time": "2022-04-30T20:39:39.817Z"
   },
   {
    "duration": 7,
    "start_time": "2022-04-30T20:39:39.839Z"
   },
   {
    "duration": 54,
    "start_time": "2022-04-30T20:39:39.848Z"
   },
   {
    "duration": 26,
    "start_time": "2022-04-30T20:39:39.904Z"
   },
   {
    "duration": 943,
    "start_time": "2022-04-30T20:39:39.932Z"
   },
   {
    "duration": 19,
    "start_time": "2022-04-30T20:39:40.877Z"
   },
   {
    "duration": 13,
    "start_time": "2022-04-30T20:39:40.898Z"
   },
   {
    "duration": 17,
    "start_time": "2022-04-30T20:39:40.913Z"
   },
   {
    "duration": 4,
    "start_time": "2022-04-30T20:39:40.932Z"
   },
   {
    "duration": 71,
    "start_time": "2022-04-30T20:39:40.939Z"
   },
   {
    "duration": 566,
    "start_time": "2022-04-30T20:39:41.013Z"
   },
   {
    "duration": 14,
    "start_time": "2022-04-30T20:39:41.581Z"
   },
   {
    "duration": 31,
    "start_time": "2022-04-30T20:39:41.597Z"
   },
   {
    "duration": 24,
    "start_time": "2022-04-30T20:39:41.631Z"
   },
   {
    "duration": 7,
    "start_time": "2022-04-30T20:39:41.657Z"
   },
   {
    "duration": 20,
    "start_time": "2022-04-30T20:39:41.693Z"
   },
   {
    "duration": 22,
    "start_time": "2022-04-30T20:39:41.715Z"
   },
   {
    "duration": 4,
    "start_time": "2022-04-30T20:39:41.743Z"
   },
   {
    "duration": 54,
    "start_time": "2022-04-30T20:39:41.749Z"
   },
   {
    "duration": 10,
    "start_time": "2022-04-30T20:39:41.805Z"
   },
   {
    "duration": 17,
    "start_time": "2022-04-30T20:39:41.817Z"
   },
   {
    "duration": 9,
    "start_time": "2022-04-30T20:39:41.836Z"
   },
   {
    "duration": 8,
    "start_time": "2022-04-30T20:39:41.847Z"
   },
   {
    "duration": 39,
    "start_time": "2022-04-30T20:39:41.857Z"
   },
   {
    "duration": 20,
    "start_time": "2022-04-30T20:39:41.898Z"
   },
   {
    "duration": 102,
    "start_time": "2022-04-30T20:39:41.920Z"
   },
   {
    "duration": 6,
    "start_time": "2022-04-30T20:39:42.025Z"
   },
   {
    "duration": 105,
    "start_time": "2022-04-30T20:39:42.033Z"
   },
   {
    "duration": 6,
    "start_time": "2022-04-30T20:39:42.140Z"
   },
   {
    "duration": 68,
    "start_time": "2022-04-30T20:39:42.148Z"
   },
   {
    "duration": 37,
    "start_time": "2022-04-30T20:39:42.218Z"
   },
   {
    "duration": 40,
    "start_time": "2022-04-30T20:39:42.258Z"
   },
   {
    "duration": 36,
    "start_time": "2022-04-30T20:39:42.301Z"
   },
   {
    "duration": 58,
    "start_time": "2022-04-30T20:39:42.340Z"
   },
   {
    "duration": 24,
    "start_time": "2022-04-30T20:39:42.400Z"
   },
   {
    "duration": 112,
    "start_time": "2022-04-30T20:40:12.361Z"
   },
   {
    "duration": 621,
    "start_time": "2022-04-30T20:40:19.450Z"
   },
   {
    "duration": 30,
    "start_time": "2022-04-30T20:40:20.073Z"
   },
   {
    "duration": 24,
    "start_time": "2022-04-30T20:40:20.105Z"
   },
   {
    "duration": 62,
    "start_time": "2022-04-30T20:40:20.132Z"
   },
   {
    "duration": 26,
    "start_time": "2022-04-30T20:40:20.196Z"
   },
   {
    "duration": 70,
    "start_time": "2022-04-30T20:40:20.224Z"
   },
   {
    "duration": 12,
    "start_time": "2022-04-30T20:40:20.297Z"
   },
   {
    "duration": 15,
    "start_time": "2022-04-30T20:40:20.311Z"
   },
   {
    "duration": 21,
    "start_time": "2022-04-30T20:40:20.328Z"
   },
   {
    "duration": 139,
    "start_time": "2022-04-30T20:40:20.353Z"
   },
   {
    "duration": 0,
    "start_time": "2022-04-30T20:40:20.496Z"
   },
   {
    "duration": 0,
    "start_time": "2022-04-30T20:40:20.498Z"
   },
   {
    "duration": 0,
    "start_time": "2022-04-30T20:40:20.499Z"
   },
   {
    "duration": 0,
    "start_time": "2022-04-30T20:40:20.501Z"
   },
   {
    "duration": 0,
    "start_time": "2022-04-30T20:40:20.502Z"
   },
   {
    "duration": 0,
    "start_time": "2022-04-30T20:40:20.504Z"
   },
   {
    "duration": 0,
    "start_time": "2022-04-30T20:40:20.505Z"
   },
   {
    "duration": 0,
    "start_time": "2022-04-30T20:40:20.507Z"
   },
   {
    "duration": 0,
    "start_time": "2022-04-30T20:40:20.508Z"
   },
   {
    "duration": 0,
    "start_time": "2022-04-30T20:40:20.510Z"
   },
   {
    "duration": 0,
    "start_time": "2022-04-30T20:40:20.511Z"
   },
   {
    "duration": 0,
    "start_time": "2022-04-30T20:40:20.513Z"
   },
   {
    "duration": 0,
    "start_time": "2022-04-30T20:40:20.514Z"
   },
   {
    "duration": 0,
    "start_time": "2022-04-30T20:40:20.516Z"
   },
   {
    "duration": 0,
    "start_time": "2022-04-30T20:40:20.517Z"
   },
   {
    "duration": 0,
    "start_time": "2022-04-30T20:40:20.519Z"
   },
   {
    "duration": 0,
    "start_time": "2022-04-30T20:40:20.520Z"
   },
   {
    "duration": 0,
    "start_time": "2022-04-30T20:40:20.522Z"
   },
   {
    "duration": 0,
    "start_time": "2022-04-30T20:40:20.523Z"
   },
   {
    "duration": 0,
    "start_time": "2022-04-30T20:40:20.525Z"
   },
   {
    "duration": 0,
    "start_time": "2022-04-30T20:40:20.526Z"
   },
   {
    "duration": 0,
    "start_time": "2022-04-30T20:40:20.528Z"
   },
   {
    "duration": 0,
    "start_time": "2022-04-30T20:40:20.529Z"
   },
   {
    "duration": 0,
    "start_time": "2022-04-30T20:40:20.531Z"
   },
   {
    "duration": 0,
    "start_time": "2022-04-30T20:40:20.533Z"
   },
   {
    "duration": 0,
    "start_time": "2022-04-30T20:40:20.594Z"
   },
   {
    "duration": 0,
    "start_time": "2022-04-30T20:40:20.595Z"
   },
   {
    "duration": 0,
    "start_time": "2022-04-30T20:40:20.597Z"
   },
   {
    "duration": 0,
    "start_time": "2022-04-30T20:40:20.599Z"
   },
   {
    "duration": 0,
    "start_time": "2022-04-30T20:40:20.600Z"
   },
   {
    "duration": 0,
    "start_time": "2022-04-30T20:40:20.602Z"
   },
   {
    "duration": 0,
    "start_time": "2022-04-30T20:40:20.603Z"
   },
   {
    "duration": 0,
    "start_time": "2022-04-30T20:40:20.605Z"
   },
   {
    "duration": 0,
    "start_time": "2022-04-30T20:40:20.607Z"
   },
   {
    "duration": 0,
    "start_time": "2022-04-30T20:40:20.608Z"
   },
   {
    "duration": 35,
    "start_time": "2022-04-30T20:40:33.178Z"
   },
   {
    "duration": 31,
    "start_time": "2022-04-30T20:41:55.592Z"
   },
   {
    "duration": 553,
    "start_time": "2022-04-30T20:42:02.836Z"
   },
   {
    "duration": 30,
    "start_time": "2022-04-30T20:42:03.392Z"
   },
   {
    "duration": 19,
    "start_time": "2022-04-30T20:42:03.425Z"
   },
   {
    "duration": 69,
    "start_time": "2022-04-30T20:42:03.447Z"
   },
   {
    "duration": 27,
    "start_time": "2022-04-30T20:42:03.518Z"
   },
   {
    "duration": 62,
    "start_time": "2022-04-30T20:42:03.548Z"
   },
   {
    "duration": 11,
    "start_time": "2022-04-30T20:42:03.612Z"
   },
   {
    "duration": 13,
    "start_time": "2022-04-30T20:42:03.625Z"
   },
   {
    "duration": 61,
    "start_time": "2022-04-30T20:42:03.640Z"
   },
   {
    "duration": 31,
    "start_time": "2022-04-30T20:42:03.705Z"
   },
   {
    "duration": 23,
    "start_time": "2022-04-30T20:42:03.739Z"
   },
   {
    "duration": 8,
    "start_time": "2022-04-30T20:42:03.793Z"
   },
   {
    "duration": 17,
    "start_time": "2022-04-30T20:42:03.804Z"
   },
   {
    "duration": 70,
    "start_time": "2022-04-30T20:42:03.823Z"
   },
   {
    "duration": 863,
    "start_time": "2022-04-30T20:42:03.895Z"
   },
   {
    "duration": 31,
    "start_time": "2022-04-30T20:42:04.761Z"
   },
   {
    "duration": 14,
    "start_time": "2022-04-30T20:42:04.795Z"
   },
   {
    "duration": 20,
    "start_time": "2022-04-30T20:42:04.812Z"
   },
   {
    "duration": 10,
    "start_time": "2022-04-30T20:42:04.835Z"
   },
   {
    "duration": 69,
    "start_time": "2022-04-30T20:42:04.848Z"
   },
   {
    "duration": 640,
    "start_time": "2022-04-30T20:42:04.919Z"
   },
   {
    "duration": 5,
    "start_time": "2022-04-30T20:42:05.562Z"
   },
   {
    "duration": 46,
    "start_time": "2022-04-30T20:42:05.569Z"
   },
   {
    "duration": 27,
    "start_time": "2022-04-30T20:42:05.618Z"
   },
   {
    "duration": 7,
    "start_time": "2022-04-30T20:42:05.647Z"
   },
   {
    "duration": 51,
    "start_time": "2022-04-30T20:42:05.657Z"
   },
   {
    "duration": 26,
    "start_time": "2022-04-30T20:42:05.711Z"
   },
   {
    "duration": 5,
    "start_time": "2022-04-30T20:42:05.743Z"
   },
   {
    "duration": 44,
    "start_time": "2022-04-30T20:42:05.750Z"
   },
   {
    "duration": 8,
    "start_time": "2022-04-30T20:42:05.796Z"
   },
   {
    "duration": 5,
    "start_time": "2022-04-30T20:42:05.807Z"
   },
   {
    "duration": 38,
    "start_time": "2022-04-30T20:42:05.814Z"
   },
   {
    "duration": 10,
    "start_time": "2022-04-30T20:42:05.855Z"
   },
   {
    "duration": 32,
    "start_time": "2022-04-30T20:42:05.868Z"
   },
   {
    "duration": 25,
    "start_time": "2022-04-30T20:42:05.902Z"
   },
   {
    "duration": 116,
    "start_time": "2022-04-30T20:42:05.929Z"
   },
   {
    "duration": 6,
    "start_time": "2022-04-30T20:42:06.047Z"
   },
   {
    "duration": 111,
    "start_time": "2022-04-30T20:42:06.055Z"
   },
   {
    "duration": 8,
    "start_time": "2022-04-30T20:42:06.194Z"
   },
   {
    "duration": 51,
    "start_time": "2022-04-30T20:42:06.205Z"
   },
   {
    "duration": 71,
    "start_time": "2022-04-30T20:42:06.259Z"
   },
   {
    "duration": 8,
    "start_time": "2022-04-30T20:42:06.333Z"
   },
   {
    "duration": 71,
    "start_time": "2022-04-30T20:42:06.343Z"
   },
   {
    "duration": 25,
    "start_time": "2022-04-30T20:42:06.416Z"
   },
   {
    "duration": 50,
    "start_time": "2022-04-30T20:42:06.443Z"
   },
   {
    "duration": 14,
    "start_time": "2022-04-30T20:42:43.732Z"
   },
   {
    "duration": 22,
    "start_time": "2022-04-30T20:42:58.434Z"
   },
   {
    "duration": 13,
    "start_time": "2022-04-30T20:43:11.030Z"
   },
   {
    "duration": 13,
    "start_time": "2022-04-30T20:43:17.846Z"
   },
   {
    "duration": 554,
    "start_time": "2022-04-30T20:43:24.328Z"
   },
   {
    "duration": 30,
    "start_time": "2022-04-30T20:43:24.885Z"
   },
   {
    "duration": 22,
    "start_time": "2022-04-30T20:43:24.917Z"
   },
   {
    "duration": 66,
    "start_time": "2022-04-30T20:43:24.942Z"
   },
   {
    "duration": 26,
    "start_time": "2022-04-30T20:43:25.011Z"
   },
   {
    "duration": 66,
    "start_time": "2022-04-30T20:43:25.039Z"
   },
   {
    "duration": 12,
    "start_time": "2022-04-30T20:43:25.108Z"
   },
   {
    "duration": 14,
    "start_time": "2022-04-30T20:43:25.122Z"
   },
   {
    "duration": 62,
    "start_time": "2022-04-30T20:43:25.138Z"
   },
   {
    "duration": 33,
    "start_time": "2022-04-30T20:43:25.205Z"
   },
   {
    "duration": 53,
    "start_time": "2022-04-30T20:43:25.241Z"
   },
   {
    "duration": 7,
    "start_time": "2022-04-30T20:43:25.296Z"
   },
   {
    "duration": 18,
    "start_time": "2022-04-30T20:43:25.305Z"
   },
   {
    "duration": 25,
    "start_time": "2022-04-30T20:43:25.325Z"
   },
   {
    "duration": 911,
    "start_time": "2022-04-30T20:43:25.353Z"
   },
   {
    "duration": 27,
    "start_time": "2022-04-30T20:43:26.266Z"
   },
   {
    "duration": 13,
    "start_time": "2022-04-30T20:43:26.295Z"
   },
   {
    "duration": 17,
    "start_time": "2022-04-30T20:43:26.310Z"
   },
   {
    "duration": 5,
    "start_time": "2022-04-30T20:43:26.330Z"
   },
   {
    "duration": 79,
    "start_time": "2022-04-30T20:43:26.337Z"
   },
   {
    "duration": 1201,
    "start_time": "2022-04-30T20:43:26.419Z"
   },
   {
    "duration": 5,
    "start_time": "2022-04-30T20:43:27.623Z"
   },
   {
    "duration": 87,
    "start_time": "2022-04-30T20:43:27.631Z"
   },
   {
    "duration": 83,
    "start_time": "2022-04-30T20:43:27.721Z"
   },
   {
    "duration": 7,
    "start_time": "2022-04-30T20:43:27.807Z"
   },
   {
    "duration": 82,
    "start_time": "2022-04-30T20:43:27.816Z"
   },
   {
    "duration": 24,
    "start_time": "2022-04-30T20:43:27.900Z"
   },
   {
    "duration": 5,
    "start_time": "2022-04-30T20:43:27.929Z"
   },
   {
    "duration": 73,
    "start_time": "2022-04-30T20:43:27.937Z"
   },
   {
    "duration": 13,
    "start_time": "2022-04-30T20:43:28.013Z"
   },
   {
    "duration": 6,
    "start_time": "2022-04-30T20:43:28.028Z"
   },
   {
    "duration": 60,
    "start_time": "2022-04-30T20:43:28.036Z"
   },
   {
    "duration": 10,
    "start_time": "2022-04-30T20:43:28.098Z"
   },
   {
    "duration": 11,
    "start_time": "2022-04-30T20:43:28.110Z"
   },
   {
    "duration": 73,
    "start_time": "2022-04-30T20:43:28.123Z"
   },
   {
    "duration": 132,
    "start_time": "2022-04-30T20:43:28.198Z"
   },
   {
    "duration": 60,
    "start_time": "2022-04-30T20:43:28.332Z"
   },
   {
    "duration": 127,
    "start_time": "2022-04-30T20:43:28.395Z"
   },
   {
    "duration": 8,
    "start_time": "2022-04-30T20:43:28.524Z"
   },
   {
    "duration": 94,
    "start_time": "2022-04-30T20:43:28.535Z"
   },
   {
    "duration": 100,
    "start_time": "2022-04-30T20:43:28.631Z"
   },
   {
    "duration": 61,
    "start_time": "2022-04-30T20:43:28.734Z"
   },
   {
    "duration": 98,
    "start_time": "2022-04-30T20:43:28.798Z"
   },
   {
    "duration": 34,
    "start_time": "2022-04-30T20:43:28.899Z"
   },
   {
    "duration": 85,
    "start_time": "2022-04-30T20:43:28.936Z"
   },
   {
    "duration": 12,
    "start_time": "2022-04-30T20:43:37.409Z"
   },
   {
    "duration": 568,
    "start_time": "2022-04-30T20:43:44.323Z"
   },
   {
    "duration": 29,
    "start_time": "2022-04-30T20:43:44.894Z"
   },
   {
    "duration": 19,
    "start_time": "2022-04-30T20:43:44.925Z"
   },
   {
    "duration": 66,
    "start_time": "2022-04-30T20:43:44.947Z"
   },
   {
    "duration": 25,
    "start_time": "2022-04-30T20:43:45.015Z"
   },
   {
    "duration": 66,
    "start_time": "2022-04-30T20:43:45.042Z"
   },
   {
    "duration": 15,
    "start_time": "2022-04-30T20:43:45.110Z"
   },
   {
    "duration": 13,
    "start_time": "2022-04-30T20:43:45.128Z"
   },
   {
    "duration": 66,
    "start_time": "2022-04-30T20:43:45.143Z"
   },
   {
    "duration": 31,
    "start_time": "2022-04-30T20:43:45.213Z"
   },
   {
    "duration": 56,
    "start_time": "2022-04-30T20:43:45.246Z"
   },
   {
    "duration": 20,
    "start_time": "2022-04-30T20:43:45.304Z"
   },
   {
    "duration": 7,
    "start_time": "2022-04-30T20:43:45.326Z"
   },
   {
    "duration": 15,
    "start_time": "2022-04-30T20:43:45.335Z"
   },
   {
    "duration": 26,
    "start_time": "2022-04-30T20:43:45.392Z"
   },
   {
    "duration": 910,
    "start_time": "2022-04-30T20:43:45.420Z"
   },
   {
    "duration": 10,
    "start_time": "2022-04-30T20:43:46.332Z"
   },
   {
    "duration": 13,
    "start_time": "2022-04-30T20:43:46.344Z"
   },
   {
    "duration": 50,
    "start_time": "2022-04-30T20:43:46.359Z"
   },
   {
    "duration": 5,
    "start_time": "2022-04-30T20:43:46.411Z"
   },
   {
    "duration": 33,
    "start_time": "2022-04-30T20:43:46.418Z"
   },
   {
    "duration": 660,
    "start_time": "2022-04-30T20:43:46.453Z"
   },
   {
    "duration": 5,
    "start_time": "2022-04-30T20:43:47.115Z"
   },
   {
    "duration": 88,
    "start_time": "2022-04-30T20:43:47.122Z"
   },
   {
    "duration": 81,
    "start_time": "2022-04-30T20:43:47.212Z"
   },
   {
    "duration": 8,
    "start_time": "2022-04-30T20:43:47.295Z"
   },
   {
    "duration": 21,
    "start_time": "2022-04-30T20:43:47.306Z"
   },
   {
    "duration": 79,
    "start_time": "2022-04-30T20:43:47.332Z"
   },
   {
    "duration": 5,
    "start_time": "2022-04-30T20:43:47.413Z"
   },
   {
    "duration": 74,
    "start_time": "2022-04-30T20:43:47.420Z"
   },
   {
    "duration": 8,
    "start_time": "2022-04-30T20:43:47.497Z"
   },
   {
    "duration": 6,
    "start_time": "2022-04-30T20:43:47.507Z"
   },
   {
    "duration": 9,
    "start_time": "2022-04-30T20:43:47.515Z"
   },
   {
    "duration": 9,
    "start_time": "2022-04-30T20:43:47.526Z"
   },
   {
    "duration": 8,
    "start_time": "2022-04-30T20:43:47.592Z"
   },
   {
    "duration": 24,
    "start_time": "2022-04-30T20:43:47.602Z"
   },
   {
    "duration": 179,
    "start_time": "2022-04-30T20:43:47.628Z"
   },
   {
    "duration": 5,
    "start_time": "2022-04-30T20:43:47.810Z"
   },
   {
    "duration": 191,
    "start_time": "2022-04-30T20:43:47.817Z"
   },
   {
    "duration": 5,
    "start_time": "2022-04-30T20:43:48.010Z"
   },
   {
    "duration": 94,
    "start_time": "2022-04-30T20:43:48.017Z"
   },
   {
    "duration": 87,
    "start_time": "2022-04-30T20:43:48.113Z"
   },
   {
    "duration": 7,
    "start_time": "2022-04-30T20:43:48.202Z"
   },
   {
    "duration": 95,
    "start_time": "2022-04-30T20:43:48.211Z"
   },
   {
    "duration": 23,
    "start_time": "2022-04-30T20:43:48.308Z"
   },
   {
    "duration": 78,
    "start_time": "2022-04-30T20:43:48.333Z"
   },
   {
    "duration": 13,
    "start_time": "2022-04-30T20:44:14.555Z"
   },
   {
    "duration": 12,
    "start_time": "2022-04-30T20:44:17.779Z"
   },
   {
    "duration": 85,
    "start_time": "2022-04-30T20:44:27.410Z"
   },
   {
    "duration": 20,
    "start_time": "2022-04-30T20:44:28.636Z"
   },
   {
    "duration": 19,
    "start_time": "2022-04-30T20:44:29.476Z"
   },
   {
    "duration": 44,
    "start_time": "2022-04-30T20:44:30.208Z"
   },
   {
    "duration": 25,
    "start_time": "2022-04-30T20:44:31.765Z"
   },
   {
    "duration": 32,
    "start_time": "2022-04-30T20:44:32.950Z"
   },
   {
    "duration": 11,
    "start_time": "2022-04-30T20:44:33.877Z"
   },
   {
    "duration": 13,
    "start_time": "2022-04-30T20:44:34.454Z"
   },
   {
    "duration": 16,
    "start_time": "2022-04-30T20:44:35.536Z"
   },
   {
    "duration": 33,
    "start_time": "2022-04-30T20:44:40.742Z"
   },
   {
    "duration": 32,
    "start_time": "2022-04-30T20:44:43.514Z"
   },
   {
    "duration": 644,
    "start_time": "2022-04-30T20:46:15.250Z"
   },
   {
    "duration": 30,
    "start_time": "2022-04-30T20:46:15.897Z"
   },
   {
    "duration": 20,
    "start_time": "2022-04-30T20:46:15.929Z"
   },
   {
    "duration": 75,
    "start_time": "2022-04-30T20:46:15.952Z"
   },
   {
    "duration": 26,
    "start_time": "2022-04-30T20:46:16.029Z"
   },
   {
    "duration": 57,
    "start_time": "2022-04-30T20:46:16.057Z"
   },
   {
    "duration": 12,
    "start_time": "2022-04-30T20:46:16.116Z"
   },
   {
    "duration": 14,
    "start_time": "2022-04-30T20:46:16.130Z"
   },
   {
    "duration": 57,
    "start_time": "2022-04-30T20:46:16.146Z"
   },
   {
    "duration": 33,
    "start_time": "2022-04-30T20:46:16.207Z"
   },
   {
    "duration": 63,
    "start_time": "2022-04-30T20:46:16.242Z"
   },
   {
    "duration": 29,
    "start_time": "2022-04-30T20:46:16.307Z"
   },
   {
    "duration": 22,
    "start_time": "2022-04-30T20:46:16.338Z"
   },
   {
    "duration": 35,
    "start_time": "2022-04-30T20:46:16.362Z"
   },
   {
    "duration": 17,
    "start_time": "2022-04-30T20:46:16.399Z"
   },
   {
    "duration": 28,
    "start_time": "2022-04-30T20:46:16.419Z"
   },
   {
    "duration": 964,
    "start_time": "2022-04-30T20:46:16.494Z"
   },
   {
    "duration": 11,
    "start_time": "2022-04-30T20:46:17.460Z"
   },
   {
    "duration": 13,
    "start_time": "2022-04-30T20:46:17.493Z"
   },
   {
    "duration": 19,
    "start_time": "2022-04-30T20:46:17.509Z"
   },
   {
    "duration": 6,
    "start_time": "2022-04-30T20:46:17.531Z"
   },
   {
    "duration": 66,
    "start_time": "2022-04-30T20:46:17.539Z"
   },
   {
    "duration": 928,
    "start_time": "2022-04-30T20:46:17.607Z"
   },
   {
    "duration": 58,
    "start_time": "2022-04-30T20:46:18.538Z"
   },
   {
    "duration": 31,
    "start_time": "2022-04-30T20:46:18.598Z"
   },
   {
    "duration": 78,
    "start_time": "2022-04-30T20:46:18.632Z"
   },
   {
    "duration": 7,
    "start_time": "2022-04-30T20:46:18.712Z"
   },
   {
    "duration": 72,
    "start_time": "2022-04-30T20:46:18.725Z"
   },
   {
    "duration": 24,
    "start_time": "2022-04-30T20:46:18.799Z"
   },
   {
    "duration": 5,
    "start_time": "2022-04-30T20:46:18.825Z"
   },
   {
    "duration": 72,
    "start_time": "2022-04-30T20:46:18.832Z"
   },
   {
    "duration": 10,
    "start_time": "2022-04-30T20:46:18.906Z"
   },
   {
    "duration": 6,
    "start_time": "2022-04-30T20:46:18.919Z"
   },
   {
    "duration": 7,
    "start_time": "2022-04-30T20:46:18.927Z"
   },
   {
    "duration": 62,
    "start_time": "2022-04-30T20:46:18.936Z"
   },
   {
    "duration": 7,
    "start_time": "2022-04-30T20:46:19.000Z"
   },
   {
    "duration": 25,
    "start_time": "2022-04-30T20:46:19.010Z"
   },
   {
    "duration": 183,
    "start_time": "2022-04-30T20:46:19.037Z"
   },
   {
    "duration": 5,
    "start_time": "2022-04-30T20:46:19.222Z"
   },
   {
    "duration": 178,
    "start_time": "2022-04-30T20:46:19.230Z"
   },
   {
    "duration": 6,
    "start_time": "2022-04-30T20:46:19.410Z"
   },
   {
    "duration": 96,
    "start_time": "2022-04-30T20:46:19.418Z"
   },
   {
    "duration": 110,
    "start_time": "2022-04-30T20:46:19.517Z"
   },
   {
    "duration": 67,
    "start_time": "2022-04-30T20:46:19.629Z"
   },
   {
    "duration": 107,
    "start_time": "2022-04-30T20:46:19.699Z"
   },
   {
    "duration": 23,
    "start_time": "2022-04-30T20:46:19.809Z"
   },
   {
    "duration": 75,
    "start_time": "2022-04-30T20:46:19.834Z"
   },
   {
    "duration": 12,
    "start_time": "2022-04-30T20:56:30.029Z"
   },
   {
    "duration": 6,
    "start_time": "2022-04-30T20:57:01.748Z"
   },
   {
    "duration": 583,
    "start_time": "2022-04-30T20:57:10.605Z"
   },
   {
    "duration": 29,
    "start_time": "2022-04-30T20:57:11.191Z"
   },
   {
    "duration": 19,
    "start_time": "2022-04-30T20:57:11.222Z"
   },
   {
    "duration": 73,
    "start_time": "2022-04-30T20:57:11.244Z"
   },
   {
    "duration": 29,
    "start_time": "2022-04-30T20:57:11.321Z"
   },
   {
    "duration": 61,
    "start_time": "2022-04-30T20:57:11.353Z"
   },
   {
    "duration": 12,
    "start_time": "2022-04-30T20:57:11.416Z"
   },
   {
    "duration": 14,
    "start_time": "2022-04-30T20:57:11.430Z"
   },
   {
    "duration": 19,
    "start_time": "2022-04-30T20:57:11.492Z"
   },
   {
    "duration": 28,
    "start_time": "2022-04-30T20:57:11.514Z"
   },
   {
    "duration": 63,
    "start_time": "2022-04-30T20:57:11.544Z"
   },
   {
    "duration": 8,
    "start_time": "2022-04-30T20:57:11.610Z"
   },
   {
    "duration": 16,
    "start_time": "2022-04-30T20:57:11.621Z"
   },
   {
    "duration": 49,
    "start_time": "2022-04-30T20:57:11.644Z"
   },
   {
    "duration": 19,
    "start_time": "2022-04-30T20:57:11.696Z"
   },
   {
    "duration": 29,
    "start_time": "2022-04-30T20:57:11.718Z"
   },
   {
    "duration": 846,
    "start_time": "2022-04-30T20:57:11.792Z"
   },
   {
    "duration": 10,
    "start_time": "2022-04-30T20:57:12.640Z"
   },
   {
    "duration": 40,
    "start_time": "2022-04-30T20:57:12.652Z"
   },
   {
    "duration": 17,
    "start_time": "2022-04-30T20:57:12.694Z"
   },
   {
    "duration": 6,
    "start_time": "2022-04-30T20:57:12.713Z"
   },
   {
    "duration": 30,
    "start_time": "2022-04-30T20:57:12.721Z"
   },
   {
    "duration": 598,
    "start_time": "2022-04-30T20:57:12.753Z"
   },
   {
    "duration": 43,
    "start_time": "2022-04-30T20:57:13.353Z"
   },
   {
    "duration": 33,
    "start_time": "2022-04-30T20:57:13.398Z"
   },
   {
    "duration": 82,
    "start_time": "2022-04-30T20:57:13.434Z"
   },
   {
    "duration": 7,
    "start_time": "2022-04-30T20:57:13.519Z"
   },
   {
    "duration": 69,
    "start_time": "2022-04-30T20:57:13.528Z"
   },
   {
    "duration": 24,
    "start_time": "2022-04-30T20:57:13.599Z"
   },
   {
    "duration": 16,
    "start_time": "2022-04-30T20:57:13.626Z"
   },
   {
    "duration": 17,
    "start_time": "2022-04-30T20:57:13.692Z"
   },
   {
    "duration": 11,
    "start_time": "2022-04-30T20:57:13.712Z"
   },
   {
    "duration": 6,
    "start_time": "2022-04-30T20:57:13.725Z"
   },
   {
    "duration": 62,
    "start_time": "2022-04-30T20:57:13.734Z"
   },
   {
    "duration": 7,
    "start_time": "2022-04-30T20:57:13.799Z"
   },
   {
    "duration": 8,
    "start_time": "2022-04-30T20:57:13.808Z"
   },
   {
    "duration": 74,
    "start_time": "2022-04-30T20:57:13.818Z"
   },
   {
    "duration": 127,
    "start_time": "2022-04-30T20:57:13.895Z"
   },
   {
    "duration": 6,
    "start_time": "2022-04-30T20:57:14.024Z"
   },
   {
    "duration": 175,
    "start_time": "2022-04-30T20:57:14.032Z"
   },
   {
    "duration": 7,
    "start_time": "2022-04-30T20:57:14.212Z"
   },
   {
    "duration": 98,
    "start_time": "2022-04-30T20:57:14.221Z"
   },
   {
    "duration": 89,
    "start_time": "2022-04-30T20:57:14.321Z"
   },
   {
    "duration": 8,
    "start_time": "2022-04-30T20:57:14.412Z"
   },
   {
    "duration": 90,
    "start_time": "2022-04-30T20:57:14.422Z"
   },
   {
    "duration": 79,
    "start_time": "2022-04-30T20:57:14.514Z"
   },
   {
    "duration": 24,
    "start_time": "2022-04-30T20:57:14.596Z"
   },
   {
    "duration": 12,
    "start_time": "2022-04-30T20:58:56.866Z"
   },
   {
    "duration": 603,
    "start_time": "2022-04-30T20:59:03.941Z"
   },
   {
    "duration": 29,
    "start_time": "2022-04-30T20:59:04.547Z"
   },
   {
    "duration": 19,
    "start_time": "2022-04-30T20:59:04.593Z"
   },
   {
    "duration": 46,
    "start_time": "2022-04-30T20:59:04.616Z"
   },
   {
    "duration": 50,
    "start_time": "2022-04-30T20:59:04.665Z"
   },
   {
    "duration": 35,
    "start_time": "2022-04-30T20:59:04.718Z"
   },
   {
    "duration": 48,
    "start_time": "2022-04-30T20:59:04.755Z"
   },
   {
    "duration": 13,
    "start_time": "2022-04-30T20:59:04.806Z"
   },
   {
    "duration": 17,
    "start_time": "2022-04-30T20:59:04.821Z"
   },
   {
    "duration": 67,
    "start_time": "2022-04-30T20:59:04.842Z"
   },
   {
    "duration": 21,
    "start_time": "2022-04-30T20:59:04.911Z"
   },
   {
    "duration": 7,
    "start_time": "2022-04-30T20:59:04.934Z"
   },
   {
    "duration": 53,
    "start_time": "2022-04-30T20:59:04.943Z"
   },
   {
    "duration": 13,
    "start_time": "2022-04-30T20:59:04.998Z"
   },
   {
    "duration": 19,
    "start_time": "2022-04-30T20:59:05.013Z"
   },
   {
    "duration": 65,
    "start_time": "2022-04-30T20:59:05.034Z"
   },
   {
    "duration": 883,
    "start_time": "2022-04-30T20:59:05.101Z"
   },
   {
    "duration": 15,
    "start_time": "2022-04-30T20:59:05.986Z"
   },
   {
    "duration": 14,
    "start_time": "2022-04-30T20:59:06.003Z"
   },
   {
    "duration": 18,
    "start_time": "2022-04-30T20:59:06.019Z"
   },
   {
    "duration": 5,
    "start_time": "2022-04-30T20:59:06.039Z"
   },
   {
    "duration": 32,
    "start_time": "2022-04-30T20:59:06.093Z"
   },
   {
    "duration": 900,
    "start_time": "2022-04-30T20:59:06.127Z"
   },
   {
    "duration": 5,
    "start_time": "2022-04-30T20:59:07.029Z"
   },
   {
    "duration": 87,
    "start_time": "2022-04-30T20:59:07.036Z"
   },
   {
    "duration": 78,
    "start_time": "2022-04-30T20:59:07.125Z"
   },
   {
    "duration": 6,
    "start_time": "2022-04-30T20:59:07.206Z"
   },
   {
    "duration": 19,
    "start_time": "2022-04-30T20:59:07.218Z"
   },
   {
    "duration": 24,
    "start_time": "2022-04-30T20:59:07.294Z"
   },
   {
    "duration": 5,
    "start_time": "2022-04-30T20:59:07.320Z"
   },
   {
    "duration": 68,
    "start_time": "2022-04-30T20:59:07.327Z"
   },
   {
    "duration": 14,
    "start_time": "2022-04-30T20:59:07.397Z"
   },
   {
    "duration": 5,
    "start_time": "2022-04-30T20:59:07.413Z"
   },
   {
    "duration": 8,
    "start_time": "2022-04-30T20:59:07.420Z"
   },
   {
    "duration": 64,
    "start_time": "2022-04-30T20:59:07.430Z"
   },
   {
    "duration": 7,
    "start_time": "2022-04-30T20:59:07.496Z"
   },
   {
    "duration": 29,
    "start_time": "2022-04-30T20:59:07.506Z"
   },
   {
    "duration": 217,
    "start_time": "2022-04-30T20:59:07.592Z"
   },
   {
    "duration": 8,
    "start_time": "2022-04-30T20:59:07.811Z"
   },
   {
    "duration": 214,
    "start_time": "2022-04-30T20:59:07.821Z"
   },
   {
    "duration": 7,
    "start_time": "2022-04-30T20:59:08.093Z"
   },
   {
    "duration": 92,
    "start_time": "2022-04-30T20:59:08.103Z"
   },
   {
    "duration": 38,
    "start_time": "2022-04-30T20:59:08.197Z"
   },
   {
    "duration": 7,
    "start_time": "2022-04-30T20:59:08.294Z"
   },
   {
    "duration": 90,
    "start_time": "2022-04-30T20:59:08.303Z"
   },
   {
    "duration": 25,
    "start_time": "2022-04-30T20:59:08.395Z"
   },
   {
    "duration": 74,
    "start_time": "2022-04-30T20:59:08.422Z"
   },
   {
    "duration": 600,
    "start_time": "2022-04-30T21:29:48.647Z"
   },
   {
    "duration": 28,
    "start_time": "2022-04-30T21:29:49.249Z"
   },
   {
    "duration": 31,
    "start_time": "2022-04-30T21:29:49.279Z"
   },
   {
    "duration": 43,
    "start_time": "2022-04-30T21:29:49.313Z"
   },
   {
    "duration": 47,
    "start_time": "2022-04-30T21:29:49.358Z"
   },
   {
    "duration": 39,
    "start_time": "2022-04-30T21:29:49.407Z"
   },
   {
    "duration": 56,
    "start_time": "2022-04-30T21:29:49.449Z"
   },
   {
    "duration": 15,
    "start_time": "2022-04-30T21:29:49.507Z"
   },
   {
    "duration": 20,
    "start_time": "2022-04-30T21:29:49.524Z"
   },
   {
    "duration": 70,
    "start_time": "2022-04-30T21:29:49.550Z"
   },
   {
    "duration": 24,
    "start_time": "2022-04-30T21:29:49.623Z"
   },
   {
    "duration": 50,
    "start_time": "2022-04-30T21:29:49.649Z"
   },
   {
    "duration": 16,
    "start_time": "2022-04-30T21:29:49.702Z"
   },
   {
    "duration": 12,
    "start_time": "2022-04-30T21:29:49.721Z"
   },
   {
    "duration": 59,
    "start_time": "2022-04-30T21:29:49.735Z"
   },
   {
    "duration": 25,
    "start_time": "2022-04-30T21:29:49.796Z"
   },
   {
    "duration": 1188,
    "start_time": "2022-04-30T21:29:49.823Z"
   },
   {
    "duration": 11,
    "start_time": "2022-04-30T21:29:51.013Z"
   },
   {
    "duration": 12,
    "start_time": "2022-04-30T21:29:51.026Z"
   },
   {
    "duration": 54,
    "start_time": "2022-04-30T21:29:51.040Z"
   },
   {
    "duration": 5,
    "start_time": "2022-04-30T21:29:51.096Z"
   },
   {
    "duration": 34,
    "start_time": "2022-04-30T21:29:51.103Z"
   },
   {
    "duration": 581,
    "start_time": "2022-04-30T21:29:51.139Z"
   },
   {
    "duration": 5,
    "start_time": "2022-04-30T21:29:51.722Z"
   },
   {
    "duration": 41,
    "start_time": "2022-04-30T21:29:51.729Z"
   },
   {
    "duration": 37,
    "start_time": "2022-04-30T21:29:51.772Z"
   },
   {
    "duration": 7,
    "start_time": "2022-04-30T21:29:51.811Z"
   },
   {
    "duration": 21,
    "start_time": "2022-04-30T21:29:51.823Z"
   },
   {
    "duration": 55,
    "start_time": "2022-04-30T21:29:51.846Z"
   },
   {
    "duration": 6,
    "start_time": "2022-04-30T21:29:51.903Z"
   },
   {
    "duration": 27,
    "start_time": "2022-04-30T21:29:51.912Z"
   },
   {
    "duration": 11,
    "start_time": "2022-04-30T21:29:51.942Z"
   },
   {
    "duration": 39,
    "start_time": "2022-04-30T21:29:51.955Z"
   },
   {
    "duration": 9,
    "start_time": "2022-04-30T21:29:51.996Z"
   },
   {
    "duration": 10,
    "start_time": "2022-04-30T21:29:52.008Z"
   },
   {
    "duration": 9,
    "start_time": "2022-04-30T21:29:52.020Z"
   },
   {
    "duration": 63,
    "start_time": "2022-04-30T21:29:52.031Z"
   },
   {
    "duration": 107,
    "start_time": "2022-04-30T21:29:52.097Z"
   },
   {
    "duration": 7,
    "start_time": "2022-04-30T21:29:52.207Z"
   },
   {
    "duration": 125,
    "start_time": "2022-04-30T21:29:52.217Z"
   },
   {
    "duration": 6,
    "start_time": "2022-04-30T21:29:52.345Z"
   },
   {
    "duration": 76,
    "start_time": "2022-04-30T21:29:52.354Z"
   },
   {
    "duration": 67,
    "start_time": "2022-04-30T21:29:52.433Z"
   },
   {
    "duration": 7,
    "start_time": "2022-04-30T21:29:52.503Z"
   },
   {
    "duration": 39,
    "start_time": "2022-04-30T21:29:52.512Z"
   },
   {
    "duration": 51,
    "start_time": "2022-04-30T21:29:52.553Z"
   },
   {
    "duration": 22,
    "start_time": "2022-04-30T21:29:52.606Z"
   },
   {
    "duration": 15,
    "start_time": "2022-04-30T21:30:29.450Z"
   },
   {
    "duration": 14,
    "start_time": "2022-04-30T21:30:34.372Z"
   },
   {
    "duration": 15,
    "start_time": "2022-04-30T21:30:42.484Z"
   },
   {
    "duration": 691,
    "start_time": "2022-04-30T21:30:54.694Z"
   },
   {
    "duration": 30,
    "start_time": "2022-04-30T21:30:55.388Z"
   },
   {
    "duration": 19,
    "start_time": "2022-04-30T21:30:55.420Z"
   },
   {
    "duration": 68,
    "start_time": "2022-04-30T21:30:55.443Z"
   },
   {
    "duration": 25,
    "start_time": "2022-04-30T21:30:55.514Z"
   },
   {
    "duration": 64,
    "start_time": "2022-04-30T21:30:55.542Z"
   },
   {
    "duration": 12,
    "start_time": "2022-04-30T21:30:55.608Z"
   },
   {
    "duration": 13,
    "start_time": "2022-04-30T21:30:55.622Z"
   },
   {
    "duration": 59,
    "start_time": "2022-04-30T21:30:55.637Z"
   },
   {
    "duration": 109,
    "start_time": "2022-04-30T21:30:55.699Z"
   },
   {
    "duration": 0,
    "start_time": "2022-04-30T21:30:55.811Z"
   },
   {
    "duration": 0,
    "start_time": "2022-04-30T21:30:55.813Z"
   },
   {
    "duration": 0,
    "start_time": "2022-04-30T21:30:55.814Z"
   },
   {
    "duration": 0,
    "start_time": "2022-04-30T21:30:55.815Z"
   },
   {
    "duration": 0,
    "start_time": "2022-04-30T21:30:55.817Z"
   },
   {
    "duration": 0,
    "start_time": "2022-04-30T21:30:55.818Z"
   },
   {
    "duration": 0,
    "start_time": "2022-04-30T21:30:55.820Z"
   },
   {
    "duration": 0,
    "start_time": "2022-04-30T21:30:55.821Z"
   },
   {
    "duration": 0,
    "start_time": "2022-04-30T21:30:55.822Z"
   },
   {
    "duration": 0,
    "start_time": "2022-04-30T21:30:55.823Z"
   },
   {
    "duration": 0,
    "start_time": "2022-04-30T21:30:55.824Z"
   },
   {
    "duration": 0,
    "start_time": "2022-04-30T21:30:55.826Z"
   },
   {
    "duration": 0,
    "start_time": "2022-04-30T21:30:55.827Z"
   },
   {
    "duration": 1,
    "start_time": "2022-04-30T21:30:55.828Z"
   },
   {
    "duration": 0,
    "start_time": "2022-04-30T21:30:55.830Z"
   },
   {
    "duration": 0,
    "start_time": "2022-04-30T21:30:55.831Z"
   },
   {
    "duration": 0,
    "start_time": "2022-04-30T21:30:55.832Z"
   },
   {
    "duration": 0,
    "start_time": "2022-04-30T21:30:55.834Z"
   },
   {
    "duration": 0,
    "start_time": "2022-04-30T21:30:55.835Z"
   },
   {
    "duration": 0,
    "start_time": "2022-04-30T21:30:55.836Z"
   },
   {
    "duration": 0,
    "start_time": "2022-04-30T21:30:55.837Z"
   },
   {
    "duration": 0,
    "start_time": "2022-04-30T21:30:55.839Z"
   },
   {
    "duration": 0,
    "start_time": "2022-04-30T21:30:55.840Z"
   },
   {
    "duration": 0,
    "start_time": "2022-04-30T21:30:55.842Z"
   },
   {
    "duration": 0,
    "start_time": "2022-04-30T21:30:55.893Z"
   },
   {
    "duration": 0,
    "start_time": "2022-04-30T21:30:55.895Z"
   },
   {
    "duration": 0,
    "start_time": "2022-04-30T21:30:55.896Z"
   },
   {
    "duration": 0,
    "start_time": "2022-04-30T21:30:55.897Z"
   },
   {
    "duration": 0,
    "start_time": "2022-04-30T21:30:55.899Z"
   },
   {
    "duration": 0,
    "start_time": "2022-04-30T21:30:55.900Z"
   },
   {
    "duration": 0,
    "start_time": "2022-04-30T21:30:55.902Z"
   },
   {
    "duration": 0,
    "start_time": "2022-04-30T21:30:55.903Z"
   },
   {
    "duration": 0,
    "start_time": "2022-04-30T21:30:55.905Z"
   },
   {
    "duration": 0,
    "start_time": "2022-04-30T21:30:55.906Z"
   },
   {
    "duration": 0,
    "start_time": "2022-04-30T21:30:55.908Z"
   },
   {
    "duration": 0,
    "start_time": "2022-04-30T21:30:55.909Z"
   },
   {
    "duration": 0,
    "start_time": "2022-04-30T21:30:55.910Z"
   },
   {
    "duration": 590,
    "start_time": "2022-04-30T21:31:15.834Z"
   },
   {
    "duration": 31,
    "start_time": "2022-04-30T21:31:16.427Z"
   },
   {
    "duration": 39,
    "start_time": "2022-04-30T21:31:16.460Z"
   },
   {
    "duration": 50,
    "start_time": "2022-04-30T21:31:16.502Z"
   },
   {
    "duration": 44,
    "start_time": "2022-04-30T21:31:16.554Z"
   },
   {
    "duration": 33,
    "start_time": "2022-04-30T21:31:16.600Z"
   },
   {
    "duration": 11,
    "start_time": "2022-04-30T21:31:16.635Z"
   },
   {
    "duration": 57,
    "start_time": "2022-04-30T21:31:16.648Z"
   },
   {
    "duration": 19,
    "start_time": "2022-04-30T21:31:16.708Z"
   },
   {
    "duration": 30,
    "start_time": "2022-04-30T21:31:16.731Z"
   },
   {
    "duration": 51,
    "start_time": "2022-04-30T21:31:16.762Z"
   },
   {
    "duration": 7,
    "start_time": "2022-04-30T21:31:16.815Z"
   },
   {
    "duration": 18,
    "start_time": "2022-04-30T21:31:16.823Z"
   },
   {
    "duration": 53,
    "start_time": "2022-04-30T21:31:16.843Z"
   },
   {
    "duration": 16,
    "start_time": "2022-04-30T21:31:16.898Z"
   },
   {
    "duration": 24,
    "start_time": "2022-04-30T21:31:16.916Z"
   },
   {
    "duration": 921,
    "start_time": "2022-04-30T21:31:16.942Z"
   },
   {
    "duration": 27,
    "start_time": "2022-04-30T21:31:17.866Z"
   },
   {
    "duration": 16,
    "start_time": "2022-04-30T21:31:17.896Z"
   },
   {
    "duration": 20,
    "start_time": "2022-04-30T21:31:17.915Z"
   },
   {
    "duration": 5,
    "start_time": "2022-04-30T21:31:17.938Z"
   },
   {
    "duration": 35,
    "start_time": "2022-04-30T21:31:17.993Z"
   },
   {
    "duration": 866,
    "start_time": "2022-04-30T21:31:18.030Z"
   },
   {
    "duration": 5,
    "start_time": "2022-04-30T21:31:18.898Z"
   },
   {
    "duration": 36,
    "start_time": "2022-04-30T21:31:18.905Z"
   },
   {
    "duration": 27,
    "start_time": "2022-04-30T21:31:18.994Z"
   },
   {
    "duration": 7,
    "start_time": "2022-04-30T21:31:19.023Z"
   },
   {
    "duration": 74,
    "start_time": "2022-04-30T21:31:19.035Z"
   },
   {
    "duration": 90,
    "start_time": "2022-04-30T21:31:19.111Z"
   },
   {
    "duration": 5,
    "start_time": "2022-04-30T21:31:19.203Z"
   },
   {
    "duration": 19,
    "start_time": "2022-04-30T21:31:19.210Z"
   },
   {
    "duration": 65,
    "start_time": "2022-04-30T21:31:19.231Z"
   },
   {
    "duration": 5,
    "start_time": "2022-04-30T21:31:19.298Z"
   },
   {
    "duration": 9,
    "start_time": "2022-04-30T21:31:19.305Z"
   },
   {
    "duration": 9,
    "start_time": "2022-04-30T21:31:19.316Z"
   },
   {
    "duration": 8,
    "start_time": "2022-04-30T21:31:19.327Z"
   },
   {
    "duration": 20,
    "start_time": "2022-04-30T21:31:19.392Z"
   },
   {
    "duration": 184,
    "start_time": "2022-04-30T21:31:19.415Z"
   },
   {
    "duration": 6,
    "start_time": "2022-04-30T21:31:19.602Z"
   },
   {
    "duration": 185,
    "start_time": "2022-04-30T21:31:19.610Z"
   },
   {
    "duration": 5,
    "start_time": "2022-04-30T21:31:19.797Z"
   },
   {
    "duration": 94,
    "start_time": "2022-04-30T21:31:19.804Z"
   },
   {
    "duration": 36,
    "start_time": "2022-04-30T21:31:19.900Z"
   },
   {
    "duration": 60,
    "start_time": "2022-04-30T21:31:19.938Z"
   },
   {
    "duration": 36,
    "start_time": "2022-04-30T21:31:20.000Z"
   },
   {
    "duration": 25,
    "start_time": "2022-04-30T21:31:20.093Z"
   },
   {
    "duration": 74,
    "start_time": "2022-04-30T21:31:20.120Z"
   },
   {
    "duration": 711,
    "start_time": "2022-05-01T12:56:33.102Z"
   },
   {
    "duration": 41,
    "start_time": "2022-05-01T12:56:33.815Z"
   },
   {
    "duration": 36,
    "start_time": "2022-05-01T12:56:33.859Z"
   },
   {
    "duration": 47,
    "start_time": "2022-05-01T12:56:33.899Z"
   },
   {
    "duration": 63,
    "start_time": "2022-05-01T12:56:33.948Z"
   },
   {
    "duration": 32,
    "start_time": "2022-05-01T12:56:34.013Z"
   },
   {
    "duration": 56,
    "start_time": "2022-05-01T12:56:34.047Z"
   },
   {
    "duration": 12,
    "start_time": "2022-05-01T12:56:34.106Z"
   },
   {
    "duration": 23,
    "start_time": "2022-05-01T12:56:34.120Z"
   },
   {
    "duration": 68,
    "start_time": "2022-05-01T12:56:34.146Z"
   },
   {
    "duration": 20,
    "start_time": "2022-05-01T12:56:34.216Z"
   },
   {
    "duration": 12,
    "start_time": "2022-05-01T12:56:34.238Z"
   },
   {
    "duration": 49,
    "start_time": "2022-05-01T12:56:34.252Z"
   },
   {
    "duration": 29,
    "start_time": "2022-05-01T12:56:34.303Z"
   },
   {
    "duration": 76,
    "start_time": "2022-05-01T12:56:34.334Z"
   },
   {
    "duration": 1199,
    "start_time": "2022-05-01T12:56:34.412Z"
   },
   {
    "duration": 14,
    "start_time": "2022-05-01T12:56:35.614Z"
   },
   {
    "duration": 14,
    "start_time": "2022-05-01T12:56:35.631Z"
   },
   {
    "duration": 63,
    "start_time": "2022-05-01T12:56:35.647Z"
   },
   {
    "duration": 5,
    "start_time": "2022-05-01T12:56:35.712Z"
   },
   {
    "duration": 74,
    "start_time": "2022-05-01T12:56:35.719Z"
   },
   {
    "duration": 624,
    "start_time": "2022-05-01T12:56:35.795Z"
   },
   {
    "duration": 6,
    "start_time": "2022-05-01T12:56:36.421Z"
   },
   {
    "duration": 36,
    "start_time": "2022-05-01T12:56:36.429Z"
   },
   {
    "duration": 52,
    "start_time": "2022-05-01T12:56:36.467Z"
   },
   {
    "duration": 10,
    "start_time": "2022-05-01T12:56:36.522Z"
   },
   {
    "duration": 62,
    "start_time": "2022-05-01T12:56:36.534Z"
   },
   {
    "duration": 31,
    "start_time": "2022-05-01T12:56:36.601Z"
   },
   {
    "duration": 58,
    "start_time": "2022-05-01T12:56:36.635Z"
   },
   {
    "duration": 25,
    "start_time": "2022-05-01T12:56:36.696Z"
   },
   {
    "duration": 12,
    "start_time": "2022-05-01T12:56:36.724Z"
   },
   {
    "duration": 8,
    "start_time": "2022-05-01T12:56:36.794Z"
   },
   {
    "duration": 11,
    "start_time": "2022-05-01T12:56:36.805Z"
   },
   {
    "duration": 10,
    "start_time": "2022-05-01T12:56:36.818Z"
   },
   {
    "duration": 64,
    "start_time": "2022-05-01T12:56:36.831Z"
   },
   {
    "duration": 28,
    "start_time": "2022-05-01T12:56:36.897Z"
   },
   {
    "duration": 186,
    "start_time": "2022-05-01T12:56:36.927Z"
   },
   {
    "duration": 6,
    "start_time": "2022-05-01T12:56:37.115Z"
   },
   {
    "duration": 187,
    "start_time": "2022-05-01T12:56:37.123Z"
   },
   {
    "duration": 6,
    "start_time": "2022-05-01T12:56:37.312Z"
   },
   {
    "duration": 92,
    "start_time": "2022-05-01T12:56:37.320Z"
   },
   {
    "duration": 92,
    "start_time": "2022-05-01T12:56:37.414Z"
   },
   {
    "duration": 11,
    "start_time": "2022-05-01T12:56:37.508Z"
   },
   {
    "duration": 91,
    "start_time": "2022-05-01T12:56:37.522Z"
   },
   {
    "duration": 80,
    "start_time": "2022-05-01T12:56:37.615Z"
   },
   {
    "duration": 23,
    "start_time": "2022-05-01T12:56:37.697Z"
   },
   {
    "duration": 706,
    "start_time": "2022-05-01T12:58:00.043Z"
   },
   {
    "duration": 43,
    "start_time": "2022-05-01T12:58:00.752Z"
   },
   {
    "duration": 21,
    "start_time": "2022-05-01T12:58:00.798Z"
   },
   {
    "duration": 80,
    "start_time": "2022-05-01T12:58:00.822Z"
   },
   {
    "duration": 39,
    "start_time": "2022-05-01T12:58:00.904Z"
   },
   {
    "duration": 76,
    "start_time": "2022-05-01T12:58:00.945Z"
   },
   {
    "duration": 14,
    "start_time": "2022-05-01T12:58:01.023Z"
   },
   {
    "duration": 61,
    "start_time": "2022-05-01T12:58:01.039Z"
   },
   {
    "duration": 23,
    "start_time": "2022-05-01T12:58:01.102Z"
   },
   {
    "duration": 65,
    "start_time": "2022-05-01T12:58:01.129Z"
   },
   {
    "duration": 26,
    "start_time": "2022-05-01T12:58:01.197Z"
   },
   {
    "duration": 12,
    "start_time": "2022-05-01T12:58:01.226Z"
   },
   {
    "duration": 61,
    "start_time": "2022-05-01T12:58:01.241Z"
   },
   {
    "duration": 45,
    "start_time": "2022-05-01T12:58:01.304Z"
   },
   {
    "duration": 55,
    "start_time": "2022-05-01T12:58:01.351Z"
   },
   {
    "duration": 1127,
    "start_time": "2022-05-01T12:58:01.408Z"
   },
   {
    "duration": 11,
    "start_time": "2022-05-01T12:58:02.538Z"
   },
   {
    "duration": 49,
    "start_time": "2022-05-01T12:58:02.551Z"
   },
   {
    "duration": 18,
    "start_time": "2022-05-01T12:58:02.603Z"
   },
   {
    "duration": 5,
    "start_time": "2022-05-01T12:58:02.624Z"
   },
   {
    "duration": 80,
    "start_time": "2022-05-01T12:58:02.632Z"
   },
   {
    "duration": 1196,
    "start_time": "2022-05-01T12:58:02.714Z"
   },
   {
    "duration": 5,
    "start_time": "2022-05-01T12:58:03.913Z"
   },
   {
    "duration": 91,
    "start_time": "2022-05-01T12:58:03.920Z"
   },
   {
    "duration": 26,
    "start_time": "2022-05-01T12:58:04.014Z"
   },
   {
    "duration": 7,
    "start_time": "2022-05-01T12:58:04.094Z"
   },
   {
    "duration": 21,
    "start_time": "2022-05-01T12:58:04.103Z"
   },
   {
    "duration": 73,
    "start_time": "2022-05-01T12:58:04.129Z"
   },
   {
    "duration": 5,
    "start_time": "2022-05-01T12:58:04.204Z"
   },
   {
    "duration": 22,
    "start_time": "2022-05-01T12:58:04.211Z"
   },
   {
    "duration": 61,
    "start_time": "2022-05-01T12:58:04.235Z"
   },
   {
    "duration": 7,
    "start_time": "2022-05-01T12:58:04.298Z"
   },
   {
    "duration": 8,
    "start_time": "2022-05-01T12:58:04.307Z"
   },
   {
    "duration": 8,
    "start_time": "2022-05-01T12:58:04.317Z"
   },
   {
    "duration": 7,
    "start_time": "2022-05-01T12:58:04.327Z"
   },
   {
    "duration": 73,
    "start_time": "2022-05-01T12:58:04.336Z"
   },
   {
    "duration": 182,
    "start_time": "2022-05-01T12:58:04.412Z"
   },
   {
    "duration": 5,
    "start_time": "2022-05-01T12:58:04.597Z"
   },
   {
    "duration": 131,
    "start_time": "2022-05-01T12:58:04.604Z"
   },
   {
    "duration": 6,
    "start_time": "2022-05-01T12:58:04.793Z"
   },
   {
    "duration": 93,
    "start_time": "2022-05-01T12:58:04.801Z"
   },
   {
    "duration": 38,
    "start_time": "2022-05-01T12:58:04.897Z"
   },
   {
    "duration": 7,
    "start_time": "2022-05-01T12:58:04.993Z"
   },
   {
    "duration": 93,
    "start_time": "2022-05-01T12:58:05.002Z"
   },
   {
    "duration": 25,
    "start_time": "2022-05-01T12:58:05.097Z"
   },
   {
    "duration": 83,
    "start_time": "2022-05-01T12:58:05.124Z"
   },
   {
    "duration": 594,
    "start_time": "2022-05-01T12:59:26.922Z"
   },
   {
    "duration": 30,
    "start_time": "2022-05-01T12:59:27.518Z"
   },
   {
    "duration": 46,
    "start_time": "2022-05-01T12:59:27.550Z"
   },
   {
    "duration": 62,
    "start_time": "2022-05-01T12:59:27.599Z"
   },
   {
    "duration": 57,
    "start_time": "2022-05-01T12:59:27.664Z"
   },
   {
    "duration": 81,
    "start_time": "2022-05-01T12:59:27.724Z"
   },
   {
    "duration": 16,
    "start_time": "2022-05-01T12:59:27.808Z"
   },
   {
    "duration": 20,
    "start_time": "2022-05-01T12:59:27.826Z"
   },
   {
    "duration": 25,
    "start_time": "2022-05-01T12:59:27.894Z"
   },
   {
    "duration": 69,
    "start_time": "2022-05-01T12:59:27.924Z"
   },
   {
    "duration": 29,
    "start_time": "2022-05-01T12:59:27.996Z"
   },
   {
    "duration": 9,
    "start_time": "2022-05-01T12:59:28.029Z"
   },
   {
    "duration": 64,
    "start_time": "2022-05-01T12:59:28.040Z"
   },
   {
    "duration": 32,
    "start_time": "2022-05-01T12:59:28.107Z"
   },
   {
    "duration": 72,
    "start_time": "2022-05-01T12:59:28.142Z"
   },
   {
    "duration": 932,
    "start_time": "2022-05-01T12:59:28.217Z"
   },
   {
    "duration": 14,
    "start_time": "2022-05-01T12:59:29.152Z"
   },
   {
    "duration": 17,
    "start_time": "2022-05-01T12:59:29.194Z"
   },
   {
    "duration": 23,
    "start_time": "2022-05-01T12:59:29.214Z"
   },
   {
    "duration": 6,
    "start_time": "2022-05-01T12:59:29.239Z"
   },
   {
    "duration": 32,
    "start_time": "2022-05-01T12:59:29.294Z"
   },
   {
    "duration": 623,
    "start_time": "2022-05-01T12:59:29.328Z"
   },
   {
    "duration": 7,
    "start_time": "2022-05-01T12:59:29.954Z"
   },
   {
    "duration": 59,
    "start_time": "2022-05-01T12:59:29.964Z"
   },
   {
    "duration": 28,
    "start_time": "2022-05-01T12:59:30.026Z"
   },
   {
    "duration": 38,
    "start_time": "2022-05-01T12:59:30.057Z"
   },
   {
    "duration": 23,
    "start_time": "2022-05-01T12:59:30.097Z"
   },
   {
    "duration": 67,
    "start_time": "2022-05-01T12:59:30.126Z"
   },
   {
    "duration": 6,
    "start_time": "2022-05-01T12:59:30.195Z"
   },
   {
    "duration": 21,
    "start_time": "2022-05-01T12:59:30.203Z"
   },
   {
    "duration": 14,
    "start_time": "2022-05-01T12:59:30.227Z"
   },
   {
    "duration": 13,
    "start_time": "2022-05-01T12:59:30.244Z"
   },
   {
    "duration": 7,
    "start_time": "2022-05-01T12:59:30.293Z"
   },
   {
    "duration": 15,
    "start_time": "2022-05-01T12:59:30.302Z"
   },
   {
    "duration": 15,
    "start_time": "2022-05-01T12:59:30.319Z"
   },
   {
    "duration": 58,
    "start_time": "2022-05-01T12:59:30.336Z"
   },
   {
    "duration": 114,
    "start_time": "2022-05-01T12:59:30.397Z"
   },
   {
    "duration": 7,
    "start_time": "2022-05-01T12:59:30.513Z"
   },
   {
    "duration": 175,
    "start_time": "2022-05-01T12:59:30.522Z"
   },
   {
    "duration": 7,
    "start_time": "2022-05-01T12:59:30.699Z"
   },
   {
    "duration": 47,
    "start_time": "2022-05-01T12:59:30.708Z"
   },
   {
    "duration": 41,
    "start_time": "2022-05-01T12:59:30.793Z"
   },
   {
    "duration": 21,
    "start_time": "2022-05-01T12:59:30.835Z"
   },
   {
    "duration": 70,
    "start_time": "2022-05-01T12:59:30.858Z"
   },
   {
    "duration": 34,
    "start_time": "2022-05-01T12:59:30.930Z"
   },
   {
    "duration": 55,
    "start_time": "2022-05-01T12:59:30.967Z"
   },
   {
    "duration": 12,
    "start_time": "2022-05-01T13:05:45.922Z"
   },
   {
    "duration": 746,
    "start_time": "2022-05-01T13:05:54.363Z"
   },
   {
    "duration": 30,
    "start_time": "2022-05-01T13:05:55.112Z"
   },
   {
    "duration": 19,
    "start_time": "2022-05-01T13:05:55.144Z"
   },
   {
    "duration": 65,
    "start_time": "2022-05-01T13:05:55.166Z"
   },
   {
    "duration": 26,
    "start_time": "2022-05-01T13:05:55.233Z"
   },
   {
    "duration": 61,
    "start_time": "2022-05-01T13:05:55.261Z"
   },
   {
    "duration": 11,
    "start_time": "2022-05-01T13:05:55.324Z"
   },
   {
    "duration": 61,
    "start_time": "2022-05-01T13:05:55.337Z"
   },
   {
    "duration": 21,
    "start_time": "2022-05-01T13:05:55.400Z"
   },
   {
    "duration": 29,
    "start_time": "2022-05-01T13:05:55.425Z"
   },
   {
    "duration": 52,
    "start_time": "2022-05-01T13:05:55.456Z"
   },
   {
    "duration": 8,
    "start_time": "2022-05-01T13:05:55.510Z"
   },
   {
    "duration": 15,
    "start_time": "2022-05-01T13:05:55.520Z"
   },
   {
    "duration": 66,
    "start_time": "2022-05-01T13:05:55.538Z"
   },
   {
    "duration": 27,
    "start_time": "2022-05-01T13:05:55.606Z"
   },
   {
    "duration": 942,
    "start_time": "2022-05-01T13:05:55.635Z"
   },
   {
    "duration": 19,
    "start_time": "2022-05-01T13:05:56.579Z"
   },
   {
    "duration": 14,
    "start_time": "2022-05-01T13:05:56.599Z"
   },
   {
    "duration": 17,
    "start_time": "2022-05-01T13:05:56.615Z"
   },
   {
    "duration": 5,
    "start_time": "2022-05-01T13:05:56.634Z"
   },
   {
    "duration": 77,
    "start_time": "2022-05-01T13:05:56.641Z"
   },
   {
    "duration": 815,
    "start_time": "2022-05-01T13:05:56.721Z"
   },
   {
    "duration": 58,
    "start_time": "2022-05-01T13:05:57.538Z"
   },
   {
    "duration": 45,
    "start_time": "2022-05-01T13:05:57.599Z"
   },
   {
    "duration": 27,
    "start_time": "2022-05-01T13:05:57.693Z"
   },
   {
    "duration": 7,
    "start_time": "2022-05-01T13:05:57.722Z"
   },
   {
    "duration": 75,
    "start_time": "2022-05-01T13:05:57.732Z"
   },
   {
    "duration": 23,
    "start_time": "2022-05-01T13:05:57.813Z"
   },
   {
    "duration": 57,
    "start_time": "2022-05-01T13:05:57.839Z"
   },
   {
    "duration": 20,
    "start_time": "2022-05-01T13:05:57.898Z"
   },
   {
    "duration": 12,
    "start_time": "2022-05-01T13:05:57.920Z"
   },
   {
    "duration": 62,
    "start_time": "2022-05-01T13:05:57.934Z"
   },
   {
    "duration": 7,
    "start_time": "2022-05-01T13:05:57.998Z"
   },
   {
    "duration": 8,
    "start_time": "2022-05-01T13:05:58.007Z"
   },
   {
    "duration": 8,
    "start_time": "2022-05-01T13:05:58.017Z"
   },
   {
    "duration": 74,
    "start_time": "2022-05-01T13:05:58.027Z"
   },
   {
    "duration": 130,
    "start_time": "2022-05-01T13:05:58.103Z"
   },
   {
    "duration": 60,
    "start_time": "2022-05-01T13:05:58.235Z"
   },
   {
    "duration": 135,
    "start_time": "2022-05-01T13:05:58.298Z"
   },
   {
    "duration": 60,
    "start_time": "2022-05-01T13:05:58.435Z"
   },
   {
    "duration": 42,
    "start_time": "2022-05-01T13:05:58.498Z"
   },
   {
    "duration": 39,
    "start_time": "2022-05-01T13:05:58.593Z"
   },
   {
    "duration": 60,
    "start_time": "2022-05-01T13:05:58.634Z"
   },
   {
    "duration": 38,
    "start_time": "2022-05-01T13:05:58.697Z"
   },
   {
    "duration": 25,
    "start_time": "2022-05-01T13:05:58.793Z"
   },
   {
    "duration": 80,
    "start_time": "2022-05-01T13:05:58.820Z"
   },
   {
    "duration": 864,
    "start_time": "2022-05-01T13:06:55.058Z"
   },
   {
    "duration": 42,
    "start_time": "2022-05-01T13:06:55.925Z"
   },
   {
    "duration": 36,
    "start_time": "2022-05-01T13:06:55.970Z"
   },
   {
    "duration": 61,
    "start_time": "2022-05-01T13:06:56.009Z"
   },
   {
    "duration": 45,
    "start_time": "2022-05-01T13:06:56.073Z"
   },
   {
    "duration": 42,
    "start_time": "2022-05-01T13:06:56.120Z"
   },
   {
    "duration": 11,
    "start_time": "2022-05-01T13:06:56.164Z"
   },
   {
    "duration": 27,
    "start_time": "2022-05-01T13:06:56.178Z"
   },
   {
    "duration": 19,
    "start_time": "2022-05-01T13:06:56.207Z"
   },
   {
    "duration": 28,
    "start_time": "2022-05-01T13:06:56.230Z"
   },
   {
    "duration": 36,
    "start_time": "2022-05-01T13:06:56.261Z"
   },
   {
    "duration": 7,
    "start_time": "2022-05-01T13:06:56.299Z"
   },
   {
    "duration": 13,
    "start_time": "2022-05-01T13:06:56.308Z"
   },
   {
    "duration": 30,
    "start_time": "2022-05-01T13:06:56.323Z"
   },
   {
    "duration": 39,
    "start_time": "2022-05-01T13:06:56.354Z"
   },
   {
    "duration": 2123,
    "start_time": "2022-05-01T13:06:56.395Z"
   },
   {
    "duration": 13,
    "start_time": "2022-05-01T13:06:58.521Z"
   },
   {
    "duration": 66,
    "start_time": "2022-05-01T13:06:58.536Z"
   },
   {
    "duration": 18,
    "start_time": "2022-05-01T13:06:58.605Z"
   },
   {
    "duration": 6,
    "start_time": "2022-05-01T13:06:58.625Z"
   },
   {
    "duration": 79,
    "start_time": "2022-05-01T13:06:58.633Z"
   },
   {
    "duration": 1184,
    "start_time": "2022-05-01T13:06:58.714Z"
   },
   {
    "duration": 6,
    "start_time": "2022-05-01T13:06:59.900Z"
   },
   {
    "duration": 93,
    "start_time": "2022-05-01T13:06:59.907Z"
   },
   {
    "duration": 27,
    "start_time": "2022-05-01T13:07:00.002Z"
   },
   {
    "duration": 63,
    "start_time": "2022-05-01T13:07:00.032Z"
   },
   {
    "duration": 20,
    "start_time": "2022-05-01T13:07:00.097Z"
   },
   {
    "duration": 81,
    "start_time": "2022-05-01T13:07:00.123Z"
   },
   {
    "duration": 10,
    "start_time": "2022-05-01T13:07:00.207Z"
   },
   {
    "duration": 83,
    "start_time": "2022-05-01T13:07:00.220Z"
   },
   {
    "duration": 27,
    "start_time": "2022-05-01T13:07:00.307Z"
   },
   {
    "duration": 10,
    "start_time": "2022-05-01T13:07:00.337Z"
   },
   {
    "duration": 14,
    "start_time": "2022-05-01T13:07:00.394Z"
   },
   {
    "duration": 37,
    "start_time": "2022-05-01T13:07:00.410Z"
   },
   {
    "duration": 50,
    "start_time": "2022-05-01T13:07:00.449Z"
   },
   {
    "duration": 97,
    "start_time": "2022-05-01T13:07:00.502Z"
   },
   {
    "duration": 231,
    "start_time": "2022-05-01T13:07:00.602Z"
   },
   {
    "duration": 60,
    "start_time": "2022-05-01T13:07:00.835Z"
   },
   {
    "duration": 138,
    "start_time": "2022-05-01T13:07:00.897Z"
   },
   {
    "duration": 9,
    "start_time": "2022-05-01T13:07:01.092Z"
   },
   {
    "duration": 90,
    "start_time": "2022-05-01T13:07:01.103Z"
   },
   {
    "duration": 39,
    "start_time": "2022-05-01T13:07:01.196Z"
   },
   {
    "duration": 8,
    "start_time": "2022-05-01T13:07:01.237Z"
   },
   {
    "duration": 78,
    "start_time": "2022-05-01T13:07:01.247Z"
   },
   {
    "duration": 25,
    "start_time": "2022-05-01T13:07:01.327Z"
   },
   {
    "duration": 44,
    "start_time": "2022-05-01T13:07:01.354Z"
   },
   {
    "duration": 609,
    "start_time": "2022-05-01T13:07:43.759Z"
   },
   {
    "duration": 32,
    "start_time": "2022-05-01T13:07:44.371Z"
   },
   {
    "duration": 19,
    "start_time": "2022-05-01T13:07:44.405Z"
   },
   {
    "duration": 67,
    "start_time": "2022-05-01T13:07:44.427Z"
   },
   {
    "duration": 26,
    "start_time": "2022-05-01T13:07:44.497Z"
   },
   {
    "duration": 74,
    "start_time": "2022-05-01T13:07:44.525Z"
   },
   {
    "duration": 12,
    "start_time": "2022-05-01T13:07:44.601Z"
   },
   {
    "duration": 13,
    "start_time": "2022-05-01T13:07:44.615Z"
   },
   {
    "duration": 20,
    "start_time": "2022-05-01T13:07:44.631Z"
   },
   {
    "duration": 64,
    "start_time": "2022-05-01T13:07:44.654Z"
   },
   {
    "duration": 20,
    "start_time": "2022-05-01T13:07:44.721Z"
   },
   {
    "duration": 7,
    "start_time": "2022-05-01T13:07:44.744Z"
   },
   {
    "duration": 52,
    "start_time": "2022-05-01T13:07:44.752Z"
   },
   {
    "duration": 27,
    "start_time": "2022-05-01T13:07:44.806Z"
   },
   {
    "duration": 62,
    "start_time": "2022-05-01T13:07:44.835Z"
   },
   {
    "duration": 876,
    "start_time": "2022-05-01T13:07:44.899Z"
   },
   {
    "duration": 19,
    "start_time": "2022-05-01T13:07:45.777Z"
   },
   {
    "duration": 14,
    "start_time": "2022-05-01T13:07:45.798Z"
   },
   {
    "duration": 16,
    "start_time": "2022-05-01T13:07:45.814Z"
   },
   {
    "duration": 5,
    "start_time": "2022-05-01T13:07:45.832Z"
   },
   {
    "duration": 73,
    "start_time": "2022-05-01T13:07:45.839Z"
   },
   {
    "duration": 627,
    "start_time": "2022-05-01T13:07:45.914Z"
   },
   {
    "duration": 5,
    "start_time": "2022-05-01T13:07:46.594Z"
   },
   {
    "duration": 31,
    "start_time": "2022-05-01T13:07:46.602Z"
   },
   {
    "duration": 81,
    "start_time": "2022-05-01T13:07:46.636Z"
   },
   {
    "duration": 8,
    "start_time": "2022-05-01T13:07:46.719Z"
   },
   {
    "duration": 76,
    "start_time": "2022-05-01T13:07:46.729Z"
   },
   {
    "duration": 24,
    "start_time": "2022-05-01T13:07:46.810Z"
   },
   {
    "duration": 57,
    "start_time": "2022-05-01T13:07:46.836Z"
   },
   {
    "duration": 17,
    "start_time": "2022-05-01T13:07:46.895Z"
   },
   {
    "duration": 9,
    "start_time": "2022-05-01T13:07:46.914Z"
   },
   {
    "duration": 7,
    "start_time": "2022-05-01T13:07:46.925Z"
   },
   {
    "duration": 60,
    "start_time": "2022-05-01T13:07:46.934Z"
   },
   {
    "duration": 9,
    "start_time": "2022-05-01T13:07:46.996Z"
   },
   {
    "duration": 8,
    "start_time": "2022-05-01T13:07:47.007Z"
   },
   {
    "duration": 18,
    "start_time": "2022-05-01T13:07:47.017Z"
   },
   {
    "duration": 132,
    "start_time": "2022-05-01T13:07:47.094Z"
   },
   {
    "duration": 6,
    "start_time": "2022-05-01T13:07:47.228Z"
   },
   {
    "duration": 260,
    "start_time": "2022-05-01T13:07:47.237Z"
   },
   {
    "duration": 8,
    "start_time": "2022-05-01T13:07:47.500Z"
   },
   {
    "duration": 112,
    "start_time": "2022-05-01T13:07:47.510Z"
   },
   {
    "duration": 103,
    "start_time": "2022-05-01T13:07:47.625Z"
   },
   {
    "duration": 63,
    "start_time": "2022-05-01T13:07:47.731Z"
   },
   {
    "duration": 105,
    "start_time": "2022-05-01T13:07:47.796Z"
   },
   {
    "duration": 32,
    "start_time": "2022-05-01T13:07:47.905Z"
   },
   {
    "duration": 80,
    "start_time": "2022-05-01T13:07:47.939Z"
   },
   {
    "duration": 606,
    "start_time": "2022-05-01T13:09:04.210Z"
   },
   {
    "duration": 30,
    "start_time": "2022-05-01T13:09:04.819Z"
   },
   {
    "duration": 19,
    "start_time": "2022-05-01T13:09:04.851Z"
   },
   {
    "duration": 44,
    "start_time": "2022-05-01T13:09:04.894Z"
   },
   {
    "duration": 54,
    "start_time": "2022-05-01T13:09:04.940Z"
   },
   {
    "duration": 44,
    "start_time": "2022-05-01T13:09:04.996Z"
   },
   {
    "duration": 55,
    "start_time": "2022-05-01T13:09:05.042Z"
   },
   {
    "duration": 13,
    "start_time": "2022-05-01T13:09:05.099Z"
   },
   {
    "duration": 29,
    "start_time": "2022-05-01T13:09:05.115Z"
   },
   {
    "duration": 70,
    "start_time": "2022-05-01T13:09:05.149Z"
   },
   {
    "duration": 29,
    "start_time": "2022-05-01T13:09:05.222Z"
   },
   {
    "duration": 42,
    "start_time": "2022-05-01T13:09:05.253Z"
   },
   {
    "duration": 19,
    "start_time": "2022-05-01T13:09:05.298Z"
   },
   {
    "duration": 34,
    "start_time": "2022-05-01T13:09:05.321Z"
   },
   {
    "duration": 64,
    "start_time": "2022-05-01T13:09:05.357Z"
   },
   {
    "duration": 962,
    "start_time": "2022-05-01T13:09:05.423Z"
   },
   {
    "duration": 14,
    "start_time": "2022-05-01T13:09:06.387Z"
   },
   {
    "duration": 16,
    "start_time": "2022-05-01T13:09:06.403Z"
   },
   {
    "duration": 20,
    "start_time": "2022-05-01T13:09:06.421Z"
   },
   {
    "duration": 5,
    "start_time": "2022-05-01T13:09:06.443Z"
   },
   {
    "duration": 75,
    "start_time": "2022-05-01T13:09:06.451Z"
   },
   {
    "duration": 1167,
    "start_time": "2022-05-01T13:09:06.529Z"
   },
   {
    "duration": 5,
    "start_time": "2022-05-01T13:09:07.698Z"
   },
   {
    "duration": 33,
    "start_time": "2022-05-01T13:09:07.705Z"
   },
   {
    "duration": 75,
    "start_time": "2022-05-01T13:09:07.741Z"
   },
   {
    "duration": 9,
    "start_time": "2022-05-01T13:09:07.819Z"
   },
   {
    "duration": 85,
    "start_time": "2022-05-01T13:09:07.831Z"
   },
   {
    "duration": 85,
    "start_time": "2022-05-01T13:09:07.921Z"
   },
   {
    "duration": 16,
    "start_time": "2022-05-01T13:09:08.008Z"
   },
   {
    "duration": 79,
    "start_time": "2022-05-01T13:09:08.027Z"
   },
   {
    "duration": 14,
    "start_time": "2022-05-01T13:09:08.109Z"
   },
   {
    "duration": 13,
    "start_time": "2022-05-01T13:09:08.126Z"
   },
   {
    "duration": 7,
    "start_time": "2022-05-01T13:09:08.193Z"
   },
   {
    "duration": 8,
    "start_time": "2022-05-01T13:09:08.202Z"
   },
   {
    "duration": 8,
    "start_time": "2022-05-01T13:09:08.213Z"
   },
   {
    "duration": 74,
    "start_time": "2022-05-01T13:09:08.223Z"
   },
   {
    "duration": 130,
    "start_time": "2022-05-01T13:09:08.299Z"
   },
   {
    "duration": 60,
    "start_time": "2022-05-01T13:09:08.432Z"
   },
   {
    "duration": 132,
    "start_time": "2022-05-01T13:09:08.495Z"
   },
   {
    "duration": 6,
    "start_time": "2022-05-01T13:09:08.629Z"
   },
   {
    "duration": 114,
    "start_time": "2022-05-01T13:09:08.693Z"
   },
   {
    "duration": 117,
    "start_time": "2022-05-01T13:09:08.810Z"
   },
   {
    "duration": 67,
    "start_time": "2022-05-01T13:09:08.929Z"
   },
   {
    "duration": 110,
    "start_time": "2022-05-01T13:09:08.999Z"
   },
   {
    "duration": 88,
    "start_time": "2022-05-01T13:09:09.112Z"
   },
   {
    "duration": 24,
    "start_time": "2022-05-01T13:09:09.202Z"
   },
   {
    "duration": 202,
    "start_time": "2022-05-01T13:17:24.447Z"
   },
   {
    "duration": 620,
    "start_time": "2022-05-01T13:18:03.982Z"
   },
   {
    "duration": 32,
    "start_time": "2022-05-01T13:18:04.605Z"
   },
   {
    "duration": 20,
    "start_time": "2022-05-01T13:18:04.639Z"
   },
   {
    "duration": 46,
    "start_time": "2022-05-01T13:18:04.692Z"
   },
   {
    "duration": 27,
    "start_time": "2022-05-01T13:18:04.740Z"
   },
   {
    "duration": 62,
    "start_time": "2022-05-01T13:18:04.769Z"
   },
   {
    "duration": 13,
    "start_time": "2022-05-01T13:18:04.832Z"
   },
   {
    "duration": 19,
    "start_time": "2022-05-01T13:18:04.894Z"
   },
   {
    "duration": 21,
    "start_time": "2022-05-01T13:18:04.916Z"
   },
   {
    "duration": 68,
    "start_time": "2022-05-01T13:18:04.941Z"
   },
   {
    "duration": 22,
    "start_time": "2022-05-01T13:18:05.011Z"
   },
   {
    "duration": 7,
    "start_time": "2022-05-01T13:18:05.035Z"
   },
   {
    "duration": 53,
    "start_time": "2022-05-01T13:18:05.044Z"
   },
   {
    "duration": 31,
    "start_time": "2022-05-01T13:18:05.100Z"
   },
   {
    "duration": 68,
    "start_time": "2022-05-01T13:18:05.134Z"
   },
   {
    "duration": 1027,
    "start_time": "2022-05-01T13:18:05.204Z"
   },
   {
    "duration": 66,
    "start_time": "2022-05-01T13:18:06.234Z"
   },
   {
    "duration": 16,
    "start_time": "2022-05-01T13:18:06.303Z"
   },
   {
    "duration": 76,
    "start_time": "2022-05-01T13:18:06.322Z"
   },
   {
    "duration": 5,
    "start_time": "2022-05-01T13:18:06.400Z"
   },
   {
    "duration": 89,
    "start_time": "2022-05-01T13:18:06.407Z"
   },
   {
    "duration": 1126,
    "start_time": "2022-05-01T13:18:06.498Z"
   },
   {
    "duration": 5,
    "start_time": "2022-05-01T13:18:07.626Z"
   },
   {
    "duration": 88,
    "start_time": "2022-05-01T13:18:07.633Z"
   },
   {
    "duration": 80,
    "start_time": "2022-05-01T13:18:07.723Z"
   },
   {
    "duration": 8,
    "start_time": "2022-05-01T13:18:07.806Z"
   },
   {
    "duration": 24,
    "start_time": "2022-05-01T13:18:07.817Z"
   },
   {
    "duration": 23,
    "start_time": "2022-05-01T13:18:07.897Z"
   },
   {
    "duration": 6,
    "start_time": "2022-05-01T13:18:07.922Z"
   },
   {
    "duration": 76,
    "start_time": "2022-05-01T13:18:07.930Z"
   },
   {
    "duration": 12,
    "start_time": "2022-05-01T13:18:08.010Z"
   },
   {
    "duration": 11,
    "start_time": "2022-05-01T13:18:08.024Z"
   },
   {
    "duration": 59,
    "start_time": "2022-05-01T13:18:08.037Z"
   },
   {
    "duration": 11,
    "start_time": "2022-05-01T13:18:08.099Z"
   },
   {
    "duration": 8,
    "start_time": "2022-05-01T13:18:08.112Z"
   },
   {
    "duration": 74,
    "start_time": "2022-05-01T13:18:08.122Z"
   },
   {
    "duration": 132,
    "start_time": "2022-05-01T13:18:08.198Z"
   },
   {
    "duration": 61,
    "start_time": "2022-05-01T13:18:08.332Z"
   },
   {
    "duration": 137,
    "start_time": "2022-05-01T13:18:08.395Z"
   },
   {
    "duration": 59,
    "start_time": "2022-05-01T13:18:08.535Z"
   },
   {
    "duration": 40,
    "start_time": "2022-05-01T13:18:08.596Z"
   },
   {
    "duration": 38,
    "start_time": "2022-05-01T13:18:08.694Z"
   },
   {
    "duration": 59,
    "start_time": "2022-05-01T13:18:08.735Z"
   },
   {
    "duration": 37,
    "start_time": "2022-05-01T13:18:08.797Z"
   },
   {
    "duration": 76,
    "start_time": "2022-05-01T13:18:08.836Z"
   },
   {
    "duration": 78,
    "start_time": "2022-05-01T13:18:08.914Z"
   },
   {
    "duration": 601,
    "start_time": "2022-05-01T13:19:45.041Z"
   },
   {
    "duration": 31,
    "start_time": "2022-05-01T13:19:45.645Z"
   },
   {
    "duration": 34,
    "start_time": "2022-05-01T13:19:45.678Z"
   },
   {
    "duration": 51,
    "start_time": "2022-05-01T13:19:45.715Z"
   },
   {
    "duration": 49,
    "start_time": "2022-05-01T13:19:45.768Z"
   },
   {
    "duration": 76,
    "start_time": "2022-05-01T13:19:45.820Z"
   },
   {
    "duration": 12,
    "start_time": "2022-05-01T13:19:45.898Z"
   },
   {
    "duration": 14,
    "start_time": "2022-05-01T13:19:45.913Z"
   },
   {
    "duration": 21,
    "start_time": "2022-05-01T13:19:45.929Z"
   },
   {
    "duration": 66,
    "start_time": "2022-05-01T13:19:45.954Z"
   },
   {
    "duration": 23,
    "start_time": "2022-05-01T13:19:46.023Z"
   },
   {
    "duration": 8,
    "start_time": "2022-05-01T13:19:46.048Z"
   },
   {
    "duration": 15,
    "start_time": "2022-05-01T13:19:46.094Z"
   },
   {
    "duration": 42,
    "start_time": "2022-05-01T13:19:46.111Z"
   },
   {
    "duration": 68,
    "start_time": "2022-05-01T13:19:46.156Z"
   },
   {
    "duration": 991,
    "start_time": "2022-05-01T13:19:46.227Z"
   },
   {
    "duration": 10,
    "start_time": "2022-05-01T13:19:47.221Z"
   },
   {
    "duration": 71,
    "start_time": "2022-05-01T13:19:47.233Z"
   },
   {
    "duration": 18,
    "start_time": "2022-05-01T13:19:47.306Z"
   },
   {
    "duration": 6,
    "start_time": "2022-05-01T13:19:47.326Z"
   },
   {
    "duration": 88,
    "start_time": "2022-05-01T13:19:47.334Z"
   },
   {
    "duration": 1281,
    "start_time": "2022-05-01T13:19:47.425Z"
   },
   {
    "duration": 5,
    "start_time": "2022-05-01T13:19:48.708Z"
   },
   {
    "duration": 86,
    "start_time": "2022-05-01T13:19:48.715Z"
   },
   {
    "duration": 27,
    "start_time": "2022-05-01T13:19:48.803Z"
   },
   {
    "duration": 63,
    "start_time": "2022-05-01T13:19:48.832Z"
   },
   {
    "duration": 26,
    "start_time": "2022-05-01T13:19:48.897Z"
   },
   {
    "duration": 75,
    "start_time": "2022-05-01T13:19:48.927Z"
   },
   {
    "duration": 4,
    "start_time": "2022-05-01T13:19:49.004Z"
   },
   {
    "duration": 20,
    "start_time": "2022-05-01T13:19:49.011Z"
   },
   {
    "duration": 62,
    "start_time": "2022-05-01T13:19:49.034Z"
   },
   {
    "duration": 6,
    "start_time": "2022-05-01T13:19:49.099Z"
   },
   {
    "duration": 10,
    "start_time": "2022-05-01T13:19:49.107Z"
   },
   {
    "duration": 8,
    "start_time": "2022-05-01T13:19:49.119Z"
   },
   {
    "duration": 65,
    "start_time": "2022-05-01T13:19:49.130Z"
   },
   {
    "duration": 21,
    "start_time": "2022-05-01T13:19:49.197Z"
   },
   {
    "duration": 175,
    "start_time": "2022-05-01T13:19:49.221Z"
   },
   {
    "duration": 6,
    "start_time": "2022-05-01T13:19:49.398Z"
   },
   {
    "duration": 188,
    "start_time": "2022-05-01T13:19:49.407Z"
   },
   {
    "duration": 7,
    "start_time": "2022-05-01T13:19:49.597Z"
   },
   {
    "duration": 91,
    "start_time": "2022-05-01T13:19:49.606Z"
   },
   {
    "duration": 96,
    "start_time": "2022-05-01T13:19:49.699Z"
   },
   {
    "duration": 7,
    "start_time": "2022-05-01T13:19:49.797Z"
   },
   {
    "duration": 112,
    "start_time": "2022-05-01T13:19:49.807Z"
   },
   {
    "duration": 94,
    "start_time": "2022-05-01T13:19:49.923Z"
   },
   {
    "duration": 89,
    "start_time": "2022-05-01T13:19:50.020Z"
   },
   {
    "duration": 467,
    "start_time": "2022-05-01T18:31:12.807Z"
   },
   {
    "duration": 18,
    "start_time": "2022-05-01T18:31:13.276Z"
   },
   {
    "duration": 13,
    "start_time": "2022-05-01T18:31:13.296Z"
   },
   {
    "duration": 30,
    "start_time": "2022-05-01T18:31:13.312Z"
   },
   {
    "duration": 19,
    "start_time": "2022-05-01T18:31:13.344Z"
   },
   {
    "duration": 44,
    "start_time": "2022-05-01T18:31:13.364Z"
   },
   {
    "duration": 8,
    "start_time": "2022-05-01T18:31:13.409Z"
   },
   {
    "duration": 9,
    "start_time": "2022-05-01T18:31:13.418Z"
   },
   {
    "duration": 24,
    "start_time": "2022-05-01T18:31:13.428Z"
   },
   {
    "duration": 20,
    "start_time": "2022-05-01T18:31:13.455Z"
   },
   {
    "duration": 26,
    "start_time": "2022-05-01T18:31:13.476Z"
   },
   {
    "duration": 10,
    "start_time": "2022-05-01T18:31:13.504Z"
   },
   {
    "duration": 24,
    "start_time": "2022-05-01T18:31:13.515Z"
   },
   {
    "duration": 23,
    "start_time": "2022-05-01T18:31:13.541Z"
   },
   {
    "duration": 15,
    "start_time": "2022-05-01T18:31:13.565Z"
   },
   {
    "duration": 703,
    "start_time": "2022-05-01T18:31:13.581Z"
   },
   {
    "duration": 15,
    "start_time": "2022-05-01T18:31:14.286Z"
   },
   {
    "duration": 9,
    "start_time": "2022-05-01T18:31:14.302Z"
   },
   {
    "duration": 31,
    "start_time": "2022-05-01T18:31:14.312Z"
   },
   {
    "duration": 8,
    "start_time": "2022-05-01T18:31:14.345Z"
   },
   {
    "duration": 41,
    "start_time": "2022-05-01T18:31:14.354Z"
   },
   {
    "duration": 351,
    "start_time": "2022-05-01T18:31:14.397Z"
   },
   {
    "duration": 3,
    "start_time": "2022-05-01T18:31:14.750Z"
   },
   {
    "duration": 29,
    "start_time": "2022-05-01T18:31:14.754Z"
   },
   {
    "duration": 24,
    "start_time": "2022-05-01T18:31:14.784Z"
   },
   {
    "duration": 5,
    "start_time": "2022-05-01T18:31:14.810Z"
   },
   {
    "duration": 19,
    "start_time": "2022-05-01T18:31:14.816Z"
   },
   {
    "duration": 15,
    "start_time": "2022-05-01T18:31:14.838Z"
   },
   {
    "duration": 15,
    "start_time": "2022-05-01T18:31:14.855Z"
   },
   {
    "duration": 25,
    "start_time": "2022-05-01T18:31:14.872Z"
   },
   {
    "duration": 7,
    "start_time": "2022-05-01T18:31:14.898Z"
   },
   {
    "duration": 8,
    "start_time": "2022-05-01T18:31:14.906Z"
   },
   {
    "duration": 12,
    "start_time": "2022-05-01T18:31:14.915Z"
   },
   {
    "duration": 10,
    "start_time": "2022-05-01T18:31:14.928Z"
   },
   {
    "duration": 27,
    "start_time": "2022-05-01T18:31:14.939Z"
   },
   {
    "duration": 23,
    "start_time": "2022-05-01T18:31:14.967Z"
   },
   {
    "duration": 69,
    "start_time": "2022-05-01T18:31:14.992Z"
   },
   {
    "duration": 3,
    "start_time": "2022-05-01T18:31:15.063Z"
   },
   {
    "duration": 55,
    "start_time": "2022-05-01T18:31:15.068Z"
   },
   {
    "duration": 4,
    "start_time": "2022-05-01T18:31:15.124Z"
   },
   {
    "duration": 37,
    "start_time": "2022-05-01T18:31:15.129Z"
   },
   {
    "duration": 35,
    "start_time": "2022-05-01T18:31:15.168Z"
   },
   {
    "duration": 5,
    "start_time": "2022-05-01T18:31:15.204Z"
   },
   {
    "duration": 32,
    "start_time": "2022-05-01T18:31:15.210Z"
   },
   {
    "duration": 22,
    "start_time": "2022-05-01T18:31:15.243Z"
   },
   {
    "duration": 14,
    "start_time": "2022-05-01T18:31:15.266Z"
   },
   {
    "duration": 235,
    "start_time": "2022-05-01T18:32:41.982Z"
   },
   {
    "duration": 82,
    "start_time": "2022-05-01T18:32:48.546Z"
   },
   {
    "duration": 662,
    "start_time": "2022-05-01T18:32:55.613Z"
   },
   {
    "duration": 27,
    "start_time": "2022-05-01T18:32:56.277Z"
   },
   {
    "duration": 12,
    "start_time": "2022-05-01T18:32:56.305Z"
   },
   {
    "duration": 27,
    "start_time": "2022-05-01T18:32:56.319Z"
   },
   {
    "duration": 15,
    "start_time": "2022-05-01T18:32:56.348Z"
   },
   {
    "duration": 47,
    "start_time": "2022-05-01T18:32:56.364Z"
   },
   {
    "duration": 7,
    "start_time": "2022-05-01T18:32:56.412Z"
   },
   {
    "duration": 10,
    "start_time": "2022-05-01T18:32:56.421Z"
   },
   {
    "duration": 11,
    "start_time": "2022-05-01T18:32:56.433Z"
   },
   {
    "duration": 15,
    "start_time": "2022-05-01T18:32:56.446Z"
   },
   {
    "duration": 47,
    "start_time": "2022-05-01T18:32:56.462Z"
   },
   {
    "duration": 5,
    "start_time": "2022-05-01T18:32:56.510Z"
   },
   {
    "duration": 12,
    "start_time": "2022-05-01T18:32:56.516Z"
   },
   {
    "duration": 19,
    "start_time": "2022-05-01T18:32:56.529Z"
   },
   {
    "duration": 50,
    "start_time": "2022-05-01T18:32:56.550Z"
   },
   {
    "duration": 575,
    "start_time": "2022-05-01T18:32:56.602Z"
   },
   {
    "duration": 8,
    "start_time": "2022-05-01T18:32:57.179Z"
   },
   {
    "duration": 9,
    "start_time": "2022-05-01T18:32:57.200Z"
   },
   {
    "duration": 13,
    "start_time": "2022-05-01T18:32:57.210Z"
   },
   {
    "duration": 8,
    "start_time": "2022-05-01T18:32:57.224Z"
   },
   {
    "duration": 106,
    "start_time": "2022-05-01T18:32:57.233Z"
   },
   {
    "duration": 0,
    "start_time": "2022-05-01T18:32:57.341Z"
   },
   {
    "duration": 0,
    "start_time": "2022-05-01T18:32:57.342Z"
   },
   {
    "duration": 0,
    "start_time": "2022-05-01T18:32:57.343Z"
   },
   {
    "duration": 1,
    "start_time": "2022-05-01T18:32:57.346Z"
   },
   {
    "duration": 0,
    "start_time": "2022-05-01T18:32:57.347Z"
   },
   {
    "duration": 0,
    "start_time": "2022-05-01T18:32:57.348Z"
   },
   {
    "duration": 0,
    "start_time": "2022-05-01T18:32:57.350Z"
   },
   {
    "duration": 0,
    "start_time": "2022-05-01T18:32:57.351Z"
   },
   {
    "duration": 0,
    "start_time": "2022-05-01T18:32:57.352Z"
   },
   {
    "duration": 0,
    "start_time": "2022-05-01T18:32:57.354Z"
   },
   {
    "duration": 0,
    "start_time": "2022-05-01T18:32:57.355Z"
   },
   {
    "duration": 0,
    "start_time": "2022-05-01T18:32:57.356Z"
   },
   {
    "duration": 0,
    "start_time": "2022-05-01T18:32:57.357Z"
   },
   {
    "duration": 0,
    "start_time": "2022-05-01T18:32:57.358Z"
   },
   {
    "duration": 0,
    "start_time": "2022-05-01T18:32:57.359Z"
   },
   {
    "duration": 0,
    "start_time": "2022-05-01T18:32:57.360Z"
   },
   {
    "duration": 0,
    "start_time": "2022-05-01T18:32:57.361Z"
   },
   {
    "duration": 0,
    "start_time": "2022-05-01T18:32:57.363Z"
   },
   {
    "duration": 0,
    "start_time": "2022-05-01T18:32:57.364Z"
   },
   {
    "duration": 1,
    "start_time": "2022-05-01T18:32:57.364Z"
   },
   {
    "duration": 0,
    "start_time": "2022-05-01T18:32:57.365Z"
   },
   {
    "duration": 0,
    "start_time": "2022-05-01T18:32:57.400Z"
   },
   {
    "duration": 0,
    "start_time": "2022-05-01T18:32:57.401Z"
   },
   {
    "duration": 0,
    "start_time": "2022-05-01T18:32:57.402Z"
   },
   {
    "duration": 0,
    "start_time": "2022-05-01T18:32:57.403Z"
   },
   {
    "duration": 0,
    "start_time": "2022-05-01T18:32:57.404Z"
   },
   {
    "duration": 20,
    "start_time": "2022-05-01T18:33:27.968Z"
   },
   {
    "duration": 16,
    "start_time": "2022-05-01T18:33:45.085Z"
   },
   {
    "duration": 15,
    "start_time": "2022-05-01T18:33:52.878Z"
   },
   {
    "duration": 13,
    "start_time": "2022-05-01T18:34:21.517Z"
   },
   {
    "duration": 443,
    "start_time": "2022-05-01T18:34:30.035Z"
   },
   {
    "duration": 19,
    "start_time": "2022-05-01T18:34:30.480Z"
   },
   {
    "duration": 14,
    "start_time": "2022-05-01T18:34:30.501Z"
   },
   {
    "duration": 42,
    "start_time": "2022-05-01T18:34:30.517Z"
   },
   {
    "duration": 17,
    "start_time": "2022-05-01T18:34:30.561Z"
   },
   {
    "duration": 42,
    "start_time": "2022-05-01T18:34:30.580Z"
   },
   {
    "duration": 11,
    "start_time": "2022-05-01T18:34:30.624Z"
   },
   {
    "duration": 13,
    "start_time": "2022-05-01T18:34:30.637Z"
   },
   {
    "duration": 21,
    "start_time": "2022-05-01T18:34:30.652Z"
   },
   {
    "duration": 10,
    "start_time": "2022-05-01T18:34:30.701Z"
   },
   {
    "duration": 20,
    "start_time": "2022-05-01T18:34:30.712Z"
   },
   {
    "duration": 14,
    "start_time": "2022-05-01T18:34:30.733Z"
   },
   {
    "duration": 5,
    "start_time": "2022-05-01T18:34:30.748Z"
   },
   {
    "duration": 15,
    "start_time": "2022-05-01T18:34:30.754Z"
   },
   {
    "duration": 48,
    "start_time": "2022-05-01T18:34:30.770Z"
   },
   {
    "duration": 17,
    "start_time": "2022-05-01T18:34:30.819Z"
   },
   {
    "duration": 570,
    "start_time": "2022-05-01T18:34:30.837Z"
   },
   {
    "duration": 7,
    "start_time": "2022-05-01T18:34:31.409Z"
   },
   {
    "duration": 11,
    "start_time": "2022-05-01T18:34:31.418Z"
   },
   {
    "duration": 14,
    "start_time": "2022-05-01T18:34:31.430Z"
   },
   {
    "duration": 8,
    "start_time": "2022-05-01T18:34:31.445Z"
   },
   {
    "duration": 24,
    "start_time": "2022-05-01T18:34:31.454Z"
   },
   {
    "duration": 37,
    "start_time": "2022-05-01T18:34:31.479Z"
   },
   {
    "duration": 348,
    "start_time": "2022-05-01T18:34:31.517Z"
   },
   {
    "duration": 5,
    "start_time": "2022-05-01T18:34:31.866Z"
   },
   {
    "duration": 30,
    "start_time": "2022-05-01T18:34:31.872Z"
   },
   {
    "duration": 15,
    "start_time": "2022-05-01T18:34:31.903Z"
   },
   {
    "duration": 4,
    "start_time": "2022-05-01T18:34:31.921Z"
   },
   {
    "duration": 18,
    "start_time": "2022-05-01T18:34:31.927Z"
   },
   {
    "duration": 22,
    "start_time": "2022-05-01T18:34:31.947Z"
   },
   {
    "duration": 16,
    "start_time": "2022-05-01T18:34:31.971Z"
   },
   {
    "duration": 16,
    "start_time": "2022-05-01T18:34:31.988Z"
   },
   {
    "duration": 9,
    "start_time": "2022-05-01T18:34:32.005Z"
   },
   {
    "duration": 19,
    "start_time": "2022-05-01T18:34:32.016Z"
   },
   {
    "duration": 7,
    "start_time": "2022-05-01T18:34:32.037Z"
   },
   {
    "duration": 15,
    "start_time": "2022-05-01T18:34:32.045Z"
   },
   {
    "duration": 6,
    "start_time": "2022-05-01T18:34:32.062Z"
   },
   {
    "duration": 13,
    "start_time": "2022-05-01T18:34:32.069Z"
   },
   {
    "duration": 47,
    "start_time": "2022-05-01T18:34:32.084Z"
   },
   {
    "duration": 3,
    "start_time": "2022-05-01T18:34:32.133Z"
   },
   {
    "duration": 74,
    "start_time": "2022-05-01T18:34:32.138Z"
   },
   {
    "duration": 4,
    "start_time": "2022-05-01T18:34:32.213Z"
   },
   {
    "duration": 88,
    "start_time": "2022-05-01T18:34:32.218Z"
   },
   {
    "duration": 24,
    "start_time": "2022-05-01T18:34:32.307Z"
   },
   {
    "duration": 4,
    "start_time": "2022-05-01T18:34:32.332Z"
   },
   {
    "duration": 75,
    "start_time": "2022-05-01T18:34:32.338Z"
   },
   {
    "duration": 14,
    "start_time": "2022-05-01T18:34:32.414Z"
   },
   {
    "duration": 13,
    "start_time": "2022-05-01T18:34:32.430Z"
   },
   {
    "duration": 450,
    "start_time": "2022-05-01T18:40:54.829Z"
   },
   {
    "duration": 20,
    "start_time": "2022-05-01T18:40:55.281Z"
   },
   {
    "duration": 17,
    "start_time": "2022-05-01T18:40:55.303Z"
   },
   {
    "duration": 35,
    "start_time": "2022-05-01T18:40:55.322Z"
   },
   {
    "duration": 41,
    "start_time": "2022-05-01T18:40:55.359Z"
   },
   {
    "duration": 22,
    "start_time": "2022-05-01T18:40:55.402Z"
   },
   {
    "duration": 10,
    "start_time": "2022-05-01T18:40:55.425Z"
   },
   {
    "duration": 14,
    "start_time": "2022-05-01T18:40:55.437Z"
   },
   {
    "duration": 53,
    "start_time": "2022-05-01T18:40:55.453Z"
   },
   {
    "duration": 25,
    "start_time": "2022-05-01T18:40:55.509Z"
   },
   {
    "duration": 16,
    "start_time": "2022-05-01T18:40:55.536Z"
   },
   {
    "duration": 6,
    "start_time": "2022-05-01T18:40:55.554Z"
   },
   {
    "duration": 46,
    "start_time": "2022-05-01T18:40:55.562Z"
   },
   {
    "duration": 21,
    "start_time": "2022-05-01T18:40:55.610Z"
   },
   {
    "duration": 21,
    "start_time": "2022-05-01T18:40:55.633Z"
   },
   {
    "duration": 628,
    "start_time": "2022-05-01T18:40:55.655Z"
   },
   {
    "duration": 17,
    "start_time": "2022-05-01T18:40:56.285Z"
   },
   {
    "duration": 10,
    "start_time": "2022-05-01T18:40:56.303Z"
   },
   {
    "duration": 13,
    "start_time": "2022-05-01T18:40:56.314Z"
   },
   {
    "duration": 8,
    "start_time": "2022-05-01T18:40:56.329Z"
   },
   {
    "duration": 19,
    "start_time": "2022-05-01T18:40:56.339Z"
   },
   {
    "duration": 50,
    "start_time": "2022-05-01T18:40:56.360Z"
   },
   {
    "duration": 364,
    "start_time": "2022-05-01T18:40:56.412Z"
   },
   {
    "duration": 4,
    "start_time": "2022-05-01T18:40:56.777Z"
   },
   {
    "duration": 34,
    "start_time": "2022-05-01T18:40:56.783Z"
   },
   {
    "duration": 18,
    "start_time": "2022-05-01T18:40:56.818Z"
   },
   {
    "duration": 6,
    "start_time": "2022-05-01T18:40:56.839Z"
   },
   {
    "duration": 15,
    "start_time": "2022-05-01T18:40:56.846Z"
   },
   {
    "duration": 16,
    "start_time": "2022-05-01T18:40:56.863Z"
   },
   {
    "duration": 5,
    "start_time": "2022-05-01T18:40:56.901Z"
   },
   {
    "duration": 12,
    "start_time": "2022-05-01T18:40:56.908Z"
   },
   {
    "duration": 8,
    "start_time": "2022-05-01T18:40:56.922Z"
   },
   {
    "duration": 4,
    "start_time": "2022-05-01T18:40:56.931Z"
   },
   {
    "duration": 6,
    "start_time": "2022-05-01T18:40:56.937Z"
   },
   {
    "duration": 6,
    "start_time": "2022-05-01T18:40:56.945Z"
   },
   {
    "duration": 7,
    "start_time": "2022-05-01T18:40:56.952Z"
   },
   {
    "duration": 46,
    "start_time": "2022-05-01T18:40:56.961Z"
   },
   {
    "duration": 47,
    "start_time": "2022-05-01T18:40:57.008Z"
   },
   {
    "duration": 4,
    "start_time": "2022-05-01T18:40:57.056Z"
   },
   {
    "duration": 88,
    "start_time": "2022-05-01T18:40:57.062Z"
   },
   {
    "duration": 5,
    "start_time": "2022-05-01T18:40:57.152Z"
   },
   {
    "duration": 61,
    "start_time": "2022-05-01T18:40:57.159Z"
   },
   {
    "duration": 38,
    "start_time": "2022-05-01T18:40:57.221Z"
   },
   {
    "duration": 6,
    "start_time": "2022-05-01T18:40:57.261Z"
   },
   {
    "duration": 58,
    "start_time": "2022-05-01T18:40:57.268Z"
   },
   {
    "duration": 21,
    "start_time": "2022-05-01T18:40:57.328Z"
   },
   {
    "duration": 20,
    "start_time": "2022-05-01T18:40:57.351Z"
   },
   {
    "duration": 88,
    "start_time": "2022-05-01T18:49:32.667Z"
   },
   {
    "duration": 469,
    "start_time": "2022-05-01T18:49:48.514Z"
   },
   {
    "duration": 21,
    "start_time": "2022-05-01T18:49:48.985Z"
   },
   {
    "duration": 12,
    "start_time": "2022-05-01T18:49:49.008Z"
   },
   {
    "duration": 27,
    "start_time": "2022-05-01T18:49:49.022Z"
   },
   {
    "duration": 15,
    "start_time": "2022-05-01T18:49:49.051Z"
   },
   {
    "duration": 53,
    "start_time": "2022-05-01T18:49:49.068Z"
   },
   {
    "duration": 8,
    "start_time": "2022-05-01T18:49:49.122Z"
   },
   {
    "duration": 9,
    "start_time": "2022-05-01T18:49:49.132Z"
   },
   {
    "duration": 9,
    "start_time": "2022-05-01T18:49:49.143Z"
   },
   {
    "duration": 15,
    "start_time": "2022-05-01T18:49:49.154Z"
   },
   {
    "duration": 52,
    "start_time": "2022-05-01T18:49:49.170Z"
   },
   {
    "duration": 4,
    "start_time": "2022-05-01T18:49:49.224Z"
   },
   {
    "duration": 8,
    "start_time": "2022-05-01T18:49:49.230Z"
   },
   {
    "duration": 18,
    "start_time": "2022-05-01T18:49:49.241Z"
   },
   {
    "duration": 53,
    "start_time": "2022-05-01T18:49:49.260Z"
   },
   {
    "duration": 564,
    "start_time": "2022-05-01T18:49:49.314Z"
   },
   {
    "duration": 6,
    "start_time": "2022-05-01T18:49:49.880Z"
   },
   {
    "duration": 12,
    "start_time": "2022-05-01T18:49:49.899Z"
   },
   {
    "duration": 15,
    "start_time": "2022-05-01T18:49:49.913Z"
   },
   {
    "duration": 8,
    "start_time": "2022-05-01T18:49:49.929Z"
   },
   {
    "duration": 14,
    "start_time": "2022-05-01T18:49:49.938Z"
   },
   {
    "duration": 16,
    "start_time": "2022-05-01T18:49:49.954Z"
   },
   {
    "duration": 388,
    "start_time": "2022-05-01T18:49:49.971Z"
   },
   {
    "duration": 4,
    "start_time": "2022-05-01T18:49:50.360Z"
   },
   {
    "duration": 21,
    "start_time": "2022-05-01T18:49:50.366Z"
   },
   {
    "duration": 32,
    "start_time": "2022-05-01T18:49:50.388Z"
   },
   {
    "duration": 4,
    "start_time": "2022-05-01T18:49:50.422Z"
   },
   {
    "duration": 14,
    "start_time": "2022-05-01T18:49:50.427Z"
   },
   {
    "duration": 17,
    "start_time": "2022-05-01T18:49:50.443Z"
   },
   {
    "duration": 4,
    "start_time": "2022-05-01T18:49:50.462Z"
   },
   {
    "duration": 46,
    "start_time": "2022-05-01T18:49:50.467Z"
   },
   {
    "duration": 8,
    "start_time": "2022-05-01T18:49:50.515Z"
   },
   {
    "duration": 5,
    "start_time": "2022-05-01T18:49:50.524Z"
   },
   {
    "duration": 9,
    "start_time": "2022-05-01T18:49:50.530Z"
   },
   {
    "duration": 5,
    "start_time": "2022-05-01T18:49:50.540Z"
   },
   {
    "duration": 4,
    "start_time": "2022-05-01T18:49:50.547Z"
   },
   {
    "duration": 12,
    "start_time": "2022-05-01T18:49:50.552Z"
   },
   {
    "duration": 106,
    "start_time": "2022-05-01T18:49:50.566Z"
   },
   {
    "duration": 0,
    "start_time": "2022-05-01T18:49:50.674Z"
   },
   {
    "duration": 0,
    "start_time": "2022-05-01T18:49:50.675Z"
   },
   {
    "duration": 0,
    "start_time": "2022-05-01T18:49:50.676Z"
   },
   {
    "duration": 0,
    "start_time": "2022-05-01T18:49:50.677Z"
   },
   {
    "duration": 0,
    "start_time": "2022-05-01T18:49:50.678Z"
   },
   {
    "duration": 0,
    "start_time": "2022-05-01T18:49:50.679Z"
   },
   {
    "duration": 0,
    "start_time": "2022-05-01T18:49:50.680Z"
   },
   {
    "duration": 0,
    "start_time": "2022-05-01T18:49:50.706Z"
   },
   {
    "duration": 0,
    "start_time": "2022-05-01T18:49:50.708Z"
   },
   {
    "duration": 0,
    "start_time": "2022-05-01T18:49:50.708Z"
   },
   {
    "duration": 10,
    "start_time": "2022-05-01T18:50:26.657Z"
   },
   {
    "duration": 8,
    "start_time": "2022-05-01T18:50:36.570Z"
   },
   {
    "duration": 25,
    "start_time": "2022-05-01T18:50:43.645Z"
   },
   {
    "duration": 838,
    "start_time": "2022-05-01T18:58:27.724Z"
   },
   {
    "duration": 769,
    "start_time": "2022-05-01T18:59:03.789Z"
   },
   {
    "duration": 390,
    "start_time": "2022-05-01T18:59:26.732Z"
   },
   {
    "duration": 13,
    "start_time": "2022-05-01T18:59:41.046Z"
   },
   {
    "duration": 12,
    "start_time": "2022-05-01T18:59:46.808Z"
   },
   {
    "duration": 16,
    "start_time": "2022-05-01T19:02:20.035Z"
   },
   {
    "duration": 787,
    "start_time": "2022-05-01T19:05:20.348Z"
   },
   {
    "duration": 16,
    "start_time": "2022-05-01T19:05:35.436Z"
   },
   {
    "duration": 21,
    "start_time": "2022-05-01T19:05:50.587Z"
   },
   {
    "duration": 23,
    "start_time": "2022-05-01T19:06:31.426Z"
   },
   {
    "duration": 445,
    "start_time": "2022-05-01T19:06:44.029Z"
   },
   {
    "duration": 17,
    "start_time": "2022-05-01T19:06:44.476Z"
   },
   {
    "duration": 42,
    "start_time": "2022-05-01T19:06:44.495Z"
   },
   {
    "duration": 48,
    "start_time": "2022-05-01T19:06:44.539Z"
   },
   {
    "duration": 20,
    "start_time": "2022-05-01T19:06:44.588Z"
   },
   {
    "duration": 39,
    "start_time": "2022-05-01T19:06:44.610Z"
   },
   {
    "duration": 43,
    "start_time": "2022-05-01T19:06:44.650Z"
   },
   {
    "duration": 29,
    "start_time": "2022-05-01T19:06:44.695Z"
   },
   {
    "duration": 42,
    "start_time": "2022-05-01T19:06:44.726Z"
   },
   {
    "duration": 31,
    "start_time": "2022-05-01T19:06:44.771Z"
   },
   {
    "duration": 26,
    "start_time": "2022-05-01T19:06:44.804Z"
   },
   {
    "duration": 11,
    "start_time": "2022-05-01T19:06:44.832Z"
   },
   {
    "duration": 45,
    "start_time": "2022-05-01T19:06:44.845Z"
   },
   {
    "duration": 49,
    "start_time": "2022-05-01T19:06:44.891Z"
   },
   {
    "duration": 15,
    "start_time": "2022-05-01T19:06:44.941Z"
   },
   {
    "duration": 587,
    "start_time": "2022-05-01T19:06:44.957Z"
   },
   {
    "duration": 7,
    "start_time": "2022-05-01T19:06:45.545Z"
   },
   {
    "duration": 19,
    "start_time": "2022-05-01T19:06:45.553Z"
   },
   {
    "duration": 17,
    "start_time": "2022-05-01T19:06:45.573Z"
   },
   {
    "duration": 8,
    "start_time": "2022-05-01T19:06:45.600Z"
   },
   {
    "duration": 18,
    "start_time": "2022-05-01T19:06:45.610Z"
   },
   {
    "duration": 17,
    "start_time": "2022-05-01T19:06:45.630Z"
   },
   {
    "duration": 537,
    "start_time": "2022-05-01T19:06:45.648Z"
   },
   {
    "duration": 5,
    "start_time": "2022-05-01T19:06:46.187Z"
   },
   {
    "duration": 40,
    "start_time": "2022-05-01T19:06:46.200Z"
   },
   {
    "duration": 27,
    "start_time": "2022-05-01T19:06:46.242Z"
   },
   {
    "duration": 7,
    "start_time": "2022-05-01T19:06:46.271Z"
   },
   {
    "duration": 36,
    "start_time": "2022-05-01T19:06:46.282Z"
   },
   {
    "duration": 26,
    "start_time": "2022-05-01T19:06:46.320Z"
   },
   {
    "duration": 3,
    "start_time": "2022-05-01T19:06:46.347Z"
   },
   {
    "duration": 12,
    "start_time": "2022-05-01T19:06:46.352Z"
   },
   {
    "duration": 7,
    "start_time": "2022-05-01T19:06:46.365Z"
   },
   {
    "duration": 28,
    "start_time": "2022-05-01T19:06:46.373Z"
   },
   {
    "duration": 6,
    "start_time": "2022-05-01T19:06:46.402Z"
   },
   {
    "duration": 6,
    "start_time": "2022-05-01T19:06:46.410Z"
   },
   {
    "duration": 13,
    "start_time": "2022-05-01T19:06:46.418Z"
   },
   {
    "duration": 16,
    "start_time": "2022-05-01T19:06:46.433Z"
   },
   {
    "duration": 19,
    "start_time": "2022-05-01T19:06:46.450Z"
   },
   {
    "duration": 64,
    "start_time": "2022-05-01T19:06:46.471Z"
   },
   {
    "duration": 4,
    "start_time": "2022-05-01T19:06:46.536Z"
   },
   {
    "duration": 70,
    "start_time": "2022-05-01T19:06:46.542Z"
   },
   {
    "duration": 4,
    "start_time": "2022-05-01T19:06:46.613Z"
   },
   {
    "duration": 32,
    "start_time": "2022-05-01T19:06:46.618Z"
   },
   {
    "duration": 23,
    "start_time": "2022-05-01T19:06:46.652Z"
   },
   {
    "duration": 26,
    "start_time": "2022-05-01T19:06:46.677Z"
   },
   {
    "duration": 29,
    "start_time": "2022-05-01T19:06:46.705Z"
   },
   {
    "duration": 15,
    "start_time": "2022-05-01T19:06:46.736Z"
   },
   {
    "duration": 15,
    "start_time": "2022-05-01T19:06:46.753Z"
   },
   {
    "duration": 474,
    "start_time": "2022-05-01T19:12:16.434Z"
   },
   {
    "duration": 18,
    "start_time": "2022-05-01T19:12:16.910Z"
   },
   {
    "duration": 15,
    "start_time": "2022-05-01T19:12:16.929Z"
   },
   {
    "duration": 29,
    "start_time": "2022-05-01T19:12:16.946Z"
   },
   {
    "duration": 33,
    "start_time": "2022-05-01T19:12:16.977Z"
   },
   {
    "duration": 20,
    "start_time": "2022-05-01T19:12:17.012Z"
   },
   {
    "duration": 8,
    "start_time": "2022-05-01T19:12:17.033Z"
   },
   {
    "duration": 12,
    "start_time": "2022-05-01T19:12:17.042Z"
   },
   {
    "duration": 45,
    "start_time": "2022-05-01T19:12:17.056Z"
   },
   {
    "duration": 18,
    "start_time": "2022-05-01T19:12:17.104Z"
   },
   {
    "duration": 14,
    "start_time": "2022-05-01T19:12:17.123Z"
   },
   {
    "duration": 4,
    "start_time": "2022-05-01T19:12:17.139Z"
   },
   {
    "duration": 12,
    "start_time": "2022-05-01T19:12:17.145Z"
   },
   {
    "duration": 53,
    "start_time": "2022-05-01T19:12:17.158Z"
   },
   {
    "duration": 22,
    "start_time": "2022-05-01T19:12:17.212Z"
   },
   {
    "duration": 856,
    "start_time": "2022-05-01T19:12:17.235Z"
   },
   {
    "duration": 13,
    "start_time": "2022-05-01T19:12:18.093Z"
   },
   {
    "duration": 11,
    "start_time": "2022-05-01T19:12:18.107Z"
   },
   {
    "duration": 17,
    "start_time": "2022-05-01T19:12:18.120Z"
   },
   {
    "duration": 13,
    "start_time": "2022-05-01T19:12:18.138Z"
   },
   {
    "duration": 19,
    "start_time": "2022-05-01T19:12:18.153Z"
   },
   {
    "duration": 26,
    "start_time": "2022-05-01T19:12:18.199Z"
   },
   {
    "duration": 536,
    "start_time": "2022-05-01T19:12:18.227Z"
   },
   {
    "duration": 4,
    "start_time": "2022-05-01T19:12:18.765Z"
   },
   {
    "duration": 48,
    "start_time": "2022-05-01T19:12:18.771Z"
   },
   {
    "duration": 26,
    "start_time": "2022-05-01T19:12:18.821Z"
   },
   {
    "duration": 7,
    "start_time": "2022-05-01T19:12:18.849Z"
   },
   {
    "duration": 40,
    "start_time": "2022-05-01T19:12:18.861Z"
   },
   {
    "duration": 29,
    "start_time": "2022-05-01T19:12:18.904Z"
   },
   {
    "duration": 5,
    "start_time": "2022-05-01T19:12:18.935Z"
   },
   {
    "duration": 24,
    "start_time": "2022-05-01T19:12:18.942Z"
   },
   {
    "duration": 12,
    "start_time": "2022-05-01T19:12:18.968Z"
   },
   {
    "duration": 6,
    "start_time": "2022-05-01T19:12:19.001Z"
   },
   {
    "duration": 10,
    "start_time": "2022-05-01T19:12:19.009Z"
   },
   {
    "duration": 7,
    "start_time": "2022-05-01T19:12:19.021Z"
   },
   {
    "duration": 7,
    "start_time": "2022-05-01T19:12:19.030Z"
   },
   {
    "duration": 22,
    "start_time": "2022-05-01T19:12:19.039Z"
   },
   {
    "duration": 62,
    "start_time": "2022-05-01T19:12:19.063Z"
   },
   {
    "duration": 90,
    "start_time": "2022-05-01T19:12:19.127Z"
   },
   {
    "duration": 5,
    "start_time": "2022-05-01T19:12:19.219Z"
   },
   {
    "duration": 77,
    "start_time": "2022-05-01T19:12:19.226Z"
   },
   {
    "duration": 4,
    "start_time": "2022-05-01T19:12:19.305Z"
   },
   {
    "duration": 30,
    "start_time": "2022-05-01T19:12:19.310Z"
   },
   {
    "duration": 25,
    "start_time": "2022-05-01T19:12:19.342Z"
   },
   {
    "duration": 7,
    "start_time": "2022-05-01T19:12:19.401Z"
   },
   {
    "duration": 26,
    "start_time": "2022-05-01T19:12:19.410Z"
   },
   {
    "duration": 16,
    "start_time": "2022-05-01T19:12:19.438Z"
   },
   {
    "duration": 15,
    "start_time": "2022-05-01T19:12:19.456Z"
   },
   {
    "duration": 476,
    "start_time": "2022-05-01T19:23:02.936Z"
   },
   {
    "duration": 18,
    "start_time": "2022-05-01T19:23:03.414Z"
   },
   {
    "duration": 11,
    "start_time": "2022-05-01T19:23:03.433Z"
   },
   {
    "duration": 30,
    "start_time": "2022-05-01T19:23:03.446Z"
   },
   {
    "duration": 38,
    "start_time": "2022-05-01T19:23:03.477Z"
   },
   {
    "duration": 19,
    "start_time": "2022-05-01T19:23:03.517Z"
   },
   {
    "duration": 6,
    "start_time": "2022-05-01T19:23:03.538Z"
   },
   {
    "duration": 8,
    "start_time": "2022-05-01T19:23:03.546Z"
   },
   {
    "duration": 11,
    "start_time": "2022-05-01T19:23:03.555Z"
   },
   {
    "duration": 20,
    "start_time": "2022-05-01T19:23:03.601Z"
   },
   {
    "duration": 16,
    "start_time": "2022-05-01T19:23:03.623Z"
   },
   {
    "duration": 6,
    "start_time": "2022-05-01T19:23:03.641Z"
   },
   {
    "duration": 14,
    "start_time": "2022-05-01T19:23:03.648Z"
   },
   {
    "duration": 62,
    "start_time": "2022-05-01T19:23:03.663Z"
   },
   {
    "duration": 20,
    "start_time": "2022-05-01T19:23:03.727Z"
   },
   {
    "duration": 674,
    "start_time": "2022-05-01T19:23:03.749Z"
   },
   {
    "duration": 8,
    "start_time": "2022-05-01T19:23:04.425Z"
   },
   {
    "duration": 12,
    "start_time": "2022-05-01T19:23:04.434Z"
   },
   {
    "duration": 18,
    "start_time": "2022-05-01T19:23:04.448Z"
   },
   {
    "duration": 45,
    "start_time": "2022-05-01T19:23:04.468Z"
   },
   {
    "duration": 17,
    "start_time": "2022-05-01T19:23:04.515Z"
   },
   {
    "duration": 18,
    "start_time": "2022-05-01T19:23:04.533Z"
   },
   {
    "duration": 380,
    "start_time": "2022-05-01T19:23:04.553Z"
   },
   {
    "duration": 4,
    "start_time": "2022-05-01T19:23:04.935Z"
   },
   {
    "duration": 23,
    "start_time": "2022-05-01T19:23:04.940Z"
   },
   {
    "duration": 15,
    "start_time": "2022-05-01T19:23:04.965Z"
   },
   {
    "duration": 21,
    "start_time": "2022-05-01T19:23:04.981Z"
   },
   {
    "duration": 28,
    "start_time": "2022-05-01T19:23:05.011Z"
   },
   {
    "duration": 26,
    "start_time": "2022-05-01T19:23:05.041Z"
   },
   {
    "duration": 3,
    "start_time": "2022-05-01T19:23:05.069Z"
   },
   {
    "duration": 30,
    "start_time": "2022-05-01T19:23:05.074Z"
   },
   {
    "duration": 20,
    "start_time": "2022-05-01T19:23:05.107Z"
   },
   {
    "duration": 5,
    "start_time": "2022-05-01T19:23:05.129Z"
   },
   {
    "duration": 5,
    "start_time": "2022-05-01T19:23:05.136Z"
   },
   {
    "duration": 5,
    "start_time": "2022-05-01T19:23:05.143Z"
   },
   {
    "duration": 4,
    "start_time": "2022-05-01T19:23:05.150Z"
   },
   {
    "duration": 13,
    "start_time": "2022-05-01T19:23:05.155Z"
   },
   {
    "duration": 61,
    "start_time": "2022-05-01T19:23:05.170Z"
   },
   {
    "duration": 47,
    "start_time": "2022-05-01T19:23:05.232Z"
   },
   {
    "duration": 23,
    "start_time": "2022-05-01T19:23:05.281Z"
   },
   {
    "duration": 48,
    "start_time": "2022-05-01T19:23:05.306Z"
   },
   {
    "duration": 3,
    "start_time": "2022-05-01T19:23:05.356Z"
   },
   {
    "duration": 59,
    "start_time": "2022-05-01T19:23:05.361Z"
   },
   {
    "duration": 30,
    "start_time": "2022-05-01T19:23:05.422Z"
   },
   {
    "duration": 6,
    "start_time": "2022-05-01T19:23:05.453Z"
   },
   {
    "duration": 46,
    "start_time": "2022-05-01T19:23:05.461Z"
   },
   {
    "duration": 16,
    "start_time": "2022-05-01T19:23:05.510Z"
   },
   {
    "duration": 14,
    "start_time": "2022-05-01T19:23:05.527Z"
   },
   {
    "duration": 22,
    "start_time": "2022-05-01T19:23:45.873Z"
   },
   {
    "duration": 3429,
    "start_time": "2022-05-01T19:23:55.980Z"
   },
   {
    "duration": 3190,
    "start_time": "2022-05-01T19:24:38.667Z"
   },
   {
    "duration": 17,
    "start_time": "2022-05-01T19:24:45.144Z"
   },
   {
    "duration": 15,
    "start_time": "2022-05-01T19:25:01.641Z"
   },
   {
    "duration": 15,
    "start_time": "2022-05-01T19:25:52.271Z"
   },
   {
    "duration": 18,
    "start_time": "2022-05-01T19:29:50.419Z"
   },
   {
    "duration": 17,
    "start_time": "2022-05-01T19:29:59.749Z"
   },
   {
    "duration": 3364,
    "start_time": "2022-05-01T19:30:32.122Z"
   },
   {
    "duration": 18,
    "start_time": "2022-05-01T19:30:49.617Z"
   },
   {
    "duration": 19,
    "start_time": "2022-05-01T19:31:10.846Z"
   },
   {
    "duration": 16,
    "start_time": "2022-05-01T19:32:00.433Z"
   },
   {
    "duration": 18,
    "start_time": "2022-05-01T19:32:12.405Z"
   },
   {
    "duration": 14,
    "start_time": "2022-05-01T19:32:19.932Z"
   },
   {
    "duration": 16,
    "start_time": "2022-05-01T19:32:37.216Z"
   },
   {
    "duration": 15,
    "start_time": "2022-05-01T19:32:50.427Z"
   },
   {
    "duration": 15,
    "start_time": "2022-05-01T19:33:02.190Z"
   },
   {
    "duration": 16,
    "start_time": "2022-05-01T19:33:14.792Z"
   },
   {
    "duration": 519,
    "start_time": "2022-05-02T13:06:26.922Z"
   },
   {
    "duration": 21,
    "start_time": "2022-05-02T13:06:27.444Z"
   },
   {
    "duration": 14,
    "start_time": "2022-05-02T13:06:27.466Z"
   },
   {
    "duration": 46,
    "start_time": "2022-05-02T13:06:27.482Z"
   },
   {
    "duration": 19,
    "start_time": "2022-05-02T13:06:27.530Z"
   },
   {
    "duration": 22,
    "start_time": "2022-05-02T13:06:27.551Z"
   },
   {
    "duration": 49,
    "start_time": "2022-05-02T13:06:27.575Z"
   },
   {
    "duration": 11,
    "start_time": "2022-05-02T13:06:27.626Z"
   },
   {
    "duration": 20,
    "start_time": "2022-05-02T13:06:27.639Z"
   },
   {
    "duration": 20,
    "start_time": "2022-05-02T13:06:27.662Z"
   },
   {
    "duration": 48,
    "start_time": "2022-05-02T13:06:27.684Z"
   },
   {
    "duration": 6,
    "start_time": "2022-05-02T13:06:27.733Z"
   },
   {
    "duration": 11,
    "start_time": "2022-05-02T13:06:27.741Z"
   },
   {
    "duration": 23,
    "start_time": "2022-05-02T13:06:27.754Z"
   },
   {
    "duration": 59,
    "start_time": "2022-05-02T13:06:27.779Z"
   },
   {
    "duration": 1091,
    "start_time": "2022-05-02T13:06:27.840Z"
   },
   {
    "duration": 11,
    "start_time": "2022-05-02T13:06:28.933Z"
   },
   {
    "duration": 14,
    "start_time": "2022-05-02T13:06:28.946Z"
   },
   {
    "duration": 76,
    "start_time": "2022-05-02T13:06:28.962Z"
   },
   {
    "duration": 14,
    "start_time": "2022-05-02T13:06:29.040Z"
   },
   {
    "duration": 77,
    "start_time": "2022-05-02T13:06:29.056Z"
   },
   {
    "duration": 29,
    "start_time": "2022-05-02T13:06:29.135Z"
   },
   {
    "duration": 1190,
    "start_time": "2022-05-02T13:06:29.167Z"
   },
   {
    "duration": 5,
    "start_time": "2022-05-02T13:06:30.359Z"
   },
   {
    "duration": 75,
    "start_time": "2022-05-02T13:06:30.365Z"
   },
   {
    "duration": 19,
    "start_time": "2022-05-02T13:06:30.442Z"
   },
   {
    "duration": 62,
    "start_time": "2022-05-02T13:06:30.463Z"
   },
   {
    "duration": 19,
    "start_time": "2022-05-02T13:06:30.529Z"
   },
   {
    "duration": 96,
    "start_time": "2022-05-02T13:06:30.550Z"
   },
   {
    "duration": 6,
    "start_time": "2022-05-02T13:06:30.648Z"
   },
   {
    "duration": 92,
    "start_time": "2022-05-02T13:06:30.656Z"
   },
   {
    "duration": 128,
    "start_time": "2022-05-02T13:06:30.751Z"
   },
   {
    "duration": 39,
    "start_time": "2022-05-02T13:06:30.881Z"
   },
   {
    "duration": 14,
    "start_time": "2022-05-02T13:06:30.922Z"
   },
   {
    "duration": 14,
    "start_time": "2022-05-02T13:06:30.938Z"
   },
   {
    "duration": 22,
    "start_time": "2022-05-02T13:06:30.954Z"
   },
   {
    "duration": 46,
    "start_time": "2022-05-02T13:06:30.977Z"
   },
   {
    "duration": 35,
    "start_time": "2022-05-02T13:06:31.025Z"
   },
   {
    "duration": 87,
    "start_time": "2022-05-02T13:06:31.061Z"
   },
   {
    "duration": 5,
    "start_time": "2022-05-02T13:06:31.150Z"
   },
   {
    "duration": 89,
    "start_time": "2022-05-02T13:06:31.156Z"
   },
   {
    "duration": 5,
    "start_time": "2022-05-02T13:06:31.246Z"
   },
   {
    "duration": 40,
    "start_time": "2022-05-02T13:06:31.252Z"
   },
   {
    "duration": 58,
    "start_time": "2022-05-02T13:06:31.295Z"
   },
   {
    "duration": 5,
    "start_time": "2022-05-02T13:06:31.355Z"
   },
   {
    "duration": 32,
    "start_time": "2022-05-02T13:06:31.362Z"
   },
   {
    "duration": 40,
    "start_time": "2022-05-02T13:06:31.395Z"
   },
   {
    "duration": 95,
    "start_time": "2022-05-02T13:06:31.436Z"
   },
   {
    "duration": 0,
    "start_time": "2022-05-02T13:06:31.533Z"
   },
   {
    "duration": 0,
    "start_time": "2022-05-02T13:06:31.534Z"
   },
   {
    "duration": 4538,
    "start_time": "2022-05-02T13:15:15.801Z"
   },
   {
    "duration": 16,
    "start_time": "2022-05-02T13:17:41.756Z"
   },
   {
    "duration": 20,
    "start_time": "2022-05-02T13:18:11.367Z"
   },
   {
    "duration": 22,
    "start_time": "2022-05-02T13:18:18.212Z"
   },
   {
    "duration": 38,
    "start_time": "2022-05-02T13:19:10.869Z"
   },
   {
    "duration": 22,
    "start_time": "2022-05-02T13:19:46.134Z"
   },
   {
    "duration": 27,
    "start_time": "2022-05-02T13:21:12.964Z"
   },
   {
    "duration": 23,
    "start_time": "2022-05-02T13:22:20.452Z"
   },
   {
    "duration": 3170,
    "start_time": "2022-05-02T13:22:32.660Z"
   },
   {
    "duration": 22,
    "start_time": "2022-05-02T13:23:49.845Z"
   },
   {
    "duration": 3131,
    "start_time": "2022-05-02T13:24:07.372Z"
   },
   {
    "duration": 3222,
    "start_time": "2022-05-02T13:24:20.246Z"
   },
   {
    "duration": 3198,
    "start_time": "2022-05-02T13:24:28.814Z"
   },
   {
    "duration": 21,
    "start_time": "2022-05-02T13:24:57.035Z"
   },
   {
    "duration": 24,
    "start_time": "2022-05-02T13:25:04.658Z"
   },
   {
    "duration": 23,
    "start_time": "2022-05-02T13:25:22.233Z"
   },
   {
    "duration": 3483,
    "start_time": "2022-05-02T13:25:30.715Z"
   },
   {
    "duration": 3632,
    "start_time": "2022-05-02T13:25:38.731Z"
   },
   {
    "duration": 20,
    "start_time": "2022-05-02T13:25:44.994Z"
   },
   {
    "duration": 16,
    "start_time": "2022-05-02T13:26:12.777Z"
   },
   {
    "duration": 3566,
    "start_time": "2022-05-02T13:26:17.531Z"
   },
   {
    "duration": 20,
    "start_time": "2022-05-02T13:26:39.666Z"
   },
   {
    "duration": 197,
    "start_time": "2022-05-02T13:27:41.034Z"
   },
   {
    "duration": 3163,
    "start_time": "2022-05-02T13:27:48.285Z"
   },
   {
    "duration": 19,
    "start_time": "2022-05-02T13:28:26.495Z"
   },
   {
    "duration": 23,
    "start_time": "2022-05-02T13:28:31.199Z"
   },
   {
    "duration": 27,
    "start_time": "2022-05-02T13:30:01.936Z"
   },
   {
    "duration": 24,
    "start_time": "2022-05-02T13:30:41.394Z"
   },
   {
    "duration": 22,
    "start_time": "2022-05-02T13:30:53.237Z"
   },
   {
    "duration": 24,
    "start_time": "2022-05-02T13:30:57.873Z"
   },
   {
    "duration": 22,
    "start_time": "2022-05-02T13:32:57.488Z"
   },
   {
    "duration": 26,
    "start_time": "2022-05-02T13:33:01.448Z"
   },
   {
    "duration": 22,
    "start_time": "2022-05-02T13:33:22.913Z"
   },
   {
    "duration": 34,
    "start_time": "2022-05-02T13:33:56.213Z"
   },
   {
    "duration": 32,
    "start_time": "2022-05-02T13:34:32.077Z"
   },
   {
    "duration": 23,
    "start_time": "2022-05-02T13:34:51.660Z"
   },
   {
    "duration": 23,
    "start_time": "2022-05-02T13:34:58.620Z"
   },
   {
    "duration": 28,
    "start_time": "2022-05-02T13:35:30.612Z"
   },
   {
    "duration": 8831,
    "start_time": "2022-05-02T13:35:37.717Z"
   },
   {
    "duration": 30,
    "start_time": "2022-05-02T13:35:58.813Z"
   },
   {
    "duration": 50,
    "start_time": "2022-05-02T13:48:58.946Z"
   },
   {
    "duration": 17,
    "start_time": "2022-05-02T13:49:20.680Z"
   },
   {
    "duration": 20,
    "start_time": "2022-05-02T13:49:33.697Z"
   },
   {
    "duration": 18,
    "start_time": "2022-05-02T13:50:00.647Z"
   },
   {
    "duration": 22,
    "start_time": "2022-05-02T13:50:43.662Z"
   },
   {
    "duration": 28,
    "start_time": "2022-05-02T13:52:45.797Z"
   },
   {
    "duration": 764,
    "start_time": "2022-05-02T13:52:58.923Z"
   },
   {
    "duration": 777,
    "start_time": "2022-05-02T13:53:03.835Z"
   },
   {
    "duration": 743,
    "start_time": "2022-05-02T13:53:12.612Z"
   },
   {
    "duration": 24,
    "start_time": "2022-05-02T13:53:18.682Z"
   },
   {
    "duration": 5,
    "start_time": "2022-05-02T13:54:15.580Z"
   },
   {
    "duration": 5,
    "start_time": "2022-05-02T13:54:36.482Z"
   },
   {
    "duration": 196,
    "start_time": "2022-05-02T13:54:51.257Z"
   },
   {
    "duration": 19,
    "start_time": "2022-05-02T13:55:09.784Z"
   },
   {
    "duration": 192,
    "start_time": "2022-05-02T13:55:40.809Z"
   },
   {
    "duration": 199,
    "start_time": "2022-05-02T13:55:56.630Z"
   },
   {
    "duration": 190,
    "start_time": "2022-05-02T13:56:10.956Z"
   },
   {
    "duration": 33,
    "start_time": "2022-05-02T13:56:22.715Z"
   },
   {
    "duration": 23,
    "start_time": "2022-05-02T13:56:52.150Z"
   },
   {
    "duration": 36,
    "start_time": "2022-05-02T14:03:38.230Z"
   },
   {
    "duration": 527,
    "start_time": "2022-05-02T14:07:51.337Z"
   },
   {
    "duration": 20,
    "start_time": "2022-05-02T14:07:51.866Z"
   },
   {
    "duration": 13,
    "start_time": "2022-05-02T14:07:51.888Z"
   },
   {
    "duration": 35,
    "start_time": "2022-05-02T14:07:51.923Z"
   },
   {
    "duration": 25,
    "start_time": "2022-05-02T14:07:51.960Z"
   },
   {
    "duration": 50,
    "start_time": "2022-05-02T14:07:51.987Z"
   },
   {
    "duration": 9,
    "start_time": "2022-05-02T14:07:52.039Z"
   },
   {
    "duration": 10,
    "start_time": "2022-05-02T14:07:52.050Z"
   },
   {
    "duration": 13,
    "start_time": "2022-05-02T14:07:52.062Z"
   },
   {
    "duration": 67,
    "start_time": "2022-05-02T14:07:52.079Z"
   },
   {
    "duration": 19,
    "start_time": "2022-05-02T14:07:52.148Z"
   },
   {
    "duration": 5,
    "start_time": "2022-05-02T14:07:52.171Z"
   },
   {
    "duration": 47,
    "start_time": "2022-05-02T14:07:52.178Z"
   },
   {
    "duration": 23,
    "start_time": "2022-05-02T14:07:52.227Z"
   },
   {
    "duration": 19,
    "start_time": "2022-05-02T14:07:52.252Z"
   },
   {
    "duration": 887,
    "start_time": "2022-05-02T14:07:52.273Z"
   },
   {
    "duration": 10,
    "start_time": "2022-05-02T14:07:53.163Z"
   },
   {
    "duration": 12,
    "start_time": "2022-05-02T14:07:53.175Z"
   },
   {
    "duration": 40,
    "start_time": "2022-05-02T14:07:53.189Z"
   },
   {
    "duration": 16,
    "start_time": "2022-05-02T14:07:53.231Z"
   },
   {
    "duration": 20,
    "start_time": "2022-05-02T14:07:53.250Z"
   },
   {
    "duration": 55,
    "start_time": "2022-05-02T14:07:53.271Z"
   },
   {
    "duration": 570,
    "start_time": "2022-05-02T14:07:53.329Z"
   },
   {
    "duration": 4,
    "start_time": "2022-05-02T14:07:53.902Z"
   },
   {
    "duration": 22,
    "start_time": "2022-05-02T14:07:53.922Z"
   },
   {
    "duration": 22,
    "start_time": "2022-05-02T14:07:53.946Z"
   },
   {
    "duration": 6,
    "start_time": "2022-05-02T14:07:53.970Z"
   },
   {
    "duration": 48,
    "start_time": "2022-05-02T14:07:53.980Z"
   },
   {
    "duration": 30,
    "start_time": "2022-05-02T14:07:54.030Z"
   },
   {
    "duration": 6,
    "start_time": "2022-05-02T14:07:54.062Z"
   },
   {
    "duration": 19,
    "start_time": "2022-05-02T14:07:54.070Z"
   },
   {
    "duration": 10,
    "start_time": "2022-05-02T14:07:54.091Z"
   },
   {
    "duration": 22,
    "start_time": "2022-05-02T14:07:54.103Z"
   },
   {
    "duration": 8,
    "start_time": "2022-05-02T14:07:54.127Z"
   },
   {
    "duration": 7,
    "start_time": "2022-05-02T14:07:54.137Z"
   },
   {
    "duration": 6,
    "start_time": "2022-05-02T14:07:54.146Z"
   },
   {
    "duration": 16,
    "start_time": "2022-05-02T14:07:54.154Z"
   },
   {
    "duration": 70,
    "start_time": "2022-05-02T14:07:54.172Z"
   },
   {
    "duration": 95,
    "start_time": "2022-05-02T14:07:54.244Z"
   },
   {
    "duration": 5,
    "start_time": "2022-05-02T14:07:54.341Z"
   },
   {
    "duration": 109,
    "start_time": "2022-05-02T14:07:54.348Z"
   },
   {
    "duration": 5,
    "start_time": "2022-05-02T14:07:54.459Z"
   },
   {
    "duration": 89,
    "start_time": "2022-05-02T14:07:54.465Z"
   },
   {
    "duration": 103,
    "start_time": "2022-05-02T14:07:54.556Z"
   },
   {
    "duration": 7,
    "start_time": "2022-05-02T14:07:54.661Z"
   },
   {
    "duration": 76,
    "start_time": "2022-05-02T14:07:54.671Z"
   },
   {
    "duration": 19,
    "start_time": "2022-05-02T14:07:54.749Z"
   },
   {
    "duration": 25,
    "start_time": "2022-05-02T14:07:54.826Z"
   },
   {
    "duration": 88,
    "start_time": "2022-05-02T14:07:54.853Z"
   },
   {
    "duration": 27,
    "start_time": "2022-05-02T14:11:11.074Z"
   },
   {
    "duration": 32,
    "start_time": "2022-05-02T14:11:16.453Z"
   },
   {
    "duration": 29,
    "start_time": "2022-05-02T14:11:36.097Z"
   },
   {
    "duration": 15,
    "start_time": "2022-05-02T14:13:35.839Z"
   },
   {
    "duration": 24,
    "start_time": "2022-05-02T14:13:54.423Z"
   },
   {
    "duration": 21,
    "start_time": "2022-05-02T14:15:25.644Z"
   },
   {
    "duration": 22,
    "start_time": "2022-05-02T14:15:32.178Z"
   },
   {
    "duration": 32,
    "start_time": "2022-05-02T14:23:37.025Z"
   },
   {
    "duration": 27,
    "start_time": "2022-05-02T14:23:43.258Z"
   },
   {
    "duration": 33,
    "start_time": "2022-05-02T14:32:29.708Z"
   },
   {
    "duration": 20,
    "start_time": "2022-05-02T14:32:45.340Z"
   },
   {
    "duration": 526,
    "start_time": "2022-05-02T15:18:07.413Z"
   },
   {
    "duration": 20,
    "start_time": "2022-05-02T15:18:07.941Z"
   },
   {
    "duration": 30,
    "start_time": "2022-05-02T15:18:07.962Z"
   },
   {
    "duration": 59,
    "start_time": "2022-05-02T15:18:07.995Z"
   },
   {
    "duration": 22,
    "start_time": "2022-05-02T15:18:08.055Z"
   },
   {
    "duration": 52,
    "start_time": "2022-05-02T15:18:08.079Z"
   },
   {
    "duration": 10,
    "start_time": "2022-05-02T15:18:08.133Z"
   },
   {
    "duration": 47,
    "start_time": "2022-05-02T15:18:08.145Z"
   },
   {
    "duration": 21,
    "start_time": "2022-05-02T15:18:08.193Z"
   },
   {
    "duration": 34,
    "start_time": "2022-05-02T15:18:08.217Z"
   },
   {
    "duration": 28,
    "start_time": "2022-05-02T15:18:08.252Z"
   },
   {
    "duration": 19,
    "start_time": "2022-05-02T15:18:08.281Z"
   },
   {
    "duration": 35,
    "start_time": "2022-05-02T15:18:08.302Z"
   },
   {
    "duration": 41,
    "start_time": "2022-05-02T15:18:08.339Z"
   },
   {
    "duration": 22,
    "start_time": "2022-05-02T15:18:08.382Z"
   },
   {
    "duration": 790,
    "start_time": "2022-05-02T15:18:08.405Z"
   },
   {
    "duration": 8,
    "start_time": "2022-05-02T15:18:09.197Z"
   },
   {
    "duration": 13,
    "start_time": "2022-05-02T15:18:09.207Z"
   },
   {
    "duration": 46,
    "start_time": "2022-05-02T15:18:09.221Z"
   },
   {
    "duration": 36,
    "start_time": "2022-05-02T15:18:09.269Z"
   },
   {
    "duration": 42,
    "start_time": "2022-05-02T15:18:09.307Z"
   },
   {
    "duration": 33,
    "start_time": "2022-05-02T15:18:09.351Z"
   },
   {
    "duration": 498,
    "start_time": "2022-05-02T15:18:09.386Z"
   },
   {
    "duration": 5,
    "start_time": "2022-05-02T15:18:09.885Z"
   },
   {
    "duration": 40,
    "start_time": "2022-05-02T15:18:09.892Z"
   },
   {
    "duration": 31,
    "start_time": "2022-05-02T15:18:09.933Z"
   },
   {
    "duration": 7,
    "start_time": "2022-05-02T15:18:09.966Z"
   },
   {
    "duration": 41,
    "start_time": "2022-05-02T15:18:09.976Z"
   },
   {
    "duration": 51,
    "start_time": "2022-05-02T15:18:10.019Z"
   },
   {
    "duration": 17,
    "start_time": "2022-05-02T15:18:10.072Z"
   },
   {
    "duration": 18,
    "start_time": "2022-05-02T15:18:10.123Z"
   },
   {
    "duration": 33,
    "start_time": "2022-05-02T15:18:10.143Z"
   },
   {
    "duration": 48,
    "start_time": "2022-05-02T15:18:10.178Z"
   },
   {
    "duration": 37,
    "start_time": "2022-05-02T15:18:10.228Z"
   },
   {
    "duration": 33,
    "start_time": "2022-05-02T15:18:10.266Z"
   },
   {
    "duration": 26,
    "start_time": "2022-05-02T15:18:10.301Z"
   },
   {
    "duration": 29,
    "start_time": "2022-05-02T15:18:10.329Z"
   },
   {
    "duration": 44,
    "start_time": "2022-05-02T15:18:10.360Z"
   },
   {
    "duration": 65,
    "start_time": "2022-05-02T15:18:10.406Z"
   },
   {
    "duration": 5,
    "start_time": "2022-05-02T15:18:10.473Z"
   },
   {
    "duration": 154,
    "start_time": "2022-05-02T15:18:10.480Z"
   },
   {
    "duration": 6,
    "start_time": "2022-05-02T15:18:10.637Z"
   },
   {
    "duration": 89,
    "start_time": "2022-05-02T15:18:10.645Z"
   },
   {
    "duration": 30,
    "start_time": "2022-05-02T15:18:10.736Z"
   },
   {
    "duration": 7,
    "start_time": "2022-05-02T15:18:10.824Z"
   },
   {
    "duration": 95,
    "start_time": "2022-05-02T15:18:10.833Z"
   },
   {
    "duration": 20,
    "start_time": "2022-05-02T15:18:10.930Z"
   },
   {
    "duration": 91,
    "start_time": "2022-05-02T15:18:10.952Z"
   },
   {
    "duration": 85,
    "start_time": "2022-05-02T15:18:11.046Z"
   },
   {
    "duration": 31,
    "start_time": "2022-05-02T15:18:11.132Z"
   },
   {
    "duration": 511,
    "start_time": "2022-05-02T15:18:33.579Z"
   },
   {
    "duration": 21,
    "start_time": "2022-05-02T15:18:34.092Z"
   },
   {
    "duration": 22,
    "start_time": "2022-05-02T15:18:34.124Z"
   },
   {
    "duration": 43,
    "start_time": "2022-05-02T15:18:34.150Z"
   },
   {
    "duration": 46,
    "start_time": "2022-05-02T15:18:34.195Z"
   },
   {
    "duration": 30,
    "start_time": "2022-05-02T15:18:34.243Z"
   },
   {
    "duration": 11,
    "start_time": "2022-05-02T15:18:34.275Z"
   },
   {
    "duration": 18,
    "start_time": "2022-05-02T15:18:34.324Z"
   },
   {
    "duration": 20,
    "start_time": "2022-05-02T15:18:34.344Z"
   },
   {
    "duration": 31,
    "start_time": "2022-05-02T15:18:34.369Z"
   },
   {
    "duration": 19,
    "start_time": "2022-05-02T15:18:34.423Z"
   },
   {
    "duration": 5,
    "start_time": "2022-05-02T15:18:34.445Z"
   },
   {
    "duration": 12,
    "start_time": "2022-05-02T15:18:34.452Z"
   },
   {
    "duration": 57,
    "start_time": "2022-05-02T15:18:34.465Z"
   },
   {
    "duration": 19,
    "start_time": "2022-05-02T15:18:34.525Z"
   },
   {
    "duration": 705,
    "start_time": "2022-05-02T15:18:34.546Z"
   },
   {
    "duration": 9,
    "start_time": "2022-05-02T15:18:35.253Z"
   },
   {
    "duration": 10,
    "start_time": "2022-05-02T15:18:35.264Z"
   },
   {
    "duration": 13,
    "start_time": "2022-05-02T15:18:35.276Z"
   },
   {
    "duration": 39,
    "start_time": "2022-05-02T15:18:35.291Z"
   },
   {
    "duration": 23,
    "start_time": "2022-05-02T15:18:35.332Z"
   },
   {
    "duration": 31,
    "start_time": "2022-05-02T15:18:35.357Z"
   },
   {
    "duration": 535,
    "start_time": "2022-05-02T15:18:35.390Z"
   },
   {
    "duration": 4,
    "start_time": "2022-05-02T15:18:35.927Z"
   },
   {
    "duration": 32,
    "start_time": "2022-05-02T15:18:35.932Z"
   },
   {
    "duration": 18,
    "start_time": "2022-05-02T15:18:35.966Z"
   },
   {
    "duration": 6,
    "start_time": "2022-05-02T15:18:35.986Z"
   },
   {
    "duration": 40,
    "start_time": "2022-05-02T15:18:35.996Z"
   },
   {
    "duration": 25,
    "start_time": "2022-05-02T15:18:36.038Z"
   },
   {
    "duration": 6,
    "start_time": "2022-05-02T15:18:36.064Z"
   },
   {
    "duration": 17,
    "start_time": "2022-05-02T15:18:36.072Z"
   },
   {
    "duration": 35,
    "start_time": "2022-05-02T15:18:36.091Z"
   },
   {
    "duration": 5,
    "start_time": "2022-05-02T15:18:36.128Z"
   },
   {
    "duration": 7,
    "start_time": "2022-05-02T15:18:36.135Z"
   },
   {
    "duration": 7,
    "start_time": "2022-05-02T15:18:36.144Z"
   },
   {
    "duration": 8,
    "start_time": "2022-05-02T15:18:36.153Z"
   },
   {
    "duration": 22,
    "start_time": "2022-05-02T15:18:36.164Z"
   },
   {
    "duration": 58,
    "start_time": "2022-05-02T15:18:36.188Z"
   },
   {
    "duration": 81,
    "start_time": "2022-05-02T15:18:36.247Z"
   },
   {
    "duration": 5,
    "start_time": "2022-05-02T15:18:36.330Z"
   },
   {
    "duration": 86,
    "start_time": "2022-05-02T15:18:36.337Z"
   },
   {
    "duration": 5,
    "start_time": "2022-05-02T15:18:36.424Z"
   },
   {
    "duration": 30,
    "start_time": "2022-05-02T15:18:36.431Z"
   },
   {
    "duration": 28,
    "start_time": "2022-05-02T15:18:36.463Z"
   },
   {
    "duration": 6,
    "start_time": "2022-05-02T15:18:36.523Z"
   },
   {
    "duration": 27,
    "start_time": "2022-05-02T15:18:36.531Z"
   },
   {
    "duration": 15,
    "start_time": "2022-05-02T15:18:36.560Z"
   },
   {
    "duration": 53,
    "start_time": "2022-05-02T15:18:36.577Z"
   },
   {
    "duration": 22,
    "start_time": "2022-05-02T15:18:36.632Z"
   },
   {
    "duration": 26,
    "start_time": "2022-05-02T15:18:36.656Z"
   },
   {
    "duration": 478,
    "start_time": "2022-05-02T17:26:19.561Z"
   },
   {
    "duration": 18,
    "start_time": "2022-05-02T17:26:20.041Z"
   },
   {
    "duration": 19,
    "start_time": "2022-05-02T17:26:20.060Z"
   },
   {
    "duration": 33,
    "start_time": "2022-05-02T17:26:20.080Z"
   },
   {
    "duration": 15,
    "start_time": "2022-05-02T17:26:20.114Z"
   },
   {
    "duration": 20,
    "start_time": "2022-05-02T17:26:20.130Z"
   },
   {
    "duration": 7,
    "start_time": "2022-05-02T17:26:20.151Z"
   },
   {
    "duration": 42,
    "start_time": "2022-05-02T17:26:20.159Z"
   },
   {
    "duration": 11,
    "start_time": "2022-05-02T17:26:20.202Z"
   },
   {
    "duration": 17,
    "start_time": "2022-05-02T17:26:20.215Z"
   },
   {
    "duration": 13,
    "start_time": "2022-05-02T17:26:20.233Z"
   },
   {
    "duration": 4,
    "start_time": "2022-05-02T17:26:20.248Z"
   },
   {
    "duration": 8,
    "start_time": "2022-05-02T17:26:20.253Z"
   },
   {
    "duration": 54,
    "start_time": "2022-05-02T17:26:20.262Z"
   },
   {
    "duration": 14,
    "start_time": "2022-05-02T17:26:20.317Z"
   },
   {
    "duration": 714,
    "start_time": "2022-05-02T17:26:20.332Z"
   },
   {
    "duration": 7,
    "start_time": "2022-05-02T17:26:21.048Z"
   },
   {
    "duration": 19,
    "start_time": "2022-05-02T17:26:21.057Z"
   },
   {
    "duration": 27,
    "start_time": "2022-05-02T17:26:21.078Z"
   },
   {
    "duration": 8,
    "start_time": "2022-05-02T17:26:21.107Z"
   },
   {
    "duration": 33,
    "start_time": "2022-05-02T17:26:21.117Z"
   },
   {
    "duration": 18,
    "start_time": "2022-05-02T17:26:21.152Z"
   },
   {
    "duration": 340,
    "start_time": "2022-05-02T17:26:21.171Z"
   },
   {
    "duration": 4,
    "start_time": "2022-05-02T17:26:21.513Z"
   },
   {
    "duration": 21,
    "start_time": "2022-05-02T17:26:21.518Z"
   },
   {
    "duration": 16,
    "start_time": "2022-05-02T17:26:21.540Z"
   },
   {
    "duration": 4,
    "start_time": "2022-05-02T17:26:21.558Z"
   },
   {
    "duration": 37,
    "start_time": "2022-05-02T17:26:21.565Z"
   },
   {
    "duration": 15,
    "start_time": "2022-05-02T17:26:21.603Z"
   },
   {
    "duration": 4,
    "start_time": "2022-05-02T17:26:21.619Z"
   },
   {
    "duration": 11,
    "start_time": "2022-05-02T17:26:21.624Z"
   },
   {
    "duration": 6,
    "start_time": "2022-05-02T17:26:21.637Z"
   },
   {
    "duration": 3,
    "start_time": "2022-05-02T17:26:21.645Z"
   },
   {
    "duration": 7,
    "start_time": "2022-05-02T17:26:21.649Z"
   },
   {
    "duration": 5,
    "start_time": "2022-05-02T17:26:21.657Z"
   },
   {
    "duration": 39,
    "start_time": "2022-05-02T17:26:21.664Z"
   },
   {
    "duration": 12,
    "start_time": "2022-05-02T17:26:21.704Z"
   },
   {
    "duration": 19,
    "start_time": "2022-05-02T17:26:21.717Z"
   },
   {
    "duration": 66,
    "start_time": "2022-05-02T17:26:21.737Z"
   },
   {
    "duration": 4,
    "start_time": "2022-05-02T17:26:21.804Z"
   },
   {
    "duration": 62,
    "start_time": "2022-05-02T17:26:21.809Z"
   },
   {
    "duration": 30,
    "start_time": "2022-05-02T17:26:21.872Z"
   },
   {
    "duration": 31,
    "start_time": "2022-05-02T17:26:21.903Z"
   },
   {
    "duration": 24,
    "start_time": "2022-05-02T17:26:21.935Z"
   },
   {
    "duration": 5,
    "start_time": "2022-05-02T17:26:21.960Z"
   },
   {
    "duration": 53,
    "start_time": "2022-05-02T17:26:21.966Z"
   },
   {
    "duration": 15,
    "start_time": "2022-05-02T17:26:22.021Z"
   },
   {
    "duration": 19,
    "start_time": "2022-05-02T17:26:22.037Z"
   },
   {
    "duration": 48,
    "start_time": "2022-05-02T17:26:22.058Z"
   },
   {
    "duration": 20,
    "start_time": "2022-05-02T17:26:22.107Z"
   },
   {
    "duration": 434,
    "start_time": "2022-05-02T17:39:13.014Z"
   },
   {
    "duration": 17,
    "start_time": "2022-05-02T17:39:13.450Z"
   },
   {
    "duration": 11,
    "start_time": "2022-05-02T17:39:13.468Z"
   },
   {
    "duration": 35,
    "start_time": "2022-05-02T17:39:13.481Z"
   },
   {
    "duration": 15,
    "start_time": "2022-05-02T17:39:13.518Z"
   },
   {
    "duration": 19,
    "start_time": "2022-05-02T17:39:13.534Z"
   },
   {
    "duration": 7,
    "start_time": "2022-05-02T17:39:13.554Z"
   },
   {
    "duration": 44,
    "start_time": "2022-05-02T17:39:13.563Z"
   },
   {
    "duration": 11,
    "start_time": "2022-05-02T17:39:13.608Z"
   },
   {
    "duration": 15,
    "start_time": "2022-05-02T17:39:13.621Z"
   },
   {
    "duration": 12,
    "start_time": "2022-05-02T17:39:13.637Z"
   },
   {
    "duration": 4,
    "start_time": "2022-05-02T17:39:13.651Z"
   },
   {
    "duration": 12,
    "start_time": "2022-05-02T17:39:13.656Z"
   },
   {
    "duration": 18,
    "start_time": "2022-05-02T17:39:13.700Z"
   },
   {
    "duration": 16,
    "start_time": "2022-05-02T17:39:13.719Z"
   },
   {
    "duration": 551,
    "start_time": "2022-05-02T17:39:13.736Z"
   },
   {
    "duration": 12,
    "start_time": "2022-05-02T17:39:14.289Z"
   },
   {
    "duration": 8,
    "start_time": "2022-05-02T17:39:14.302Z"
   },
   {
    "duration": 11,
    "start_time": "2022-05-02T17:39:14.312Z"
   },
   {
    "duration": 7,
    "start_time": "2022-05-02T17:39:14.325Z"
   },
   {
    "duration": 14,
    "start_time": "2022-05-02T17:39:14.334Z"
   },
   {
    "duration": 16,
    "start_time": "2022-05-02T17:39:14.349Z"
   },
   {
    "duration": 358,
    "start_time": "2022-05-02T17:39:14.366Z"
   },
   {
    "duration": 4,
    "start_time": "2022-05-02T17:39:14.726Z"
   },
   {
    "duration": 24,
    "start_time": "2022-05-02T17:39:14.732Z"
   },
   {
    "duration": 16,
    "start_time": "2022-05-02T17:39:14.758Z"
   },
   {
    "duration": 25,
    "start_time": "2022-05-02T17:39:14.776Z"
   },
   {
    "duration": 14,
    "start_time": "2022-05-02T17:39:14.805Z"
   },
   {
    "duration": 17,
    "start_time": "2022-05-02T17:39:14.821Z"
   },
   {
    "duration": 3,
    "start_time": "2022-05-02T17:39:14.840Z"
   },
   {
    "duration": 10,
    "start_time": "2022-05-02T17:39:14.845Z"
   },
   {
    "duration": 7,
    "start_time": "2022-05-02T17:39:14.857Z"
   },
   {
    "duration": 35,
    "start_time": "2022-05-02T17:39:14.866Z"
   },
   {
    "duration": 7,
    "start_time": "2022-05-02T17:39:14.903Z"
   },
   {
    "duration": 9,
    "start_time": "2022-05-02T17:39:14.911Z"
   },
   {
    "duration": 6,
    "start_time": "2022-05-02T17:39:14.921Z"
   },
   {
    "duration": 14,
    "start_time": "2022-05-02T17:39:14.928Z"
   },
   {
    "duration": 22,
    "start_time": "2022-05-02T17:39:14.943Z"
   },
   {
    "duration": 47,
    "start_time": "2022-05-02T17:39:15.000Z"
   },
   {
    "duration": 4,
    "start_time": "2022-05-02T17:39:15.049Z"
   },
   {
    "duration": 77,
    "start_time": "2022-05-02T17:39:15.054Z"
   },
   {
    "duration": 4,
    "start_time": "2022-05-02T17:39:15.132Z"
   },
   {
    "duration": 26,
    "start_time": "2022-05-02T17:39:15.138Z"
   },
   {
    "duration": 46,
    "start_time": "2022-05-02T17:39:15.165Z"
   },
   {
    "duration": 5,
    "start_time": "2022-05-02T17:39:15.213Z"
   },
   {
    "duration": 27,
    "start_time": "2022-05-02T17:39:15.219Z"
   },
   {
    "duration": 15,
    "start_time": "2022-05-02T17:39:15.248Z"
   },
   {
    "duration": 47,
    "start_time": "2022-05-02T17:39:15.265Z"
   },
   {
    "duration": 22,
    "start_time": "2022-05-02T17:39:15.313Z"
   },
   {
    "duration": 18,
    "start_time": "2022-05-02T17:39:15.336Z"
   },
   {
    "duration": 494,
    "start_time": "2022-05-02T18:17:28.081Z"
   },
   {
    "duration": 20,
    "start_time": "2022-05-02T18:17:28.577Z"
   },
   {
    "duration": 14,
    "start_time": "2022-05-02T18:17:28.598Z"
   },
   {
    "duration": 33,
    "start_time": "2022-05-02T18:17:28.614Z"
   },
   {
    "duration": 41,
    "start_time": "2022-05-02T18:17:28.648Z"
   },
   {
    "duration": 23,
    "start_time": "2022-05-02T18:17:28.690Z"
   },
   {
    "duration": 58,
    "start_time": "2022-05-02T18:17:28.715Z"
   },
   {
    "duration": 11,
    "start_time": "2022-05-02T18:17:28.775Z"
   },
   {
    "duration": 16,
    "start_time": "2022-05-02T18:17:28.788Z"
   },
   {
    "duration": 19,
    "start_time": "2022-05-02T18:17:28.807Z"
   },
   {
    "duration": 50,
    "start_time": "2022-05-02T18:17:28.827Z"
   },
   {
    "duration": 5,
    "start_time": "2022-05-02T18:17:28.878Z"
   },
   {
    "duration": 13,
    "start_time": "2022-05-02T18:17:28.885Z"
   },
   {
    "duration": 21,
    "start_time": "2022-05-02T18:17:28.900Z"
   },
   {
    "duration": 56,
    "start_time": "2022-05-02T18:17:28.923Z"
   },
   {
    "duration": 778,
    "start_time": "2022-05-02T18:17:28.981Z"
   },
   {
    "duration": 16,
    "start_time": "2022-05-02T18:17:29.761Z"
   },
   {
    "duration": 11,
    "start_time": "2022-05-02T18:17:29.778Z"
   },
   {
    "duration": 13,
    "start_time": "2022-05-02T18:17:29.790Z"
   },
   {
    "duration": 8,
    "start_time": "2022-05-02T18:17:29.805Z"
   },
   {
    "duration": 24,
    "start_time": "2022-05-02T18:17:29.815Z"
   },
   {
    "duration": 50,
    "start_time": "2022-05-02T18:17:29.840Z"
   },
   {
    "duration": 428,
    "start_time": "2022-05-02T18:17:29.892Z"
   },
   {
    "duration": 4,
    "start_time": "2022-05-02T18:17:30.322Z"
   },
   {
    "duration": 42,
    "start_time": "2022-05-02T18:17:30.327Z"
   },
   {
    "duration": 19,
    "start_time": "2022-05-02T18:17:30.372Z"
   },
   {
    "duration": 5,
    "start_time": "2022-05-02T18:17:30.394Z"
   },
   {
    "duration": 29,
    "start_time": "2022-05-02T18:17:30.403Z"
   },
   {
    "duration": 22,
    "start_time": "2022-05-02T18:17:30.434Z"
   },
   {
    "duration": 4,
    "start_time": "2022-05-02T18:17:30.474Z"
   },
   {
    "duration": 25,
    "start_time": "2022-05-02T18:17:30.480Z"
   },
   {
    "duration": 15,
    "start_time": "2022-05-02T18:17:30.507Z"
   },
   {
    "duration": 14,
    "start_time": "2022-05-02T18:17:30.524Z"
   },
   {
    "duration": 12,
    "start_time": "2022-05-02T18:17:30.540Z"
   },
   {
    "duration": 20,
    "start_time": "2022-05-02T18:17:30.554Z"
   },
   {
    "duration": 20,
    "start_time": "2022-05-02T18:17:30.576Z"
   },
   {
    "duration": 19,
    "start_time": "2022-05-02T18:17:30.597Z"
   },
   {
    "duration": 25,
    "start_time": "2022-05-02T18:17:30.618Z"
   },
   {
    "duration": 73,
    "start_time": "2022-05-02T18:17:30.644Z"
   },
   {
    "duration": 4,
    "start_time": "2022-05-02T18:17:30.719Z"
   },
   {
    "duration": 86,
    "start_time": "2022-05-02T18:17:30.725Z"
   },
   {
    "duration": 5,
    "start_time": "2022-05-02T18:17:30.812Z"
   },
   {
    "duration": 60,
    "start_time": "2022-05-02T18:17:30.818Z"
   },
   {
    "duration": 24,
    "start_time": "2022-05-02T18:17:30.880Z"
   },
   {
    "duration": 9,
    "start_time": "2022-05-02T18:17:30.906Z"
   },
   {
    "duration": 57,
    "start_time": "2022-05-02T18:17:30.917Z"
   },
   {
    "duration": 16,
    "start_time": "2022-05-02T18:17:30.976Z"
   },
   {
    "duration": 21,
    "start_time": "2022-05-02T18:17:30.994Z"
   },
   {
    "duration": 23,
    "start_time": "2022-05-02T18:17:31.017Z"
   },
   {
    "duration": 21,
    "start_time": "2022-05-02T18:17:31.074Z"
   },
   {
    "duration": 658,
    "start_time": "2022-05-02T19:28:44.135Z"
   },
   {
    "duration": 35,
    "start_time": "2022-05-02T19:28:44.796Z"
   },
   {
    "duration": 33,
    "start_time": "2022-05-02T19:28:44.833Z"
   },
   {
    "duration": 46,
    "start_time": "2022-05-02T19:28:44.869Z"
   },
   {
    "duration": 56,
    "start_time": "2022-05-02T19:28:44.917Z"
   },
   {
    "duration": 79,
    "start_time": "2022-05-02T19:28:44.976Z"
   },
   {
    "duration": 13,
    "start_time": "2022-05-02T19:28:45.057Z"
   },
   {
    "duration": 15,
    "start_time": "2022-05-02T19:28:45.073Z"
   },
   {
    "duration": 18,
    "start_time": "2022-05-02T19:28:45.090Z"
   },
   {
    "duration": 27,
    "start_time": "2022-05-02T19:28:45.152Z"
   },
   {
    "duration": 22,
    "start_time": "2022-05-02T19:28:45.181Z"
   },
   {
    "duration": 7,
    "start_time": "2022-05-02T19:28:45.205Z"
   },
   {
    "duration": 48,
    "start_time": "2022-05-02T19:28:45.214Z"
   },
   {
    "duration": 29,
    "start_time": "2022-05-02T19:28:45.265Z"
   },
   {
    "duration": 68,
    "start_time": "2022-05-02T19:28:45.296Z"
   },
   {
    "duration": 1292,
    "start_time": "2022-05-02T19:28:45.366Z"
   },
   {
    "duration": 14,
    "start_time": "2022-05-02T19:28:46.661Z"
   },
   {
    "duration": 15,
    "start_time": "2022-05-02T19:28:46.678Z"
   },
   {
    "duration": 66,
    "start_time": "2022-05-02T19:28:46.696Z"
   },
   {
    "duration": 14,
    "start_time": "2022-05-02T19:28:46.765Z"
   },
   {
    "duration": 28,
    "start_time": "2022-05-02T19:28:46.782Z"
   },
   {
    "duration": 54,
    "start_time": "2022-05-02T19:28:46.812Z"
   },
   {
    "duration": 588,
    "start_time": "2022-05-02T19:28:46.869Z"
   },
   {
    "duration": 5,
    "start_time": "2022-05-02T19:28:47.459Z"
   },
   {
    "duration": 30,
    "start_time": "2022-05-02T19:28:47.466Z"
   },
   {
    "duration": 26,
    "start_time": "2022-05-02T19:28:47.498Z"
   },
   {
    "duration": 8,
    "start_time": "2022-05-02T19:28:47.552Z"
   },
   {
    "duration": 20,
    "start_time": "2022-05-02T19:28:47.568Z"
   },
   {
    "duration": 27,
    "start_time": "2022-05-02T19:28:47.590Z"
   },
   {
    "duration": 35,
    "start_time": "2022-05-02T19:28:47.619Z"
   },
   {
    "duration": 19,
    "start_time": "2022-05-02T19:28:47.657Z"
   },
   {
    "duration": 11,
    "start_time": "2022-05-02T19:28:47.679Z"
   },
   {
    "duration": 7,
    "start_time": "2022-05-02T19:28:47.692Z"
   },
   {
    "duration": 52,
    "start_time": "2022-05-02T19:28:47.702Z"
   },
   {
    "duration": 12,
    "start_time": "2022-05-02T19:28:47.756Z"
   },
   {
    "duration": 9,
    "start_time": "2022-05-02T19:28:47.770Z"
   },
   {
    "duration": 21,
    "start_time": "2022-05-02T19:28:47.781Z"
   },
   {
    "duration": 68,
    "start_time": "2022-05-02T19:28:47.804Z"
   },
   {
    "duration": 104,
    "start_time": "2022-05-02T19:28:47.874Z"
   },
   {
    "duration": 6,
    "start_time": "2022-05-02T19:28:47.980Z"
   },
   {
    "duration": 106,
    "start_time": "2022-05-02T19:28:47.988Z"
   },
   {
    "duration": 5,
    "start_time": "2022-05-02T19:28:48.096Z"
   },
   {
    "duration": 64,
    "start_time": "2022-05-02T19:28:48.103Z"
   },
   {
    "duration": 39,
    "start_time": "2022-05-02T19:28:48.169Z"
   },
   {
    "duration": 7,
    "start_time": "2022-05-02T19:28:48.210Z"
   },
   {
    "duration": 68,
    "start_time": "2022-05-02T19:28:48.219Z"
   },
   {
    "duration": 23,
    "start_time": "2022-05-02T19:28:48.289Z"
   },
   {
    "duration": 56,
    "start_time": "2022-05-02T19:28:48.314Z"
   },
   {
    "duration": 32,
    "start_time": "2022-05-02T19:28:48.373Z"
   },
   {
    "duration": 60,
    "start_time": "2022-05-02T19:28:48.407Z"
   }
  ],
  "kernelspec": {
   "display_name": "Python 3 (ipykernel)",
   "language": "python",
   "name": "python3"
  },
  "language_info": {
   "codemirror_mode": {
    "name": "ipython",
    "version": 3
   },
   "file_extension": ".py",
   "mimetype": "text/x-python",
   "name": "python",
   "nbconvert_exporter": "python",
   "pygments_lexer": "ipython3",
   "version": "3.9.12"
  },
  "toc": {
   "base_numbering": 1,
   "nav_menu": {},
   "number_sections": true,
   "sideBar": true,
   "skip_h1_title": true,
   "title_cell": "Table of Contents",
   "title_sidebar": "Contents",
   "toc_cell": false,
   "toc_position": {
    "height": "calc(100% - 180px)",
    "left": "10px",
    "top": "150px",
    "width": "165px"
   },
   "toc_section_display": true,
   "toc_window_display": true
  }
 },
 "nbformat": 4,
 "nbformat_minor": 5
}
